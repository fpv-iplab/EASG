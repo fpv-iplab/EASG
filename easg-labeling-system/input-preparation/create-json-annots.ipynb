{
 "cells": [
  {
   "cell_type": "code",
   "execution_count": 77,
   "metadata": {},
   "outputs": [],
   "source": [
    "import os\n",
    "import pandas as pd\n",
    "import json\n",
    "import ast\n",
    "\n",
    "from tqdm import tqdm"
   ]
  },
  {
   "cell_type": "code",
   "execution_count": 7,
   "metadata": {},
   "outputs": [
    {
     "name": "stdout",
     "output_type": "stream",
     "text": [
      "Python 3.7.9\r\n"
     ]
    }
   ],
   "source": [
    "!python -V"
   ]
  },
  {
   "cell_type": "code",
   "execution_count": 8,
   "metadata": {},
   "outputs": [],
   "source": [
    "# Read Taxononomies\n",
    "narration_verb_taxonomy_frame = pd.read_csv('narration_verb_taxonomy.csv')\n",
    "narration_noun_taxonomy_frame = pd.read_csv('narration_noun_taxonomy.csv')\n",
    "with open('fho_lta_taxonomy.json','r') as fho_lta_taxonomy_json:\n",
    "    fho_lta_taxonomy = json.load(fho_lta_taxonomy_json)"
   ]
  },
  {
   "cell_type": "code",
   "execution_count": 9,
   "metadata": {},
   "outputs": [
    {
     "name": "stdout",
     "output_type": "stream",
     "text": [
      "1610\n"
     ]
    }
   ],
   "source": [
    "nouns = []\n",
    "for idx, r in narration_noun_taxonomy_frame.iterrows():\n",
    "    g = ast.literal_eval(r['group'])\n",
    "    for i in g: \n",
    "        nouns.append(i)\n",
    "nouns = list(set(nouns))\n",
    "print(len(nouns))"
   ]
  },
  {
   "cell_type": "code",
   "execution_count": 10,
   "metadata": {},
   "outputs": [
    {
     "data": {
      "text/html": [
       "<div>\n",
       "<style scoped>\n",
       "    .dataframe tbody tr th:only-of-type {\n",
       "        vertical-align: middle;\n",
       "    }\n",
       "\n",
       "    .dataframe tbody tr th {\n",
       "        vertical-align: top;\n",
       "    }\n",
       "\n",
       "    .dataframe thead th {\n",
       "        text-align: right;\n",
       "    }\n",
       "</style>\n",
       "<table border=\"1\" class=\"dataframe\">\n",
       "  <thead>\n",
       "    <tr style=\"text-align: right;\">\n",
       "      <th></th>\n",
       "      <th>label</th>\n",
       "      <th>group</th>\n",
       "    </tr>\n",
       "  </thead>\n",
       "  <tbody>\n",
       "    <tr>\n",
       "      <th>0</th>\n",
       "      <td>adjust_(regulate,_increase/reduce,_change)</td>\n",
       "      <td>['adjust', 'change', 'expand', 'increase/reduc...</td>\n",
       "    </tr>\n",
       "    <tr>\n",
       "      <th>1</th>\n",
       "      <td>apply_(spread,_smear)</td>\n",
       "      <td>['apply', 'plaster', 'smear', 'spread']</td>\n",
       "    </tr>\n",
       "    <tr>\n",
       "      <th>2</th>\n",
       "      <td>arrange_(straighten,_sort,_distribute,_align)</td>\n",
       "      <td>['align', 'arrange', 'disentangle', 'distribut...</td>\n",
       "    </tr>\n",
       "    <tr>\n",
       "      <th>3</th>\n",
       "      <td>attach_(plug-in,_join,_fasten,_connect,_attach)</td>\n",
       "      <td>['affix', 'attach', 'bind', 'binds', 'connect'...</td>\n",
       "    </tr>\n",
       "    <tr>\n",
       "      <th>4</th>\n",
       "      <td>blow</td>\n",
       "      <td>['blow']</td>\n",
       "    </tr>\n",
       "  </tbody>\n",
       "</table>\n",
       "</div>"
      ],
      "text/plain": [
       "                                             label  \\\n",
       "0       adjust_(regulate,_increase/reduce,_change)   \n",
       "1                            apply_(spread,_smear)   \n",
       "2    arrange_(straighten,_sort,_distribute,_align)   \n",
       "3  attach_(plug-in,_join,_fasten,_connect,_attach)   \n",
       "4                                             blow   \n",
       "\n",
       "                                               group  \n",
       "0  ['adjust', 'change', 'expand', 'increase/reduc...  \n",
       "1            ['apply', 'plaster', 'smear', 'spread']  \n",
       "2  ['align', 'arrange', 'disentangle', 'distribut...  \n",
       "3  ['affix', 'attach', 'bind', 'binds', 'connect'...  \n",
       "4                                           ['blow']  "
      ]
     },
     "execution_count": 10,
     "metadata": {},
     "output_type": "execute_result"
    }
   ],
   "source": [
    "narration_verb_taxonomy_frame.head()"
   ]
  },
  {
   "cell_type": "markdown",
   "metadata": {},
   "source": [
    "### Create categories.json"
   ]
  },
  {
   "cell_type": "code",
   "execution_count": 11,
   "metadata": {},
   "outputs": [],
   "source": [
    "# create categories.json\n",
    "categories={}\n",
    "labels = []\n",
    "labels_values = []\n",
    "for idx, row in narration_verb_taxonomy_frame.iterrows():\n",
    "    synonyms = [] if len(row.label.split(\"_\", 1)) == 1 else row.label.split(\"_\")[1:]\n",
    "    if row.label.split(\"_\")[0] not in labels_values:\n",
    "        labels_values.append(row.label.split(\"_\")[0])\n",
    "        labels.append({'label':row.label.split(\"_\")[0],\n",
    "                       'label_type':'verb',\n",
    "                       'synonyms':synonyms,\n",
    "                       'group':row.group})\n",
    "    \n",
    "for idx, row in narration_noun_taxonomy_frame.iterrows():\n",
    "    synonyms = [] if len(row.label.split(\"_\", 1)) == 1 else row.label.split(\"_\")[1:]\n",
    "    if row.label.split(\"_\")[0] not in labels_values:\n",
    "        labels_values.append(row.label.split(\"_\")[0])\n",
    "\n",
    "        labels.append({'label':row.label.split(\"_\")[0],\n",
    "                       'label_type':'noun',\n",
    "                       'synonyms':synonyms,\n",
    "                       'group':row.group})\n",
    "\n",
    "categories['document_version'] = \"2022-03-18\"\n",
    "categories['labels'] = labels\n",
    "\n",
    "# with open('categories.json','w') as json_categories_file:\n",
    "#     json.dump(categories, json_categories_file, indent=4)"
   ]
  },
  {
   "cell_type": "markdown",
   "metadata": {},
   "source": [
    "## Aggregate ego4d with scod data. Filter by source"
   ]
  },
  {
   "cell_type": "code",
   "execution_count": 12,
   "metadata": {},
   "outputs": [],
   "source": [
    "with open('ego4d.json','r') as egojson:\n",
    "    videoinfos = json.load(egojson)"
   ]
  },
  {
   "cell_type": "code",
   "execution_count": 13,
   "metadata": {},
   "outputs": [
    {
     "data": {
      "text/plain": [
       "9611"
      ]
     },
     "execution_count": 13,
     "metadata": {},
     "output_type": "execute_result"
    }
   ],
   "source": [
    "len(videoinfos['videos'])"
   ]
  },
  {
   "cell_type": "code",
   "execution_count": 14,
   "metadata": {},
   "outputs": [
    {
     "data": {
      "text/plain": [
       "{'video_uid': '77cc4654-4eec-44c6-af05-dbdf71f9a401',\n",
       " 'duration_sec': 1247.13,\n",
       " 'scenarios': ['Car - commuting, road trip', 'Talking with family members'],\n",
       " 'video_metadata': {'fps': 30.0,\n",
       "  'num_frames': 37414,\n",
       "  'video_codec': 'libvpx-vp9',\n",
       "  'audio_codec': 'aac',\n",
       "  'display_resolution_width': 1920,\n",
       "  'display_resolution_height': 1080,\n",
       "  'sample_resolution_width': 1920,\n",
       "  'sample_resolution_height': 1080,\n",
       "  'mp4_duration_sec': 1247.13,\n",
       "  'video_start_sec': 0.0,\n",
       "  'video_duration_sec': 1247.13,\n",
       "  'audio_start_sec': None,\n",
       "  'audio_duration_sec': None,\n",
       "  'video_start_pts': 0,\n",
       "  'video_duration_pts': 19155968,\n",
       "  'video_base_numerator': 1,\n",
       "  'video_base_denominator': 15360,\n",
       "  'audio_start_pts': None,\n",
       "  'audio_duration_pts': None,\n",
       "  'audio_base_numerator': None,\n",
       "  'audio_base_denominator': None},\n",
       " 'split_em': None,\n",
       " 'split_av': None,\n",
       " 'split_fho': None,\n",
       " 's3_path': 's3://ego4d-minnesota/public/v1/full_scale/77cc4654-4eec-44c6-af05-dbdf71f9a401',\n",
       " 'manifold_path': None,\n",
       " 'origin_video_id': 'subject00005_video00010',\n",
       " 'video_source': 'minnesota',\n",
       " 'device': 'Zshade',\n",
       " 'physical_setting_name': None,\n",
       " 'fb_participant_id': 140,\n",
       " 'is_stereo': False,\n",
       " 'has_imu': False,\n",
       " 'has_gaze': False,\n",
       " 'imu_metadata': None,\n",
       " 'gaze_metadata': None,\n",
       " 'video_components': [{'video_component_uid': 'c0243416-cd03-4d31-abf8-de9a38f07a73',\n",
       "   'video_uid': '77cc4654-4eec-44c6-af05-dbdf71f9a401',\n",
       "   'component_idx': 0,\n",
       "   'redacted': False,\n",
       "   'canonical_video_start_sec': 0.0,\n",
       "   'canonical_video_end_sec': 299.96666666666664,\n",
       "   'canonical_video_start_frame': 0,\n",
       "   'canonical_video_end_frame': 8999,\n",
       "   'video_metadata': {'fps': 30.0,\n",
       "    'num_frames': 9000,\n",
       "    'video_codec': 'h264',\n",
       "    'audio_codec': None,\n",
       "    'display_resolution_width': 1920,\n",
       "    'display_resolution_height': 1080,\n",
       "    'sample_resolution_width': 1920,\n",
       "    'sample_resolution_height': 1080,\n",
       "    'mp4_duration_sec': 300.0,\n",
       "    'video_start_sec': None,\n",
       "    'video_duration_sec': 300.0,\n",
       "    'audio_start_sec': None,\n",
       "    'audio_duration_sec': None,\n",
       "    'video_start_pts': 0,\n",
       "    'video_duration_pts': 4608000,\n",
       "    'video_base_numerator': 1,\n",
       "    'video_base_denominator': 15360,\n",
       "    'audio_start_pts': None,\n",
       "    'audio_duration_pts': None,\n",
       "    'audio_base_numerator': None,\n",
       "    'audio_base_denominator': None}},\n",
       "  {'video_component_uid': '2413dda8-4550-48ad-b5f0-28fa37ca2d1d',\n",
       "   'video_uid': '77cc4654-4eec-44c6-af05-dbdf71f9a401',\n",
       "   'component_idx': 1,\n",
       "   'redacted': False,\n",
       "   'canonical_video_start_sec': 300.0,\n",
       "   'canonical_video_end_sec': 599.9666666666667,\n",
       "   'canonical_video_start_frame': 9000,\n",
       "   'canonical_video_end_frame': 17999,\n",
       "   'video_metadata': {'fps': 30.0,\n",
       "    'num_frames': 9000,\n",
       "    'video_codec': 'h264',\n",
       "    'audio_codec': None,\n",
       "    'display_resolution_width': 1920,\n",
       "    'display_resolution_height': 1080,\n",
       "    'sample_resolution_width': 1920,\n",
       "    'sample_resolution_height': 1080,\n",
       "    'mp4_duration_sec': 300.0,\n",
       "    'video_start_sec': None,\n",
       "    'video_duration_sec': 300.0,\n",
       "    'audio_start_sec': None,\n",
       "    'audio_duration_sec': None,\n",
       "    'video_start_pts': 0,\n",
       "    'video_duration_pts': 4608000,\n",
       "    'video_base_numerator': 1,\n",
       "    'video_base_denominator': 15360,\n",
       "    'audio_start_pts': None,\n",
       "    'audio_duration_pts': None,\n",
       "    'audio_base_numerator': None,\n",
       "    'audio_base_denominator': None}},\n",
       "  {'video_component_uid': '00002b10-1f8c-4dbe-bd50-7af89562cc40',\n",
       "   'video_uid': '77cc4654-4eec-44c6-af05-dbdf71f9a401',\n",
       "   'component_idx': 2,\n",
       "   'redacted': False,\n",
       "   'canonical_video_start_sec': 600.0,\n",
       "   'canonical_video_end_sec': 899.9666666666667,\n",
       "   'canonical_video_start_frame': 18000,\n",
       "   'canonical_video_end_frame': 26999,\n",
       "   'video_metadata': {'fps': 30.0,\n",
       "    'num_frames': 9000,\n",
       "    'video_codec': 'h264',\n",
       "    'audio_codec': None,\n",
       "    'display_resolution_width': 1920,\n",
       "    'display_resolution_height': 1080,\n",
       "    'sample_resolution_width': 1920,\n",
       "    'sample_resolution_height': 1080,\n",
       "    'mp4_duration_sec': 300.0,\n",
       "    'video_start_sec': None,\n",
       "    'video_duration_sec': 300.0,\n",
       "    'audio_start_sec': None,\n",
       "    'audio_duration_sec': None,\n",
       "    'video_start_pts': 0,\n",
       "    'video_duration_pts': 4608000,\n",
       "    'video_base_numerator': 1,\n",
       "    'video_base_denominator': 15360,\n",
       "    'audio_start_pts': None,\n",
       "    'audio_duration_pts': None,\n",
       "    'audio_base_numerator': None,\n",
       "    'audio_base_denominator': None}},\n",
       "  {'video_component_uid': 'adf2208f-accc-4862-9bea-9437f420471a',\n",
       "   'video_uid': '77cc4654-4eec-44c6-af05-dbdf71f9a401',\n",
       "   'component_idx': 3,\n",
       "   'redacted': False,\n",
       "   'canonical_video_start_sec': 900.0,\n",
       "   'canonical_video_end_sec': 1199.9666666666667,\n",
       "   'canonical_video_start_frame': 27000,\n",
       "   'canonical_video_end_frame': 35999,\n",
       "   'video_metadata': {'fps': 30.0,\n",
       "    'num_frames': 9000,\n",
       "    'video_codec': 'h264',\n",
       "    'audio_codec': None,\n",
       "    'display_resolution_width': 1920,\n",
       "    'display_resolution_height': 1080,\n",
       "    'sample_resolution_width': 1920,\n",
       "    'sample_resolution_height': 1080,\n",
       "    'mp4_duration_sec': 300.0,\n",
       "    'video_start_sec': None,\n",
       "    'video_duration_sec': 300.0,\n",
       "    'audio_start_sec': None,\n",
       "    'audio_duration_sec': None,\n",
       "    'video_start_pts': 0,\n",
       "    'video_duration_pts': 4608000,\n",
       "    'video_base_numerator': 1,\n",
       "    'video_base_denominator': 15360,\n",
       "    'audio_start_pts': None,\n",
       "    'audio_duration_pts': None,\n",
       "    'audio_base_numerator': None,\n",
       "    'audio_base_denominator': None}},\n",
       "  {'video_component_uid': '8712e26e-e5a2-47c7-8bbe-45c6d7e59169',\n",
       "   'video_uid': '77cc4654-4eec-44c6-af05-dbdf71f9a401',\n",
       "   'component_idx': 4,\n",
       "   'redacted': False,\n",
       "   'canonical_video_start_sec': 1200.0,\n",
       "   'canonical_video_end_sec': 1247.1,\n",
       "   'canonical_video_start_frame': 36000,\n",
       "   'canonical_video_end_frame': 37413,\n",
       "   'video_metadata': {'fps': 30.0,\n",
       "    'num_frames': 1414,\n",
       "    'video_codec': 'h264',\n",
       "    'audio_codec': None,\n",
       "    'display_resolution_width': 1920,\n",
       "    'display_resolution_height': 1080,\n",
       "    'sample_resolution_width': 1920,\n",
       "    'sample_resolution_height': 1080,\n",
       "    'mp4_duration_sec': 47.134,\n",
       "    'video_start_sec': None,\n",
       "    'video_duration_sec': 47.1333,\n",
       "    'audio_start_sec': None,\n",
       "    'audio_duration_sec': None,\n",
       "    'video_start_pts': 0,\n",
       "    'video_duration_pts': 723968,\n",
       "    'video_base_numerator': 1,\n",
       "    'video_base_denominator': 15360,\n",
       "    'audio_start_pts': None,\n",
       "    'audio_duration_pts': None,\n",
       "    'audio_base_numerator': None,\n",
       "    'audio_base_denominator': None}}],\n",
       " 'concurrent_sets': None,\n",
       " 'has_redacted_regions': False,\n",
       " 'redacted_intervals': [],\n",
       " 'gaps': None}"
      ]
     },
     "execution_count": 14,
     "metadata": {},
     "output_type": "execute_result"
    }
   ],
   "source": [
    "videoinfos['videos'][0]"
   ]
  },
  {
   "cell_type": "markdown",
   "metadata": {},
   "source": [
    "Create the list of ego4d videos recorded by UNICT"
   ]
  },
  {
   "cell_type": "code",
   "execution_count": 15,
   "metadata": {},
   "outputs": [
    {
     "data": {
      "text/plain": [
       "1457"
      ]
     },
     "execution_count": 15,
     "metadata": {},
     "output_type": "execute_result"
    }
   ],
   "source": [
    "vids_unict = []\n",
    "for vid in videoinfos['videos']:\n",
    "    try:\n",
    "        if vid['video_source']=='unict':\n",
    "            vids_unict.append(vid['video_uid'])\n",
    "    except:\n",
    "        pass\n",
    "len(vids_unict)"
   ]
  },
  {
   "cell_type": "code",
   "execution_count": 16,
   "metadata": {},
   "outputs": [],
   "source": [
    "narration_frame = pd.read_json('narration.json').transpose()\n",
    "narration_frame_complete = narration_frame[narration_frame.status == \"complete\"]\n",
    "narration_frame_incomplete = narration_frame[narration_frame.status != \"complete\"]"
   ]
  },
  {
   "cell_type": "code",
   "execution_count": 17,
   "metadata": {},
   "outputs": [
    {
     "name": "stdout",
     "output_type": "stream",
     "text": [
      "Total number of complete narrated videos: 8550\n",
      "Total number of incomplete narrated videos: 1061\n",
      "Total number of narrated videos: 9611\n"
     ]
    }
   ],
   "source": [
    "print(f\"Total number of complete narrated videos: {len(narration_frame_complete)}\")\n",
    "print(f\"Total number of incomplete narrated videos: {len(narration_frame_incomplete)}\")\n",
    "print(f\"Total number of narrated videos: {len(narration_frame)}\")"
   ]
  },
  {
   "cell_type": "markdown",
   "metadata": {},
   "source": [
    "## Read SCOD data from Ego4D"
   ]
  },
  {
   "cell_type": "code",
   "execution_count": 18,
   "metadata": {},
   "outputs": [],
   "source": [
    "with open('fho_scod_train.json','r') as scod_train_json:\n",
    "    fho_scod_train_frame = pd.DataFrame(json.load(scod_train_json)['clips'])\n",
    "with open('fho_scod_val.json','r') as scod_val_json:\n",
    "    fho_scod_val_frame = pd.DataFrame(json.load(scod_val_json)['clips'])"
   ]
  },
  {
   "cell_type": "code",
   "execution_count": 19,
   "metadata": {},
   "outputs": [
    {
     "name": "stdout",
     "output_type": "stream",
     "text": [
      "[FHO-SCOD] Total number of train clips: 19071\n",
      "[FHO-SCOD] Total number of val clips: 12801\n"
     ]
    }
   ],
   "source": [
    "print(\"[FHO-SCOD] Total number of train clips: %d\"%len(fho_scod_train_frame))\n",
    "print(\"[FHO-SCOD] Total number of val clips: %d\"%len(fho_scod_val_frame))"
   ]
  },
  {
   "cell_type": "code",
   "execution_count": 20,
   "metadata": {},
   "outputs": [
    {
     "data": {
      "text/html": [
       "<div>\n",
       "<style scoped>\n",
       "    .dataframe tbody tr th:only-of-type {\n",
       "        vertical-align: middle;\n",
       "    }\n",
       "\n",
       "    .dataframe tbody tr th {\n",
       "        vertical-align: top;\n",
       "    }\n",
       "\n",
       "    .dataframe thead th {\n",
       "        text-align: right;\n",
       "    }\n",
       "</style>\n",
       "<table border=\"1\" class=\"dataframe\">\n",
       "  <thead>\n",
       "    <tr style=\"text-align: right;\">\n",
       "      <th></th>\n",
       "      <th>video_uid</th>\n",
       "      <th>clip_id</th>\n",
       "      <th>clip_uid</th>\n",
       "      <th>clip_parent_start_sec</th>\n",
       "      <th>clip_parent_end_sec</th>\n",
       "      <th>clip_parent_start_frame</th>\n",
       "      <th>clip_parent_end_frame</th>\n",
       "      <th>pre_frame</th>\n",
       "      <th>pnr_frame</th>\n",
       "      <th>post_frame</th>\n",
       "    </tr>\n",
       "  </thead>\n",
       "  <tbody>\n",
       "    <tr>\n",
       "      <th>0</th>\n",
       "      <td>0831d387-a359-427c-832d-b306f4720f45</td>\n",
       "      <td>804</td>\n",
       "      <td>e8a2f157-a5a0-459a-a165-fe36c75ab348</td>\n",
       "      <td>0.0</td>\n",
       "      <td>219.821029</td>\n",
       "      <td>0</td>\n",
       "      <td>6594</td>\n",
       "      <td>{'frame_number': 64, 'clip_frame_number': 64, ...</td>\n",
       "      <td>{'frame_number': 195, 'clip_frame_number': 195...</td>\n",
       "      <td>{'frame_number': 260, 'clip_frame_number': 260...</td>\n",
       "    </tr>\n",
       "    <tr>\n",
       "      <th>1</th>\n",
       "      <td>0831d387-a359-427c-832d-b306f4720f45</td>\n",
       "      <td>804</td>\n",
       "      <td>e8a2f157-a5a0-459a-a165-fe36c75ab348</td>\n",
       "      <td>0.0</td>\n",
       "      <td>219.821029</td>\n",
       "      <td>0</td>\n",
       "      <td>6594</td>\n",
       "      <td>{'frame_number': 569, 'clip_frame_number': 569...</td>\n",
       "      <td>{'frame_number': 707, 'clip_frame_number': 707...</td>\n",
       "      <td>{'frame_number': 770, 'clip_frame_number': 770...</td>\n",
       "    </tr>\n",
       "    <tr>\n",
       "      <th>2</th>\n",
       "      <td>0831d387-a359-427c-832d-b306f4720f45</td>\n",
       "      <td>804</td>\n",
       "      <td>e8a2f157-a5a0-459a-a165-fe36c75ab348</td>\n",
       "      <td>0.0</td>\n",
       "      <td>219.821029</td>\n",
       "      <td>0</td>\n",
       "      <td>6594</td>\n",
       "      <td>{'frame_number': 623, 'clip_frame_number': 623...</td>\n",
       "      <td>{'frame_number': 751, 'clip_frame_number': 751...</td>\n",
       "      <td>{'frame_number': 795, 'clip_frame_number': 795...</td>\n",
       "    </tr>\n",
       "    <tr>\n",
       "      <th>3</th>\n",
       "      <td>0831d387-a359-427c-832d-b306f4720f45</td>\n",
       "      <td>804</td>\n",
       "      <td>e8a2f157-a5a0-459a-a165-fe36c75ab348</td>\n",
       "      <td>0.0</td>\n",
       "      <td>219.821029</td>\n",
       "      <td>0</td>\n",
       "      <td>6594</td>\n",
       "      <td>{'frame_number': 670, 'clip_frame_number': 670...</td>\n",
       "      <td>{'frame_number': 796, 'clip_frame_number': 796...</td>\n",
       "      <td>{'frame_number': 835, 'clip_frame_number': 835...</td>\n",
       "    </tr>\n",
       "    <tr>\n",
       "      <th>4</th>\n",
       "      <td>0831d387-a359-427c-832d-b306f4720f45</td>\n",
       "      <td>804</td>\n",
       "      <td>e8a2f157-a5a0-459a-a165-fe36c75ab348</td>\n",
       "      <td>0.0</td>\n",
       "      <td>219.821029</td>\n",
       "      <td>0</td>\n",
       "      <td>6594</td>\n",
       "      <td>{'frame_number': 884, 'clip_frame_number': 884...</td>\n",
       "      <td>{'frame_number': 903, 'clip_frame_number': 903...</td>\n",
       "      <td>{'frame_number': 919, 'clip_frame_number': 919...</td>\n",
       "    </tr>\n",
       "  </tbody>\n",
       "</table>\n",
       "</div>"
      ],
      "text/plain": [
       "                              video_uid clip_id  \\\n",
       "0  0831d387-a359-427c-832d-b306f4720f45     804   \n",
       "1  0831d387-a359-427c-832d-b306f4720f45     804   \n",
       "2  0831d387-a359-427c-832d-b306f4720f45     804   \n",
       "3  0831d387-a359-427c-832d-b306f4720f45     804   \n",
       "4  0831d387-a359-427c-832d-b306f4720f45     804   \n",
       "\n",
       "                               clip_uid  clip_parent_start_sec  \\\n",
       "0  e8a2f157-a5a0-459a-a165-fe36c75ab348                    0.0   \n",
       "1  e8a2f157-a5a0-459a-a165-fe36c75ab348                    0.0   \n",
       "2  e8a2f157-a5a0-459a-a165-fe36c75ab348                    0.0   \n",
       "3  e8a2f157-a5a0-459a-a165-fe36c75ab348                    0.0   \n",
       "4  e8a2f157-a5a0-459a-a165-fe36c75ab348                    0.0   \n",
       "\n",
       "   clip_parent_end_sec  clip_parent_start_frame  clip_parent_end_frame  \\\n",
       "0           219.821029                        0                   6594   \n",
       "1           219.821029                        0                   6594   \n",
       "2           219.821029                        0                   6594   \n",
       "3           219.821029                        0                   6594   \n",
       "4           219.821029                        0                   6594   \n",
       "\n",
       "                                           pre_frame  \\\n",
       "0  {'frame_number': 64, 'clip_frame_number': 64, ...   \n",
       "1  {'frame_number': 569, 'clip_frame_number': 569...   \n",
       "2  {'frame_number': 623, 'clip_frame_number': 623...   \n",
       "3  {'frame_number': 670, 'clip_frame_number': 670...   \n",
       "4  {'frame_number': 884, 'clip_frame_number': 884...   \n",
       "\n",
       "                                           pnr_frame  \\\n",
       "0  {'frame_number': 195, 'clip_frame_number': 195...   \n",
       "1  {'frame_number': 707, 'clip_frame_number': 707...   \n",
       "2  {'frame_number': 751, 'clip_frame_number': 751...   \n",
       "3  {'frame_number': 796, 'clip_frame_number': 796...   \n",
       "4  {'frame_number': 903, 'clip_frame_number': 903...   \n",
       "\n",
       "                                          post_frame  \n",
       "0  {'frame_number': 260, 'clip_frame_number': 260...  \n",
       "1  {'frame_number': 770, 'clip_frame_number': 770...  \n",
       "2  {'frame_number': 795, 'clip_frame_number': 795...  \n",
       "3  {'frame_number': 835, 'clip_frame_number': 835...  \n",
       "4  {'frame_number': 919, 'clip_frame_number': 919...  "
      ]
     },
     "execution_count": 20,
     "metadata": {},
     "output_type": "execute_result"
    }
   ],
   "source": [
    "fho_scod_val_frame.head()"
   ]
  },
  {
   "cell_type": "code",
   "execution_count": 21,
   "metadata": {},
   "outputs": [
    {
     "name": "stdout",
     "output_type": "stream",
     "text": [
      "[FHO-SCOD] Total number of train clip annotations fho-unict: 7973\n",
      "[FHO-SCOD] Total number of val clip annotations fho-unict: 4933\n"
     ]
    }
   ],
   "source": [
    "filtered_fho_scod_train_frame = fho_scod_train_frame[fho_scod_train_frame.video_uid.isin(vids_unict)]\n",
    "filtered_fho_scod_val_frame = fho_scod_val_frame[fho_scod_val_frame.video_uid.isin(vids_unict)]\n",
    "print(\"[FHO-SCOD] Total number of train clip annotations fho-unict: %d\"%len(filtered_fho_scod_train_frame))\n",
    "print(\"[FHO-SCOD] Total number of val clip annotations fho-unict: %d\"%len(filtered_fho_scod_val_frame))"
   ]
  },
  {
   "cell_type": "markdown",
   "metadata": {},
   "source": [
    "## Read Ego4D LTA and STA data"
   ]
  },
  {
   "cell_type": "code",
   "execution_count": 22,
   "metadata": {},
   "outputs": [],
   "source": [
    "annotations_dir = ''"
   ]
  },
  {
   "cell_type": "code",
   "execution_count": 23,
   "metadata": {},
   "outputs": [],
   "source": [
    "with open(os.path.join(annotations_dir,'fho_lta_train.json'),'r') as lta_train_json:\n",
    "    fho_lta_train_frame = pd.DataFrame(json.load(lta_train_json)['clips'])\n",
    "with open(os.path.join(annotations_dir,'fho_lta_val.json'),'r') as lta_val_json:\n",
    "    fho_lta_val_frame = pd.DataFrame(json.load(lta_val_json)['clips'])"
   ]
  },
  {
   "cell_type": "code",
   "execution_count": 24,
   "metadata": {},
   "outputs": [
    {
     "name": "stdout",
     "output_type": "stream",
     "text": [
      "[FHO-LTA] Total number of train clips: 63956\n",
      "[FHO-LTA] Total number of val clips: 33149\n"
     ]
    }
   ],
   "source": [
    "print(\"[FHO-LTA] Total number of train clips: %d\"%len(fho_lta_train_frame))\n",
    "print(\"[FHO-LTA] Total number of val clips: %d\"%len(fho_lta_val_frame))"
   ]
  },
  {
   "cell_type": "code",
   "execution_count": 25,
   "metadata": {},
   "outputs": [
    {
     "name": "stdout",
     "output_type": "stream",
     "text": [
      "[FHO-LTA] Total number of train clip annotations fho-unict: 23295\n",
      "[FHO-LTA] Total number of val clip annotations fho-unict: 10908\n"
     ]
    }
   ],
   "source": [
    "filtered_fho_lta_train_frame = fho_lta_train_frame[fho_lta_train_frame.video_uid.isin(vids_unict)]\n",
    "filtered_fho_lta_val_frame = fho_lta_val_frame[fho_lta_val_frame.video_uid.isin(vids_unict)]\n",
    "print(\"[FHO-LTA] Total number of train clip annotations fho-unict: %d\"%len(filtered_fho_lta_train_frame))\n",
    "print(\"[FHO-LTA] Total number of val clip annotations fho-unict: %d\"%len(filtered_fho_lta_val_frame))"
   ]
  },
  {
   "cell_type": "code",
   "execution_count": 26,
   "metadata": {},
   "outputs": [],
   "source": [
    "with open(os.path.join(annotations_dir,'fho_sta_train.json'),'r') as sta_train_json:\n",
    "    fho_sta_train_frame = pd.DataFrame(json.load(sta_train_json)['annotations'])\n",
    "with open(os.path.join(annotations_dir,'fho_sta_val.json'),'r') as sta_val_json:\n",
    "    fho_sta_val_frame = pd.DataFrame(json.load(sta_val_json)['annotations'])"
   ]
  },
  {
   "cell_type": "code",
   "execution_count": 27,
   "metadata": {},
   "outputs": [],
   "source": [
    "with open(os.path.join(annotations_dir,'fho_sta_train.json'),'r') as sta_train_json:\n",
    "    fho_sta_nouns_frame = pd.DataFrame(json.load(sta_train_json)['noun_categories'])\n",
    "with open(os.path.join(annotations_dir,'fho_sta_val.json'),'r') as sta_val_json:\n",
    "    fho_sta_verbs_frame = pd.DataFrame(json.load(sta_val_json)['verb_categories'])"
   ]
  },
  {
   "cell_type": "code",
   "execution_count": 28,
   "metadata": {},
   "outputs": [
    {
     "name": "stdout",
     "output_type": "stream",
     "text": [
      "[FHO-STA] Total number of train clips: 98276\n",
      "[FHO-STA] Total number of val clips: 47395\n"
     ]
    }
   ],
   "source": [
    "print(\"[FHO-STA] Total number of train clips: %d\"%len(fho_sta_train_frame))\n",
    "print(\"[FHO-STA] Total number of val clips: %d\"%len(fho_sta_val_frame))"
   ]
  },
  {
   "cell_type": "code",
   "execution_count": 29,
   "metadata": {},
   "outputs": [
    {
     "name": "stdout",
     "output_type": "stream",
     "text": [
      "[FHO-STA] Total number of train clip annotations fho-unict: 34873\n",
      "[FHO-STA] Total number of val clip annotations fho-unict: 13384\n"
     ]
    }
   ],
   "source": [
    "filtered_fho_sta_train_frame = fho_sta_train_frame[fho_sta_train_frame.video_uid.isin(vids_unict)]\n",
    "filtered_fho_sta_val_frame = fho_sta_val_frame[fho_sta_val_frame.video_uid.isin(vids_unict)]\n",
    "print(\"[FHO-STA] Total number of train clip annotations fho-unict: %d\"%len(filtered_fho_sta_train_frame))\n",
    "print(\"[FHO-STA] Total number of val clip annotations fho-unict: %d\"%len(filtered_fho_sta_val_frame))"
   ]
  },
  {
   "cell_type": "markdown",
   "metadata": {},
   "source": [
    "## Read Ego4D Hands data"
   ]
  },
  {
   "cell_type": "code",
   "execution_count": 31,
   "metadata": {},
   "outputs": [],
   "source": [
    "with open(os.path.join(annotations_dir,'fho_hands_train.json'),'r') as hands_train_json:\n",
    "    fho_hands_train_frame = pd.DataFrame(json.load(hands_train_json)['clips'])\n",
    "with open(os.path.join(annotations_dir,'fho_hands_val.json'),'r') as hands_val_json:\n",
    "    fho_hands_val_frame = pd.DataFrame(json.load(hands_val_json)['clips'])"
   ]
  },
  {
   "cell_type": "code",
   "execution_count": 32,
   "metadata": {},
   "outputs": [
    {
     "name": "stdout",
     "output_type": "stream",
     "text": [
      "[FHO-HANDS] Total number of train clip annotations fho-unict: 185\n",
      "[FHO-HANDS] Total number of val clip annotations fho-unict: 139\n"
     ]
    }
   ],
   "source": [
    "filtered_fho_hands_train_frame = fho_hands_train_frame[fho_hands_train_frame.video_uid.isin(vids_unict)]\n",
    "filtered_fho_hands_val_frame = fho_hands_val_frame[fho_hands_val_frame.video_uid.isin(vids_unict)]\n",
    "print(\"[FHO-HANDS] Total number of train clip annotations fho-unict: %d\"%len(filtered_fho_hands_train_frame))\n",
    "print(\"[FHO-HANDS] Total number of val clip annotations fho-unict: %d\"%len(filtered_fho_hands_val_frame))"
   ]
  },
  {
   "cell_type": "code",
   "execution_count": 33,
   "metadata": {},
   "outputs": [
    {
     "name": "stdout",
     "output_type": "stream",
     "text": [
      "[FHO-SCOD] Total number of clip annotations fho-unict: 12906\n",
      "[FHO-LTA] Total number of clip annotations fho-unict: 34203\n",
      "[FHO-STA] Total number of clip annotations fho-unict: 48257\n"
     ]
    }
   ],
   "source": [
    "filtered_fho_scod_frame = pd.concat([filtered_fho_scod_train_frame, filtered_fho_scod_val_frame], axis=0).reset_index(drop=True)\n",
    "filtered_fho_lta_frame = pd.concat([filtered_fho_lta_train_frame, filtered_fho_lta_val_frame], axis=0).reset_index(drop=True)\n",
    "filtered_fho_sta_frame = pd.concat([filtered_fho_sta_train_frame, filtered_fho_sta_val_frame], axis=0).reset_index(drop=True)\n",
    "print(\"[FHO-SCOD] Total number of clip annotations fho-unict: %d\"%len(filtered_fho_scod_frame))\n",
    "print(\"[FHO-LTA] Total number of clip annotations fho-unict: %d\"%len(filtered_fho_lta_frame))\n",
    "print(\"[FHO-STA] Total number of clip annotations fho-unict: %d\"%len(filtered_fho_sta_frame))"
   ]
  },
  {
   "cell_type": "code",
   "execution_count": 34,
   "metadata": {},
   "outputs": [
    {
     "name": "stdout",
     "output_type": "stream",
     "text": [
      "[FHO-SCOD] Number of unique indexes fho-unict: 12906\n",
      "[FHO-LTA] Number of unique indexes fho-unict: 34203\n",
      "[FHO-STA] Number of unique indexes fho-unict: 48257\n"
     ]
    }
   ],
   "source": [
    "print(\"[FHO-SCOD] Number of unique indexes fho-unict: %d\"%filtered_fho_scod_frame.index.nunique())\n",
    "print(\"[FHO-LTA] Number of unique indexes fho-unict: %d\"%filtered_fho_lta_frame.index.nunique())\n",
    "print(\"[FHO-STA] Number of unique indexes fho-unict: %d\"%filtered_fho_sta_frame.index.nunique())"
   ]
  },
  {
   "cell_type": "code",
   "execution_count": 35,
   "metadata": {},
   "outputs": [],
   "source": [
    "filtered_scod_video_uid_values = filtered_fho_scod_frame[\"video_uid\"].values\n",
    "filtered_lta_video_uid_values = filtered_fho_lta_frame[\"video_uid\"].values\n",
    "filtered_sta_video_uid_values = filtered_fho_sta_frame[\"video_uid\"].values"
   ]
  },
  {
   "cell_type": "code",
   "execution_count": 37,
   "metadata": {},
   "outputs": [
    {
     "name": "stderr",
     "output_type": "stream",
     "text": [
      "100%|██████████| 48257/48257 [06:42<00:00, 119.89it/s]\n"
     ]
    }
   ],
   "source": [
    "video_clips_uids_dict = {}\n",
    "video_uid_fps = {}\n",
    "for video_uid in tqdm(filtered_sta_video_uid_values):\n",
    "    clips_uids = list(set(list(filtered_fho_sta_frame[filtered_fho_sta_frame.video_uid == video_uid].clip_uid.values)))\n",
    "    video_clips_uids_dict[video_uid] = clips_uids\n",
    "    for v in videoinfos['videos']:\n",
    "        if v['video_uid'] == video_uid:\n",
    "            video_uid_fps[video_uid] = v['video_metadata']['fps']"
   ]
  },
  {
   "cell_type": "code",
   "execution_count": 38,
   "metadata": {},
   "outputs": [],
   "source": [
    "clip_video_dict = {}\n",
    "for k in video_clips_uids_dict.keys():\n",
    "    for c in video_clips_uids_dict[k]:\n",
    "        clip_video_dict[c] = k"
   ]
  },
  {
   "cell_type": "code",
   "execution_count": 36,
   "metadata": {},
   "outputs": [],
   "source": [
    "with open(\"clip_video_uids_mapping.json\", \"w\") as jf:\n",
    "    json.dump(clip_video_dict, jf, indent=4)"
   ]
  },
  {
   "cell_type": "code",
   "execution_count": 39,
   "metadata": {},
   "outputs": [
    {
     "name": "stdout",
     "output_type": "stream",
     "text": [
      "[FHO] Total number of selected annotations: 12878\n"
     ]
    }
   ],
   "source": [
    "# a function to find intersection of two lists\n",
    "def intersection(lst1, lst2):\n",
    "    # a new list to keep track of common elements in lst1 and lst2\n",
    "    lst3 = []\n",
    "    #iterate over all elements in lst1\n",
    "    for value in lst1:\n",
    "        #check for each element of lst1 if it's present in lst2\n",
    "        if value in lst2:\n",
    "            #if true, add the common element to the new list\n",
    "            lst3.append(value)\n",
    "    #we can shorten the four lines of code above \n",
    "    #using this code - lst3 = [value for value in lst1 if value in lst2]\n",
    "    return lst3\n",
    "filtered_all_uid_values = intersection(intersection(filtered_scod_video_uid_values,filtered_lta_video_uid_values),filtered_sta_video_uid_values)\n",
    "print(\"[FHO] Total number of selected annotations: %d\"%len(filtered_all_uid_values))"
   ]
  },
  {
   "cell_type": "code",
   "execution_count": 40,
   "metadata": {},
   "outputs": [
    {
     "name": "stdout",
     "output_type": "stream",
     "text": [
      "12906\n",
      "34203\n",
      "48257\n"
     ]
    }
   ],
   "source": [
    "print(len(filtered_fho_scod_frame))\n",
    "print(len(filtered_fho_lta_frame))\n",
    "print(len(filtered_fho_sta_frame))"
   ]
  },
  {
   "cell_type": "code",
   "execution_count": 41,
   "metadata": {},
   "outputs": [
    {
     "name": "stdout",
     "output_type": "stream",
     "text": [
      "[ALL] Total number of selected annotations: 184\n"
     ]
    }
   ],
   "source": [
    "filtered_all_video_uids = intersection(narration_frame_complete.index,filtered_all_uid_values) \n",
    "print(\"[ALL] Total number of selected annotations: %d\"%len(filtered_all_video_uids))"
   ]
  },
  {
   "cell_type": "code",
   "execution_count": 42,
   "metadata": {},
   "outputs": [
    {
     "name": "stdout",
     "output_type": "stream",
     "text": [
      "8618\n",
      "15640\n",
      "21136\n"
     ]
    }
   ],
   "source": [
    "filtered_fho_scod_frame = filtered_fho_scod_frame[filtered_fho_scod_frame.video_uid.isin(filtered_all_video_uids)]\n",
    "filtered_fho_lta_frame = filtered_fho_lta_frame[filtered_fho_lta_frame.video_uid.isin(filtered_all_video_uids)]\n",
    "filtered_fho_sta_frame = filtered_fho_sta_frame[filtered_fho_sta_frame.video_uid.isin(filtered_all_video_uids)]\n",
    "print(len(filtered_fho_scod_frame))\n",
    "print(len(filtered_fho_lta_frame))\n",
    "print(len(filtered_fho_sta_frame))"
   ]
  },
  {
   "cell_type": "code",
   "execution_count": 43,
   "metadata": {},
   "outputs": [],
   "source": [
    "# Filter narration frame\n",
    "indexes_to_drop = [i for i in narration_frame_complete.index if i not in filtered_all_video_uids]\n",
    "filtered_narration_frame_complete = narration_frame_complete.drop(index=indexes_to_drop).drop(columns=[\"status\"])\n",
    "# Add another columns to keep track if a narration is related to an annotated action in FHO benchmark\n",
    "filtered_narration_frame_complete[\"has_fho_annotations\"] = False"
   ]
  },
  {
   "cell_type": "code",
   "execution_count": 44,
   "metadata": {},
   "outputs": [
    {
     "data": {
      "text/plain": [
       "8618"
      ]
     },
     "execution_count": 44,
     "metadata": {},
     "output_type": "execute_result"
    }
   ],
   "source": [
    "len(filtered_fho_scod_frame)"
   ]
  },
  {
   "cell_type": "code",
   "execution_count": 45,
   "metadata": {},
   "outputs": [
    {
     "data": {
      "text/html": [
       "<div>\n",
       "<style scoped>\n",
       "    .dataframe tbody tr th:only-of-type {\n",
       "        vertical-align: middle;\n",
       "    }\n",
       "\n",
       "    .dataframe tbody tr th {\n",
       "        vertical-align: top;\n",
       "    }\n",
       "\n",
       "    .dataframe thead th {\n",
       "        text-align: right;\n",
       "    }\n",
       "</style>\n",
       "<table border=\"1\" class=\"dataframe\">\n",
       "  <thead>\n",
       "    <tr style=\"text-align: right;\">\n",
       "      <th></th>\n",
       "      <th>video_uid</th>\n",
       "      <th>clip_id</th>\n",
       "      <th>clip_uid</th>\n",
       "      <th>clip_parent_start_sec</th>\n",
       "      <th>clip_parent_end_sec</th>\n",
       "      <th>clip_parent_start_frame</th>\n",
       "      <th>clip_parent_end_frame</th>\n",
       "      <th>pre_frame</th>\n",
       "      <th>pnr_frame</th>\n",
       "      <th>post_frame</th>\n",
       "    </tr>\n",
       "  </thead>\n",
       "  <tbody>\n",
       "    <tr>\n",
       "      <th>157</th>\n",
       "      <td>41416e77-3b9a-4685-bd1b-ba26b5ba19b2</td>\n",
       "      <td>790</td>\n",
       "      <td>e9be1118-a5cf-4431-b2e8-e3edcfa9f949</td>\n",
       "      <td>0.0</td>\n",
       "      <td>308.0</td>\n",
       "      <td>0</td>\n",
       "      <td>9239</td>\n",
       "      <td>{'frame_number': 48, 'clip_frame_number': 48, ...</td>\n",
       "      <td>{'frame_number': 62, 'clip_frame_number': 62, ...</td>\n",
       "      <td>{'frame_number': 69, 'clip_frame_number': 69, ...</td>\n",
       "    </tr>\n",
       "    <tr>\n",
       "      <th>158</th>\n",
       "      <td>41416e77-3b9a-4685-bd1b-ba26b5ba19b2</td>\n",
       "      <td>790</td>\n",
       "      <td>e9be1118-a5cf-4431-b2e8-e3edcfa9f949</td>\n",
       "      <td>0.0</td>\n",
       "      <td>308.0</td>\n",
       "      <td>0</td>\n",
       "      <td>9239</td>\n",
       "      <td>{'frame_number': 72, 'clip_frame_number': 72, ...</td>\n",
       "      <td>{'frame_number': 75, 'clip_frame_number': 75, ...</td>\n",
       "      <td>{'frame_number': 102, 'clip_frame_number': 102...</td>\n",
       "    </tr>\n",
       "  </tbody>\n",
       "</table>\n",
       "</div>"
      ],
      "text/plain": [
       "                                video_uid clip_id  \\\n",
       "157  41416e77-3b9a-4685-bd1b-ba26b5ba19b2     790   \n",
       "158  41416e77-3b9a-4685-bd1b-ba26b5ba19b2     790   \n",
       "\n",
       "                                 clip_uid  clip_parent_start_sec  \\\n",
       "157  e9be1118-a5cf-4431-b2e8-e3edcfa9f949                    0.0   \n",
       "158  e9be1118-a5cf-4431-b2e8-e3edcfa9f949                    0.0   \n",
       "\n",
       "     clip_parent_end_sec  clip_parent_start_frame  clip_parent_end_frame  \\\n",
       "157                308.0                        0                   9239   \n",
       "158                308.0                        0                   9239   \n",
       "\n",
       "                                             pre_frame  \\\n",
       "157  {'frame_number': 48, 'clip_frame_number': 48, ...   \n",
       "158  {'frame_number': 72, 'clip_frame_number': 72, ...   \n",
       "\n",
       "                                             pnr_frame  \\\n",
       "157  {'frame_number': 62, 'clip_frame_number': 62, ...   \n",
       "158  {'frame_number': 75, 'clip_frame_number': 75, ...   \n",
       "\n",
       "                                            post_frame  \n",
       "157  {'frame_number': 69, 'clip_frame_number': 69, ...  \n",
       "158  {'frame_number': 102, 'clip_frame_number': 102...  "
      ]
     },
     "execution_count": 45,
     "metadata": {},
     "output_type": "execute_result"
    }
   ],
   "source": [
    "filtered_fho_scod_frame.head(2)"
   ]
  },
  {
   "cell_type": "code",
   "execution_count": 46,
   "metadata": {},
   "outputs": [],
   "source": [
    "filtered_fho_scod_frame['pre_frame_number'] = None\n",
    "filtered_fho_scod_frame['pnr_frame_number'] = None\n",
    "filtered_fho_scod_frame['post_frame_number'] = None\n",
    "for i in range(len(filtered_fho_scod_frame)):\n",
    "    condition_pre = 'frame_number' in filtered_fho_scod_frame.iloc[i]['pre_frame'].keys()\n",
    "    condition_pnr = 'frame_number' in filtered_fho_scod_frame.iloc[i]['pnr_frame'].keys()\n",
    "    condition_post = 'frame_number' in filtered_fho_scod_frame.iloc[i]['post_frame'].keys()\n",
    "    if condition_pre and condition_pnr and condition_post:\n",
    "        pre = filtered_fho_scod_frame.iloc[i]['pre_frame']['frame_number']\n",
    "        pnr = filtered_fho_scod_frame.iloc[i]['pnr_frame']['frame_number']\n",
    "        post = filtered_fho_scod_frame.iloc[i]['post_frame']['frame_number']\n",
    "        filtered_fho_scod_frame.iloc[i, filtered_fho_scod_frame.columns.get_loc('pre_frame_number')] = pre\n",
    "        filtered_fho_scod_frame.iloc[i, filtered_fho_scod_frame.columns.get_loc('pnr_frame_number')] = pnr\n",
    "        filtered_fho_scod_frame.iloc[i, filtered_fho_scod_frame.columns.get_loc('post_frame_number')] = post"
   ]
  },
  {
   "cell_type": "code",
   "execution_count": 47,
   "metadata": {},
   "outputs": [
    {
     "data": {
      "text/html": [
       "<div>\n",
       "<style scoped>\n",
       "    .dataframe tbody tr th:only-of-type {\n",
       "        vertical-align: middle;\n",
       "    }\n",
       "\n",
       "    .dataframe tbody tr th {\n",
       "        vertical-align: top;\n",
       "    }\n",
       "\n",
       "    .dataframe thead th {\n",
       "        text-align: right;\n",
       "    }\n",
       "</style>\n",
       "<table border=\"1\" class=\"dataframe\">\n",
       "  <thead>\n",
       "    <tr style=\"text-align: right;\">\n",
       "      <th></th>\n",
       "      <th>video_uid</th>\n",
       "      <th>clip_id</th>\n",
       "      <th>clip_uid</th>\n",
       "      <th>clip_parent_start_sec</th>\n",
       "      <th>clip_parent_end_sec</th>\n",
       "      <th>clip_parent_start_frame</th>\n",
       "      <th>clip_parent_end_frame</th>\n",
       "      <th>pre_frame</th>\n",
       "      <th>pnr_frame</th>\n",
       "      <th>post_frame</th>\n",
       "      <th>pre_frame_number</th>\n",
       "      <th>pnr_frame_number</th>\n",
       "      <th>post_frame_number</th>\n",
       "    </tr>\n",
       "  </thead>\n",
       "  <tbody>\n",
       "    <tr>\n",
       "      <th>12896</th>\n",
       "      <td>127392a3-036a-4af6-9db9-ca00141229db</td>\n",
       "      <td>3467</td>\n",
       "      <td>a14bf5af-6d4f-45ac-8e78-4be05c63b38c</td>\n",
       "      <td>0.0</td>\n",
       "      <td>308.0</td>\n",
       "      <td>0</td>\n",
       "      <td>9239</td>\n",
       "      <td>{'frame_number': 8821, 'clip_frame_number': 88...</td>\n",
       "      <td>{'frame_number': 8833, 'clip_frame_number': 88...</td>\n",
       "      <td>{'frame_number': 8847, 'clip_frame_number': 88...</td>\n",
       "      <td>8821</td>\n",
       "      <td>8833</td>\n",
       "      <td>8847</td>\n",
       "    </tr>\n",
       "    <tr>\n",
       "      <th>12897</th>\n",
       "      <td>127392a3-036a-4af6-9db9-ca00141229db</td>\n",
       "      <td>3467</td>\n",
       "      <td>a14bf5af-6d4f-45ac-8e78-4be05c63b38c</td>\n",
       "      <td>0.0</td>\n",
       "      <td>308.0</td>\n",
       "      <td>0</td>\n",
       "      <td>9239</td>\n",
       "      <td>{'frame_number': 8937, 'clip_frame_number': 89...</td>\n",
       "      <td>{'frame_number': 8969, 'clip_frame_number': 89...</td>\n",
       "      <td>{'frame_number': 8988, 'clip_frame_number': 89...</td>\n",
       "      <td>8937</td>\n",
       "      <td>8969</td>\n",
       "      <td>8988</td>\n",
       "    </tr>\n",
       "  </tbody>\n",
       "</table>\n",
       "</div>"
      ],
      "text/plain": [
       "                                  video_uid clip_id  \\\n",
       "12896  127392a3-036a-4af6-9db9-ca00141229db    3467   \n",
       "12897  127392a3-036a-4af6-9db9-ca00141229db    3467   \n",
       "\n",
       "                                   clip_uid  clip_parent_start_sec  \\\n",
       "12896  a14bf5af-6d4f-45ac-8e78-4be05c63b38c                    0.0   \n",
       "12897  a14bf5af-6d4f-45ac-8e78-4be05c63b38c                    0.0   \n",
       "\n",
       "       clip_parent_end_sec  clip_parent_start_frame  clip_parent_end_frame  \\\n",
       "12896                308.0                        0                   9239   \n",
       "12897                308.0                        0                   9239   \n",
       "\n",
       "                                               pre_frame  \\\n",
       "12896  {'frame_number': 8821, 'clip_frame_number': 88...   \n",
       "12897  {'frame_number': 8937, 'clip_frame_number': 89...   \n",
       "\n",
       "                                               pnr_frame  \\\n",
       "12896  {'frame_number': 8833, 'clip_frame_number': 88...   \n",
       "12897  {'frame_number': 8969, 'clip_frame_number': 89...   \n",
       "\n",
       "                                              post_frame pre_frame_number  \\\n",
       "12896  {'frame_number': 8847, 'clip_frame_number': 88...             8821   \n",
       "12897  {'frame_number': 8988, 'clip_frame_number': 89...             8937   \n",
       "\n",
       "      pnr_frame_number post_frame_number  \n",
       "12896             8833              8847  \n",
       "12897             8969              8988  "
      ]
     },
     "execution_count": 47,
     "metadata": {},
     "output_type": "execute_result"
    }
   ],
   "source": [
    "filtered_fho_scod_frame.tail(2)"
   ]
  },
  {
   "cell_type": "code",
   "execution_count": null,
   "metadata": {},
   "outputs": [],
   "source": [
    "filtered_fho_scod_frame.to_json('filtered_fho_scod_frame.json',default_handler=str, orient = 'records')"
   ]
  },
  {
   "cell_type": "code",
   "execution_count": 48,
   "metadata": {},
   "outputs": [
    {
     "name": "stderr",
     "output_type": "stream",
     "text": [
      "184it [03:53,  1.27s/it]\n"
     ]
    }
   ],
   "source": [
    "# For each video uid read all narrations and check if that narration is in an annotated action interval\n",
    "new_narration_data = []\n",
    "for narration_video_uid, narration_entry in tqdm(filtered_narration_frame_complete.iterrows()):\n",
    "    \n",
    "    for narration in narration_entry.narration_pass_1['narrations']:\n",
    "        fho_lta_entries_frame = filtered_fho_lta_frame[\n",
    "            (filtered_fho_lta_frame.video_uid == narration_video_uid)\n",
    "            &(filtered_fho_lta_frame.clip_parent_start_frame+filtered_fho_lta_frame.action_clip_start_frame <= narration['timestamp_frame'])\n",
    "            &(narration['timestamp_frame'] <= filtered_fho_lta_frame.clip_parent_start_frame+filtered_fho_lta_frame.action_clip_end_frame)]\n",
    "            \n",
    "        # Read LTA entries\n",
    "        if len(fho_lta_entries_frame) > 0:\n",
    "            for lta_idx, lta_entry in fho_lta_entries_frame.iterrows():\n",
    "                lta_video_uid = lta_entry.video_uid\n",
    "                lta_clip_uid = lta_entry.clip_uid\n",
    "                narration_timestamp_frame = narration['timestamp_frame']\n",
    "                narration_text = narration['narration_text']\n",
    "                start_action_frame = lta_entry.clip_parent_start_frame+lta_entry.action_clip_start_frame\n",
    "                end_action_frame = lta_entry.clip_parent_start_frame+lta_entry.action_clip_end_frame\n",
    "                \n",
    "                new_narration_data.append({\n",
    "                    'video_uid':narration_video_uid,\n",
    "                    'clip_uid':lta_clip_uid,\n",
    "                    'narration_text':narration_text,\n",
    "                    'narration_timestamp_frame':narration['timestamp_frame'],\n",
    "                    'narration_timestamp_sec':narration['timestamp_sec'],\n",
    "                    'action_clip_start_frame':lta_entry.action_clip_start_frame,\n",
    "                    'action_clip_end_frame':lta_entry.action_clip_end_frame,\n",
    "                    'action_clip_start_sec':lta_entry.action_clip_start_sec,\n",
    "                    'action_clip_end_sec':lta_entry.action_clip_end_sec,\n",
    "                    'action_start_frame':start_action_frame,\n",
    "                    'action_end_frame':end_action_frame\n",
    "                })\n",
    "                \n",
    "    for narration in narration_entry.narration_pass_2['narrations']:\n",
    "        fho_lta_entries_frame = filtered_fho_lta_frame[\n",
    "            (filtered_fho_lta_frame.video_uid == narration_video_uid)\n",
    "            &(filtered_fho_lta_frame.clip_parent_start_frame+filtered_fho_lta_frame.action_clip_start_frame <= narration['timestamp_frame'])\n",
    "            &(narration['timestamp_frame'] <= filtered_fho_lta_frame.clip_parent_start_frame+filtered_fho_lta_frame.action_clip_end_frame)]\n",
    "            \n",
    "        # Read LTA entries\n",
    "        if len(fho_lta_entries_frame) > 0:\n",
    "            for lta_idx, lta_entry in fho_lta_entries_frame.iterrows():\n",
    "                lta_video_uid = lta_entry.video_uid\n",
    "                lta_clip_uid = lta_entry.clip_uid\n",
    "                narration_timestamp_frame = narration['timestamp_frame']\n",
    "                narration_text = narration['narration_text']\n",
    "                start_action_frame = lta_entry.clip_parent_start_frame+lta_entry.action_clip_start_frame\n",
    "                end_action_frame = lta_entry.clip_parent_start_frame+lta_entry.action_clip_end_frame\n",
    "                \n",
    "                new_narration_data.append({\n",
    "                    'video_uid':narration_video_uid,\n",
    "                    'clip_uid':lta_clip_uid,\n",
    "                    'narration_text':narration_text,\n",
    "                    'narration_timestamp_frame':narration['timestamp_frame'],\n",
    "                    'narration_timestamp_sec':narration['timestamp_sec'],\n",
    "                    'action_clip_start_frame':lta_entry.action_clip_start_frame,\n",
    "                    'action_clip_end_frame':lta_entry.action_clip_end_frame,\n",
    "                    'action_clip_start_sec':lta_entry.action_clip_start_sec,\n",
    "                    'action_clip_end_sec':lta_entry.action_clip_end_sec,\n",
    "                    'action_start_frame':start_action_frame,\n",
    "                    'action_end_frame':end_action_frame\n",
    "                })"
   ]
  },
  {
   "cell_type": "code",
   "execution_count": 49,
   "metadata": {},
   "outputs": [
    {
     "data": {
      "text/html": [
       "<div>\n",
       "<style scoped>\n",
       "    .dataframe tbody tr th:only-of-type {\n",
       "        vertical-align: middle;\n",
       "    }\n",
       "\n",
       "    .dataframe tbody tr th {\n",
       "        vertical-align: top;\n",
       "    }\n",
       "\n",
       "    .dataframe thead th {\n",
       "        text-align: right;\n",
       "    }\n",
       "</style>\n",
       "<table border=\"1\" class=\"dataframe\">\n",
       "  <thead>\n",
       "    <tr style=\"text-align: right;\">\n",
       "      <th></th>\n",
       "      <th>video_uid</th>\n",
       "      <th>clip_uid</th>\n",
       "      <th>narration_text</th>\n",
       "      <th>narration_timestamp_frame</th>\n",
       "      <th>narration_timestamp_sec</th>\n",
       "      <th>action_clip_start_frame</th>\n",
       "      <th>action_clip_end_frame</th>\n",
       "      <th>action_clip_start_sec</th>\n",
       "      <th>action_clip_end_sec</th>\n",
       "      <th>action_start_frame</th>\n",
       "      <th>action_end_frame</th>\n",
       "    </tr>\n",
       "  </thead>\n",
       "  <tbody>\n",
       "    <tr>\n",
       "      <th>0</th>\n",
       "      <td>3e08beb0-9108-4e77-b2ae-80f91ceac474</td>\n",
       "      <td>8cf5a53b-fa9c-4fe7-b767-697133d4d5b8</td>\n",
       "      <td>#C C sits on a chair in the dining room</td>\n",
       "      <td>56</td>\n",
       "      <td>1.85265</td>\n",
       "      <td>45</td>\n",
       "      <td>285</td>\n",
       "      <td>1.5</td>\n",
       "      <td>9.5</td>\n",
       "      <td>45</td>\n",
       "      <td>285</td>\n",
       "    </tr>\n",
       "    <tr>\n",
       "      <th>1</th>\n",
       "      <td>3e08beb0-9108-4e77-b2ae-80f91ceac474</td>\n",
       "      <td>8cf5a53b-fa9c-4fe7-b767-697133d4d5b8</td>\n",
       "      <td>#C C picks a brush on a table</td>\n",
       "      <td>164</td>\n",
       "      <td>5.48066</td>\n",
       "      <td>45</td>\n",
       "      <td>285</td>\n",
       "      <td>1.5</td>\n",
       "      <td>9.5</td>\n",
       "      <td>45</td>\n",
       "      <td>285</td>\n",
       "    </tr>\n",
       "  </tbody>\n",
       "</table>\n",
       "</div>"
      ],
      "text/plain": [
       "                              video_uid                              clip_uid  \\\n",
       "0  3e08beb0-9108-4e77-b2ae-80f91ceac474  8cf5a53b-fa9c-4fe7-b767-697133d4d5b8   \n",
       "1  3e08beb0-9108-4e77-b2ae-80f91ceac474  8cf5a53b-fa9c-4fe7-b767-697133d4d5b8   \n",
       "\n",
       "                            narration_text  narration_timestamp_frame  \\\n",
       "0  #C C sits on a chair in the dining room                         56   \n",
       "1            #C C picks a brush on a table                        164   \n",
       "\n",
       "   narration_timestamp_sec  action_clip_start_frame  action_clip_end_frame  \\\n",
       "0                  1.85265                       45                    285   \n",
       "1                  5.48066                       45                    285   \n",
       "\n",
       "   action_clip_start_sec  action_clip_end_sec  action_start_frame  \\\n",
       "0                    1.5                  9.5                  45   \n",
       "1                    1.5                  9.5                  45   \n",
       "\n",
       "   action_end_frame  \n",
       "0               285  \n",
       "1               285  "
      ]
     },
     "execution_count": 49,
     "metadata": {},
     "output_type": "execute_result"
    }
   ],
   "source": [
    "new_narration_frame = pd.DataFrame(new_narration_data)\n",
    "new_narration_frame.head(2)"
   ]
  },
  {
   "cell_type": "code",
   "execution_count": 50,
   "metadata": {},
   "outputs": [
    {
     "data": {
      "text/plain": [
       "39437"
      ]
     },
     "execution_count": 50,
     "metadata": {},
     "output_type": "execute_result"
    }
   ],
   "source": [
    "narration_groups = []\n",
    "\n",
    "for ni,ne in new_narration_frame.iterrows():\n",
    "    group = [ne.video_uid, ne.clip_uid, ne.narration_timestamp_frame, ne.narration_text]\n",
    "    if group not in narration_groups:\n",
    "        narration_groups.append(group)\n",
    "\n",
    "len(narration_groups)"
   ]
  },
  {
   "cell_type": "code",
   "execution_count": 51,
   "metadata": {},
   "outputs": [
    {
     "name": "stderr",
     "output_type": "stream",
     "text": [
      "100%|██████████| 39437/39437 [17:01<00:00, 38.60it/s]\n"
     ]
    }
   ],
   "source": [
    "new_narration_frame_grouped = []\n",
    "for g in tqdm(narration_groups):\n",
    "    g_values = new_narration_frame[\n",
    "        (new_narration_frame.video_uid==g[0])\n",
    "        &(new_narration_frame.clip_uid==g[1])\n",
    "        &(new_narration_frame.narration_timestamp_frame==g[2])\n",
    "        &(new_narration_frame.narration_text==g[3])\n",
    "    ]\n",
    "    new_narration_frame_grouped.append({\n",
    "        'video_uid':g[0],\n",
    "        'clip_uid':g[1],\n",
    "        'narration_text':g[3],\n",
    "        'narration_timestamp_frame':g[2],\n",
    "        'action_clip_start_frame':min(g_values.action_clip_start_frame.values),\n",
    "        'action_clip_end_frame':max(g_values.action_clip_end_frame.values),\n",
    "        'action_clip_start_sec':min(g_values.action_clip_start_sec.values),\n",
    "        'action_clip_end_sec':max(g_values.action_clip_end_sec.values),\n",
    "        'action_start_frame':min(g_values.action_start_frame.values),\n",
    "        'action_end_frame':max(g_values.action_end_frame.values)\n",
    "    })\n",
    "new_narration_frame_grouped = pd.DataFrame(new_narration_frame_grouped)"
   ]
  },
  {
   "cell_type": "code",
   "execution_count": 52,
   "metadata": {},
   "outputs": [
    {
     "data": {
      "text/html": [
       "<div>\n",
       "<style scoped>\n",
       "    .dataframe tbody tr th:only-of-type {\n",
       "        vertical-align: middle;\n",
       "    }\n",
       "\n",
       "    .dataframe tbody tr th {\n",
       "        vertical-align: top;\n",
       "    }\n",
       "\n",
       "    .dataframe thead th {\n",
       "        text-align: right;\n",
       "    }\n",
       "</style>\n",
       "<table border=\"1\" class=\"dataframe\">\n",
       "  <thead>\n",
       "    <tr style=\"text-align: right;\">\n",
       "      <th></th>\n",
       "      <th>video_uid</th>\n",
       "      <th>clip_id</th>\n",
       "      <th>clip_uid</th>\n",
       "      <th>clip_parent_start_sec</th>\n",
       "      <th>clip_parent_end_sec</th>\n",
       "      <th>clip_parent_start_frame</th>\n",
       "      <th>clip_parent_end_frame</th>\n",
       "      <th>pre_frame</th>\n",
       "      <th>pnr_frame</th>\n",
       "      <th>post_frame</th>\n",
       "      <th>pre_frame_number</th>\n",
       "      <th>pnr_frame_number</th>\n",
       "      <th>post_frame_number</th>\n",
       "    </tr>\n",
       "  </thead>\n",
       "  <tbody>\n",
       "    <tr>\n",
       "      <th>157</th>\n",
       "      <td>41416e77-3b9a-4685-bd1b-ba26b5ba19b2</td>\n",
       "      <td>790</td>\n",
       "      <td>e9be1118-a5cf-4431-b2e8-e3edcfa9f949</td>\n",
       "      <td>0.0</td>\n",
       "      <td>308.0</td>\n",
       "      <td>0</td>\n",
       "      <td>9239</td>\n",
       "      <td>{'frame_number': 48, 'clip_frame_number': 48, ...</td>\n",
       "      <td>{'frame_number': 62, 'clip_frame_number': 62, ...</td>\n",
       "      <td>{'frame_number': 69, 'clip_frame_number': 69, ...</td>\n",
       "      <td>48</td>\n",
       "      <td>62</td>\n",
       "      <td>69</td>\n",
       "    </tr>\n",
       "  </tbody>\n",
       "</table>\n",
       "</div>"
      ],
      "text/plain": [
       "                                video_uid clip_id  \\\n",
       "157  41416e77-3b9a-4685-bd1b-ba26b5ba19b2     790   \n",
       "\n",
       "                                 clip_uid  clip_parent_start_sec  \\\n",
       "157  e9be1118-a5cf-4431-b2e8-e3edcfa9f949                    0.0   \n",
       "\n",
       "     clip_parent_end_sec  clip_parent_start_frame  clip_parent_end_frame  \\\n",
       "157                308.0                        0                   9239   \n",
       "\n",
       "                                             pre_frame  \\\n",
       "157  {'frame_number': 48, 'clip_frame_number': 48, ...   \n",
       "\n",
       "                                             pnr_frame  \\\n",
       "157  {'frame_number': 62, 'clip_frame_number': 62, ...   \n",
       "\n",
       "                                            post_frame pre_frame_number  \\\n",
       "157  {'frame_number': 69, 'clip_frame_number': 69, ...               48   \n",
       "\n",
       "    pnr_frame_number post_frame_number  \n",
       "157               62                69  "
      ]
     },
     "execution_count": 52,
     "metadata": {},
     "output_type": "execute_result"
    }
   ],
   "source": [
    "filtered_fho_scod_frame.head(1)"
   ]
  },
  {
   "cell_type": "code",
   "execution_count": 53,
   "metadata": {},
   "outputs": [
    {
     "data": {
      "text/html": [
       "<div>\n",
       "<style scoped>\n",
       "    .dataframe tbody tr th:only-of-type {\n",
       "        vertical-align: middle;\n",
       "    }\n",
       "\n",
       "    .dataframe tbody tr th {\n",
       "        vertical-align: top;\n",
       "    }\n",
       "\n",
       "    .dataframe thead th {\n",
       "        text-align: right;\n",
       "    }\n",
       "</style>\n",
       "<table border=\"1\" class=\"dataframe\">\n",
       "  <thead>\n",
       "    <tr style=\"text-align: right;\">\n",
       "      <th></th>\n",
       "      <th>video_uid</th>\n",
       "      <th>clip_uid</th>\n",
       "      <th>narration_text</th>\n",
       "      <th>narration_timestamp_frame</th>\n",
       "      <th>action_clip_start_frame</th>\n",
       "      <th>action_clip_end_frame</th>\n",
       "      <th>action_clip_start_sec</th>\n",
       "      <th>action_clip_end_sec</th>\n",
       "      <th>action_start_frame</th>\n",
       "      <th>action_end_frame</th>\n",
       "    </tr>\n",
       "  </thead>\n",
       "  <tbody>\n",
       "    <tr>\n",
       "      <th>0</th>\n",
       "      <td>3e08beb0-9108-4e77-b2ae-80f91ceac474</td>\n",
       "      <td>8cf5a53b-fa9c-4fe7-b767-697133d4d5b8</td>\n",
       "      <td>#C C sits on a chair in the dining room</td>\n",
       "      <td>56</td>\n",
       "      <td>45</td>\n",
       "      <td>285</td>\n",
       "      <td>1.5</td>\n",
       "      <td>9.500000</td>\n",
       "      <td>45</td>\n",
       "      <td>285</td>\n",
       "    </tr>\n",
       "    <tr>\n",
       "      <th>1</th>\n",
       "      <td>3e08beb0-9108-4e77-b2ae-80f91ceac474</td>\n",
       "      <td>8cf5a53b-fa9c-4fe7-b767-697133d4d5b8</td>\n",
       "      <td>#C C picks a brush on a table</td>\n",
       "      <td>164</td>\n",
       "      <td>45</td>\n",
       "      <td>362</td>\n",
       "      <td>1.5</td>\n",
       "      <td>12.066667</td>\n",
       "      <td>45</td>\n",
       "      <td>362</td>\n",
       "    </tr>\n",
       "    <tr>\n",
       "      <th>2</th>\n",
       "      <td>3e08beb0-9108-4e77-b2ae-80f91ceac474</td>\n",
       "      <td>8cf5a53b-fa9c-4fe7-b767-697133d4d5b8</td>\n",
       "      <td>#C C touches the drawing board with his left hand</td>\n",
       "      <td>179</td>\n",
       "      <td>45</td>\n",
       "      <td>362</td>\n",
       "      <td>1.5</td>\n",
       "      <td>12.066667</td>\n",
       "      <td>45</td>\n",
       "      <td>362</td>\n",
       "    </tr>\n",
       "  </tbody>\n",
       "</table>\n",
       "</div>"
      ],
      "text/plain": [
       "                              video_uid                              clip_uid  \\\n",
       "0  3e08beb0-9108-4e77-b2ae-80f91ceac474  8cf5a53b-fa9c-4fe7-b767-697133d4d5b8   \n",
       "1  3e08beb0-9108-4e77-b2ae-80f91ceac474  8cf5a53b-fa9c-4fe7-b767-697133d4d5b8   \n",
       "2  3e08beb0-9108-4e77-b2ae-80f91ceac474  8cf5a53b-fa9c-4fe7-b767-697133d4d5b8   \n",
       "\n",
       "                                      narration_text  \\\n",
       "0            #C C sits on a chair in the dining room   \n",
       "1                      #C C picks a brush on a table   \n",
       "2  #C C touches the drawing board with his left hand   \n",
       "\n",
       "   narration_timestamp_frame  action_clip_start_frame  action_clip_end_frame  \\\n",
       "0                         56                       45                    285   \n",
       "1                        164                       45                    362   \n",
       "2                        179                       45                    362   \n",
       "\n",
       "   action_clip_start_sec  action_clip_end_sec  action_start_frame  \\\n",
       "0                    1.5             9.500000                  45   \n",
       "1                    1.5            12.066667                  45   \n",
       "2                    1.5            12.066667                  45   \n",
       "\n",
       "   action_end_frame  \n",
       "0               285  \n",
       "1               362  \n",
       "2               362  "
      ]
     },
     "execution_count": 53,
     "metadata": {},
     "output_type": "execute_result"
    }
   ],
   "source": [
    "new_narration_frame_grouped.head(3)"
   ]
  },
  {
   "cell_type": "code",
   "execution_count": 54,
   "metadata": {},
   "outputs": [],
   "source": [
    "new_narration_frame_grouped.to_json('new_narration_frame_grouped.json')\n",
    "new_narration_frame.to_json('new_narration_frame.json')"
   ]
  },
  {
   "cell_type": "code",
   "execution_count": 55,
   "metadata": {},
   "outputs": [
    {
     "data": {
      "text/html": [
       "<div>\n",
       "<style scoped>\n",
       "    .dataframe tbody tr th:only-of-type {\n",
       "        vertical-align: middle;\n",
       "    }\n",
       "\n",
       "    .dataframe tbody tr th {\n",
       "        vertical-align: top;\n",
       "    }\n",
       "\n",
       "    .dataframe thead th {\n",
       "        text-align: right;\n",
       "    }\n",
       "</style>\n",
       "<table border=\"1\" class=\"dataframe\">\n",
       "  <thead>\n",
       "    <tr style=\"text-align: right;\">\n",
       "      <th></th>\n",
       "      <th>video_uid</th>\n",
       "      <th>clip_uid</th>\n",
       "      <th>narration_text</th>\n",
       "      <th>narration_timestamp_frame</th>\n",
       "      <th>narration_timestamp_sec</th>\n",
       "      <th>action_clip_start_frame</th>\n",
       "      <th>action_clip_end_frame</th>\n",
       "      <th>action_clip_start_sec</th>\n",
       "      <th>action_clip_end_sec</th>\n",
       "      <th>action_start_frame</th>\n",
       "      <th>action_end_frame</th>\n",
       "    </tr>\n",
       "  </thead>\n",
       "  <tbody>\n",
       "    <tr>\n",
       "      <th>125336</th>\n",
       "      <td>c1d8c3ca-f127-4dee-95f5-41280edde54e</td>\n",
       "      <td>831a2da3-bf97-4a79-aa47-16bcdca9e3cd</td>\n",
       "      <td>#C C puts the clothes in the laundry basket</td>\n",
       "      <td>2746</td>\n",
       "      <td>91.55516</td>\n",
       "      <td>2524</td>\n",
       "      <td>2764</td>\n",
       "      <td>84.154362</td>\n",
       "      <td>92.154362</td>\n",
       "      <td>2524</td>\n",
       "      <td>2764</td>\n",
       "    </tr>\n",
       "    <tr>\n",
       "      <th>125337</th>\n",
       "      <td>c1d8c3ca-f127-4dee-95f5-41280edde54e</td>\n",
       "      <td>831a2da3-bf97-4a79-aa47-16bcdca9e3cd</td>\n",
       "      <td>#C C puts the clothes in the laundry basket</td>\n",
       "      <td>2746</td>\n",
       "      <td>91.55516</td>\n",
       "      <td>2587</td>\n",
       "      <td>2827</td>\n",
       "      <td>86.254362</td>\n",
       "      <td>94.254362</td>\n",
       "      <td>2587</td>\n",
       "      <td>2827</td>\n",
       "    </tr>\n",
       "    <tr>\n",
       "      <th>125338</th>\n",
       "      <td>c1d8c3ca-f127-4dee-95f5-41280edde54e</td>\n",
       "      <td>831a2da3-bf97-4a79-aa47-16bcdca9e3cd</td>\n",
       "      <td>#C C puts the clothes in the laundry basket</td>\n",
       "      <td>2746</td>\n",
       "      <td>91.55516</td>\n",
       "      <td>2628</td>\n",
       "      <td>2868</td>\n",
       "      <td>87.621029</td>\n",
       "      <td>95.621029</td>\n",
       "      <td>2628</td>\n",
       "      <td>2868</td>\n",
       "    </tr>\n",
       "    <tr>\n",
       "      <th>125339</th>\n",
       "      <td>c1d8c3ca-f127-4dee-95f5-41280edde54e</td>\n",
       "      <td>831a2da3-bf97-4a79-aa47-16bcdca9e3cd</td>\n",
       "      <td>#C C puts the clothes in the laundry basket</td>\n",
       "      <td>2746</td>\n",
       "      <td>91.55516</td>\n",
       "      <td>2648</td>\n",
       "      <td>2888</td>\n",
       "      <td>88.287695</td>\n",
       "      <td>96.287695</td>\n",
       "      <td>2648</td>\n",
       "      <td>2888</td>\n",
       "    </tr>\n",
       "    <tr>\n",
       "      <th>125340</th>\n",
       "      <td>c1d8c3ca-f127-4dee-95f5-41280edde54e</td>\n",
       "      <td>831a2da3-bf97-4a79-aa47-16bcdca9e3cd</td>\n",
       "      <td>#C C puts the clothes in the laundry basket</td>\n",
       "      <td>2746</td>\n",
       "      <td>91.55516</td>\n",
       "      <td>2709</td>\n",
       "      <td>2949</td>\n",
       "      <td>90.321029</td>\n",
       "      <td>98.321029</td>\n",
       "      <td>2709</td>\n",
       "      <td>2949</td>\n",
       "    </tr>\n",
       "  </tbody>\n",
       "</table>\n",
       "</div>"
      ],
      "text/plain": [
       "                                   video_uid  \\\n",
       "125336  c1d8c3ca-f127-4dee-95f5-41280edde54e   \n",
       "125337  c1d8c3ca-f127-4dee-95f5-41280edde54e   \n",
       "125338  c1d8c3ca-f127-4dee-95f5-41280edde54e   \n",
       "125339  c1d8c3ca-f127-4dee-95f5-41280edde54e   \n",
       "125340  c1d8c3ca-f127-4dee-95f5-41280edde54e   \n",
       "\n",
       "                                    clip_uid  \\\n",
       "125336  831a2da3-bf97-4a79-aa47-16bcdca9e3cd   \n",
       "125337  831a2da3-bf97-4a79-aa47-16bcdca9e3cd   \n",
       "125338  831a2da3-bf97-4a79-aa47-16bcdca9e3cd   \n",
       "125339  831a2da3-bf97-4a79-aa47-16bcdca9e3cd   \n",
       "125340  831a2da3-bf97-4a79-aa47-16bcdca9e3cd   \n",
       "\n",
       "                                     narration_text  \\\n",
       "125336  #C C puts the clothes in the laundry basket   \n",
       "125337  #C C puts the clothes in the laundry basket   \n",
       "125338  #C C puts the clothes in the laundry basket   \n",
       "125339  #C C puts the clothes in the laundry basket   \n",
       "125340  #C C puts the clothes in the laundry basket   \n",
       "\n",
       "        narration_timestamp_frame  narration_timestamp_sec  \\\n",
       "125336                       2746                 91.55516   \n",
       "125337                       2746                 91.55516   \n",
       "125338                       2746                 91.55516   \n",
       "125339                       2746                 91.55516   \n",
       "125340                       2746                 91.55516   \n",
       "\n",
       "        action_clip_start_frame  action_clip_end_frame  action_clip_start_sec  \\\n",
       "125336                     2524                   2764              84.154362   \n",
       "125337                     2587                   2827              86.254362   \n",
       "125338                     2628                   2868              87.621029   \n",
       "125339                     2648                   2888              88.287695   \n",
       "125340                     2709                   2949              90.321029   \n",
       "\n",
       "        action_clip_end_sec  action_start_frame  action_end_frame  \n",
       "125336            92.154362                2524              2764  \n",
       "125337            94.254362                2587              2827  \n",
       "125338            95.621029                2628              2868  \n",
       "125339            96.287695                2648              2888  \n",
       "125340            98.321029                2709              2949  "
      ]
     },
     "execution_count": 55,
     "metadata": {},
     "output_type": "execute_result"
    }
   ],
   "source": [
    "new_narration_frame.tail(5)"
   ]
  },
  {
   "cell_type": "markdown",
   "metadata": {},
   "source": [
    "# Narration analysis"
   ]
  },
  {
   "cell_type": "code",
   "execution_count": 79,
   "metadata": {},
   "outputs": [],
   "source": [
    "import spacy\n",
    "from spacy.symbols import nsubj, VERB\n",
    "import re\n",
    "nlp = spacy.load(\"en_core_web_sm\")\n",
    "\n",
    "def get_subject_verb_pairs(t):\n",
    "    doc = nlp(t)\n",
    "    subject_verb_pairs = []\n",
    "    for possible_subject in doc:\n",
    "        if possible_subject.dep == nsubj and possible_subject.head.pos == VERB:\n",
    "            subject_verb_pairs.append({possible_subject:possible_subject.head.lemma_})\n",
    "    if len(subject_verb_pairs) > 0: \n",
    "        return subject_verb_pairs\n",
    "    else: return None       \n",
    "\n",
    "    \n",
    "def get_preposition_object_pairs(t):\n",
    "    doc = nlp(t)\n",
    "    preposition_object_pairs = []\n",
    "    for possible_object in doc:\n",
    "        if possible_object.dep_ == 'pobj' and possible_object.head.dep_ == 'prep':\n",
    "            preposition_object_pairs.append({possible_object:possible_object.head.lemma_})\n",
    "    if len(preposition_object_pairs) > 0: \n",
    "        return preposition_object_pairs\n",
    "    else: return None       \n",
    "\n",
    "    \n",
    "def check_verb(token):\n",
    "    \"\"\"Check verb type given spacy token\"\"\"\n",
    "    if token.pos_ == 'VERB':\n",
    "        indirect_object = False\n",
    "        direct_object = False\n",
    "        for item in token.children:\n",
    "            if(item.dep_ == \"iobj\" or item.dep_ == \"pobj\"):\n",
    "                indirect_object = True\n",
    "            if (item.dep_ == \"dobj\" or item.dep_ == \"dative\"):\n",
    "                direct_object = True\n",
    "        if indirect_object and direct_object:\n",
    "            return 'DITRANVERB'\n",
    "        elif direct_object and not indirect_object:\n",
    "            return 'TRANVERB'\n",
    "        elif not direct_object and not indirect_object:\n",
    "            return 'INTRANVERB'\n",
    "        else:\n",
    "            return 'VERB'\n",
    "        \n",
    "def check_dobj(token):\n",
    "    if token.dep_ == 'dobj':\n",
    "        return str(token)\n",
    "    else:\n",
    "        return None\n",
    "\n",
    "def standardize_narration(t):\n",
    "    if t:\n",
    "        t = t.replace(\"#Unsure\",\"\").replace(\"#unsure\",\"\").replace(\"#Sammary\",\"\").replace(\"#sammary\",\"\").replace(\"#Summary\",\"\")\n",
    "        t = t.strip()\n",
    "        if not t.startswith(\"#\"): t=\"#\"+t\n",
    "        hashtag_span = t.find(\"#\")\n",
    "        if hashtag_span != -1:\n",
    "            if t[hashtag_span+1].isspace() or t[hashtag_span+1].isdigit(): t=t[:hashtag_span+1]+t[hashtag_span+2:]\n",
    "        # remove extra whitespaces\n",
    "        t = re.sub(' +', ' ', t)\n",
    "        t = re.sub('#\\w','',t)\n",
    "        t = t.strip()\n",
    "        if t[0].islower(): t = t[0].upper()+t[1:]\n",
    "        try:\n",
    "            if t[0] == 'C' and t[1].isspace(): t = 'CameraWearer' + t[1:]\n",
    "        except:\n",
    "            return \"\"\n",
    "        return t.strip()\n",
    "    else: return \"\""
   ]
  },
  {
   "cell_type": "code",
   "execution_count": 57,
   "metadata": {},
   "outputs": [
    {
     "data": {
      "text/plain": [
       "[{basket: 'in'}, {hand: 'with'}]"
      ]
     },
     "execution_count": 57,
     "metadata": {},
     "output_type": "execute_result"
    }
   ],
   "source": [
    "get_preposition_object_pairs('CameraWearer puts the clothes in the laundry basket with his hand')"
   ]
  },
  {
   "cell_type": "code",
   "execution_count": null,
   "metadata": {},
   "outputs": [
    {
     "name": "stderr",
     "output_type": "stream",
     "text": [
      "34958it [06:47, 85.64it/s] "
     ]
    }
   ],
   "source": [
    "new_narration_frame_grouped['standardized_narration_text'] = \"\"\n",
    "new_narration_frame_grouped['subject_verb_pairs'] = None\n",
    "new_narration_frame_grouped['preposition_object_pairs'] = None\n",
    "new_narration_frame_grouped['preposition_object_pairs'] = new_narration_frame_grouped['preposition_object_pairs'].astype(object)\n",
    "count = 1\n",
    "for ni, ne in tqdm(new_narration_frame_grouped.iterrows()):\n",
    "    std_narr_text = standardize_narration(ne.narration_text)\n",
    "    subj_verb_pairs = get_subject_verb_pairs(std_narr_text)\n",
    "    prep_obj_pairs = get_preposition_object_pairs(std_narr_text)\n",
    "    new_narration_frame_grouped.at[ni,\"standardized_narration_text\"] = std_narr_text\n",
    "    try:\n",
    "        new_narration_frame_grouped.at[ni,\"subject_verb_pairs\"] = subj_verb_pairs\n",
    "    except:\n",
    "        new_narration_frame_grouped.at[ni,\"subject_verb_pairs\"] = None\n",
    "    new_narration_frame_grouped.at[ni,\"preposition_object_pairs\"] = prep_obj_pairs\n",
    "    count += 1 "
   ]
  },
  {
   "cell_type": "code",
   "execution_count": null,
   "metadata": {},
   "outputs": [],
   "source": [
    "new_narration_frame_grouped.head(2)"
   ]
  },
  {
   "cell_type": "code",
   "execution_count": null,
   "metadata": {},
   "outputs": [],
   "source": [
    "new_narration_frame_grouped['verb'] = None\n",
    "new_narration_frame_grouped['subject'] = None\n",
    "for ni, ne in new_narration_frame_grouped.iterrows():\n",
    "    if ne.subject_verb_pairs:\n",
    "        subj_verb_dict = ne.subject_verb_pairs[0]\n",
    "        # Get the subject and verb from the dictionary\n",
    "        subject, verb = list(subj_verb_dict.keys())[0], list(subj_verb_dict.values())[0]\n",
    "        # Assign to DataFrame using .at accessor\n",
    "        new_narration_frame_grouped.at[ni, \"subject\"] = subject\n",
    "        new_narration_frame_grouped.at[ni, \"verb\"] = verb"
   ]
  },
  {
   "cell_type": "code",
   "execution_count": null,
   "metadata": {},
   "outputs": [],
   "source": [
    "new_narration_frame_grouped.head(2)"
   ]
  },
  {
   "cell_type": "code",
   "execution_count": 78,
   "metadata": {},
   "outputs": [],
   "source": [
    "new_narration_frame_grouped.to_json('new_narration_frame_grouped_vn.json',default_handler=str, orient = 'records')\n",
    "new_narration_frame_grouped = pd.read_json('new_narration_frame_grouped_vn.json')"
   ]
  },
  {
   "cell_type": "code",
   "execution_count": 80,
   "metadata": {},
   "outputs": [
    {
     "name": "stderr",
     "output_type": "stream",
     "text": [
      "99it [00:00, 92.56it/s]"
     ]
    },
    {
     "name": "stdout",
     "output_type": "stream",
     "text": [
      "Phrasal verb : raise-up\n"
     ]
    },
    {
     "name": "stderr",
     "output_type": "stream",
     "text": [
      "314it [00:02, 155.38it/s]"
     ]
    },
    {
     "name": "stdout",
     "output_type": "stream",
     "text": [
      "Phrasal verb : pick-up\n",
      "Phrasal verb : pick-up\n",
      "Phrasal verb : open-up\n",
      "Phrasal verb : turn-out\n",
      "Phrasal verb : pick-up\n",
      "Phrasal verb : pick-up\n",
      "Phrasal verb : pick-up\n",
      "Phrasal verb : pick-up\n",
      "Phrasal verb : pick-up\n",
      "Phrasal verb : take-off\n",
      "Phrasal verb : pick-up\n"
     ]
    },
    {
     "name": "stderr",
     "output_type": "stream",
     "text": [
      "348it [00:02, 140.46it/s]"
     ]
    },
    {
     "name": "stdout",
     "output_type": "stream",
     "text": [
      "Phrasal verb : pick-up\n",
      "Phrasal verb : pick-up\n",
      "Phrasal verb : open-up\n",
      "Phrasal verb : spread-out\n",
      "Phrasal verb : pick-up\n",
      "Phrasal verb : pick-up\n",
      "Phrasal verb : pick-up\n",
      "Phrasal verb : pick-up\n"
     ]
    },
    {
     "name": "stderr",
     "output_type": "stream",
     "text": [
      "376it [00:02, 122.84it/s]"
     ]
    },
    {
     "name": "stdout",
     "output_type": "stream",
     "text": [
      "Phrasal verb : pick-up\n",
      "Phrasal verb : pick-up\n",
      "Phrasal verb : pick-up\n",
      "Phrasal verb : pick-up\n",
      "Phrasal verb : pick-up\n",
      "Phrasal verb : pick-up\n",
      "Phrasal verb : pick-up\n"
     ]
    },
    {
     "name": "stderr",
     "output_type": "stream",
     "text": [
      "405it [00:03, 128.64it/s]"
     ]
    },
    {
     "name": "stdout",
     "output_type": "stream",
     "text": [
      "Phrasal verb : pick-up\n",
      "Phrasal verb : pick-up\n",
      "Phrasal verb : turn-out\n",
      "Phrasal verb : button-up\n",
      "Phrasal verb : take-off\n",
      "Phrasal verb : turn-around\n",
      "Phrasal verb : pick-up\n",
      "Phrasal verb : pick-up\n",
      "Phrasal verb : pick-up\n",
      "Phrasal verb : pick-up\n"
     ]
    },
    {
     "name": "stderr",
     "output_type": "stream",
     "text": [
      "434it [00:03, 132.98it/s]"
     ]
    },
    {
     "name": "stdout",
     "output_type": "stream",
     "text": [
      "Phrasal verb : pick-up\n",
      "Phrasal verb : toss-up\n",
      "Phrasal verb : pick-up\n"
     ]
    },
    {
     "name": "stderr",
     "output_type": "stream",
     "text": [
      "506it [00:03, 135.29it/s]"
     ]
    },
    {
     "name": "stdout",
     "output_type": "stream",
     "text": [
      "Phrasal verb : pick-up\n",
      "Phrasal verb : pick-up\n",
      "Phrasal verb : pick-up\n"
     ]
    },
    {
     "name": "stderr",
     "output_type": "stream",
     "text": [
      "548it [00:04, 135.80it/s]"
     ]
    },
    {
     "name": "stdout",
     "output_type": "stream",
     "text": [
      "Phrasal verb : turn-out\n",
      "Phrasal verb : pick-up\n",
      "Phrasal verb : pick-up\n",
      "Phrasal verb : pick-up\n"
     ]
    },
    {
     "name": "stderr",
     "output_type": "stream",
     "text": [
      "580it [00:04, 146.26it/s]"
     ]
    },
    {
     "name": "stdout",
     "output_type": "stream",
     "text": [
      "Phrasal verb : pick-up\n",
      "Phrasal verb : pick-up\n",
      "Phrasal verb : pick-up\n",
      "Phrasal verb : pick-up\n",
      "Phrasal verb : pick-up\n",
      "Phrasal verb : pick-up\n",
      "Phrasal verb : pick-up\n",
      "Phrasal verb : pick-up\n",
      "Phrasal verb : pick-up\n"
     ]
    },
    {
     "name": "stderr",
     "output_type": "stream",
     "text": [
      "614it [00:04, 155.85it/s]"
     ]
    },
    {
     "name": "stdout",
     "output_type": "stream",
     "text": [
      "Phrasal verb : pick-up\n",
      "Phrasal verb : pick-up\n",
      "Phrasal verb : pick-up\n",
      "Phrasal verb : pick-up\n",
      "Phrasal verb : pick-up\n",
      "Phrasal verb : pick-up\n",
      "Phrasal verb : pick-up\n"
     ]
    },
    {
     "name": "stderr",
     "output_type": "stream",
     "text": [
      "652it [00:04, 169.60it/s]"
     ]
    },
    {
     "name": "stdout",
     "output_type": "stream",
     "text": [
      "Phrasal verb : pick-up\n",
      "Phrasal verb : pick-up\n",
      "Phrasal verb : hold-up\n",
      "Phrasal verb : hold-up\n",
      "Phrasal verb : hold-up\n",
      "Phrasal verb : pick-up\n",
      "Phrasal verb : pick-up\n"
     ]
    },
    {
     "name": "stderr",
     "output_type": "stream",
     "text": [
      "689it [00:04, 174.52it/s]"
     ]
    },
    {
     "name": "stdout",
     "output_type": "stream",
     "text": [
      "Phrasal verb : hold-up\n",
      "Phrasal verb : pick-up\n",
      "Phrasal verb : pick-up\n",
      "Phrasal verb : hold-up\n",
      "Phrasal verb : pick-up\n",
      "Phrasal verb : hold-up\n",
      "Phrasal verb : pick-up\n",
      "Phrasal verb : pick-up\n"
     ]
    },
    {
     "name": "stderr",
     "output_type": "stream",
     "text": [
      "727it [00:05, 177.06it/s]"
     ]
    },
    {
     "name": "stdout",
     "output_type": "stream",
     "text": [
      "Phrasal verb : pick-up\n",
      "Phrasal verb : hold-up\n",
      "Phrasal verb : pick-up\n",
      "Phrasal verb : pick-up\n",
      "Phrasal verb : hold-up\n",
      "Phrasal verb : pick-up\n",
      "Phrasal verb : pick-up\n"
     ]
    },
    {
     "name": "stderr",
     "output_type": "stream",
     "text": [
      "764it [00:05, 175.04it/s]"
     ]
    },
    {
     "name": "stdout",
     "output_type": "stream",
     "text": [
      "Phrasal verb : pick-up\n",
      "Phrasal verb : hold-up\n",
      "Phrasal verb : pick-up\n",
      "Phrasal verb : pick-up\n",
      "Phrasal verb : hold-up\n",
      "Phrasal verb : lay-down\n",
      "Phrasal verb : pick-up\n",
      "Phrasal verb : hold-up\n",
      "Phrasal verb : button-up\n",
      "Phrasal verb : hold-up\n",
      "Phrasal verb : lay-down\n",
      "Phrasal verb : hold-up\n"
     ]
    },
    {
     "name": "stderr",
     "output_type": "stream",
     "text": [
      "841it [00:05, 185.63it/s]"
     ]
    },
    {
     "name": "stdout",
     "output_type": "stream",
     "text": [
      "Phrasal verb : hold-up\n",
      "Phrasal verb : pick-up\n",
      "Phrasal verb : pick-up\n",
      "Phrasal verb : straighten-out\n",
      "Phrasal verb : pick-up\n",
      "Phrasal verb : pick-up\n"
     ]
    },
    {
     "name": "stderr",
     "output_type": "stream",
     "text": [
      "879it [00:06, 181.14it/s]"
     ]
    },
    {
     "name": "stdout",
     "output_type": "stream",
     "text": [
      "Phrasal verb : straighten-out\n",
      "Phrasal verb : pick-up\n",
      "Phrasal verb : put-down\n",
      "Phrasal verb : pick-up\n",
      "Phrasal verb : straighten-out\n",
      "Phrasal verb : pick-up\n",
      "Phrasal verb : put-down\n",
      "Phrasal verb : pick-up\n",
      "Phrasal verb : pick-up\n",
      "Phrasal verb : pick-up\n",
      "Phrasal verb : pick-up\n",
      "Phrasal verb : pick-up\n",
      "Phrasal verb : pick-up\n",
      "Phrasal verb : put-down\n",
      "Phrasal verb : pick-up\n",
      "Phrasal verb : pick-up\n"
     ]
    },
    {
     "name": "stderr",
     "output_type": "stream",
     "text": [
      "918it [00:06, 185.02it/s]"
     ]
    },
    {
     "name": "stdout",
     "output_type": "stream",
     "text": [
      "Phrasal verb : pick-up\n",
      "Phrasal verb : pick-up\n",
      "Phrasal verb : pick-up\n",
      "Phrasal verb : straighten-out\n",
      "Phrasal verb : pick-up\n",
      "Phrasal verb : put-down\n",
      "Phrasal verb : straighten-out\n",
      "Phrasal verb : pick-up\n",
      "Phrasal verb : pick-up\n",
      "Phrasal verb : put-down\n",
      "Phrasal verb : pick-up\n",
      "Phrasal verb : straighten-out\n",
      "Phrasal verb : pick-up\n",
      "Phrasal verb : put-down\n",
      "Phrasal verb : pick-up\n",
      "Phrasal verb : straighten-out\n",
      "Phrasal verb : pick-up\n",
      "Phrasal verb : put-down\n",
      "Phrasal verb : pick-up\n"
     ]
    },
    {
     "name": "stderr",
     "output_type": "stream",
     "text": [
      "956it [00:06, 160.90it/s]"
     ]
    },
    {
     "name": "stdout",
     "output_type": "stream",
     "text": [
      "Phrasal verb : place-down\n"
     ]
    },
    {
     "name": "stderr",
     "output_type": "stream",
     "text": [
      "1005it [00:06, 147.87it/s]"
     ]
    },
    {
     "name": "stdout",
     "output_type": "stream",
     "text": [
      "Phrasal verb : hold-up\n",
      "Phrasal verb : hold-up\n",
      "Phrasal verb : hold-up\n",
      "Phrasal verb : hold-up\n"
     ]
    },
    {
     "name": "stderr",
     "output_type": "stream",
     "text": [
      "1036it [00:07, 147.26it/s]"
     ]
    },
    {
     "name": "stdout",
     "output_type": "stream",
     "text": [
      "Phrasal verb : hold-down\n",
      "Phrasal verb : hold-up\n",
      "Phrasal verb : hold-up\n"
     ]
    },
    {
     "name": "stderr",
     "output_type": "stream",
     "text": [
      "1082it [00:07, 148.26it/s]"
     ]
    },
    {
     "name": "stdout",
     "output_type": "stream",
     "text": [
      "Phrasal verb : hold-up\n",
      "Phrasal verb : put-down\n"
     ]
    },
    {
     "name": "stderr",
     "output_type": "stream",
     "text": [
      "1118it [00:07, 160.61it/s]"
     ]
    },
    {
     "name": "stdout",
     "output_type": "stream",
     "text": [
      "Phrasal verb : put-down\n"
     ]
    },
    {
     "name": "stderr",
     "output_type": "stream",
     "text": [
      "1324it [00:08, 184.62it/s]"
     ]
    },
    {
     "name": "stdout",
     "output_type": "stream",
     "text": [
      "Phrasal verb : put-down\n"
     ]
    },
    {
     "name": "stderr",
     "output_type": "stream",
     "text": [
      "1985it [00:12, 181.45it/s]"
     ]
    },
    {
     "name": "stdout",
     "output_type": "stream",
     "text": [
      "Phrasal verb : pick-up\n",
      "Phrasal verb : pick-up\n",
      "Phrasal verb : pick-up\n",
      "Phrasal verb : pick-up\n",
      "Phrasal verb : put-down\n"
     ]
    },
    {
     "name": "stderr",
     "output_type": "stream",
     "text": [
      "2040it [00:12, 173.72it/s]"
     ]
    },
    {
     "name": "stdout",
     "output_type": "stream",
     "text": [
      "Phrasal verb : pick-up\n",
      "Phrasal verb : pick-up\n",
      "Phrasal verb : pick-up\n",
      "Phrasal verb : pick-up\n",
      "Phrasal verb : pick-up\n",
      "Phrasal verb : pick-up\n"
     ]
    },
    {
     "name": "stderr",
     "output_type": "stream",
     "text": [
      "2130it [00:13, 173.03it/s]"
     ]
    },
    {
     "name": "stdout",
     "output_type": "stream",
     "text": [
      "Phrasal verb : pick-up\n",
      "Phrasal verb : pick-up\n",
      "Phrasal verb : pick-up\n",
      "Phrasal verb : pick-up\n"
     ]
    },
    {
     "name": "stderr",
     "output_type": "stream",
     "text": [
      "2163it [00:13, 138.63it/s]"
     ]
    },
    {
     "name": "stdout",
     "output_type": "stream",
     "text": [
      "Phrasal verb : pick-up\n",
      "Phrasal verb : pick-up\n",
      "Phrasal verb : pick-up\n"
     ]
    },
    {
     "name": "stderr",
     "output_type": "stream",
     "text": [
      "2305it [00:14, 158.66it/s]"
     ]
    },
    {
     "name": "stdout",
     "output_type": "stream",
     "text": [
      "Phrasal verb : pick-up\n",
      "Phrasal verb : pick-up\n",
      "Phrasal verb : put-down\n",
      "Phrasal verb : pick-up\n",
      "Phrasal verb : put-down\n",
      "Phrasal verb : pick-up\n",
      "Phrasal verb : pick-up\n",
      "Phrasal verb : put-down\n",
      "Phrasal verb : put-on\n",
      "Phrasal verb : pick-up\n",
      "Phrasal verb : pick-up\n",
      "Phrasal verb : pick-up\n"
     ]
    },
    {
     "name": "stderr",
     "output_type": "stream",
     "text": [
      "2345it [00:14, 175.74it/s]"
     ]
    },
    {
     "name": "stdout",
     "output_type": "stream",
     "text": [
      "Phrasal verb : pick-up\n",
      "Phrasal verb : put-down\n",
      "Phrasal verb : put-down\n"
     ]
    },
    {
     "name": "stderr",
     "output_type": "stream",
     "text": [
      "2400it [00:15, 165.02it/s]"
     ]
    },
    {
     "name": "stdout",
     "output_type": "stream",
     "text": [
      "Phrasal verb : pick-up\n",
      "Phrasal verb : pick-up\n",
      "Phrasal verb : pick-up\n",
      "Phrasal verb : pick-up\n",
      "Phrasal verb : pick-up\n",
      "Phrasal verb : pick-up\n",
      "Phrasal verb : pick-up\n",
      "Phrasal verb : pick-up\n",
      "Phrasal verb : pick-up\n",
      "Phrasal verb : pick-up\n"
     ]
    },
    {
     "name": "stderr",
     "output_type": "stream",
     "text": [
      "2417it [00:15, 161.29it/s]"
     ]
    },
    {
     "name": "stdout",
     "output_type": "stream",
     "text": [
      "Phrasal verb : pick-up\n",
      "Phrasal verb : pick-up\n",
      "Phrasal verb : pick-up\n",
      "Phrasal verb : pick-up\n",
      "Phrasal verb : pick-up\n",
      "Phrasal verb : pick-up\n",
      "Phrasal verb : pick-up\n",
      "Phrasal verb : pick-up\n",
      "Phrasal verb : pick-up\n",
      "Phrasal verb : pick-up\n"
     ]
    },
    {
     "name": "stderr",
     "output_type": "stream",
     "text": [
      "2468it [00:15, 163.38it/s]"
     ]
    },
    {
     "name": "stdout",
     "output_type": "stream",
     "text": [
      "Phrasal verb : pick-up\n"
     ]
    },
    {
     "name": "stderr",
     "output_type": "stream",
     "text": [
      "2557it [00:16, 175.28it/s]"
     ]
    },
    {
     "name": "stdout",
     "output_type": "stream",
     "text": [
      "Phrasal verb : turn-off\n"
     ]
    },
    {
     "name": "stderr",
     "output_type": "stream",
     "text": [
      "2637it [00:16, 143.84it/s]"
     ]
    },
    {
     "name": "stdout",
     "output_type": "stream",
     "text": [
      "Phrasal verb : turn-off\n",
      "Phrasal verb : turn-off\n",
      "Phrasal verb : turn-off\n",
      "Phrasal verb : turn-off\n"
     ]
    },
    {
     "name": "stderr",
     "output_type": "stream",
     "text": [
      "2667it [00:16, 142.40it/s]"
     ]
    },
    {
     "name": "stdout",
     "output_type": "stream",
     "text": [
      "Phrasal verb : turn-off\n",
      "Phrasal verb : turn-off\n",
      "Phrasal verb : turn-off\n"
     ]
    },
    {
     "name": "stderr",
     "output_type": "stream",
     "text": [
      "2723it [00:17, 120.02it/s]"
     ]
    },
    {
     "name": "stdout",
     "output_type": "stream",
     "text": [
      "Phrasal verb : pick-up\n",
      "Phrasal verb : pick-up\n",
      "Phrasal verb : pick-up\n",
      "Phrasal verb : pick-up\n",
      "Phrasal verb : pick-up\n"
     ]
    },
    {
     "name": "stderr",
     "output_type": "stream",
     "text": [
      "2753it [00:17, 131.90it/s]"
     ]
    },
    {
     "name": "stdout",
     "output_type": "stream",
     "text": [
      "Phrasal verb : pick-up\n",
      "Phrasal verb : pick-up\n",
      "Phrasal verb : pick-up\n",
      "Phrasal verb : pick-up\n",
      "Phrasal verb : pick-up\n",
      "Phrasal verb : pick-up\n"
     ]
    },
    {
     "name": "stderr",
     "output_type": "stream",
     "text": [
      "2784it [00:17, 138.52it/s]"
     ]
    },
    {
     "name": "stdout",
     "output_type": "stream",
     "text": [
      "Phrasal verb : pick-up\n"
     ]
    },
    {
     "name": "stderr",
     "output_type": "stream",
     "text": [
      "2896it [00:18, 156.39it/s]"
     ]
    },
    {
     "name": "stdout",
     "output_type": "stream",
     "text": [
      "Phrasal verb : pick-up\n",
      "Phrasal verb : pick-up\n",
      "Phrasal verb : pick-up\n",
      "Phrasal verb : pick-up\n",
      "Phrasal verb : pick-up\n"
     ]
    },
    {
     "name": "stderr",
     "output_type": "stream",
     "text": [
      "2955it [00:19, 133.48it/s]"
     ]
    },
    {
     "name": "stdout",
     "output_type": "stream",
     "text": [
      "Phrasal verb : pick-up\n",
      "Phrasal verb : pick-up\n",
      "Phrasal verb : pick-up\n",
      "Phrasal verb : pick-up\n"
     ]
    },
    {
     "name": "stderr",
     "output_type": "stream",
     "text": [
      "2987it [00:19, 144.12it/s]"
     ]
    },
    {
     "name": "stdout",
     "output_type": "stream",
     "text": [
      "Phrasal verb : pick-up\n",
      "Phrasal verb : pick-up\n",
      "Phrasal verb : pick-up\n",
      "Phrasal verb : stand-up\n"
     ]
    },
    {
     "name": "stderr",
     "output_type": "stream",
     "text": [
      "3176it [00:20, 155.01it/s]"
     ]
    },
    {
     "name": "stdout",
     "output_type": "stream",
     "text": [
      "Phrasal verb : carry-out\n",
      "Phrasal verb : carry-out\n"
     ]
    },
    {
     "name": "stderr",
     "output_type": "stream",
     "text": [
      "3224it [00:20, 149.46it/s]"
     ]
    },
    {
     "name": "stdout",
     "output_type": "stream",
     "text": [
      "Phrasal verb : pick-up\n",
      "Phrasal verb : pick-up\n",
      "Phrasal verb : pick-up\n",
      "Phrasal verb : remove-in\n"
     ]
    },
    {
     "name": "stderr",
     "output_type": "stream",
     "text": [
      "3254it [00:20, 145.58it/s]"
     ]
    },
    {
     "name": "stdout",
     "output_type": "stream",
     "text": [
      "Phrasal verb : pick-up\n"
     ]
    },
    {
     "name": "stderr",
     "output_type": "stream",
     "text": [
      "3305it [00:21, 160.56it/s]"
     ]
    },
    {
     "name": "stdout",
     "output_type": "stream",
     "text": [
      "Phrasal verb : pick-up\n",
      "Phrasal verb : pick-up\n",
      "Phrasal verb : put-down\n",
      "Phrasal verb : pick-up\n",
      "Phrasal verb : pick-up\n",
      "Phrasal verb : pick-up\n",
      "Phrasal verb : pick-up\n",
      "Phrasal verb : pick-up\n",
      "Phrasal verb : pick-up\n"
     ]
    },
    {
     "name": "stderr",
     "output_type": "stream",
     "text": [
      "3342it [00:21, 169.14it/s]"
     ]
    },
    {
     "name": "stdout",
     "output_type": "stream",
     "text": [
      "Phrasal verb : pick-up\n",
      "Phrasal verb : pick-up\n",
      "Phrasal verb : pick-up\n",
      "Phrasal verb : pick-up\n",
      "Phrasal verb : pick-up\n",
      "Phrasal verb : pick-up\n",
      "Phrasal verb : pick-up\n",
      "Phrasal verb : pick-up\n"
     ]
    },
    {
     "name": "stderr",
     "output_type": "stream",
     "text": [
      "3378it [00:21, 172.40it/s]"
     ]
    },
    {
     "name": "stdout",
     "output_type": "stream",
     "text": [
      "Phrasal verb : pick-up\n",
      "Phrasal verb : pick-up\n",
      "Phrasal verb : pick-up\n",
      "Phrasal verb : pick-up\n",
      "Phrasal verb : pick-up\n",
      "Phrasal verb : pick-up\n",
      "Phrasal verb : pick-up\n",
      "Phrasal verb : pick-up\n",
      "Phrasal verb : pick-up\n"
     ]
    },
    {
     "name": "stderr",
     "output_type": "stream",
     "text": [
      "3534it [00:22, 150.31it/s]"
     ]
    },
    {
     "name": "stdout",
     "output_type": "stream",
     "text": [
      "Phrasal verb : pick-up\n",
      "Phrasal verb : stand-up\n"
     ]
    },
    {
     "name": "stderr",
     "output_type": "stream",
     "text": [
      "3578it [00:23, 176.32it/s]"
     ]
    },
    {
     "name": "stdout",
     "output_type": "stream",
     "text": [
      "Phrasal verb : pick-up\n",
      "Phrasal verb : stand-up\n",
      "Phrasal verb : pick-up\n",
      "Phrasal verb : pick-up\n",
      "Phrasal verb : pick-up\n",
      "Phrasal verb : pick-up\n"
     ]
    },
    {
     "name": "stderr",
     "output_type": "stream",
     "text": [
      "3699it [00:23, 173.49it/s]"
     ]
    },
    {
     "name": "stdout",
     "output_type": "stream",
     "text": [
      "Phrasal verb : turn-off\n"
     ]
    },
    {
     "name": "stderr",
     "output_type": "stream",
     "text": [
      "3819it [00:24, 165.56it/s]"
     ]
    },
    {
     "name": "stdout",
     "output_type": "stream",
     "text": [
      "Phrasal verb : take-out\n",
      "Phrasal verb : cut-out\n",
      "Phrasal verb : pull-out\n",
      "Phrasal verb : cut-out\n",
      "Phrasal verb : pull-out\n",
      "Phrasal verb : drop-out\n",
      "Phrasal verb : cut-out\n",
      "Phrasal verb : pull-out\n",
      "Phrasal verb : drop-out\n",
      "Phrasal verb : straighten-out\n",
      "Phrasal verb : cut-out\n",
      "Phrasal verb : pull-out\n",
      "Phrasal verb : drop-out\n",
      "Phrasal verb : straighten-out\n",
      "Phrasal verb : cut-off\n",
      "Phrasal verb : straighten-out\n"
     ]
    },
    {
     "name": "stderr",
     "output_type": "stream",
     "text": [
      "3853it [00:24, 156.44it/s]"
     ]
    },
    {
     "name": "stdout",
     "output_type": "stream",
     "text": [
      "Phrasal verb : straighten-out\n",
      "Phrasal verb : cut-out\n",
      "Phrasal verb : pull-out\n",
      "Phrasal verb : cut-out\n",
      "Phrasal verb : drop-out\n",
      "Phrasal verb : straighten-out\n",
      "Phrasal verb : drop-out\n",
      "Phrasal verb : cut-out\n",
      "Phrasal verb : straighten-out\n",
      "Phrasal verb : cut-out\n",
      "Phrasal verb : straighten-out\n",
      "Phrasal verb : cut-off\n"
     ]
    },
    {
     "name": "stderr",
     "output_type": "stream",
     "text": [
      "3885it [00:24, 153.08it/s]"
     ]
    },
    {
     "name": "stdout",
     "output_type": "stream",
     "text": [
      "Phrasal verb : cut-up\n",
      "Phrasal verb : cut-out\n",
      "Phrasal verb : straighten-out\n",
      "Phrasal verb : cut-out\n",
      "Phrasal verb : straighten-out\n"
     ]
    },
    {
     "name": "stderr",
     "output_type": "stream",
     "text": [
      "4028it [00:25, 165.92it/s]"
     ]
    },
    {
     "name": "stdout",
     "output_type": "stream",
     "text": [
      "Phrasal verb : pick-up\n",
      "Phrasal verb : pick-up\n"
     ]
    },
    {
     "name": "stderr",
     "output_type": "stream",
     "text": [
      "4146it [00:26, 133.53it/s]"
     ]
    },
    {
     "name": "stdout",
     "output_type": "stream",
     "text": [
      "Phrasal verb : pick-up\n",
      "Phrasal verb : bring-out\n"
     ]
    },
    {
     "name": "stderr",
     "output_type": "stream",
     "text": [
      "4188it [00:26, 135.94it/s]"
     ]
    },
    {
     "name": "stdout",
     "output_type": "stream",
     "text": [
      "Phrasal verb : turn-off\n",
      "Phrasal verb : turn-off\n",
      "Phrasal verb : switch-off\n"
     ]
    },
    {
     "name": "stderr",
     "output_type": "stream",
     "text": [
      "4465it [00:28, 183.02it/s]"
     ]
    },
    {
     "name": "stdout",
     "output_type": "stream",
     "text": [
      "Phrasal verb : turn-off\n",
      "Phrasal verb : switch-off\n"
     ]
    },
    {
     "name": "stderr",
     "output_type": "stream",
     "text": [
      "4519it [00:28, 157.41it/s]"
     ]
    },
    {
     "name": "stdout",
     "output_type": "stream",
     "text": [
      "Phrasal verb : put-on\n",
      "Phrasal verb : put-off\n",
      "Phrasal verb : drop-out\n",
      "Phrasal verb : drop-out\n",
      "Phrasal verb : turn-off\n",
      "Phrasal verb : put-on\n"
     ]
    },
    {
     "name": "stderr",
     "output_type": "stream",
     "text": [
      "4551it [00:29, 155.54it/s]"
     ]
    },
    {
     "name": "stdout",
     "output_type": "stream",
     "text": [
      "Phrasal verb : put-off\n",
      "Phrasal verb : put-on\n",
      "Phrasal verb : put-off\n",
      "Phrasal verb : take-out\n",
      "Phrasal verb : put-on\n",
      "Phrasal verb : put-off\n",
      "Phrasal verb : put-on\n",
      "Phrasal verb : put-off\n"
     ]
    },
    {
     "name": "stderr",
     "output_type": "stream",
     "text": [
      "4585it [00:29, 158.94it/s]"
     ]
    },
    {
     "name": "stdout",
     "output_type": "stream",
     "text": [
      "Phrasal verb : put-on\n",
      "Phrasal verb : put-off\n",
      "Phrasal verb : put-on\n"
     ]
    },
    {
     "name": "stderr",
     "output_type": "stream",
     "text": [
      "4768it [00:30, 179.75it/s]"
     ]
    },
    {
     "name": "stdout",
     "output_type": "stream",
     "text": [
      "Phrasal verb : pour-down\n"
     ]
    },
    {
     "name": "stderr",
     "output_type": "stream",
     "text": [
      "4860it [00:30, 163.18it/s]"
     ]
    },
    {
     "name": "stdout",
     "output_type": "stream",
     "text": [
      "Phrasal verb : pick-up\n",
      "Phrasal verb : pick-up\n",
      "Phrasal verb : pick-up\n"
     ]
    },
    {
     "name": "stderr",
     "output_type": "stream",
     "text": [
      "5135it [00:32, 158.80it/s]"
     ]
    },
    {
     "name": "stdout",
     "output_type": "stream",
     "text": [
      "Phrasal verb : pick-up\n",
      "Phrasal verb : put-up\n",
      "Phrasal verb : put-down\n",
      "Phrasal verb : pick-up\n",
      "Phrasal verb : put-down\n",
      "Phrasal verb : pick-up\n",
      "Phrasal verb : tilt-up\n"
     ]
    },
    {
     "name": "stderr",
     "output_type": "stream",
     "text": [
      "5189it [00:33, 170.17it/s]"
     ]
    },
    {
     "name": "stdout",
     "output_type": "stream",
     "text": [
      "Phrasal verb : tilt-up\n",
      "Phrasal verb : tilt-up\n",
      "Phrasal verb : tilt-up\n"
     ]
    },
    {
     "name": "stderr",
     "output_type": "stream",
     "text": [
      "5263it [00:33, 176.58it/s]"
     ]
    },
    {
     "name": "stdout",
     "output_type": "stream",
     "text": [
      "Phrasal verb : shake-off\n",
      "Phrasal verb : put-down\n",
      "Phrasal verb : shake-off\n",
      "Phrasal verb : pick-up\n",
      "Phrasal verb : put-down\n",
      "Phrasal verb : pick-up\n",
      "Phrasal verb : pick-up\n"
     ]
    },
    {
     "name": "stderr",
     "output_type": "stream",
     "text": [
      "5299it [00:33, 166.75it/s]"
     ]
    },
    {
     "name": "stdout",
     "output_type": "stream",
     "text": [
      "Phrasal verb : pick-out\n",
      "Phrasal verb : put-in\n",
      "Phrasal verb : pick-up\n",
      "Phrasal verb : pull-out\n",
      "Phrasal verb : pull-out\n",
      "Phrasal verb : pull-out\n",
      "Phrasal verb : pull-out\n",
      "Phrasal verb : pick-up\n",
      "Phrasal verb : pick-up\n",
      "Phrasal verb : pick-up\n",
      "Phrasal verb : take-out\n",
      "Phrasal verb : pick-up\n",
      "Phrasal verb : pick-up\n"
     ]
    },
    {
     "name": "stderr",
     "output_type": "stream",
     "text": [
      "5333it [00:33, 162.83it/s]"
     ]
    },
    {
     "name": "stdout",
     "output_type": "stream",
     "text": [
      "Phrasal verb : take-out\n",
      "Phrasal verb : press-down\n",
      "Phrasal verb : take-off\n",
      "Phrasal verb : dig-out\n",
      "Phrasal verb : pick-up\n",
      "Phrasal verb : raise-up\n",
      "Phrasal verb : bring-down\n"
     ]
    },
    {
     "name": "stderr",
     "output_type": "stream",
     "text": [
      "5367it [00:34, 159.03it/s]"
     ]
    },
    {
     "name": "stdout",
     "output_type": "stream",
     "text": [
      "Phrasal verb : pick-up\n",
      "Phrasal verb : pick-up\n",
      "Phrasal verb : pick-up\n",
      "Phrasal verb : take-out\n",
      "Phrasal verb : take-out\n",
      "Phrasal verb : pick-up\n",
      "Phrasal verb : take-out\n"
     ]
    },
    {
     "name": "stderr",
     "output_type": "stream",
     "text": [
      "5383it [00:34, 127.12it/s]"
     ]
    },
    {
     "name": "stdout",
     "output_type": "stream",
     "text": [
      "Phrasal verb : break-out\n",
      "Phrasal verb : take-out\n",
      "Phrasal verb : take-out\n",
      "Phrasal verb : pick-up\n"
     ]
    },
    {
     "name": "stderr",
     "output_type": "stream",
     "text": [
      "5426it [00:34, 132.99it/s]"
     ]
    },
    {
     "name": "stdout",
     "output_type": "stream",
     "text": [
      "Phrasal verb : pick-up\n",
      "Phrasal verb : pick-up\n",
      "Phrasal verb : pick-up\n",
      "Phrasal verb : pick-up\n"
     ]
    },
    {
     "name": "stderr",
     "output_type": "stream",
     "text": [
      "5469it [00:34, 136.80it/s]"
     ]
    },
    {
     "name": "stdout",
     "output_type": "stream",
     "text": [
      "Phrasal verb : pick-up\n",
      "Phrasal verb : cut-off\n"
     ]
    },
    {
     "name": "stderr",
     "output_type": "stream",
     "text": [
      "5690it [00:36, 162.59it/s]"
     ]
    },
    {
     "name": "stdout",
     "output_type": "stream",
     "text": [
      "Phrasal verb : pick-up\n"
     ]
    },
    {
     "name": "stderr",
     "output_type": "stream",
     "text": [
      "5742it [00:36, 166.66it/s]"
     ]
    },
    {
     "name": "stdout",
     "output_type": "stream",
     "text": [
      "Phrasal verb : take-out\n",
      "Phrasal verb : take-out\n",
      "Phrasal verb : take-out\n"
     ]
    },
    {
     "name": "stderr",
     "output_type": "stream",
     "text": [
      "5951it [00:37, 180.30it/s]"
     ]
    },
    {
     "name": "stdout",
     "output_type": "stream",
     "text": [
      "Phrasal verb : cut-off\n",
      "Phrasal verb : cut-off\n",
      "Phrasal verb : stand-up\n"
     ]
    },
    {
     "name": "stderr",
     "output_type": "stream",
     "text": [
      "6025it [00:38, 174.00it/s]"
     ]
    },
    {
     "name": "stdout",
     "output_type": "stream",
     "text": [
      "Phrasal verb : cut-off\n",
      "Phrasal verb : cut-off\n",
      "Phrasal verb : pick-up\n",
      "Phrasal verb : pluck-off\n"
     ]
    },
    {
     "name": "stderr",
     "output_type": "stream",
     "text": [
      "6061it [00:38, 172.75it/s]"
     ]
    },
    {
     "name": "stdout",
     "output_type": "stream",
     "text": [
      "Phrasal verb : pick-up\n",
      "Phrasal verb : pluck-off\n",
      "Phrasal verb : pluck-off\n",
      "Phrasal verb : pick-up\n",
      "Phrasal verb : pluck-off\n",
      "Phrasal verb : pluck-off\n",
      "Phrasal verb : pick-up\n",
      "Phrasal verb : pluck-off\n"
     ]
    },
    {
     "name": "stderr",
     "output_type": "stream",
     "text": [
      "6097it [00:38, 173.18it/s]"
     ]
    },
    {
     "name": "stdout",
     "output_type": "stream",
     "text": [
      "Phrasal verb : press-down\n",
      "Phrasal verb : put-down\n",
      "Phrasal verb : pick-up\n",
      "Phrasal verb : put-down\n",
      "Phrasal verb : put-down\n",
      "Phrasal verb : pick-up\n",
      "Phrasal verb : pick-up\n",
      "Phrasal verb : pluck-off\n"
     ]
    },
    {
     "name": "stderr",
     "output_type": "stream",
     "text": [
      "6133it [00:38, 171.55it/s]"
     ]
    },
    {
     "name": "stdout",
     "output_type": "stream",
     "text": [
      "Phrasal verb : pick-up\n",
      "Phrasal verb : pluck-off\n",
      "Phrasal verb : pick-up\n",
      "Phrasal verb : put-down\n",
      "Phrasal verb : put-down\n"
     ]
    },
    {
     "name": "stderr",
     "output_type": "stream",
     "text": [
      "6205it [00:39, 173.09it/s]"
     ]
    },
    {
     "name": "stdout",
     "output_type": "stream",
     "text": [
      "Phrasal verb : pick-up\n",
      "Phrasal verb : stand-up\n"
     ]
    },
    {
     "name": "stderr",
     "output_type": "stream",
     "text": [
      "6277it [00:39, 172.18it/s]"
     ]
    },
    {
     "name": "stdout",
     "output_type": "stream",
     "text": [
      "Phrasal verb : stand-up\n",
      "Phrasal verb : stand-up\n"
     ]
    },
    {
     "name": "stderr",
     "output_type": "stream",
     "text": [
      "6295it [00:39, 168.07it/s]"
     ]
    },
    {
     "name": "stdout",
     "output_type": "stream",
     "text": [
      "Phrasal verb : pick-up\n",
      "Phrasal verb : put-down\n",
      "Phrasal verb : pick-up\n",
      "Phrasal verb : pick-up\n",
      "Phrasal verb : pick-up\n",
      "Phrasal verb : pick-up\n",
      "Phrasal verb : bring-out\n",
      "Phrasal verb : pick-up\n",
      "Phrasal verb : pick-up\n",
      "Phrasal verb : raise-up\n"
     ]
    },
    {
     "name": "stderr",
     "output_type": "stream",
     "text": [
      "6331it [00:39, 169.90it/s]"
     ]
    },
    {
     "name": "stdout",
     "output_type": "stream",
     "text": [
      "Phrasal verb : pick-up\n",
      "Phrasal verb : bring-out\n",
      "Phrasal verb : pick-up\n",
      "Phrasal verb : pick-up\n",
      "Phrasal verb : pick-up\n",
      "Phrasal verb : pick-up\n",
      "Phrasal verb : pick-up\n"
     ]
    },
    {
     "name": "stderr",
     "output_type": "stream",
     "text": [
      "6366it [00:40, 165.88it/s]"
     ]
    },
    {
     "name": "stdout",
     "output_type": "stream",
     "text": [
      "Phrasal verb : pick-up\n",
      "Phrasal verb : pick-up\n",
      "Phrasal verb : pick-up\n",
      "Phrasal verb : pick-up\n"
     ]
    },
    {
     "name": "stderr",
     "output_type": "stream",
     "text": [
      "6473it [00:40, 173.03it/s]"
     ]
    },
    {
     "name": "stdout",
     "output_type": "stream",
     "text": [
      "Phrasal verb : put-down\n",
      "Phrasal verb : put-on\n"
     ]
    },
    {
     "name": "stderr",
     "output_type": "stream",
     "text": [
      "6577it [00:41, 165.06it/s]"
     ]
    },
    {
     "name": "stdout",
     "output_type": "stream",
     "text": [
      "Phrasal verb : hold-down\n"
     ]
    },
    {
     "name": "stderr",
     "output_type": "stream",
     "text": [
      "6769it [00:42, 187.55it/s]"
     ]
    },
    {
     "name": "stdout",
     "output_type": "stream",
     "text": [
      "Phrasal verb : pick-up\n",
      "Phrasal verb : go-up\n",
      "Phrasal verb : put-down\n",
      "Phrasal verb : go-up\n",
      "Phrasal verb : go-up\n"
     ]
    },
    {
     "name": "stderr",
     "output_type": "stream",
     "text": [
      "6942it [00:43, 160.04it/s]"
     ]
    },
    {
     "name": "stdout",
     "output_type": "stream",
     "text": [
      "Phrasal verb : pick-up\n"
     ]
    },
    {
     "name": "stderr",
     "output_type": "stream",
     "text": [
      "7000it [00:43, 174.09it/s]"
     ]
    },
    {
     "name": "stdout",
     "output_type": "stream",
     "text": [
      "Phrasal verb : pick-up\n"
     ]
    },
    {
     "name": "stderr",
     "output_type": "stream",
     "text": [
      "7232it [00:45, 122.47it/s]"
     ]
    },
    {
     "name": "stdout",
     "output_type": "stream",
     "text": [
      "Phrasal verb : pick-up\n",
      "Phrasal verb : pick-up\n",
      "Phrasal verb : pick-up\n",
      "Phrasal verb : pick-up\n",
      "Phrasal verb : pick-up\n",
      "Phrasal verb : put-down\n",
      "Phrasal verb : put-down\n",
      "Phrasal verb : put-down\n",
      "Phrasal verb : pick-up\n",
      "Phrasal verb : pick-up\n"
     ]
    },
    {
     "name": "stderr",
     "output_type": "stream",
     "text": [
      "7245it [00:45, 108.89it/s]"
     ]
    },
    {
     "name": "stdout",
     "output_type": "stream",
     "text": [
      "Phrasal verb : pick-up\n",
      "Phrasal verb : pick-up\n",
      "Phrasal verb : put-down\n",
      "Phrasal verb : pick-up\n",
      "Phrasal verb : pick-up\n",
      "Phrasal verb : pick-up\n",
      "Phrasal verb : put-down\n",
      "Phrasal verb : pick-up\n",
      "Phrasal verb : pick-up\n"
     ]
    },
    {
     "name": "stderr",
     "output_type": "stream",
     "text": [
      "7288it [00:46, 127.75it/s]"
     ]
    },
    {
     "name": "stdout",
     "output_type": "stream",
     "text": [
      "Phrasal verb : pick-up\n",
      "Phrasal verb : pick-up\n",
      "Phrasal verb : pick-up\n",
      "Phrasal verb : pick-up\n",
      "Phrasal verb : pick-up\n",
      "Phrasal verb : pick-up\n",
      "Phrasal verb : pick-up\n",
      "Phrasal verb : pick-up\n"
     ]
    },
    {
     "name": "stderr",
     "output_type": "stream",
     "text": [
      "7317it [00:46, 133.70it/s]"
     ]
    },
    {
     "name": "stdout",
     "output_type": "stream",
     "text": [
      "Phrasal verb : pick-up\n",
      "Phrasal verb : pick-up\n"
     ]
    },
    {
     "name": "stderr",
     "output_type": "stream",
     "text": [
      "7375it [00:46, 122.98it/s]"
     ]
    },
    {
     "name": "stdout",
     "output_type": "stream",
     "text": [
      "Phrasal verb : pick-up\n",
      "Phrasal verb : pick-up\n",
      "Phrasal verb : pick-up\n",
      "Phrasal verb : bring-out\n",
      "Phrasal verb : pick-up\n"
     ]
    },
    {
     "name": "stderr",
     "output_type": "stream",
     "text": [
      "7404it [00:46, 131.35it/s]"
     ]
    },
    {
     "name": "stdout",
     "output_type": "stream",
     "text": [
      "Phrasal verb : pick-up\n",
      "Phrasal verb : pick-up\n",
      "Phrasal verb : carry-up\n",
      "Phrasal verb : pick-up\n",
      "Phrasal verb : pick-up\n"
     ]
    },
    {
     "name": "stderr",
     "output_type": "stream",
     "text": [
      "7446it [00:47, 133.74it/s]"
     ]
    },
    {
     "name": "stdout",
     "output_type": "stream",
     "text": [
      "Phrasal verb : turn-off\n",
      "Phrasal verb : pick-up\n",
      "Phrasal verb : pick-up\n",
      "Phrasal verb : pick-up\n",
      "Phrasal verb : pick-up\n"
     ]
    },
    {
     "name": "stderr",
     "output_type": "stream",
     "text": [
      "7475it [00:47, 137.09it/s]"
     ]
    },
    {
     "name": "stdout",
     "output_type": "stream",
     "text": [
      "Phrasal verb : pick-up\n",
      "Phrasal verb : pick-up\n",
      "Phrasal verb : pick-up\n",
      "Phrasal verb : pick-up\n",
      "Phrasal verb : pick-up\n",
      "Phrasal verb : pick-up\n"
     ]
    },
    {
     "name": "stderr",
     "output_type": "stream",
     "text": [
      "7508it [00:47, 147.06it/s]"
     ]
    },
    {
     "name": "stdout",
     "output_type": "stream",
     "text": [
      "Phrasal verb : pick-up\n",
      "Phrasal verb : pick-up\n",
      "Phrasal verb : pick-up\n"
     ]
    },
    {
     "name": "stderr",
     "output_type": "stream",
     "text": [
      "7575it [00:48, 159.80it/s]"
     ]
    },
    {
     "name": "stdout",
     "output_type": "stream",
     "text": [
      "Phrasal verb : turn-off\n",
      "Phrasal verb : pick-up\n",
      "Phrasal verb : pull-out\n"
     ]
    },
    {
     "name": "stderr",
     "output_type": "stream",
     "text": [
      "7609it [00:48, 157.22it/s]"
     ]
    },
    {
     "name": "stdout",
     "output_type": "stream",
     "text": [
      "Phrasal verb : pick-up\n",
      "Phrasal verb : pick-up\n",
      "Phrasal verb : pick-up\n"
     ]
    },
    {
     "name": "stderr",
     "output_type": "stream",
     "text": [
      "7641it [00:48, 153.75it/s]"
     ]
    },
    {
     "name": "stdout",
     "output_type": "stream",
     "text": [
      "Phrasal verb : pick-up\n"
     ]
    },
    {
     "name": "stderr",
     "output_type": "stream",
     "text": [
      "8047it [00:51, 158.65it/s]"
     ]
    },
    {
     "name": "stdout",
     "output_type": "stream",
     "text": [
      "Phrasal verb : pick-up\n",
      "Phrasal verb : put-off\n",
      "Phrasal verb : pick-up\n",
      "Phrasal verb : pick-up\n",
      "Phrasal verb : pick-up\n",
      "Phrasal verb : hold-down\n",
      "Phrasal verb : pick-up\n",
      "Phrasal verb : pick-up\n",
      "Phrasal verb : pick-up\n"
     ]
    },
    {
     "name": "stderr",
     "output_type": "stream",
     "text": [
      "8080it [00:51, 155.47it/s]"
     ]
    },
    {
     "name": "stdout",
     "output_type": "stream",
     "text": [
      "Phrasal verb : pick-up\n",
      "Phrasal verb : pick-up\n",
      "Phrasal verb : pick-up\n",
      "Phrasal verb : pull-out\n",
      "Phrasal verb : pick-up\n",
      "Phrasal verb : pick-up\n",
      "Phrasal verb : pick-up\n",
      "Phrasal verb : pick-up\n",
      "Phrasal verb : pick-up\n",
      "Phrasal verb : pick-up\n",
      "Phrasal verb : pick-up\n"
     ]
    },
    {
     "name": "stderr",
     "output_type": "stream",
     "text": [
      "8129it [00:51, 159.44it/s]"
     ]
    },
    {
     "name": "stdout",
     "output_type": "stream",
     "text": [
      "Phrasal verb : pick-up\n",
      "Phrasal verb : pick-up\n",
      "Phrasal verb : pick-up\n",
      "Phrasal verb : pick-up\n",
      "Phrasal verb : pick-up\n",
      "Phrasal verb : pick-up\n"
     ]
    },
    {
     "name": "stderr",
     "output_type": "stream",
     "text": [
      "8234it [00:52, 168.64it/s]"
     ]
    },
    {
     "name": "stdout",
     "output_type": "stream",
     "text": [
      "Phrasal verb : turn-around\n"
     ]
    },
    {
     "name": "stderr",
     "output_type": "stream",
     "text": [
      "8287it [00:52, 169.78it/s]"
     ]
    },
    {
     "name": "stdout",
     "output_type": "stream",
     "text": [
      "Phrasal verb : put-down\n",
      "Phrasal verb : pick-up\n",
      "Phrasal verb : pick-up\n",
      "Phrasal verb : pick-up\n",
      "Phrasal verb : pick-up\n",
      "Phrasal verb : pick-up\n",
      "Phrasal verb : put-down\n",
      "Phrasal verb : pick-up\n",
      "Phrasal verb : pick-up\n",
      "Phrasal verb : pick-up\n",
      "Phrasal verb : pick-up\n",
      "Phrasal verb : pick-up\n",
      "Phrasal verb : turn-off\n"
     ]
    },
    {
     "name": "stderr",
     "output_type": "stream",
     "text": [
      "8321it [00:52, 166.87it/s]"
     ]
    },
    {
     "name": "stdout",
     "output_type": "stream",
     "text": [
      "Phrasal verb : pick-up\n",
      "Phrasal verb : pick-up\n",
      "Phrasal verb : pick-up\n",
      "Phrasal verb : turn-off\n",
      "Phrasal verb : drop-up\n",
      "Phrasal verb : pick-up\n",
      "Phrasal verb : drip-off\n",
      "Phrasal verb : pour-out\n",
      "Phrasal verb : pick-up\n",
      "Phrasal verb : pick-up\n",
      "Phrasal verb : turn-off\n"
     ]
    },
    {
     "name": "stderr",
     "output_type": "stream",
     "text": [
      "8338it [00:52, 134.85it/s]"
     ]
    },
    {
     "name": "stdout",
     "output_type": "stream",
     "text": [
      "Phrasal verb : pick-up\n",
      "Phrasal verb : turn-off\n",
      "Phrasal verb : pick-up\n",
      "Phrasal verb : drip-off\n",
      "Phrasal verb : pour-off\n",
      "Phrasal verb : pick-up\n",
      "Phrasal verb : pick-up\n",
      "Phrasal verb : turn-off\n",
      "Phrasal verb : pick-up\n"
     ]
    },
    {
     "name": "stderr",
     "output_type": "stream",
     "text": [
      "8368it [00:53, 137.47it/s]"
     ]
    },
    {
     "name": "stdout",
     "output_type": "stream",
     "text": [
      "Phrasal verb : pick-up\n",
      "Phrasal verb : pour-off\n",
      "Phrasal verb : pick-up\n",
      "Phrasal verb : pick-up\n",
      "Phrasal verb : turn-off\n",
      "Phrasal verb : pour-off\n",
      "Phrasal verb : pick-up\n",
      "Phrasal verb : turn-off\n"
     ]
    },
    {
     "name": "stderr",
     "output_type": "stream",
     "text": [
      "8398it [00:53, 139.00it/s]"
     ]
    },
    {
     "name": "stdout",
     "output_type": "stream",
     "text": [
      "Phrasal verb : pick-up\n",
      "Phrasal verb : pick-up\n",
      "Phrasal verb : pick-up\n",
      "Phrasal verb : pick-up\n",
      "Phrasal verb : pick-up\n",
      "Phrasal verb : pick-up\n",
      "Phrasal verb : pour-off\n",
      "Phrasal verb : turn-off\n",
      "Phrasal verb : pick-up\n",
      "Phrasal verb : pick-up\n"
     ]
    },
    {
     "name": "stderr",
     "output_type": "stream",
     "text": [
      "8427it [00:53, 137.28it/s]"
     ]
    },
    {
     "name": "stdout",
     "output_type": "stream",
     "text": [
      "Phrasal verb : pick-up\n",
      "Phrasal verb : pour-off\n",
      "Phrasal verb : pour-off\n",
      "Phrasal verb : pick-up\n",
      "Phrasal verb : pick-up\n",
      "Phrasal verb : pick-up\n",
      "Phrasal verb : pick-up\n",
      "Phrasal verb : turn-off\n",
      "Phrasal verb : pick-up\n",
      "Phrasal verb : pour-off\n",
      "Phrasal verb : pick-up\n",
      "Phrasal verb : pour-off\n"
     ]
    },
    {
     "name": "stderr",
     "output_type": "stream",
     "text": [
      "8457it [00:53, 143.10it/s]"
     ]
    },
    {
     "name": "stdout",
     "output_type": "stream",
     "text": [
      "Phrasal verb : pick-up\n",
      "Phrasal verb : pour-off\n",
      "Phrasal verb : pick-up\n",
      "Phrasal verb : pour-off\n",
      "Phrasal verb : pick-up\n",
      "Phrasal verb : pour-off\n",
      "Phrasal verb : pick-up\n",
      "Phrasal verb : pick-up\n",
      "Phrasal verb : pick-up\n",
      "Phrasal verb : pick-up\n",
      "Phrasal verb : pick-up\n",
      "Phrasal verb : turn-off\n",
      "Phrasal verb : pick-up\n",
      "Phrasal verb : drip-off\n"
     ]
    },
    {
     "name": "stderr",
     "output_type": "stream",
     "text": [
      "8489it [00:53, 123.63it/s]"
     ]
    },
    {
     "name": "stdout",
     "output_type": "stream",
     "text": [
      "Phrasal verb : pick-up\n",
      "Phrasal verb : pick-up\n",
      "Phrasal verb : pick-up\n",
      "Phrasal verb : pick-up\n",
      "Phrasal verb : pick-up\n",
      "Phrasal verb : pick-up\n"
     ]
    },
    {
     "name": "stderr",
     "output_type": "stream",
     "text": [
      "8518it [00:54, 131.01it/s]"
     ]
    },
    {
     "name": "stdout",
     "output_type": "stream",
     "text": [
      "Phrasal verb : pick-up\n",
      "Phrasal verb : turn-off\n",
      "Phrasal verb : drip-off\n",
      "Phrasal verb : pick-up\n",
      "Phrasal verb : drip-off\n",
      "Phrasal verb : turn-off\n",
      "Phrasal verb : turn-off\n",
      "Phrasal verb : pick-up\n",
      "Phrasal verb : pick-up\n",
      "Phrasal verb : pick-up\n"
     ]
    },
    {
     "name": "stderr",
     "output_type": "stream",
     "text": [
      "8547it [00:54, 135.12it/s]"
     ]
    },
    {
     "name": "stdout",
     "output_type": "stream",
     "text": [
      "Phrasal verb : pick-up\n",
      "Phrasal verb : pick-up\n",
      "Phrasal verb : put-down\n",
      "Phrasal verb : put-down\n",
      "Phrasal verb : put-down\n"
     ]
    },
    {
     "name": "stderr",
     "output_type": "stream",
     "text": [
      "8577it [00:54, 140.27it/s]"
     ]
    },
    {
     "name": "stdout",
     "output_type": "stream",
     "text": [
      "Phrasal verb : put-down\n",
      "Phrasal verb : put-down\n",
      "Phrasal verb : put-down\n",
      "Phrasal verb : put-down\n",
      "Phrasal verb : put-down\n",
      "Phrasal verb : put-down\n",
      "Phrasal verb : put-down\n"
     ]
    },
    {
     "name": "stderr",
     "output_type": "stream",
     "text": [
      "8628it [00:54, 155.46it/s]"
     ]
    },
    {
     "name": "stdout",
     "output_type": "stream",
     "text": [
      "Phrasal verb : put-down\n",
      "Phrasal verb : put-down\n",
      "Phrasal verb : put-down\n",
      "Phrasal verb : put-down\n",
      "Phrasal verb : put-down\n",
      "Phrasal verb : put-down\n",
      "Phrasal verb : put-down\n",
      "Phrasal verb : put-down\n",
      "Phrasal verb : put-down\n",
      "Phrasal verb : put-down\n"
     ]
    },
    {
     "name": "stderr",
     "output_type": "stream",
     "text": [
      "8663it [00:55, 163.89it/s]"
     ]
    },
    {
     "name": "stdout",
     "output_type": "stream",
     "text": [
      "Phrasal verb : put-down\n",
      "Phrasal verb : put-down\n",
      "Phrasal verb : put-down\n",
      "Phrasal verb : put-down\n",
      "Phrasal verb : put-down\n",
      "Phrasal verb : put-down\n"
     ]
    },
    {
     "name": "stderr",
     "output_type": "stream",
     "text": [
      "8796it [00:55, 175.06it/s]"
     ]
    },
    {
     "name": "stdout",
     "output_type": "stream",
     "text": [
      "Phrasal verb : pick-up\n",
      "Phrasal verb : pick-up\n",
      "Phrasal verb : pick-up\n",
      "Phrasal verb : pick-up\n",
      "Phrasal verb : pick-up\n",
      "Phrasal verb : pick-up\n"
     ]
    },
    {
     "name": "stderr",
     "output_type": "stream",
     "text": [
      "8832it [00:56, 167.13it/s]"
     ]
    },
    {
     "name": "stdout",
     "output_type": "stream",
     "text": [
      "Phrasal verb : pick-up\n",
      "Phrasal verb : fold-back\n",
      "Phrasal verb : pick-up\n",
      "Phrasal verb : pull-up\n",
      "Phrasal verb : pick-up\n",
      "Phrasal verb : pick-up\n"
     ]
    },
    {
     "name": "stderr",
     "output_type": "stream",
     "text": [
      "8872it [00:56, 179.79it/s]"
     ]
    },
    {
     "name": "stdout",
     "output_type": "stream",
     "text": [
      "Phrasal verb : put-down\n",
      "Phrasal verb : pick-down\n",
      "Phrasal verb : stand-up\n",
      "Phrasal verb : let-off\n"
     ]
    },
    {
     "name": "stderr",
     "output_type": "stream",
     "text": [
      "8910it [00:56, 180.04it/s]"
     ]
    },
    {
     "name": "stdout",
     "output_type": "stream",
     "text": [
      "Phrasal verb : pick-up\n",
      "Phrasal verb : put-down\n"
     ]
    },
    {
     "name": "stderr",
     "output_type": "stream",
     "text": [
      "8945it [00:56, 149.07it/s]"
     ]
    },
    {
     "name": "stdout",
     "output_type": "stream",
     "text": [
      "Phrasal verb : stand-up\n",
      "Phrasal verb : hand-up\n"
     ]
    },
    {
     "name": "stderr",
     "output_type": "stream",
     "text": [
      "8977it [00:56, 153.33it/s]"
     ]
    },
    {
     "name": "stdout",
     "output_type": "stream",
     "text": [
      "Phrasal verb : hand-up\n",
      "Phrasal verb : hand-up\n"
     ]
    },
    {
     "name": "stderr",
     "output_type": "stream",
     "text": [
      "9009it [00:57, 154.54it/s]"
     ]
    },
    {
     "name": "stdout",
     "output_type": "stream",
     "text": [
      "Phrasal verb : hand-up\n",
      "Phrasal verb : stand-up\n",
      "Phrasal verb : pick-up\n"
     ]
    },
    {
     "name": "stderr",
     "output_type": "stream",
     "text": [
      "9072it [00:57, 139.63it/s]"
     ]
    },
    {
     "name": "stdout",
     "output_type": "stream",
     "text": [
      "Phrasal verb : stand-up\n",
      "Phrasal verb : pick-up\n"
     ]
    },
    {
     "name": "stderr",
     "output_type": "stream",
     "text": [
      "9104it [00:57, 146.36it/s]"
     ]
    },
    {
     "name": "stdout",
     "output_type": "stream",
     "text": [
      "Phrasal verb : pick-up\n"
     ]
    },
    {
     "name": "stderr",
     "output_type": "stream",
     "text": [
      "9203it [00:58, 162.17it/s]"
     ]
    },
    {
     "name": "stdout",
     "output_type": "stream",
     "text": [
      "Phrasal verb : lift-up\n",
      "Phrasal verb : hand-up\n",
      "Phrasal verb : stand-up\n",
      "Phrasal verb : hand-up\n",
      "Phrasal verb : hand-up\n",
      "Phrasal verb : hand-up\n"
     ]
    },
    {
     "name": "stderr",
     "output_type": "stream",
     "text": [
      "9316it [00:59, 150.54it/s]"
     ]
    },
    {
     "name": "stdout",
     "output_type": "stream",
     "text": [
      "Phrasal verb : bend-up\n",
      "Phrasal verb : turn-off\n",
      "Phrasal verb : shake-off\n",
      "Phrasal verb : shake-off\n"
     ]
    },
    {
     "name": "stderr",
     "output_type": "stream",
     "text": [
      "9348it [00:59, 141.35it/s]"
     ]
    },
    {
     "name": "stdout",
     "output_type": "stream",
     "text": [
      "Phrasal verb : shake-off\n",
      "Phrasal verb : shake-off\n",
      "Phrasal verb : put-off\n"
     ]
    },
    {
     "name": "stderr",
     "output_type": "stream",
     "text": [
      "9638it [01:01, 166.01it/s]"
     ]
    },
    {
     "name": "stdout",
     "output_type": "stream",
     "text": [
      "Phrasal verb : take-up\n",
      "Phrasal verb : get-up\n",
      "Phrasal verb : carry-up\n",
      "Phrasal verb : get-up\n"
     ]
    },
    {
     "name": "stderr",
     "output_type": "stream",
     "text": [
      "9690it [01:01, 164.93it/s]"
     ]
    },
    {
     "name": "stdout",
     "output_type": "stream",
     "text": [
      "Phrasal verb : pick-up\n",
      "Phrasal verb : pick-up\n"
     ]
    },
    {
     "name": "stderr",
     "output_type": "stream",
     "text": [
      "9952it [01:02, 180.05it/s]"
     ]
    },
    {
     "name": "stdout",
     "output_type": "stream",
     "text": [
      "Phrasal verb : take-off\n",
      "Phrasal verb : sit-down\n",
      "Phrasal verb : stand-up\n",
      "Phrasal verb : take-off\n"
     ]
    },
    {
     "name": "stderr",
     "output_type": "stream",
     "text": [
      "10068it [01:03, 164.57it/s]"
     ]
    },
    {
     "name": "stdout",
     "output_type": "stream",
     "text": [
      "Phrasal verb : turn-off\n",
      "Phrasal verb : turn-off\n",
      "Phrasal verb : pick-up\n"
     ]
    },
    {
     "name": "stderr",
     "output_type": "stream",
     "text": [
      "10102it [01:03, 154.66it/s]"
     ]
    },
    {
     "name": "stdout",
     "output_type": "stream",
     "text": [
      "Phrasal verb : cut-out\n",
      "Phrasal verb : cut-out\n",
      "Phrasal verb : cut-out\n",
      "Phrasal verb : cut-out\n",
      "Phrasal verb : cut-out\n",
      "Phrasal verb : cut-out\n",
      "Phrasal verb : cut-out\n",
      "Phrasal verb : pick-up\n"
     ]
    },
    {
     "name": "stderr",
     "output_type": "stream",
     "text": [
      "10134it [01:04, 151.12it/s]"
     ]
    },
    {
     "name": "stdout",
     "output_type": "stream",
     "text": [
      "Phrasal verb : cut-out\n",
      "Phrasal verb : pick-up\n"
     ]
    },
    {
     "name": "stderr",
     "output_type": "stream",
     "text": [
      "10180it [01:04, 148.20it/s]"
     ]
    },
    {
     "name": "stdout",
     "output_type": "stream",
     "text": [
      "Phrasal verb : pick-up\n",
      "Phrasal verb : pick-up\n",
      "Phrasal verb : pick-up\n",
      "Phrasal verb : pick-up\n",
      "Phrasal verb : pick-up\n",
      "Phrasal verb : pick-up\n",
      "Phrasal verb : pick-up\n",
      "Phrasal verb : pick-up\n"
     ]
    },
    {
     "name": "stderr",
     "output_type": "stream",
     "text": [
      "10210it [01:04, 142.63it/s]"
     ]
    },
    {
     "name": "stdout",
     "output_type": "stream",
     "text": [
      "Phrasal verb : roll-out\n",
      "Phrasal verb : give-up\n",
      "Phrasal verb : roll-out\n",
      "Phrasal verb : pick-up\n",
      "Phrasal verb : pick-up\n",
      "Phrasal verb : pick-up\n",
      "Phrasal verb : pick-up\n",
      "Phrasal verb : pick-up\n",
      "Phrasal verb : pick-up\n",
      "Phrasal verb : pick-up\n",
      "Phrasal verb : pick-up\n"
     ]
    },
    {
     "name": "stderr",
     "output_type": "stream",
     "text": [
      "10240it [01:04, 142.01it/s]"
     ]
    },
    {
     "name": "stdout",
     "output_type": "stream",
     "text": [
      "Phrasal verb : pick-up\n",
      "Phrasal verb : pick-up\n",
      "Phrasal verb : pick-up\n",
      "Phrasal verb : pick-up\n",
      "Phrasal verb : pick-up\n",
      "Phrasal verb : pick-up\n",
      "Phrasal verb : pick-up\n",
      "Phrasal verb : pick-up\n",
      "Phrasal verb : pick-up\n"
     ]
    },
    {
     "name": "stderr",
     "output_type": "stream",
     "text": [
      "10269it [01:04, 138.08it/s]"
     ]
    },
    {
     "name": "stdout",
     "output_type": "stream",
     "text": [
      "Phrasal verb : pick-up\n"
     ]
    },
    {
     "name": "stderr",
     "output_type": "stream",
     "text": [
      "10299it [01:05, 140.56it/s]"
     ]
    },
    {
     "name": "stdout",
     "output_type": "stream",
     "text": [
      "Phrasal verb : pick-up\n",
      "Phrasal verb : bring-out\n",
      "Phrasal verb : pour-out\n",
      "Phrasal verb : pour-out\n"
     ]
    },
    {
     "name": "stderr",
     "output_type": "stream",
     "text": [
      "10329it [01:05, 141.75it/s]"
     ]
    },
    {
     "name": "stdout",
     "output_type": "stream",
     "text": [
      "Phrasal verb : pick-up\n",
      "Phrasal verb : pick-up\n",
      "Phrasal verb : pick-up\n"
     ]
    },
    {
     "name": "stderr",
     "output_type": "stream",
     "text": [
      "10374it [01:05, 144.53it/s]"
     ]
    },
    {
     "name": "stdout",
     "output_type": "stream",
     "text": [
      "Phrasal verb : pick-up\n",
      "Phrasal verb : pick-up\n",
      "Phrasal verb : pull-out\n",
      "Phrasal verb : pick-up\n"
     ]
    },
    {
     "name": "stderr",
     "output_type": "stream",
     "text": [
      "10449it [01:06, 143.16it/s]"
     ]
    },
    {
     "name": "stdout",
     "output_type": "stream",
     "text": [
      "Phrasal verb : pick-up\n",
      "Phrasal verb : switch-off\n",
      "Phrasal verb : tear-off\n",
      "Phrasal verb : pick-up\n"
     ]
    },
    {
     "name": "stderr",
     "output_type": "stream",
     "text": [
      "10494it [01:06, 143.76it/s]"
     ]
    },
    {
     "name": "stdout",
     "output_type": "stream",
     "text": [
      "Phrasal verb : carry-out\n",
      "Phrasal verb : switch-off\n",
      "Phrasal verb : carry-out\n",
      "Phrasal verb : carry-out\n",
      "Phrasal verb : carry-out\n",
      "Phrasal verb : pull-out\n",
      "Phrasal verb : pull-out\n",
      "Phrasal verb : pull-out\n"
     ]
    },
    {
     "name": "stderr",
     "output_type": "stream",
     "text": [
      "10554it [01:06, 140.32it/s]"
     ]
    },
    {
     "name": "stdout",
     "output_type": "stream",
     "text": [
      "Phrasal verb : pull-out\n",
      "Phrasal verb : pull-out\n",
      "Phrasal verb : pull-out\n",
      "Phrasal verb : pull-out\n",
      "Phrasal verb : pull-out\n",
      "Phrasal verb : pull-out\n",
      "Phrasal verb : pull-out\n",
      "Phrasal verb : pick-up\n"
     ]
    },
    {
     "name": "stderr",
     "output_type": "stream",
     "text": [
      "10613it [01:07, 138.86it/s]"
     ]
    },
    {
     "name": "stdout",
     "output_type": "stream",
     "text": [
      "Phrasal verb : pick-up\n",
      "Phrasal verb : pick-up\n"
     ]
    },
    {
     "name": "stderr",
     "output_type": "stream",
     "text": [
      "10645it [01:07, 146.14it/s]"
     ]
    },
    {
     "name": "stdout",
     "output_type": "stream",
     "text": [
      "Phrasal verb : pick-up\n",
      "Phrasal verb : turn-off\n"
     ]
    },
    {
     "name": "stderr",
     "output_type": "stream",
     "text": [
      "10677it [01:07, 150.36it/s]"
     ]
    },
    {
     "name": "stdout",
     "output_type": "stream",
     "text": [
      "Phrasal verb : place-back\n",
      "Phrasal verb : pick-up\n",
      "Phrasal verb : pick-up\n"
     ]
    },
    {
     "name": "stderr",
     "output_type": "stream",
     "text": [
      "10723it [01:08, 143.04it/s]"
     ]
    },
    {
     "name": "stdout",
     "output_type": "stream",
     "text": [
      "Phrasal verb : scrub-off\n",
      "Phrasal verb : drop-down\n"
     ]
    },
    {
     "name": "stderr",
     "output_type": "stream",
     "text": [
      "10753it [01:08, 143.93it/s]"
     ]
    },
    {
     "name": "stdout",
     "output_type": "stream",
     "text": [
      "Phrasal verb : switch-off\n",
      "Phrasal verb : bring-out\n",
      "Phrasal verb : turn-on\n",
      "Phrasal verb : press-down\n"
     ]
    },
    {
     "name": "stderr",
     "output_type": "stream",
     "text": [
      "10783it [01:08, 144.00it/s]"
     ]
    },
    {
     "name": "stdout",
     "output_type": "stream",
     "text": [
      "Phrasal verb : press-down\n",
      "Phrasal verb : press-down\n"
     ]
    },
    {
     "name": "stderr",
     "output_type": "stream",
     "text": [
      "10969it [01:09, 167.20it/s]"
     ]
    },
    {
     "name": "stdout",
     "output_type": "stream",
     "text": [
      "Phrasal verb : place-down\n",
      "Phrasal verb : pass-by\n"
     ]
    },
    {
     "name": "stderr",
     "output_type": "stream",
     "text": [
      "11020it [01:10, 166.41it/s]"
     ]
    },
    {
     "name": "stdout",
     "output_type": "stream",
     "text": [
      "Phrasal verb : put-down\n",
      "Phrasal verb : put-down\n"
     ]
    },
    {
     "name": "stderr",
     "output_type": "stream",
     "text": [
      "11055it [01:10, 167.52it/s]"
     ]
    },
    {
     "name": "stdout",
     "output_type": "stream",
     "text": [
      "Phrasal verb : place-down\n"
     ]
    },
    {
     "name": "stderr",
     "output_type": "stream",
     "text": [
      "11163it [01:10, 174.24it/s]"
     ]
    },
    {
     "name": "stdout",
     "output_type": "stream",
     "text": [
      "Phrasal verb : put-down\n",
      "Phrasal verb : put-down\n"
     ]
    },
    {
     "name": "stderr",
     "output_type": "stream",
     "text": [
      "11217it [01:11, 175.23it/s]"
     ]
    },
    {
     "name": "stdout",
     "output_type": "stream",
     "text": [
      "Phrasal verb : put-down\n",
      "Phrasal verb : put-down\n",
      "Phrasal verb : put-down\n"
     ]
    },
    {
     "name": "stderr",
     "output_type": "stream",
     "text": [
      "11393it [01:12, 172.82it/s]"
     ]
    },
    {
     "name": "stdout",
     "output_type": "stream",
     "text": [
      "Phrasal verb : pick-up\n"
     ]
    },
    {
     "name": "stderr",
     "output_type": "stream",
     "text": [
      "11520it [01:12, 172.74it/s]"
     ]
    },
    {
     "name": "stdout",
     "output_type": "stream",
     "text": [
      "Phrasal verb : stretch-out\n",
      "Phrasal verb : lift-up\n",
      "Phrasal verb : stretch-out\n"
     ]
    },
    {
     "name": "stderr",
     "output_type": "stream",
     "text": [
      "11617it [01:13, 187.70it/s]"
     ]
    },
    {
     "name": "stdout",
     "output_type": "stream",
     "text": [
      "Phrasal verb : pick-up\n",
      "Phrasal verb : pick-up\n"
     ]
    },
    {
     "name": "stderr",
     "output_type": "stream",
     "text": [
      "11767it [01:14, 166.38it/s]"
     ]
    },
    {
     "name": "stdout",
     "output_type": "stream",
     "text": [
      "Phrasal verb : pick-up\n",
      "Phrasal verb : pick-up\n",
      "Phrasal verb : take-up\n",
      "Phrasal verb : pick-up\n",
      "Phrasal verb : stand-up\n"
     ]
    },
    {
     "name": "stderr",
     "output_type": "stream",
     "text": [
      "11801it [01:14, 162.95it/s]"
     ]
    },
    {
     "name": "stdout",
     "output_type": "stream",
     "text": [
      "Phrasal verb : take-up\n",
      "Phrasal verb : pick-up\n",
      "Phrasal verb : turn-off\n",
      "Phrasal verb : turn-off\n",
      "Phrasal verb : get-up\n",
      "Phrasal verb : turn-off\n",
      "Phrasal verb : turn-off\n",
      "Phrasal verb : turn-off\n"
     ]
    },
    {
     "name": "stderr",
     "output_type": "stream",
     "text": [
      "11818it [01:14, 136.73it/s]"
     ]
    },
    {
     "name": "stdout",
     "output_type": "stream",
     "text": [
      "Phrasal verb : turn-off\n",
      "Phrasal verb : turn-off\n",
      "Phrasal verb : turn-off\n",
      "Phrasal verb : turn-off\n",
      "Phrasal verb : turn-off\n",
      "Phrasal verb : turn-around\n",
      "Phrasal verb : drag-up\n"
     ]
    },
    {
     "name": "stderr",
     "output_type": "stream",
     "text": [
      "11848it [01:14, 136.43it/s]"
     ]
    },
    {
     "name": "stdout",
     "output_type": "stream",
     "text": [
      "Phrasal verb : turn-off\n",
      "Phrasal verb : turn-off\n",
      "Phrasal verb : turn-off\n",
      "Phrasal verb : turn-off\n",
      "Phrasal verb : turn-off\n",
      "Phrasal verb : turn-around\n",
      "Phrasal verb : turn-off\n",
      "Phrasal verb : turn-off\n",
      "Phrasal verb : turn-around\n",
      "Phrasal verb : turn-off\n"
     ]
    },
    {
     "name": "stderr",
     "output_type": "stream",
     "text": [
      "11877it [01:15, 136.40it/s]"
     ]
    },
    {
     "name": "stdout",
     "output_type": "stream",
     "text": [
      "Phrasal verb : turn-off\n",
      "Phrasal verb : turn-off\n",
      "Phrasal verb : turn-off\n",
      "Phrasal verb : turn-off\n",
      "Phrasal verb : turn-off\n",
      "Phrasal verb : turn-off\n",
      "Phrasal verb : turn-off\n",
      "Phrasal verb : turn-off\n"
     ]
    },
    {
     "name": "stderr",
     "output_type": "stream",
     "text": [
      "11907it [01:15, 142.22it/s]"
     ]
    },
    {
     "name": "stdout",
     "output_type": "stream",
     "text": [
      "Phrasal verb : put-down\n",
      "Phrasal verb : put-down\n",
      "Phrasal verb : put-down\n",
      "Phrasal verb : stand-up\n",
      "Phrasal verb : stand-up\n"
     ]
    },
    {
     "name": "stderr",
     "output_type": "stream",
     "text": [
      "11994it [01:15, 206.44it/s]"
     ]
    },
    {
     "name": "stdout",
     "output_type": "stream",
     "text": [
      "Phrasal verb : put-down\n",
      "Phrasal verb : stand-up\n",
      "Phrasal verb : move-up\n"
     ]
    },
    {
     "name": "stderr",
     "output_type": "stream",
     "text": [
      "12108it [01:16, 126.88it/s]"
     ]
    },
    {
     "name": "stdout",
     "output_type": "stream",
     "text": [
      "Phrasal verb : pull-out\n",
      "Phrasal verb : pull-out\n",
      "Phrasal verb : pull-out\n"
     ]
    },
    {
     "name": "stderr",
     "output_type": "stream",
     "text": [
      "12213it [01:17, 116.74it/s]"
     ]
    },
    {
     "name": "stdout",
     "output_type": "stream",
     "text": [
      "Phrasal verb : pull-out\n"
     ]
    },
    {
     "name": "stderr",
     "output_type": "stream",
     "text": [
      "12335it [01:18, 156.45it/s]"
     ]
    },
    {
     "name": "stdout",
     "output_type": "stream",
     "text": [
      "Phrasal verb : put-down\n",
      "Phrasal verb : put-down\n",
      "Phrasal verb : put-down\n"
     ]
    },
    {
     "name": "stderr",
     "output_type": "stream",
     "text": [
      "12391it [01:18, 173.04it/s]"
     ]
    },
    {
     "name": "stdout",
     "output_type": "stream",
     "text": [
      "Phrasal verb : put-down\n",
      "Phrasal verb : put-down\n",
      "Phrasal verb : put-down\n",
      "Phrasal verb : put-down\n",
      "Phrasal verb : put-down\n",
      "Phrasal verb : put-down\n",
      "Phrasal verb : put-down\n"
     ]
    },
    {
     "name": "stderr",
     "output_type": "stream",
     "text": [
      "12427it [01:18, 174.19it/s]"
     ]
    },
    {
     "name": "stdout",
     "output_type": "stream",
     "text": [
      "Phrasal verb : put-down\n",
      "Phrasal verb : put-down\n",
      "Phrasal verb : put-down\n",
      "Phrasal verb : hold-up\n",
      "Phrasal verb : put-down\n",
      "Phrasal verb : put-down\n",
      "Phrasal verb : put-down\n",
      "Phrasal verb : put-down\n"
     ]
    },
    {
     "name": "stderr",
     "output_type": "stream",
     "text": [
      "12482it [01:19, 173.81it/s]"
     ]
    },
    {
     "name": "stdout",
     "output_type": "stream",
     "text": [
      "Phrasal verb : put-down\n",
      "Phrasal verb : put-down\n",
      "Phrasal verb : put-down\n",
      "Phrasal verb : put-down\n",
      "Phrasal verb : put-down\n"
     ]
    },
    {
     "name": "stderr",
     "output_type": "stream",
     "text": [
      "12551it [01:19, 163.84it/s]"
     ]
    },
    {
     "name": "stdout",
     "output_type": "stream",
     "text": [
      "Phrasal verb : pull-out\n",
      "Phrasal verb : pull-out\n",
      "Phrasal verb : lift-up\n"
     ]
    },
    {
     "name": "stderr",
     "output_type": "stream",
     "text": [
      "12620it [01:19, 161.47it/s]"
     ]
    },
    {
     "name": "stdout",
     "output_type": "stream",
     "text": [
      "Phrasal verb : turn-over\n"
     ]
    },
    {
     "name": "stderr",
     "output_type": "stream",
     "text": [
      "12718it [01:20, 187.58it/s]"
     ]
    },
    {
     "name": "stdout",
     "output_type": "stream",
     "text": [
      "Phrasal verb : hag-on\n",
      "Phrasal verb : put-in\n"
     ]
    },
    {
     "name": "stderr",
     "output_type": "stream",
     "text": [
      "13638it [01:26, 146.58it/s]"
     ]
    },
    {
     "name": "stdout",
     "output_type": "stream",
     "text": [
      "Phrasal verb : put-in\n",
      "Phrasal verb : turn-around\n",
      "Phrasal verb : put-in\n"
     ]
    },
    {
     "name": "stderr",
     "output_type": "stream",
     "text": [
      "13770it [01:27, 178.72it/s]"
     ]
    },
    {
     "name": "stdout",
     "output_type": "stream",
     "text": [
      "Phrasal verb : turn-on\n"
     ]
    },
    {
     "name": "stderr",
     "output_type": "stream",
     "text": [
      "13861it [01:28, 141.22it/s]"
     ]
    },
    {
     "name": "stdout",
     "output_type": "stream",
     "text": [
      "Phrasal verb : throw-over\n"
     ]
    },
    {
     "name": "stderr",
     "output_type": "stream",
     "text": [
      "13979it [01:29, 117.26it/s]"
     ]
    },
    {
     "name": "stdout",
     "output_type": "stream",
     "text": [
      "Phrasal verb : bring-out\n"
     ]
    },
    {
     "name": "stderr",
     "output_type": "stream",
     "text": [
      "14005it [01:29, 109.11it/s]"
     ]
    },
    {
     "name": "stdout",
     "output_type": "stream",
     "text": [
      "Phrasal verb : pick-up\n"
     ]
    },
    {
     "name": "stderr",
     "output_type": "stream",
     "text": [
      "14161it [01:30, 157.33it/s]"
     ]
    },
    {
     "name": "stdout",
     "output_type": "stream",
     "text": [
      "Phrasal verb : drip-off\n",
      "Phrasal verb : turn-off\n",
      "Phrasal verb : pick-up\n",
      "Phrasal verb : drip-off\n",
      "Phrasal verb : pick-up\n"
     ]
    },
    {
     "name": "stderr",
     "output_type": "stream",
     "text": [
      "14196it [01:30, 162.01it/s]"
     ]
    },
    {
     "name": "stdout",
     "output_type": "stream",
     "text": [
      "Phrasal verb : pour-off\n",
      "Phrasal verb : turn-off\n",
      "Phrasal verb : put-down\n"
     ]
    },
    {
     "name": "stderr",
     "output_type": "stream",
     "text": [
      "14251it [01:30, 169.80it/s]"
     ]
    },
    {
     "name": "stdout",
     "output_type": "stream",
     "text": [
      "Phrasal verb : put-down\n",
      "Phrasal verb : put-on\n"
     ]
    },
    {
     "name": "stderr",
     "output_type": "stream",
     "text": [
      "14360it [01:31, 143.37it/s]"
     ]
    },
    {
     "name": "stdout",
     "output_type": "stream",
     "text": [
      "Phrasal verb : put-down\n",
      "Phrasal verb : take-out\n",
      "Phrasal verb : pull-out\n",
      "Phrasal verb : put-down\n",
      "Phrasal verb : pick-up\n",
      "Phrasal verb : pick-up\n",
      "Phrasal verb : pick-up\n",
      "Phrasal verb : pick-up\n"
     ]
    },
    {
     "name": "stderr",
     "output_type": "stream",
     "text": [
      "14432it [01:32, 169.81it/s]"
     ]
    },
    {
     "name": "stdout",
     "output_type": "stream",
     "text": [
      "Phrasal verb : take-in\n",
      "Phrasal verb : pick-up\n"
     ]
    },
    {
     "name": "stderr",
     "output_type": "stream",
     "text": [
      "14468it [01:32, 169.34it/s]"
     ]
    },
    {
     "name": "stdout",
     "output_type": "stream",
     "text": [
      "Phrasal verb : walk-up\n"
     ]
    },
    {
     "name": "stderr",
     "output_type": "stream",
     "text": [
      "14520it [01:32, 166.15it/s]"
     ]
    },
    {
     "name": "stdout",
     "output_type": "stream",
     "text": [
      "Phrasal verb : pick-up\n",
      "Phrasal verb : pick-up\n"
     ]
    },
    {
     "name": "stderr",
     "output_type": "stream",
     "text": [
      "14572it [01:32, 169.37it/s]"
     ]
    },
    {
     "name": "stdout",
     "output_type": "stream",
     "text": [
      "Phrasal verb : walk-down\n",
      "Phrasal verb : move-down\n"
     ]
    },
    {
     "name": "stderr",
     "output_type": "stream",
     "text": [
      "14624it [01:33, 169.33it/s]"
     ]
    },
    {
     "name": "stdout",
     "output_type": "stream",
     "text": [
      "Phrasal verb : walk-down\n",
      "Phrasal verb : step-down\n",
      "Phrasal verb : walk-down\n"
     ]
    },
    {
     "name": "stderr",
     "output_type": "stream",
     "text": [
      "14836it [01:34, 164.73it/s]"
     ]
    },
    {
     "name": "stdout",
     "output_type": "stream",
     "text": [
      "Phrasal verb : pick-out\n",
      "Phrasal verb : pick-up\n",
      "Phrasal verb : shake-off\n",
      "Phrasal verb : take-out\n",
      "Phrasal verb : pick-up\n",
      "Phrasal verb : pick-up\n",
      "Phrasal verb : pick-up\n"
     ]
    },
    {
     "name": "stderr",
     "output_type": "stream",
     "text": [
      "14890it [01:34, 171.01it/s]"
     ]
    },
    {
     "name": "stdout",
     "output_type": "stream",
     "text": [
      "Phrasal verb : take-out\n",
      "Phrasal verb : put-on\n"
     ]
    },
    {
     "name": "stderr",
     "output_type": "stream",
     "text": [
      "14943it [01:35, 167.66it/s]"
     ]
    },
    {
     "name": "stdout",
     "output_type": "stream",
     "text": [
      "Phrasal verb : hold-out\n",
      "Phrasal verb : cut-off\n",
      "Phrasal verb : hold-out\n",
      "Phrasal verb : cut-off\n",
      "Phrasal verb : hold-out\n",
      "Phrasal verb : cut-off\n"
     ]
    },
    {
     "name": "stderr",
     "output_type": "stream",
     "text": [
      "14977it [01:35, 165.24it/s]"
     ]
    },
    {
     "name": "stdout",
     "output_type": "stream",
     "text": [
      "Phrasal verb : take-out\n",
      "Phrasal verb : take-out\n",
      "Phrasal verb : take-out\n"
     ]
    },
    {
     "name": "stderr",
     "output_type": "stream",
     "text": [
      "15051it [01:36, 131.72it/s]"
     ]
    },
    {
     "name": "stdout",
     "output_type": "stream",
     "text": [
      "Phrasal verb : pull-out\n",
      "Phrasal verb : bring-out\n"
     ]
    },
    {
     "name": "stderr",
     "output_type": "stream",
     "text": [
      "15093it [01:36, 132.42it/s]"
     ]
    },
    {
     "name": "stdout",
     "output_type": "stream",
     "text": [
      "Phrasal verb : bring-out\n",
      "Phrasal verb : pull-out\n",
      "Phrasal verb : pull-out\n",
      "Phrasal verb : pull-out\n"
     ]
    },
    {
     "name": "stderr",
     "output_type": "stream",
     "text": [
      "15157it [01:36, 150.37it/s]"
     ]
    },
    {
     "name": "stdout",
     "output_type": "stream",
     "text": [
      "Phrasal verb : bring-out\n",
      "Phrasal verb : bring-out\n"
     ]
    },
    {
     "name": "stderr",
     "output_type": "stream",
     "text": [
      "15227it [01:37, 168.65it/s]"
     ]
    },
    {
     "name": "stdout",
     "output_type": "stream",
     "text": [
      "Phrasal verb : throw-down\n",
      "Phrasal verb : throw-down\n"
     ]
    },
    {
     "name": "stderr",
     "output_type": "stream",
     "text": [
      "15386it [01:37, 181.72it/s]"
     ]
    },
    {
     "name": "stdout",
     "output_type": "stream",
     "text": [
      "Phrasal verb : throw-down\n",
      "Phrasal verb : throw-down\n",
      "Phrasal verb : throw-down\n",
      "Phrasal verb : throw-down\n"
     ]
    },
    {
     "name": "stderr",
     "output_type": "stream",
     "text": [
      "15482it [01:38, 182.46it/s]"
     ]
    },
    {
     "name": "stdout",
     "output_type": "stream",
     "text": [
      "Phrasal verb : stand-up\n",
      "Phrasal verb : throw-down\n",
      "Phrasal verb : throw-down\n",
      "Phrasal verb : throw-down\n",
      "Phrasal verb : throw-down\n"
     ]
    },
    {
     "name": "stderr",
     "output_type": "stream",
     "text": [
      "15540it [01:38, 185.97it/s]"
     ]
    },
    {
     "name": "stdout",
     "output_type": "stream",
     "text": [
      "Phrasal verb : throw-down\n",
      "Phrasal verb : throw-down\n",
      "Phrasal verb : throw-down\n",
      "Phrasal verb : throw-down\n",
      "Phrasal verb : throw-down\n",
      "Phrasal verb : throw-down\n",
      "Phrasal verb : throw-down\n",
      "Phrasal verb : throw-down\n",
      "Phrasal verb : throw-down\n"
     ]
    },
    {
     "name": "stderr",
     "output_type": "stream",
     "text": [
      "15595it [01:39, 167.68it/s]"
     ]
    },
    {
     "name": "stdout",
     "output_type": "stream",
     "text": [
      "Phrasal verb : hold-down\n",
      "Phrasal verb : take-off\n"
     ]
    },
    {
     "name": "stderr",
     "output_type": "stream",
     "text": [
      "15629it [01:39, 134.29it/s]"
     ]
    },
    {
     "name": "stdout",
     "output_type": "stream",
     "text": [
      "Phrasal verb : stand-up\n",
      "Phrasal verb : bend-down\n",
      "Phrasal verb : stand-up\n"
     ]
    },
    {
     "name": "stderr",
     "output_type": "stream",
     "text": [
      "15674it [01:39, 138.67it/s]"
     ]
    },
    {
     "name": "stdout",
     "output_type": "stream",
     "text": [
      "Phrasal verb : bend-down\n",
      "Phrasal verb : stand-up\n",
      "Phrasal verb : put-down\n"
     ]
    },
    {
     "name": "stderr",
     "output_type": "stream",
     "text": [
      "15704it [01:39, 143.18it/s]"
     ]
    },
    {
     "name": "stdout",
     "output_type": "stream",
     "text": [
      "Phrasal verb : put-down\n",
      "Phrasal verb : put-down\n"
     ]
    },
    {
     "name": "stderr",
     "output_type": "stream",
     "text": [
      "15839it [01:40, 166.84it/s]"
     ]
    },
    {
     "name": "stdout",
     "output_type": "stream",
     "text": [
      "Phrasal verb : pick-up\n",
      "Phrasal verb : pick-up\n",
      "Phrasal verb : pick-up\n",
      "Phrasal verb : pick-up\n"
     ]
    },
    {
     "name": "stderr",
     "output_type": "stream",
     "text": [
      "15873it [01:41, 163.28it/s]"
     ]
    },
    {
     "name": "stdout",
     "output_type": "stream",
     "text": [
      "Phrasal verb : pull-out\n",
      "Phrasal verb : pick-up\n",
      "Phrasal verb : put-on\n",
      "Phrasal verb : pick-up\n",
      "Phrasal verb : pick-up\n",
      "Phrasal verb : pull-out\n"
     ]
    },
    {
     "name": "stderr",
     "output_type": "stream",
     "text": [
      "15909it [01:41, 169.46it/s]"
     ]
    },
    {
     "name": "stdout",
     "output_type": "stream",
     "text": [
      "Phrasal verb : pick-up\n",
      "Phrasal verb : put-down\n"
     ]
    },
    {
     "name": "stderr",
     "output_type": "stream",
     "text": [
      "16037it [01:42, 152.17it/s]"
     ]
    },
    {
     "name": "stdout",
     "output_type": "stream",
     "text": [
      "Phrasal verb : pick-up\n",
      "Phrasal verb : pull-out\n",
      "Phrasal verb : pick-up\n",
      "Phrasal verb : pick-up\n"
     ]
    },
    {
     "name": "stderr",
     "output_type": "stream",
     "text": [
      "16072it [01:42, 158.53it/s]"
     ]
    },
    {
     "name": "stdout",
     "output_type": "stream",
     "text": [
      "Phrasal verb : pick-out\n",
      "Phrasal verb : pick-up\n",
      "Phrasal verb : pick-up\n",
      "Phrasal verb : bring-out\n",
      "Phrasal verb : pick-up\n",
      "Phrasal verb : pick-up\n"
     ]
    },
    {
     "name": "stderr",
     "output_type": "stream",
     "text": [
      "16089it [01:42, 131.81it/s]"
     ]
    },
    {
     "name": "stdout",
     "output_type": "stream",
     "text": [
      "Phrasal verb : pick-up\n",
      "Phrasal verb : pick-up\n",
      "Phrasal verb : pick-up\n",
      "Phrasal verb : pick-up\n",
      "Phrasal verb : pick-up\n",
      "Phrasal verb : pick-up\n"
     ]
    },
    {
     "name": "stderr",
     "output_type": "stream",
     "text": [
      "16121it [01:42, 140.02it/s]"
     ]
    },
    {
     "name": "stdout",
     "output_type": "stream",
     "text": [
      "Phrasal verb : pick-up\n",
      "Phrasal verb : pick-up\n",
      "Phrasal verb : pick-up\n",
      "Phrasal verb : pick-up\n",
      "Phrasal verb : pick-up\n",
      "Phrasal verb : pick-up\n",
      "Phrasal verb : pick-up\n"
     ]
    },
    {
     "name": "stderr",
     "output_type": "stream",
     "text": [
      "16167it [01:42, 142.27it/s]"
     ]
    },
    {
     "name": "stdout",
     "output_type": "stream",
     "text": [
      "Phrasal verb : pic-up\n",
      "Phrasal verb : pick-up\n",
      "Phrasal verb : pick-up\n",
      "Phrasal verb : pick-up\n"
     ]
    },
    {
     "name": "stderr",
     "output_type": "stream",
     "text": [
      "16182it [01:43, 124.17it/s]"
     ]
    },
    {
     "name": "stdout",
     "output_type": "stream",
     "text": [
      "Phrasal verb : pick-up\n",
      "Phrasal verb : pick-up\n"
     ]
    },
    {
     "name": "stderr",
     "output_type": "stream",
     "text": [
      "16212it [01:43, 134.82it/s]"
     ]
    },
    {
     "name": "stdout",
     "output_type": "stream",
     "text": [
      "Phrasal verb : put-on\n",
      "Phrasal verb : put-in\n",
      "Phrasal verb : put-behind\n"
     ]
    },
    {
     "name": "stderr",
     "output_type": "stream",
     "text": [
      "16317it [01:44, 139.43it/s]"
     ]
    },
    {
     "name": "stdout",
     "output_type": "stream",
     "text": [
      "Phrasal verb : pick-up\n",
      "Phrasal verb : take-off\n",
      "Phrasal verb : pick-up\n",
      "Phrasal verb : pick-up\n",
      "Phrasal verb : pick-up\n"
     ]
    },
    {
     "name": "stderr",
     "output_type": "stream",
     "text": [
      "16346it [01:44, 137.40it/s]"
     ]
    },
    {
     "name": "stdout",
     "output_type": "stream",
     "text": [
      "Phrasal verb : pick-up\n",
      "Phrasal verb : pick-up\n",
      "Phrasal verb : pick-up\n"
     ]
    },
    {
     "name": "stderr",
     "output_type": "stream",
     "text": [
      "16382it [01:44, 154.97it/s]"
     ]
    },
    {
     "name": "stdout",
     "output_type": "stream",
     "text": [
      "Phrasal verb : put-on\n"
     ]
    },
    {
     "name": "stderr",
     "output_type": "stream",
     "text": [
      "16492it [01:45, 162.18it/s]"
     ]
    },
    {
     "name": "stdout",
     "output_type": "stream",
     "text": [
      "Phrasal verb : pick-up\n",
      "Phrasal verb : pick-up\n",
      "Phrasal verb : pick-up\n",
      "Phrasal verb : pick-up\n"
     ]
    },
    {
     "name": "stderr",
     "output_type": "stream",
     "text": [
      "16526it [01:45, 160.37it/s]"
     ]
    },
    {
     "name": "stdout",
     "output_type": "stream",
     "text": [
      "Phrasal verb : pick-up\n",
      "Phrasal verb : pick-up\n",
      "Phrasal verb : pick-up\n"
     ]
    },
    {
     "name": "stderr",
     "output_type": "stream",
     "text": [
      "16651it [01:46, 134.02it/s]"
     ]
    },
    {
     "name": "stdout",
     "output_type": "stream",
     "text": [
      "Phrasal verb : pull-out\n"
     ]
    },
    {
     "name": "stderr",
     "output_type": "stream",
     "text": [
      "16819it [01:47, 162.96it/s]"
     ]
    },
    {
     "name": "stdout",
     "output_type": "stream",
     "text": [
      "Phrasal verb : look-around\n",
      "Phrasal verb : look-around\n",
      "Phrasal verb : look-around\n",
      "Phrasal verb : hold-down\n"
     ]
    },
    {
     "name": "stderr",
     "output_type": "stream",
     "text": [
      "16921it [01:47, 163.42it/s]"
     ]
    },
    {
     "name": "stdout",
     "output_type": "stream",
     "text": [
      "Phrasal verb : put-in\n"
     ]
    },
    {
     "name": "stderr",
     "output_type": "stream",
     "text": [
      "16958it [01:47, 170.42it/s]"
     ]
    },
    {
     "name": "stdout",
     "output_type": "stream",
     "text": [
      "Phrasal verb : put-in\n",
      "Phrasal verb : put-down\n"
     ]
    },
    {
     "name": "stderr",
     "output_type": "stream",
     "text": [
      "16976it [01:48, 171.49it/s]"
     ]
    },
    {
     "name": "stdout",
     "output_type": "stream",
     "text": [
      "Phrasal verb : stand-up\n",
      "Phrasal verb : stand-up\n",
      "Phrasal verb : pick-up\n",
      "Phrasal verb : pick-up\n"
     ]
    },
    {
     "name": "stderr",
     "output_type": "stream",
     "text": [
      "17056it [01:48, 155.88it/s]"
     ]
    },
    {
     "name": "stdout",
     "output_type": "stream",
     "text": [
      "Phrasal verb : put-down\n",
      "Phrasal verb : pick-up\n",
      "Phrasal verb : pick-up\n"
     ]
    },
    {
     "name": "stderr",
     "output_type": "stream",
     "text": [
      "17122it [01:49, 140.40it/s]"
     ]
    },
    {
     "name": "stdout",
     "output_type": "stream",
     "text": [
      "Phrasal verb : pick-up\n",
      "Phrasal verb : pick-up\n",
      "Phrasal verb : take-out\n",
      "Phrasal verb : pick-out\n",
      "Phrasal verb : pick-out\n",
      "Phrasal verb : pick-out\n"
     ]
    },
    {
     "name": "stderr",
     "output_type": "stream",
     "text": [
      "17154it [01:49, 148.08it/s]"
     ]
    },
    {
     "name": "stdout",
     "output_type": "stream",
     "text": [
      "Phrasal verb : pick-out\n",
      "Phrasal verb : take-out\n",
      "Phrasal verb : take-out\n",
      "Phrasal verb : take-out\n"
     ]
    },
    {
     "name": "stderr",
     "output_type": "stream",
     "text": [
      "17187it [01:49, 153.63it/s]"
     ]
    },
    {
     "name": "stdout",
     "output_type": "stream",
     "text": [
      "Phrasal verb : pick-out\n",
      "Phrasal verb : carry-out\n",
      "Phrasal verb : pick-out\n",
      "Phrasal verb : pick-up\n",
      "Phrasal verb : pick-up\n",
      "Phrasal verb : pick-up\n",
      "Phrasal verb : pick-out\n"
     ]
    },
    {
     "name": "stderr",
     "output_type": "stream",
     "text": [
      "17219it [01:49, 154.49it/s]"
     ]
    },
    {
     "name": "stdout",
     "output_type": "stream",
     "text": [
      "Phrasal verb : pick-up\n",
      "Phrasal verb : pick-up\n",
      "Phrasal verb : pick-up\n",
      "Phrasal verb : pick-out\n",
      "Phrasal verb : pick-out\n",
      "Phrasal verb : pick-out\n",
      "Phrasal verb : pick-out\n",
      "Phrasal verb : pick-out\n",
      "Phrasal verb : pick-up\n",
      "Phrasal verb : pick-out\n",
      "Phrasal verb : pick-out\n",
      "Phrasal verb : pick-out\n"
     ]
    },
    {
     "name": "stderr",
     "output_type": "stream",
     "text": [
      "17251it [01:49, 156.47it/s]"
     ]
    },
    {
     "name": "stdout",
     "output_type": "stream",
     "text": [
      "Phrasal verb : pick-out\n",
      "Phrasal verb : pick-out\n",
      "Phrasal verb : take-out\n",
      "Phrasal verb : take-out\n",
      "Phrasal verb : pick-up\n",
      "Phrasal verb : take-out\n",
      "Phrasal verb : take-out\n",
      "Phrasal verb : carry-out\n",
      "Phrasal verb : carry-out\n",
      "Phrasal verb : carry-out\n",
      "Phrasal verb : raise-up\n",
      "Phrasal verb : carry-out\n",
      "Phrasal verb : pick-up\n"
     ]
    },
    {
     "name": "stderr",
     "output_type": "stream",
     "text": [
      "17283it [01:50, 156.32it/s]"
     ]
    },
    {
     "name": "stdout",
     "output_type": "stream",
     "text": [
      "Phrasal verb : put-on\n",
      "Phrasal verb : put-on\n",
      "Phrasal verb : put-off\n",
      "Phrasal verb : put-on\n",
      "Phrasal verb : pick-up\n",
      "Phrasal verb : turn-off\n"
     ]
    },
    {
     "name": "stderr",
     "output_type": "stream",
     "text": [
      "17318it [01:50, 162.38it/s]"
     ]
    },
    {
     "name": "stdout",
     "output_type": "stream",
     "text": [
      "Phrasal verb : hold-up\n",
      "Phrasal verb : put-on\n"
     ]
    },
    {
     "name": "stderr",
     "output_type": "stream",
     "text": [
      "17442it [01:51, 120.53it/s]"
     ]
    },
    {
     "name": "stdout",
     "output_type": "stream",
     "text": [
      "Phrasal verb : put-down\n"
     ]
    },
    {
     "name": "stderr",
     "output_type": "stream",
     "text": [
      "17470it [01:51, 126.20it/s]"
     ]
    },
    {
     "name": "stdout",
     "output_type": "stream",
     "text": [
      "Phrasal verb : put-on\n",
      "Phrasal verb : put-on\n"
     ]
    },
    {
     "name": "stderr",
     "output_type": "stream",
     "text": [
      "17499it [01:51, 133.18it/s]"
     ]
    },
    {
     "name": "stdout",
     "output_type": "stream",
     "text": [
      "Phrasal verb : put-on\n",
      "Phrasal verb : put-in\n"
     ]
    },
    {
     "name": "stderr",
     "output_type": "stream",
     "text": [
      "17587it [01:52, 141.02it/s]"
     ]
    },
    {
     "name": "stdout",
     "output_type": "stream",
     "text": [
      "Phrasal verb : pick-up\n",
      "Phrasal verb : pick-up\n",
      "Phrasal verb : pick-up\n",
      "Phrasal verb : turn-off\n",
      "Phrasal verb : turn-off\n",
      "Phrasal verb : pick-up\n",
      "Phrasal verb : pick-up\n",
      "Phrasal verb : turn-off\n",
      "Phrasal verb : pick-up\n"
     ]
    },
    {
     "name": "stderr",
     "output_type": "stream",
     "text": [
      "17617it [01:52, 135.57it/s]"
     ]
    },
    {
     "name": "stdout",
     "output_type": "stream",
     "text": [
      "Phrasal verb : pick-up\n",
      "Phrasal verb : pick-up\n",
      "Phrasal verb : pick-up\n",
      "Phrasal verb : pick-up\n",
      "Phrasal verb : pick-up\n"
     ]
    },
    {
     "name": "stderr",
     "output_type": "stream",
     "text": [
      "17649it [01:52, 144.64it/s]"
     ]
    },
    {
     "name": "stdout",
     "output_type": "stream",
     "text": [
      "Phrasal verb : pick-up\n",
      "Phrasal verb : pull-out\n",
      "Phrasal verb : pick-up\n",
      "Phrasal verb : pick-up\n"
     ]
    },
    {
     "name": "stderr",
     "output_type": "stream",
     "text": [
      "17679it [01:53, 120.24it/s]"
     ]
    },
    {
     "name": "stdout",
     "output_type": "stream",
     "text": [
      "Phrasal verb : pick-up\n",
      "Phrasal verb : pick-up\n",
      "Phrasal verb : pick-up\n",
      "Phrasal verb : pick-up\n",
      "Phrasal verb : pick-up\n",
      "Phrasal verb : pick-up\n",
      "Phrasal verb : pick-up\n",
      "Phrasal verb : pick-up\n",
      "Phrasal verb : pick-up\n"
     ]
    },
    {
     "name": "stderr",
     "output_type": "stream",
     "text": [
      "17718it [01:53, 124.05it/s]"
     ]
    },
    {
     "name": "stdout",
     "output_type": "stream",
     "text": [
      "Phrasal verb : pick-up\n",
      "Phrasal verb : pick-up\n",
      "Phrasal verb : pick-up\n",
      "Phrasal verb : pick-up\n",
      "Phrasal verb : pick-up\n",
      "Phrasal verb : pick-up\n",
      "Phrasal verb : pick-up\n"
     ]
    },
    {
     "name": "stderr",
     "output_type": "stream",
     "text": [
      "17745it [01:53, 129.38it/s]"
     ]
    },
    {
     "name": "stdout",
     "output_type": "stream",
     "text": [
      "Phrasal verb : pick-up\n",
      "Phrasal verb : pick-up\n",
      "Phrasal verb : pick-up\n",
      "Phrasal verb : pick-up\n",
      "Phrasal verb : pick-up\n",
      "Phrasal verb : pick-up\n"
     ]
    },
    {
     "name": "stderr",
     "output_type": "stream",
     "text": [
      "17775it [01:53, 136.48it/s]"
     ]
    },
    {
     "name": "stdout",
     "output_type": "stream",
     "text": [
      "Phrasal verb : pick-up\n",
      "Phrasal verb : pick-up\n",
      "Phrasal verb : pick-up\n",
      "Phrasal verb : pick-up\n",
      "Phrasal verb : pick-up\n"
     ]
    },
    {
     "name": "stderr",
     "output_type": "stream",
     "text": [
      "17808it [01:54, 134.24it/s]"
     ]
    },
    {
     "name": "stdout",
     "output_type": "stream",
     "text": [
      "Phrasal verb : pick-up\n"
     ]
    },
    {
     "name": "stderr",
     "output_type": "stream",
     "text": [
      "17861it [01:54, 155.47it/s]"
     ]
    },
    {
     "name": "stdout",
     "output_type": "stream",
     "text": [
      "Phrasal verb : pick-up\n",
      "Phrasal verb : pick-up\n"
     ]
    },
    {
     "name": "stderr",
     "output_type": "stream",
     "text": [
      "17896it [01:54, 163.08it/s]"
     ]
    },
    {
     "name": "stdout",
     "output_type": "stream",
     "text": [
      "Phrasal verb : pick-up\n",
      "Phrasal verb : pick-up\n",
      "Phrasal verb : pick-up\n",
      "Phrasal verb : stand-up\n",
      "Phrasal verb : pick-up\n",
      "Phrasal verb : pick-up\n"
     ]
    },
    {
     "name": "stderr",
     "output_type": "stream",
     "text": [
      "17932it [01:54, 167.15it/s]"
     ]
    },
    {
     "name": "stdout",
     "output_type": "stream",
     "text": [
      "Phrasal verb : pick-up\n",
      "Phrasal verb : pick-up\n",
      "Phrasal verb : pick-up\n",
      "Phrasal verb : pick-up\n",
      "Phrasal verb : pick-up\n",
      "Phrasal verb : pull-out\n"
     ]
    },
    {
     "name": "stderr",
     "output_type": "stream",
     "text": [
      "17983it [01:55, 164.69it/s]"
     ]
    },
    {
     "name": "stdout",
     "output_type": "stream",
     "text": [
      "Phrasal verb : pick-up\n",
      "Phrasal verb : pick-up\n",
      "Phrasal verb : pick-up\n",
      "Phrasal verb : pick-up\n",
      "Phrasal verb : take-up\n",
      "Phrasal verb : hold-up\n",
      "Phrasal verb : pick-up\n",
      "Phrasal verb : pull-out\n"
     ]
    },
    {
     "name": "stderr",
     "output_type": "stream",
     "text": [
      "18017it [01:55, 160.56it/s]"
     ]
    },
    {
     "name": "stdout",
     "output_type": "stream",
     "text": [
      "Phrasal verb : pull-out\n",
      "Phrasal verb : pick-up\n"
     ]
    },
    {
     "name": "stderr",
     "output_type": "stream",
     "text": [
      "18068it [01:55, 160.37it/s]"
     ]
    },
    {
     "name": "stdout",
     "output_type": "stream",
     "text": [
      "Phrasal verb : take-out\n",
      "Phrasal verb : bend-down\n"
     ]
    },
    {
     "name": "stderr",
     "output_type": "stream",
     "text": [
      "18135it [01:56, 164.05it/s]"
     ]
    },
    {
     "name": "stdout",
     "output_type": "stream",
     "text": [
      "Phrasal verb : bend-down\n"
     ]
    },
    {
     "name": "stderr",
     "output_type": "stream",
     "text": [
      "18290it [01:57, 167.35it/s]"
     ]
    },
    {
     "name": "stdout",
     "output_type": "stream",
     "text": [
      "Phrasal verb : pick-up\n"
     ]
    },
    {
     "name": "stderr",
     "output_type": "stream",
     "text": [
      "18487it [01:58, 149.20it/s]"
     ]
    },
    {
     "name": "stdout",
     "output_type": "stream",
     "text": [
      "Phrasal verb : pull-out\n",
      "Phrasal verb : pull-out\n",
      "Phrasal verb : drag-out\n",
      "Phrasal verb : pick-up\n",
      "Phrasal verb : pick-up\n",
      "Phrasal verb : stand-up\n"
     ]
    },
    {
     "name": "stderr",
     "output_type": "stream",
     "text": [
      "18524it [01:58, 163.03it/s]"
     ]
    },
    {
     "name": "stdout",
     "output_type": "stream",
     "text": [
      "Phrasal verb : hold-out\n",
      "Phrasal verb : pull-out\n"
     ]
    },
    {
     "name": "stderr",
     "output_type": "stream",
     "text": [
      "18561it [01:58, 168.81it/s]"
     ]
    },
    {
     "name": "stdout",
     "output_type": "stream",
     "text": [
      "Phrasal verb : pull-out\n",
      "Phrasal verb : pull-out\n",
      "Phrasal verb : stand-up\n",
      "Phrasal verb : pick-up\n",
      "Phrasal verb : put-off\n"
     ]
    },
    {
     "name": "stderr",
     "output_type": "stream",
     "text": [
      "18596it [01:58, 168.78it/s]"
     ]
    },
    {
     "name": "stdout",
     "output_type": "stream",
     "text": [
      "Phrasal verb : put-off\n",
      "Phrasal verb : pick-up\n",
      "Phrasal verb : pick-up\n",
      "Phrasal verb : pick-up\n",
      "Phrasal verb : pick-up\n",
      "Phrasal verb : pick-up\n",
      "Phrasal verb : pick-up\n"
     ]
    },
    {
     "name": "stderr",
     "output_type": "stream",
     "text": [
      "18632it [01:59, 170.80it/s]"
     ]
    },
    {
     "name": "stdout",
     "output_type": "stream",
     "text": [
      "Phrasal verb : take-out\n",
      "Phrasal verb : take-out\n",
      "Phrasal verb : pick-up\n",
      "Phrasal verb : stand-up\n"
     ]
    },
    {
     "name": "stderr",
     "output_type": "stream",
     "text": [
      "18721it [01:59, 168.09it/s]"
     ]
    },
    {
     "name": "stdout",
     "output_type": "stream",
     "text": [
      "Phrasal verb : turn-down\n"
     ]
    },
    {
     "name": "stderr",
     "output_type": "stream",
     "text": [
      "18770it [02:00, 137.18it/s]"
     ]
    },
    {
     "name": "stdout",
     "output_type": "stream",
     "text": [
      "Phrasal verb : pick-up\n",
      "Phrasal verb : put-down\n",
      "Phrasal verb : pick-up\n",
      "Phrasal verb : pick-up\n",
      "Phrasal verb : pick-up\n",
      "Phrasal verb : pick-up\n",
      "Phrasal verb : pick-up\n",
      "Phrasal verb : pick-up\n",
      "Phrasal verb : pick-up\n"
     ]
    },
    {
     "name": "stderr",
     "output_type": "stream",
     "text": [
      "19171it [02:02, 232.92it/s]"
     ]
    },
    {
     "name": "stdout",
     "output_type": "stream",
     "text": [
      "Phrasal verb : put-down\n",
      "Phrasal verb : put-down\n",
      "Phrasal verb : put-down\n",
      "Phrasal verb : put-down\n",
      "Phrasal verb : put-down\n",
      "Phrasal verb : put-down\n"
     ]
    },
    {
     "name": "stderr",
     "output_type": "stream",
     "text": [
      "19219it [02:02, 203.79it/s]"
     ]
    },
    {
     "name": "stdout",
     "output_type": "stream",
     "text": [
      "Phrasal verb : put-down\n",
      "Phrasal verb : put-down\n",
      "Phrasal verb : put-down\n",
      "Phrasal verb : put-down\n",
      "Phrasal verb : put-down\n",
      "Phrasal verb : put-down\n"
     ]
    },
    {
     "name": "stderr",
     "output_type": "stream",
     "text": [
      "19262it [02:02, 191.14it/s]"
     ]
    },
    {
     "name": "stdout",
     "output_type": "stream",
     "text": [
      "Phrasal verb : stand-up\n",
      "Phrasal verb : pick-up\n",
      "Phrasal verb : pick-up\n"
     ]
    },
    {
     "name": "stderr",
     "output_type": "stream",
     "text": [
      "19301it [02:02, 172.31it/s]"
     ]
    },
    {
     "name": "stdout",
     "output_type": "stream",
     "text": [
      "Phrasal verb : bring-out\n",
      "Phrasal verb : bring-out\n",
      "Phrasal verb : bring-out\n",
      "Phrasal verb : bring-out\n",
      "Phrasal verb : bring-out\n"
     ]
    },
    {
     "name": "stderr",
     "output_type": "stream",
     "text": [
      "19355it [02:03, 172.56it/s]"
     ]
    },
    {
     "name": "stdout",
     "output_type": "stream",
     "text": [
      "Phrasal verb : bring-out\n",
      "Phrasal verb : stand-up\n",
      "Phrasal verb : put-down\n",
      "Phrasal verb : stand-up\n",
      "Phrasal verb : put-down\n",
      "Phrasal verb : put-down\n"
     ]
    },
    {
     "name": "stderr",
     "output_type": "stream",
     "text": [
      "19373it [02:03, 173.34it/s]"
     ]
    },
    {
     "name": "stdout",
     "output_type": "stream",
     "text": [
      "Phrasal verb : put-down\n",
      "Phrasal verb : stand-up\n",
      "Phrasal verb : put-down\n",
      "Phrasal verb : bring-out\n",
      "Phrasal verb : pick-out\n"
     ]
    },
    {
     "name": "stderr",
     "output_type": "stream",
     "text": [
      "19426it [02:03, 164.43it/s]"
     ]
    },
    {
     "name": "stdout",
     "output_type": "stream",
     "text": [
      "Phrasal verb : pick-out\n"
     ]
    },
    {
     "name": "stderr",
     "output_type": "stream",
     "text": [
      "19490it [02:04, 136.72it/s]"
     ]
    },
    {
     "name": "stdout",
     "output_type": "stream",
     "text": [
      "Phrasal verb : pick-up\n"
     ]
    },
    {
     "name": "stderr",
     "output_type": "stream",
     "text": [
      "19635it [02:05, 131.80it/s]"
     ]
    },
    {
     "name": "stdout",
     "output_type": "stream",
     "text": [
      "Phrasal verb : bring-out\n"
     ]
    },
    {
     "name": "stderr",
     "output_type": "stream",
     "text": [
      "19752it [02:06, 137.00it/s]"
     ]
    },
    {
     "name": "stdout",
     "output_type": "stream",
     "text": [
      "Phrasal verb : pluck-out\n"
     ]
    },
    {
     "name": "stderr",
     "output_type": "stream",
     "text": [
      "19783it [02:06, 143.05it/s]"
     ]
    },
    {
     "name": "stdout",
     "output_type": "stream",
     "text": [
      "Phrasal verb : pick-up\n"
     ]
    },
    {
     "name": "stderr",
     "output_type": "stream",
     "text": [
      "19843it [02:06, 145.29it/s]"
     ]
    },
    {
     "name": "stdout",
     "output_type": "stream",
     "text": [
      "Phrasal verb : pluck-out\n"
     ]
    },
    {
     "name": "stderr",
     "output_type": "stream",
     "text": [
      "20027it [02:07, 176.72it/s]"
     ]
    },
    {
     "name": "stdout",
     "output_type": "stream",
     "text": [
      "Phrasal verb : stand-up\n"
     ]
    },
    {
     "name": "stderr",
     "output_type": "stream",
     "text": [
      "20199it [02:08, 183.45it/s]"
     ]
    },
    {
     "name": "stdout",
     "output_type": "stream",
     "text": [
      "Phrasal verb : pick-up\n",
      "Phrasal verb : stand-up\n"
     ]
    },
    {
     "name": "stderr",
     "output_type": "stream",
     "text": [
      "20343it [02:09, 160.88it/s]"
     ]
    },
    {
     "name": "stdout",
     "output_type": "stream",
     "text": [
      "Phrasal verb : move-over\n",
      "Phrasal verb : pick-up\n",
      "Phrasal verb : move-over\n",
      "Phrasal verb : pick-up\n",
      "Phrasal verb : pick-up\n",
      "Phrasal verb : pick-up\n",
      "Phrasal verb : reposition-out\n",
      "Phrasal verb : pick-up\n"
     ]
    },
    {
     "name": "stderr",
     "output_type": "stream",
     "text": [
      "20378it [02:09, 164.24it/s]"
     ]
    },
    {
     "name": "stdout",
     "output_type": "stream",
     "text": [
      "Phrasal verb : pick-up\n"
     ]
    },
    {
     "name": "stderr",
     "output_type": "stream",
     "text": [
      "20505it [02:10, 167.16it/s]"
     ]
    },
    {
     "name": "stdout",
     "output_type": "stream",
     "text": [
      "Phrasal verb : hold-up\n",
      "Phrasal verb : bend-down\n"
     ]
    },
    {
     "name": "stderr",
     "output_type": "stream",
     "text": [
      "20540it [02:10, 171.00it/s]"
     ]
    },
    {
     "name": "stdout",
     "output_type": "stream",
     "text": [
      "Phrasal verb : put-on\n",
      "Phrasal verb : check-out\n",
      "Phrasal verb : check-out\n",
      "Phrasal verb : turn-off\n"
     ]
    },
    {
     "name": "stderr",
     "output_type": "stream",
     "text": [
      "20595it [02:11, 175.90it/s]"
     ]
    },
    {
     "name": "stdout",
     "output_type": "stream",
     "text": [
      "Phrasal verb : put-off\n",
      "Phrasal verb : put-off\n",
      "Phrasal verb : put-down\n"
     ]
    },
    {
     "name": "stderr",
     "output_type": "stream",
     "text": [
      "20613it [02:11, 136.95it/s]"
     ]
    },
    {
     "name": "stdout",
     "output_type": "stream",
     "text": [
      "Phrasal verb : put-down\n",
      "Phrasal verb : put-down\n",
      "Phrasal verb : put-down\n",
      "Phrasal verb : put-down\n",
      "Phrasal verb : put-down\n",
      "Phrasal verb : put-down\n"
     ]
    },
    {
     "name": "stderr",
     "output_type": "stream",
     "text": [
      "20643it [02:11, 118.68it/s]"
     ]
    },
    {
     "name": "stdout",
     "output_type": "stream",
     "text": [
      "Phrasal verb : put-down\n",
      "Phrasal verb : press-down\n",
      "Phrasal verb : pick-up\n",
      "Phrasal verb : press-down\n"
     ]
    },
    {
     "name": "stderr",
     "output_type": "stream",
     "text": [
      "20712it [02:12, 128.54it/s]"
     ]
    },
    {
     "name": "stdout",
     "output_type": "stream",
     "text": [
      "Phrasal verb : clean-in\n",
      "Phrasal verb : clean-in\n",
      "Phrasal verb : clean-in\n"
     ]
    },
    {
     "name": "stderr",
     "output_type": "stream",
     "text": [
      "20758it [02:12, 140.89it/s]"
     ]
    },
    {
     "name": "stdout",
     "output_type": "stream",
     "text": [
      "Phrasal verb : clean-in\n",
      "Phrasal verb : clean-in\n"
     ]
    },
    {
     "name": "stderr",
     "output_type": "stream",
     "text": [
      "20967it [02:13, 172.61it/s]"
     ]
    },
    {
     "name": "stdout",
     "output_type": "stream",
     "text": [
      "Phrasal verb : put-on\n",
      "Phrasal verb : put-on\n",
      "Phrasal verb : put-on\n",
      "Phrasal verb : pick-out\n",
      "Phrasal verb : insert-in\n",
      "Phrasal verb : insert-in\n"
     ]
    },
    {
     "name": "stderr",
     "output_type": "stream",
     "text": [
      "20985it [02:13, 164.51it/s]"
     ]
    },
    {
     "name": "stdout",
     "output_type": "stream",
     "text": [
      "Phrasal verb : insert-in\n",
      "Phrasal verb : push-out\n",
      "Phrasal verb : pull-out\n"
     ]
    },
    {
     "name": "stderr",
     "output_type": "stream",
     "text": [
      "21053it [02:14, 154.88it/s]"
     ]
    },
    {
     "name": "stdout",
     "output_type": "stream",
     "text": [
      "Phrasal verb : cut-off\n",
      "Phrasal verb : fold-out\n",
      "Phrasal verb : fold-out\n",
      "Phrasal verb : fold-out\n"
     ]
    },
    {
     "name": "stderr",
     "output_type": "stream",
     "text": [
      "21154it [02:14, 192.13it/s]"
     ]
    },
    {
     "name": "stdout",
     "output_type": "stream",
     "text": [
      "Phrasal verb : pick-up\n",
      "Phrasal verb : put-down\n",
      "Phrasal verb : pick-up\n",
      "Phrasal verb : put-down\n",
      "Phrasal verb : put-down\n",
      "Phrasal verb : put-down\n",
      "Phrasal verb : pick-up\n",
      "Phrasal verb : pick-up\n",
      "Phrasal verb : put-down\n",
      "Phrasal verb : pick-up\n",
      "Phrasal verb : pick-up\n",
      "Phrasal verb : put-down\n"
     ]
    },
    {
     "name": "stderr",
     "output_type": "stream",
     "text": [
      "21211it [02:14, 227.27it/s]"
     ]
    },
    {
     "name": "stdout",
     "output_type": "stream",
     "text": [
      "Phrasal verb : pick-up\n",
      "Phrasal verb : pick-up\n",
      "Phrasal verb : pick-up\n",
      "Phrasal verb : put-down\n",
      "Phrasal verb : put-down\n",
      "Phrasal verb : put-down\n",
      "Phrasal verb : pick-up\n",
      "Phrasal verb : put-down\n",
      "Phrasal verb : pick-up\n",
      "Phrasal verb : pick-up\n",
      "Phrasal verb : pick-up\n",
      "Phrasal verb : put-down\n"
     ]
    },
    {
     "name": "stderr",
     "output_type": "stream",
     "text": [
      "21250it [02:14, 254.53it/s]"
     ]
    },
    {
     "name": "stdout",
     "output_type": "stream",
     "text": [
      "Phrasal verb : pick-up\n",
      "Phrasal verb : put-down\n",
      "Phrasal verb : pick-up\n",
      "Phrasal verb : put-down\n",
      "Phrasal verb : pick-up\n",
      "Phrasal verb : put-down\n",
      "Phrasal verb : put-down\n",
      "Phrasal verb : pick-up\n",
      "Phrasal verb : pick-up\n",
      "Phrasal verb : pick-up\n"
     ]
    },
    {
     "name": "stderr",
     "output_type": "stream",
     "text": [
      "21302it [02:15, 194.61it/s]"
     ]
    },
    {
     "name": "stdout",
     "output_type": "stream",
     "text": [
      "Phrasal verb : pick-up\n",
      "Phrasal verb : put-down\n",
      "Phrasal verb : pick-up\n",
      "Phrasal verb : put-down\n"
     ]
    },
    {
     "name": "stderr",
     "output_type": "stream",
     "text": [
      "21363it [02:15, 157.20it/s]"
     ]
    },
    {
     "name": "stdout",
     "output_type": "stream",
     "text": [
      "Phrasal verb : take-out\n",
      "Phrasal verb : pick-up\n",
      "Phrasal verb : pick-up\n",
      "Phrasal verb : pick-up\n",
      "Phrasal verb : pick-up\n"
     ]
    },
    {
     "name": "stderr",
     "output_type": "stream",
     "text": [
      "21398it [02:15, 158.43it/s]"
     ]
    },
    {
     "name": "stdout",
     "output_type": "stream",
     "text": [
      "Phrasal verb : pick-up\n",
      "Phrasal verb : pick-up\n",
      "Phrasal verb : pick-up\n"
     ]
    },
    {
     "name": "stderr",
     "output_type": "stream",
     "text": [
      "21472it [02:16, 168.11it/s]"
     ]
    },
    {
     "name": "stdout",
     "output_type": "stream",
     "text": [
      "Phrasal verb : pick-up\n",
      "Phrasal verb : pick-up\n",
      "Phrasal verb : pick-up\n"
     ]
    },
    {
     "name": "stderr",
     "output_type": "stream",
     "text": [
      "21507it [02:16, 163.83it/s]"
     ]
    },
    {
     "name": "stdout",
     "output_type": "stream",
     "text": [
      "Phrasal verb : pick-up\n",
      "Phrasal verb : pick-up\n",
      "Phrasal verb : pick-up\n",
      "Phrasal verb : pick-up\n",
      "Phrasal verb : take-off\n",
      "Phrasal verb : pick-up\n"
     ]
    },
    {
     "name": "stderr",
     "output_type": "stream",
     "text": [
      "21541it [02:16, 161.20it/s]"
     ]
    },
    {
     "name": "stdout",
     "output_type": "stream",
     "text": [
      "Phrasal verb : bring-out\n",
      "Phrasal verb : pick-up\n",
      "Phrasal verb : pick-up\n",
      "Phrasal verb : drop-down\n",
      "Phrasal verb : remove-out\n"
     ]
    },
    {
     "name": "stderr",
     "output_type": "stream",
     "text": [
      "21598it [02:17, 176.17it/s]"
     ]
    },
    {
     "name": "stdout",
     "output_type": "stream",
     "text": [
      "Phrasal verb : pull-out\n",
      "Phrasal verb : turn-up\n"
     ]
    },
    {
     "name": "stderr",
     "output_type": "stream",
     "text": [
      "21672it [02:17, 176.35it/s]"
     ]
    },
    {
     "name": "stdout",
     "output_type": "stream",
     "text": [
      "Phrasal verb : pull-out\n"
     ]
    },
    {
     "name": "stderr",
     "output_type": "stream",
     "text": [
      "21708it [02:17, 175.37it/s]"
     ]
    },
    {
     "name": "stdout",
     "output_type": "stream",
     "text": [
      "Phrasal verb : pull-out\n"
     ]
    },
    {
     "name": "stderr",
     "output_type": "stream",
     "text": [
      "21763it [02:17, 178.18it/s]"
     ]
    },
    {
     "name": "stdout",
     "output_type": "stream",
     "text": [
      "Phrasal verb : pull-out\n",
      "Phrasal verb : turn-off\n"
     ]
    },
    {
     "name": "stderr",
     "output_type": "stream",
     "text": [
      "21819it [02:18, 180.37it/s]"
     ]
    },
    {
     "name": "stdout",
     "output_type": "stream",
     "text": [
      "Phrasal verb : stand-up\n",
      "Phrasal verb : put-on\n"
     ]
    },
    {
     "name": "stderr",
     "output_type": "stream",
     "text": [
      "22072it [02:19, 162.67it/s]"
     ]
    },
    {
     "name": "stdout",
     "output_type": "stream",
     "text": [
      "Phrasal verb : stand-up\n",
      "Phrasal verb : lay-down\n",
      "Phrasal verb : rub-off\n"
     ]
    },
    {
     "name": "stderr",
     "output_type": "stream",
     "text": [
      "22129it [02:20, 176.71it/s]"
     ]
    },
    {
     "name": "stdout",
     "output_type": "stream",
     "text": [
      "Phrasal verb : rub-off\n"
     ]
    },
    {
     "name": "stderr",
     "output_type": "stream",
     "text": [
      "22225it [02:20, 188.91it/s]"
     ]
    },
    {
     "name": "stdout",
     "output_type": "stream",
     "text": [
      "Phrasal verb : pick-up\n"
     ]
    },
    {
     "name": "stderr",
     "output_type": "stream",
     "text": [
      "22361it [02:21, 141.28it/s]"
     ]
    },
    {
     "name": "stdout",
     "output_type": "stream",
     "text": [
      "Phrasal verb : put-on\n",
      "Phrasal verb : put-on\n",
      "Phrasal verb : put-on\n"
     ]
    },
    {
     "name": "stderr",
     "output_type": "stream",
     "text": [
      "22515it [02:22, 171.24it/s]"
     ]
    },
    {
     "name": "stdout",
     "output_type": "stream",
     "text": [
      "Phrasal verb : stand-up\n"
     ]
    },
    {
     "name": "stderr",
     "output_type": "stream",
     "text": [
      "22570it [02:22, 174.48it/s]"
     ]
    },
    {
     "name": "stdout",
     "output_type": "stream",
     "text": [
      "Phrasal verb : pick-on\n"
     ]
    },
    {
     "name": "stderr",
     "output_type": "stream",
     "text": [
      "22606it [02:23, 171.27it/s]"
     ]
    },
    {
     "name": "stdout",
     "output_type": "stream",
     "text": [
      "Phrasal verb : put-in\n",
      "Phrasal verb : pick-up\n",
      "Phrasal verb : pick-up\n",
      "Phrasal verb : pick-up\n"
     ]
    },
    {
     "name": "stderr",
     "output_type": "stream",
     "text": [
      "22972it [02:25, 154.09it/s]"
     ]
    },
    {
     "name": "stdout",
     "output_type": "stream",
     "text": [
      "Phrasal verb : put-down\n",
      "Phrasal verb : wipe-off\n"
     ]
    },
    {
     "name": "stderr",
     "output_type": "stream",
     "text": [
      "23039it [02:26, 159.52it/s]"
     ]
    },
    {
     "name": "stdout",
     "output_type": "stream",
     "text": [
      "Phrasal verb : put-down\n",
      "Phrasal verb : put-down\n"
     ]
    },
    {
     "name": "stderr",
     "output_type": "stream",
     "text": [
      "23088it [02:26, 159.62it/s]"
     ]
    },
    {
     "name": "stdout",
     "output_type": "stream",
     "text": [
      "Phrasal verb : put-down\n",
      "Phrasal verb : put-down\n",
      "Phrasal verb : put-down\n",
      "Phrasal verb : put-down\n",
      "Phrasal verb : put-down\n"
     ]
    },
    {
     "name": "stderr",
     "output_type": "stream",
     "text": [
      "23121it [02:26, 161.66it/s]"
     ]
    },
    {
     "name": "stdout",
     "output_type": "stream",
     "text": [
      "Phrasal verb : pick-up\n",
      "Phrasal verb : pick-up\n",
      "Phrasal verb : put-down\n",
      "Phrasal verb : pick-up\n",
      "Phrasal verb : put-down\n",
      "Phrasal verb : put-down\n",
      "Phrasal verb : pick-up\n",
      "Phrasal verb : pick-up\n",
      "Phrasal verb : pick-up\n",
      "Phrasal verb : pick-up\n",
      "Phrasal verb : pick-up\n"
     ]
    },
    {
     "name": "stderr",
     "output_type": "stream",
     "text": [
      "23155it [02:26, 160.35it/s]"
     ]
    },
    {
     "name": "stdout",
     "output_type": "stream",
     "text": [
      "Phrasal verb : pick-up\n",
      "Phrasal verb : pick-up\n",
      "Phrasal verb : pick-up\n",
      "Phrasal verb : pick-up\n",
      "Phrasal verb : put-down\n",
      "Phrasal verb : put-down\n",
      "Phrasal verb : pick-up\n",
      "Phrasal verb : put-down\n",
      "Phrasal verb : pick-up\n",
      "Phrasal verb : pick-up\n",
      "Phrasal verb : put-down\n",
      "Phrasal verb : pick-up\n",
      "Phrasal verb : pick-up\n",
      "Phrasal verb : pick-up\n",
      "Phrasal verb : pick-up\n",
      "Phrasal verb : pick-up\n",
      "Phrasal verb : pick-up\n",
      "Phrasal verb : pick-up\n"
     ]
    },
    {
     "name": "stderr",
     "output_type": "stream",
     "text": [
      "23206it [02:27, 161.29it/s]"
     ]
    },
    {
     "name": "stdout",
     "output_type": "stream",
     "text": [
      "Phrasal verb : pull-out\n",
      "Phrasal verb : pull-out\n",
      "Phrasal verb : straighten-out\n",
      "Phrasal verb : pull-out\n",
      "Phrasal verb : pull-out\n",
      "Phrasal verb : pull-out\n",
      "Phrasal verb : pull-out\n",
      "Phrasal verb : pull-out\n",
      "Phrasal verb : pull-out\n",
      "Phrasal verb : pull-out\n",
      "Phrasal verb : pull-out\n",
      "Phrasal verb : pull-out\n"
     ]
    },
    {
     "name": "stderr",
     "output_type": "stream",
     "text": [
      "23239it [02:27, 156.63it/s]"
     ]
    },
    {
     "name": "stdout",
     "output_type": "stream",
     "text": [
      "Phrasal verb : pull-out\n",
      "Phrasal verb : pull-out\n",
      "Phrasal verb : pull-out\n",
      "Phrasal verb : pull-out\n",
      "Phrasal verb : pull-out\n",
      "Phrasal verb : pull-out\n"
     ]
    },
    {
     "name": "stderr",
     "output_type": "stream",
     "text": [
      "23288it [02:27, 156.97it/s]"
     ]
    },
    {
     "name": "stdout",
     "output_type": "stream",
     "text": [
      "Phrasal verb : pick-up\n",
      "Phrasal verb : pick-up\n"
     ]
    },
    {
     "name": "stderr",
     "output_type": "stream",
     "text": [
      "23321it [02:28, 158.83it/s]"
     ]
    },
    {
     "name": "stdout",
     "output_type": "stream",
     "text": [
      "Phrasal verb : move-off\n",
      "Phrasal verb : move-off\n",
      "Phrasal verb : pick-off\n",
      "Phrasal verb : pick-off\n",
      "Phrasal verb : pick-off\n",
      "Phrasal verb : move-off\n",
      "Phrasal verb : lift-up\n"
     ]
    },
    {
     "name": "stderr",
     "output_type": "stream",
     "text": [
      "23354it [02:28, 158.06it/s]"
     ]
    },
    {
     "name": "stdout",
     "output_type": "stream",
     "text": [
      "Phrasal verb : move-off\n",
      "Phrasal verb : stretch-down\n",
      "Phrasal verb : cut-off\n"
     ]
    },
    {
     "name": "stderr",
     "output_type": "stream",
     "text": [
      "23404it [02:28, 162.12it/s]"
     ]
    },
    {
     "name": "stdout",
     "output_type": "stream",
     "text": [
      "Phrasal verb : pick-up\n"
     ]
    },
    {
     "name": "stderr",
     "output_type": "stream",
     "text": [
      "23438it [02:28, 161.97it/s]"
     ]
    },
    {
     "name": "stdout",
     "output_type": "stream",
     "text": [
      "Phrasal verb : pick-up\n",
      "Phrasal verb : pick-up\n",
      "Phrasal verb : pick-up\n",
      "Phrasal verb : pick-up\n"
     ]
    },
    {
     "name": "stderr",
     "output_type": "stream",
     "text": [
      "23471it [02:28, 154.73it/s]"
     ]
    },
    {
     "name": "stdout",
     "output_type": "stream",
     "text": [
      "Phrasal verb : pour-out\n"
     ]
    },
    {
     "name": "stderr",
     "output_type": "stream",
     "text": [
      "23503it [02:29, 152.72it/s]"
     ]
    },
    {
     "name": "stdout",
     "output_type": "stream",
     "text": [
      "Phrasal verb : pull-out\n",
      "Phrasal verb : open-up\n",
      "Phrasal verb : pick-up\n",
      "Phrasal verb : pick-up\n",
      "Phrasal verb : pick-up\n",
      "Phrasal verb : open-up\n",
      "Phrasal verb : pick-up\n"
     ]
    },
    {
     "name": "stderr",
     "output_type": "stream",
     "text": [
      "23554it [02:29, 158.56it/s]"
     ]
    },
    {
     "name": "stdout",
     "output_type": "stream",
     "text": [
      "Phrasal verb : pick-up\n",
      "Phrasal verb : pick-up\n",
      "Phrasal verb : pick-up\n",
      "Phrasal verb : pick-up\n",
      "Phrasal verb : pick-up\n",
      "Phrasal verb : pick-up\n",
      "Phrasal verb : pick-up\n",
      "Phrasal verb : pick-up\n",
      "Phrasal verb : pick-up\n",
      "Phrasal verb : pick-up\n"
     ]
    },
    {
     "name": "stderr",
     "output_type": "stream",
     "text": [
      "23570it [02:29, 139.26it/s]"
     ]
    },
    {
     "name": "stdout",
     "output_type": "stream",
     "text": [
      "Phrasal verb : put-on\n",
      "Phrasal verb : pick-up\n"
     ]
    },
    {
     "name": "stderr",
     "output_type": "stream",
     "text": [
      "23600it [02:29, 137.38it/s]"
     ]
    },
    {
     "name": "stdout",
     "output_type": "stream",
     "text": [
      "Phrasal verb : pick-up\n",
      "Phrasal verb : pick-up\n"
     ]
    },
    {
     "name": "stderr",
     "output_type": "stream",
     "text": [
      "23647it [02:30, 144.99it/s]"
     ]
    },
    {
     "name": "stdout",
     "output_type": "stream",
     "text": [
      "Phrasal verb : push-down\n",
      "Phrasal verb : pick-up\n"
     ]
    },
    {
     "name": "stderr",
     "output_type": "stream",
     "text": [
      "23677it [02:30, 143.11it/s]"
     ]
    },
    {
     "name": "stdout",
     "output_type": "stream",
     "text": [
      "Phrasal verb : bring-out\n",
      "Phrasal verb : wipe-out\n",
      "Phrasal verb : squeeze-out\n",
      "Phrasal verb : squeeze-out\n"
     ]
    },
    {
     "name": "stderr",
     "output_type": "stream",
     "text": [
      "23812it [02:31, 163.04it/s]"
     ]
    },
    {
     "name": "stdout",
     "output_type": "stream",
     "text": [
      "Phrasal verb : pick-up\n"
     ]
    },
    {
     "name": "stderr",
     "output_type": "stream",
     "text": [
      "23864it [02:31, 164.53it/s]"
     ]
    },
    {
     "name": "stdout",
     "output_type": "stream",
     "text": [
      "Phrasal verb : turn-off\n",
      "Phrasal verb : turn-off\n",
      "Phrasal verb : turn-off\n",
      "Phrasal verb : turn-off\n",
      "Phrasal verb : turn-off\n",
      "Phrasal verb : turn-off\n",
      "Phrasal verb : turn-off\n",
      "Phrasal verb : turn-off\n",
      "Phrasal verb : turn-off\n",
      "Phrasal verb : turn-off\n"
     ]
    },
    {
     "name": "stderr",
     "output_type": "stream",
     "text": [
      "23898it [02:31, 162.92it/s]"
     ]
    },
    {
     "name": "stdout",
     "output_type": "stream",
     "text": [
      "Phrasal verb : turn-off\n",
      "Phrasal verb : turn-off\n",
      "Phrasal verb : turn-off\n",
      "Phrasal verb : turn-off\n",
      "Phrasal verb : turn-off\n",
      "Phrasal verb : turn-off\n",
      "Phrasal verb : turn-off\n",
      "Phrasal verb : turn-off\n",
      "Phrasal verb : turn-off\n"
     ]
    },
    {
     "name": "stderr",
     "output_type": "stream",
     "text": [
      "23960it [02:32, 185.56it/s]"
     ]
    },
    {
     "name": "stdout",
     "output_type": "stream",
     "text": [
      "Phrasal verb : pick-up\n",
      "Phrasal verb : bring-out\n"
     ]
    },
    {
     "name": "stderr",
     "output_type": "stream",
     "text": [
      "24000it [02:32, 183.72it/s]"
     ]
    },
    {
     "name": "stdout",
     "output_type": "stream",
     "text": [
      "Phrasal verb : stand-up\n",
      "Phrasal verb : pick-up\n",
      "Phrasal verb : put-down\n",
      "Phrasal verb : put-down\n",
      "Phrasal verb : take-out\n"
     ]
    },
    {
     "name": "stderr",
     "output_type": "stream",
     "text": [
      "24044it [02:32, 197.05it/s]"
     ]
    },
    {
     "name": "stdout",
     "output_type": "stream",
     "text": [
      "Phrasal verb : stand-up\n",
      "Phrasal verb : take-out\n"
     ]
    },
    {
     "name": "stderr",
     "output_type": "stream",
     "text": [
      "24085it [02:32, 194.23it/s]"
     ]
    },
    {
     "name": "stdout",
     "output_type": "stream",
     "text": [
      "Phrasal verb : remove-on\n",
      "Phrasal verb : stand-up\n",
      "Phrasal verb : stand-up\n"
     ]
    },
    {
     "name": "stderr",
     "output_type": "stream",
     "text": [
      "24182it [02:33, 180.97it/s]"
     ]
    },
    {
     "name": "stdout",
     "output_type": "stream",
     "text": [
      "Phrasal verb : stand-up\n",
      "Phrasal verb : turn-off\n",
      "Phrasal verb : turn-off\n",
      "Phrasal verb : turn-off\n"
     ]
    },
    {
     "name": "stderr",
     "output_type": "stream",
     "text": [
      "24223it [02:33, 190.50it/s]"
     ]
    },
    {
     "name": "stdout",
     "output_type": "stream",
     "text": [
      "Phrasal verb : pick-up\n"
     ]
    },
    {
     "name": "stderr",
     "output_type": "stream",
     "text": [
      "24343it [02:34, 181.77it/s]"
     ]
    },
    {
     "name": "stdout",
     "output_type": "stream",
     "text": [
      "Phrasal verb : pick-up\n",
      "Phrasal verb : pick-up\n"
     ]
    },
    {
     "name": "stderr",
     "output_type": "stream",
     "text": [
      "24417it [02:34, 175.57it/s]"
     ]
    },
    {
     "name": "stdout",
     "output_type": "stream",
     "text": [
      "Phrasal verb : put-down\n"
     ]
    },
    {
     "name": "stderr",
     "output_type": "stream",
     "text": [
      "24490it [02:34, 172.04it/s]"
     ]
    },
    {
     "name": "stdout",
     "output_type": "stream",
     "text": [
      "Phrasal verb : pick-up\n",
      "Phrasal verb : pick-up\n",
      "Phrasal verb : pick-up\n",
      "Phrasal verb : clean-off\n",
      "Phrasal verb : pick-up\n",
      "Phrasal verb : clean-off\n"
     ]
    },
    {
     "name": "stderr",
     "output_type": "stream",
     "text": [
      "24543it [02:35, 167.51it/s]"
     ]
    },
    {
     "name": "stdout",
     "output_type": "stream",
     "text": [
      "Phrasal verb : pick-up\n",
      "Phrasal verb : pick-up\n",
      "Phrasal verb : pick-up\n",
      "Phrasal verb : pick-up\n",
      "Phrasal verb : pick-up\n",
      "Phrasal verb : pick-up\n",
      "Phrasal verb : pick-up\n"
     ]
    },
    {
     "name": "stderr",
     "output_type": "stream",
     "text": [
      "24579it [02:35, 170.50it/s]"
     ]
    },
    {
     "name": "stdout",
     "output_type": "stream",
     "text": [
      "Phrasal verb : pick-up\n",
      "Phrasal verb : pick-up\n",
      "Phrasal verb : pick-up\n"
     ]
    },
    {
     "name": "stderr",
     "output_type": "stream",
     "text": [
      "24650it [02:35, 170.50it/s]"
     ]
    },
    {
     "name": "stdout",
     "output_type": "stream",
     "text": [
      "Phrasal verb : turn-around\n",
      "Phrasal verb : turn-around\n"
     ]
    },
    {
     "name": "stderr",
     "output_type": "stream",
     "text": [
      "24732it [02:36, 165.50it/s]"
     ]
    },
    {
     "name": "stdout",
     "output_type": "stream",
     "text": [
      "Phrasal verb : take-out\n"
     ]
    },
    {
     "name": "stderr",
     "output_type": "stream",
     "text": [
      "24784it [02:36, 168.03it/s]"
     ]
    },
    {
     "name": "stdout",
     "output_type": "stream",
     "text": [
      "Phrasal verb : put-down\n",
      "Phrasal verb : put-down\n",
      "Phrasal verb : put-down\n",
      "Phrasal verb : put-down\n",
      "Phrasal verb : put-down\n",
      "Phrasal verb : put-down\n"
     ]
    },
    {
     "name": "stderr",
     "output_type": "stream",
     "text": [
      "24980it [02:37, 178.61it/s]"
     ]
    },
    {
     "name": "stdout",
     "output_type": "stream",
     "text": [
      "Phrasal verb : pull-up\n"
     ]
    },
    {
     "name": "stderr",
     "output_type": "stream",
     "text": [
      "25037it [02:38, 180.92it/s]"
     ]
    },
    {
     "name": "stdout",
     "output_type": "stream",
     "text": [
      "Phrasal verb : bring-out\n",
      "Phrasal verb : pill-off\n"
     ]
    },
    {
     "name": "stderr",
     "output_type": "stream",
     "text": [
      "25102it [02:38, 198.12it/s]"
     ]
    },
    {
     "name": "stdout",
     "output_type": "stream",
     "text": [
      "Phrasal verb : drop-down\n",
      "Phrasal verb : drop-down\n",
      "Phrasal verb : lift-up\n",
      "Phrasal verb : pull-out\n",
      "Phrasal verb : drop-down\n",
      "Phrasal verb : prune-out\n"
     ]
    },
    {
     "name": "stderr",
     "output_type": "stream",
     "text": [
      "25256it [02:39, 174.28it/s]"
     ]
    },
    {
     "name": "stdout",
     "output_type": "stream",
     "text": [
      "Phrasal verb : take-out\n",
      "Phrasal verb : pick-up\n",
      "Phrasal verb : pick-up\n",
      "Phrasal verb : pick-up\n",
      "Phrasal verb : pick-up\n",
      "Phrasal verb : pick-up\n",
      "Phrasal verb : take-out\n",
      "Phrasal verb : take-out\n"
     ]
    },
    {
     "name": "stderr",
     "output_type": "stream",
     "text": [
      "25313it [02:39, 181.77it/s]"
     ]
    },
    {
     "name": "stdout",
     "output_type": "stream",
     "text": [
      "Phrasal verb : pick-up\n",
      "Phrasal verb : pick-up\n",
      "Phrasal verb : take-out\n",
      "Phrasal verb : pick-up\n",
      "Phrasal verb : pick-up\n",
      "Phrasal verb : pick-up\n",
      "Phrasal verb : pick-up\n",
      "Phrasal verb : pick-up\n",
      "Phrasal verb : pick-up\n",
      "Phrasal verb : pick-up\n"
     ]
    },
    {
     "name": "stderr",
     "output_type": "stream",
     "text": [
      "25353it [02:39, 183.99it/s]"
     ]
    },
    {
     "name": "stdout",
     "output_type": "stream",
     "text": [
      "Phrasal verb : take-out\n",
      "Phrasal verb : pick-up\n",
      "Phrasal verb : pick-up\n",
      "Phrasal verb : pick-up\n",
      "Phrasal verb : pick-up\n",
      "Phrasal verb : pick-up\n",
      "Phrasal verb : pick-up\n",
      "Phrasal verb : put-in\n"
     ]
    },
    {
     "name": "stderr",
     "output_type": "stream",
     "text": [
      "25585it [02:41, 161.75it/s]"
     ]
    },
    {
     "name": "stdout",
     "output_type": "stream",
     "text": [
      "Phrasal verb : pick-up\n",
      "Phrasal verb : place-down\n",
      "Phrasal verb : turn-off\n"
     ]
    },
    {
     "name": "stderr",
     "output_type": "stream",
     "text": [
      "25635it [02:41, 133.98it/s]"
     ]
    },
    {
     "name": "stdout",
     "output_type": "stream",
     "text": [
      "Phrasal verb : put-down\n",
      "Phrasal verb : bend-down\n"
     ]
    },
    {
     "name": "stderr",
     "output_type": "stream",
     "text": [
      "25664it [02:41, 127.69it/s]"
     ]
    },
    {
     "name": "stdout",
     "output_type": "stream",
     "text": [
      "Phrasal verb : pick-up\n",
      "Phrasal verb : pick-up\n",
      "Phrasal verb : pick-up\n",
      "Phrasal verb : pick-up\n",
      "Phrasal verb : pick-up\n"
     ]
    },
    {
     "name": "stderr",
     "output_type": "stream",
     "text": [
      "25678it [02:42, 108.03it/s]"
     ]
    },
    {
     "name": "stdout",
     "output_type": "stream",
     "text": [
      "Phrasal verb : pick-up\n",
      "Phrasal verb : pick-up\n",
      "Phrasal verb : pick-up\n",
      "Phrasal verb : pick-up\n",
      "Phrasal verb : pick-up\n",
      "Phrasal verb : pick-up\n",
      "Phrasal verb : pick-up\n"
     ]
    },
    {
     "name": "stderr",
     "output_type": "stream",
     "text": [
      "25702it [02:42, 108.94it/s]"
     ]
    },
    {
     "name": "stdout",
     "output_type": "stream",
     "text": [
      "Phrasal verb : pick-up\n",
      "Phrasal verb : pick-up\n",
      "Phrasal verb : pick-up\n"
     ]
    },
    {
     "name": "stderr",
     "output_type": "stream",
     "text": [
      "25890it [02:43, 138.66it/s]"
     ]
    },
    {
     "name": "stdout",
     "output_type": "stream",
     "text": [
      "Phrasal verb : put-down\n",
      "Phrasal verb : put-down\n",
      "Phrasal verb : put-down\n",
      "Phrasal verb : put-down\n",
      "Phrasal verb : put-down\n",
      "Phrasal verb : put-down\n",
      "Phrasal verb : put-down\n",
      "Phrasal verb : pick-down\n",
      "Phrasal verb : put-down\n",
      "Phrasal verb : put-down\n",
      "Phrasal verb : pick-up\n"
     ]
    },
    {
     "name": "stderr",
     "output_type": "stream",
     "text": [
      "25942it [02:44, 157.11it/s]"
     ]
    },
    {
     "name": "stdout",
     "output_type": "stream",
     "text": [
      "Phrasal verb : pick-up\n",
      "Phrasal verb : pick-up\n"
     ]
    },
    {
     "name": "stderr",
     "output_type": "stream",
     "text": [
      "25990it [02:44, 156.13it/s]"
     ]
    },
    {
     "name": "stdout",
     "output_type": "stream",
     "text": [
      "Phrasal verb : pick-up\n"
     ]
    },
    {
     "name": "stderr",
     "output_type": "stream",
     "text": [
      "26040it [02:44, 161.87it/s]"
     ]
    },
    {
     "name": "stdout",
     "output_type": "stream",
     "text": [
      "Phrasal verb : pick-up\n"
     ]
    },
    {
     "name": "stderr",
     "output_type": "stream",
     "text": [
      "26093it [02:44, 168.59it/s]"
     ]
    },
    {
     "name": "stdout",
     "output_type": "stream",
     "text": [
      "Phrasal verb : pick-up\n",
      "Phrasal verb : pick-up\n"
     ]
    },
    {
     "name": "stderr",
     "output_type": "stream",
     "text": [
      "26144it [02:45, 166.74it/s]"
     ]
    },
    {
     "name": "stdout",
     "output_type": "stream",
     "text": [
      "Phrasal verb : pick-up\n"
     ]
    },
    {
     "name": "stderr",
     "output_type": "stream",
     "text": [
      "26180it [02:45, 171.07it/s]"
     ]
    },
    {
     "name": "stdout",
     "output_type": "stream",
     "text": [
      "Phrasal verb : pick-up\n",
      "Phrasal verb : open-up\n",
      "Phrasal verb : pick-up\n",
      "Phrasal verb : pick-up\n"
     ]
    },
    {
     "name": "stderr",
     "output_type": "stream",
     "text": [
      "26235it [02:45, 173.67it/s]"
     ]
    },
    {
     "name": "stdout",
     "output_type": "stream",
     "text": [
      "Phrasal verb : pick-up\n",
      "Phrasal verb : stand-up\n",
      "Phrasal verb : pick-up\n",
      "Phrasal verb : walk-over\n",
      "Phrasal verb : walk-over\n"
     ]
    },
    {
     "name": "stderr",
     "output_type": "stream",
     "text": [
      "26271it [02:45, 172.68it/s]"
     ]
    },
    {
     "name": "stdout",
     "output_type": "stream",
     "text": [
      "Phrasal verb : pick-up\n",
      "Phrasal verb : put-down\n",
      "Phrasal verb : put-down\n",
      "Phrasal verb : put-down\n",
      "Phrasal verb : put-down\n"
     ]
    },
    {
     "name": "stderr",
     "output_type": "stream",
     "text": [
      "26347it [02:46, 170.04it/s]"
     ]
    },
    {
     "name": "stdout",
     "output_type": "stream",
     "text": [
      "Phrasal verb : pick-up\n",
      "Phrasal verb : pick-up\n",
      "Phrasal verb : pick-up\n",
      "Phrasal verb : pick-up\n"
     ]
    },
    {
     "name": "stderr",
     "output_type": "stream",
     "text": [
      "26382it [02:46, 164.18it/s]"
     ]
    },
    {
     "name": "stdout",
     "output_type": "stream",
     "text": [
      "Phrasal verb : pick-up\n",
      "Phrasal verb : pick-up\n",
      "Phrasal verb : pick-up\n",
      "Phrasal verb : pick-up\n",
      "Phrasal verb : pick-up\n"
     ]
    },
    {
     "name": "stderr",
     "output_type": "stream",
     "text": [
      "26451it [02:47, 164.54it/s]"
     ]
    },
    {
     "name": "stdout",
     "output_type": "stream",
     "text": [
      "Phrasal verb : take-off\n",
      "Phrasal verb : pour-out\n",
      "Phrasal verb : pick-up\n",
      "Phrasal verb : pick-up\n",
      "Phrasal verb : scoop-out\n",
      "Phrasal verb : pick-up\n",
      "Phrasal verb : scoop-out\n",
      "Phrasal verb : pick-up\n"
     ]
    },
    {
     "name": "stderr",
     "output_type": "stream",
     "text": [
      "26485it [02:47, 162.74it/s]"
     ]
    },
    {
     "name": "stdout",
     "output_type": "stream",
     "text": [
      "Phrasal verb : pick-up\n",
      "Phrasal verb : pick-up\n",
      "Phrasal verb : bring-out\n",
      "Phrasal verb : put-on\n",
      "Phrasal verb : bring-out\n",
      "Phrasal verb : bring-out\n",
      "Phrasal verb : pick-up\n",
      "Phrasal verb : pick-up\n"
     ]
    },
    {
     "name": "stderr",
     "output_type": "stream",
     "text": [
      "26519it [02:47, 165.28it/s]"
     ]
    },
    {
     "name": "stdout",
     "output_type": "stream",
     "text": [
      "Phrasal verb : lift-up\n",
      "Phrasal verb : bend-up\n",
      "Phrasal verb : pick-up\n",
      "Phrasal verb : pick-up\n",
      "Phrasal verb : pick-up\n",
      "Phrasal verb : pick-up\n"
     ]
    },
    {
     "name": "stderr",
     "output_type": "stream",
     "text": [
      "26553it [02:47, 165.49it/s]"
     ]
    },
    {
     "name": "stdout",
     "output_type": "stream",
     "text": [
      "Phrasal verb : pick-up\n",
      "Phrasal verb : pick-up\n",
      "Phrasal verb : pick-up\n",
      "Phrasal verb : press-down\n",
      "Phrasal verb : pick-up\n",
      "Phrasal verb : pick-up\n",
      "Phrasal verb : spread-out\n",
      "Phrasal verb : bring-out\n"
     ]
    },
    {
     "name": "stderr",
     "output_type": "stream",
     "text": [
      "26604it [02:47, 165.91it/s]"
     ]
    },
    {
     "name": "stdout",
     "output_type": "stream",
     "text": [
      "Phrasal verb : pick-up\n",
      "Phrasal verb : turn-off\n",
      "Phrasal verb : put-down\n"
     ]
    },
    {
     "name": "stderr",
     "output_type": "stream",
     "text": [
      "26639it [02:48, 167.49it/s]"
     ]
    },
    {
     "name": "stdout",
     "output_type": "stream",
     "text": [
      "Phrasal verb : turn-off\n",
      "Phrasal verb : turn-off\n",
      "Phrasal verb : pick-up\n",
      "Phrasal verb : pick-up\n",
      "Phrasal verb : pick-up\n",
      "Phrasal verb : pick-up\n",
      "Phrasal verb : use-up\n",
      "Phrasal verb : pick-up\n"
     ]
    },
    {
     "name": "stderr",
     "output_type": "stream",
     "text": [
      "26691it [02:48, 170.46it/s]"
     ]
    },
    {
     "name": "stdout",
     "output_type": "stream",
     "text": [
      "Phrasal verb : pour-out\n"
     ]
    },
    {
     "name": "stderr",
     "output_type": "stream",
     "text": [
      "26743it [02:48, 161.14it/s]"
     ]
    },
    {
     "name": "stdout",
     "output_type": "stream",
     "text": [
      "Phrasal verb : pull-out\n",
      "Phrasal verb : pick-up\n",
      "Phrasal verb : pick-up\n",
      "Phrasal verb : pick-up\n",
      "Phrasal verb : pick-up\n",
      "Phrasal verb : pick-up\n",
      "Phrasal verb : scoop-out\n"
     ]
    },
    {
     "name": "stderr",
     "output_type": "stream",
     "text": [
      "26777it [02:49, 163.03it/s]"
     ]
    },
    {
     "name": "stdout",
     "output_type": "stream",
     "text": [
      "Phrasal verb : pick-up\n",
      "Phrasal verb : cut-out\n",
      "Phrasal verb : cut-out\n",
      "Phrasal verb : cut-out\n",
      "Phrasal verb : cut-out\n",
      "Phrasal verb : cut-out\n",
      "Phrasal verb : open-up\n",
      "Phrasal verb : pick-up\n",
      "Phrasal verb : take-off\n",
      "Phrasal verb : pick-up\n",
      "Phrasal verb : put-back\n",
      "Phrasal verb : pick-up\n"
     ]
    },
    {
     "name": "stderr",
     "output_type": "stream",
     "text": [
      "26811it [02:49, 164.66it/s]"
     ]
    },
    {
     "name": "stdout",
     "output_type": "stream",
     "text": [
      "Phrasal verb : pick-up\n",
      "Phrasal verb : scoop-up\n",
      "Phrasal verb : pick-up\n",
      "Phrasal verb : pick-up\n",
      "Phrasal verb : pick-up\n",
      "Phrasal verb : open-up\n",
      "Phrasal verb : put-back\n",
      "Phrasal verb : pick-up\n",
      "Phrasal verb : pick-up\n",
      "Phrasal verb : pick-up\n"
     ]
    },
    {
     "name": "stderr",
     "output_type": "stream",
     "text": [
      "26865it [02:49, 169.66it/s]"
     ]
    },
    {
     "name": "stdout",
     "output_type": "stream",
     "text": [
      "Phrasal verb : pick-up\n",
      "Phrasal verb : turn-off\n",
      "Phrasal verb : pick-up\n",
      "Phrasal verb : stand-up\n",
      "Phrasal verb : pick-up\n",
      "Phrasal verb : open-up\n",
      "Phrasal verb : pick-up\n",
      "Phrasal verb : open-up\n",
      "Phrasal verb : pick-up\n",
      "Phrasal verb : pick-up\n"
     ]
    },
    {
     "name": "stderr",
     "output_type": "stream",
     "text": [
      "26901it [02:49, 173.52it/s]"
     ]
    },
    {
     "name": "stdout",
     "output_type": "stream",
     "text": [
      "Phrasal verb : pick-up\n",
      "Phrasal verb : pick-up\n",
      "Phrasal verb : pick-up\n",
      "Phrasal verb : pick-up\n"
     ]
    },
    {
     "name": "stderr",
     "output_type": "stream",
     "text": [
      "27012it [02:50, 177.51it/s]"
     ]
    },
    {
     "name": "stdout",
     "output_type": "stream",
     "text": [
      "Phrasal verb : turn-off\n",
      "Phrasal verb : pick-up\n",
      "Phrasal verb : pick-up\n",
      "Phrasal verb : pick-up\n",
      "Phrasal verb : pick-up\n",
      "Phrasal verb : pick-up\n"
     ]
    },
    {
     "name": "stderr",
     "output_type": "stream",
     "text": [
      "27076it [02:50, 185.30it/s]"
     ]
    },
    {
     "name": "stdout",
     "output_type": "stream",
     "text": [
      "Phrasal verb : put-down\n",
      "Phrasal verb : open-up\n"
     ]
    },
    {
     "name": "stderr",
     "output_type": "stream",
     "text": [
      "27186it [02:51, 175.71it/s]"
     ]
    },
    {
     "name": "stdout",
     "output_type": "stream",
     "text": [
      "Phrasal verb : turn-off\n"
     ]
    },
    {
     "name": "stderr",
     "output_type": "stream",
     "text": [
      "27276it [02:51, 170.86it/s]"
     ]
    },
    {
     "name": "stdout",
     "output_type": "stream",
     "text": [
      "Phrasal verb : put-down\n",
      "Phrasal verb : pick-up\n",
      "Phrasal verb : pick-up\n",
      "Phrasal verb : pick-up\n",
      "Phrasal verb : pick-up\n",
      "Phrasal verb : pick-up\n"
     ]
    },
    {
     "name": "stderr",
     "output_type": "stream",
     "text": [
      "27312it [02:52, 170.87it/s]"
     ]
    },
    {
     "name": "stdout",
     "output_type": "stream",
     "text": [
      "Phrasal verb : pick-up\n",
      "Phrasal verb : pick-up\n",
      "Phrasal verb : put-down\n",
      "Phrasal verb : pick-up\n"
     ]
    },
    {
     "name": "stderr",
     "output_type": "stream",
     "text": [
      "27348it [02:52, 168.97it/s]"
     ]
    },
    {
     "name": "stdout",
     "output_type": "stream",
     "text": [
      "Phrasal verb : pick-up\n",
      "Phrasal verb : pick-up\n"
     ]
    },
    {
     "name": "stderr",
     "output_type": "stream",
     "text": [
      "27382it [02:52, 166.44it/s]"
     ]
    },
    {
     "name": "stdout",
     "output_type": "stream",
     "text": [
      "Phrasal verb : pick-up\n",
      "Phrasal verb : pick-up\n",
      "Phrasal verb : pick-up\n",
      "Phrasal verb : pick-up\n"
     ]
    },
    {
     "name": "stderr",
     "output_type": "stream",
     "text": [
      "27435it [02:52, 170.57it/s]"
     ]
    },
    {
     "name": "stdout",
     "output_type": "stream",
     "text": [
      "Phrasal verb : put-off\n",
      "Phrasal verb : pick-up\n",
      "Phrasal verb : pick-up\n",
      "Phrasal verb : put-down\n",
      "Phrasal verb : pick-up\n",
      "Phrasal verb : pick-up\n",
      "Phrasal verb : pick-up\n"
     ]
    },
    {
     "name": "stderr",
     "output_type": "stream",
     "text": [
      "27473it [02:52, 177.30it/s]"
     ]
    },
    {
     "name": "stdout",
     "output_type": "stream",
     "text": [
      "Phrasal verb : pick-up\n"
     ]
    },
    {
     "name": "stderr",
     "output_type": "stream",
     "text": [
      "27518it [02:53, 188.70it/s]"
     ]
    },
    {
     "name": "stdout",
     "output_type": "stream",
     "text": [
      "Phrasal verb : walk-up\n",
      "Phrasal verb : stand-up\n",
      "Phrasal verb : stand-up\n",
      "Phrasal verb : stand-up\n"
     ]
    },
    {
     "name": "stderr",
     "output_type": "stream",
     "text": [
      "27557it [02:53, 179.48it/s]"
     ]
    },
    {
     "name": "stdout",
     "output_type": "stream",
     "text": [
      "Phrasal verb : stand-up\n",
      "Phrasal verb : put-on\n",
      "Phrasal verb : stand-up\n"
     ]
    },
    {
     "name": "stderr",
     "output_type": "stream",
     "text": [
      "27613it [02:53, 169.55it/s]"
     ]
    },
    {
     "name": "stdout",
     "output_type": "stream",
     "text": [
      "Phrasal verb : bring-down\n",
      "Phrasal verb : slide-out\n",
      "Phrasal verb : pull-out\n"
     ]
    },
    {
     "name": "stderr",
     "output_type": "stream",
     "text": [
      "27684it [02:54, 165.46it/s]"
     ]
    },
    {
     "name": "stdout",
     "output_type": "stream",
     "text": [
      "Phrasal verb : put-back\n"
     ]
    },
    {
     "name": "stderr",
     "output_type": "stream",
     "text": [
      "27734it [02:54, 155.70it/s]"
     ]
    },
    {
     "name": "stdout",
     "output_type": "stream",
     "text": [
      "Phrasal verb : pick-up\n",
      "Phrasal verb : pick-up\n"
     ]
    },
    {
     "name": "stderr",
     "output_type": "stream",
     "text": [
      "27771it [02:54, 167.76it/s]"
     ]
    },
    {
     "name": "stdout",
     "output_type": "stream",
     "text": [
      "Phrasal verb : pick-up\n"
     ]
    },
    {
     "name": "stderr",
     "output_type": "stream",
     "text": [
      "27827it [02:55, 165.19it/s]"
     ]
    },
    {
     "name": "stdout",
     "output_type": "stream",
     "text": [
      "Phrasal verb : pull-out\n",
      "Phrasal verb : put-back\n",
      "Phrasal verb : pull-out\n",
      "Phrasal verb : pull-out\n"
     ]
    },
    {
     "name": "stderr",
     "output_type": "stream",
     "text": [
      "27879it [02:55, 162.66it/s]"
     ]
    },
    {
     "name": "stdout",
     "output_type": "stream",
     "text": [
      "Phrasal verb : pull-out\n",
      "Phrasal verb : pick-up\n",
      "Phrasal verb : pick-up\n",
      "Phrasal verb : pick-up\n",
      "Phrasal verb : pick-up\n",
      "Phrasal verb : pick-up\n",
      "Phrasal verb : pick-up\n",
      "Phrasal verb : pick-up\n",
      "Phrasal verb : pick-up\n",
      "Phrasal verb : pick-up\n"
     ]
    },
    {
     "name": "stderr",
     "output_type": "stream",
     "text": [
      "27932it [02:55, 167.72it/s]"
     ]
    },
    {
     "name": "stdout",
     "output_type": "stream",
     "text": [
      "Phrasal verb : pick-up\n",
      "Phrasal verb : pick-up\n",
      "Phrasal verb : hold-up\n",
      "Phrasal verb : pull-out\n",
      "Phrasal verb : take-out\n",
      "Phrasal verb : pick-up\n",
      "Phrasal verb : pick-up\n",
      "Phrasal verb : take-out\n"
     ]
    },
    {
     "name": "stderr",
     "output_type": "stream",
     "text": [
      "27969it [02:55, 174.36it/s]"
     ]
    },
    {
     "name": "stdout",
     "output_type": "stream",
     "text": [
      "Phrasal verb : pick-up\n",
      "Phrasal verb : pick-up\n"
     ]
    },
    {
     "name": "stderr",
     "output_type": "stream",
     "text": [
      "28094it [02:56, 165.95it/s]"
     ]
    },
    {
     "name": "stdout",
     "output_type": "stream",
     "text": [
      "Phrasal verb : pick-up\n"
     ]
    },
    {
     "name": "stderr",
     "output_type": "stream",
     "text": [
      "28145it [02:56, 163.93it/s]"
     ]
    },
    {
     "name": "stdout",
     "output_type": "stream",
     "text": [
      "Phrasal verb : pick-up\n"
     ]
    },
    {
     "name": "stderr",
     "output_type": "stream",
     "text": [
      "28236it [02:57, 174.83it/s]"
     ]
    },
    {
     "name": "stdout",
     "output_type": "stream",
     "text": [
      "Phrasal verb : check-out\n",
      "Phrasal verb : check-out\n",
      "Phrasal verb : check-out\n",
      "Phrasal verb : check-out\n",
      "Phrasal verb : stand-up\n"
     ]
    },
    {
     "name": "stderr",
     "output_type": "stream",
     "text": [
      "28346it [02:58, 138.69it/s]"
     ]
    },
    {
     "name": "stdout",
     "output_type": "stream",
     "text": [
      "Phrasal verb : stand-up\n"
     ]
    },
    {
     "name": "stderr",
     "output_type": "stream",
     "text": [
      "28429it [02:58, 161.53it/s]"
     ]
    },
    {
     "name": "stdout",
     "output_type": "stream",
     "text": [
      "Phrasal verb : put-down\n",
      "Phrasal verb : put-down\n"
     ]
    },
    {
     "name": "stderr",
     "output_type": "stream",
     "text": [
      "28465it [02:59, 168.33it/s]"
     ]
    },
    {
     "name": "stdout",
     "output_type": "stream",
     "text": [
      "Phrasal verb : put-down\n",
      "Phrasal verb : put-down\n",
      "Phrasal verb : put-down\n",
      "Phrasal verb : put-down\n",
      "Phrasal verb : put-down\n",
      "Phrasal verb : put-down\n"
     ]
    },
    {
     "name": "stderr",
     "output_type": "stream",
     "text": [
      "28502it [02:59, 175.69it/s]"
     ]
    },
    {
     "name": "stdout",
     "output_type": "stream",
     "text": [
      "Phrasal verb : put-down\n",
      "Phrasal verb : put-down\n",
      "Phrasal verb : put-down\n",
      "Phrasal verb : put-down\n"
     ]
    },
    {
     "name": "stderr",
     "output_type": "stream",
     "text": [
      "28888it [03:01, 177.24it/s]"
     ]
    },
    {
     "name": "stdout",
     "output_type": "stream",
     "text": [
      "Phrasal verb : dip-in\n",
      "Phrasal verb : dip-in\n",
      "Phrasal verb : place-down\n"
     ]
    },
    {
     "name": "stderr",
     "output_type": "stream",
     "text": [
      "28942it [03:01, 176.48it/s]"
     ]
    },
    {
     "name": "stdout",
     "output_type": "stream",
     "text": [
      "Phrasal verb : pick-up\n"
     ]
    },
    {
     "name": "stderr",
     "output_type": "stream",
     "text": [
      "28996it [03:02, 171.69it/s]"
     ]
    },
    {
     "name": "stdout",
     "output_type": "stream",
     "text": [
      "Phrasal verb : pick-up\n",
      "Phrasal verb : pick-up\n"
     ]
    },
    {
     "name": "stderr",
     "output_type": "stream",
     "text": [
      "29050it [03:02, 167.21it/s]"
     ]
    },
    {
     "name": "stdout",
     "output_type": "stream",
     "text": [
      "Phrasal verb : break-apart\n"
     ]
    },
    {
     "name": "stderr",
     "output_type": "stream",
     "text": [
      "29101it [03:02, 166.66it/s]"
     ]
    },
    {
     "name": "stdout",
     "output_type": "stream",
     "text": [
      "Phrasal verb : pick-up\n",
      "Phrasal verb : pick-up\n",
      "Phrasal verb : pick-up\n",
      "Phrasal verb : put-back\n",
      "Phrasal verb : pick-up\n",
      "Phrasal verb : put-back\n",
      "Phrasal verb : pick-up\n",
      "Phrasal verb : put-back\n",
      "Phrasal verb : pick-up\n",
      "Phrasal verb : put-back\n",
      "Phrasal verb : pick-up\n",
      "Phrasal verb : pick-up\n"
     ]
    },
    {
     "name": "stderr",
     "output_type": "stream",
     "text": [
      "29153it [03:03, 166.25it/s]"
     ]
    },
    {
     "name": "stdout",
     "output_type": "stream",
     "text": [
      "Phrasal verb : pick-up\n",
      "Phrasal verb : pick-up\n",
      "Phrasal verb : open-up\n",
      "Phrasal verb : pick-up\n",
      "Phrasal verb : open-up\n",
      "Phrasal verb : open-up\n",
      "Phrasal verb : pick-up\n",
      "Phrasal verb : pick-up\n",
      "Phrasal verb : pick-up\n",
      "Phrasal verb : pick-up\n",
      "Phrasal verb : pick-up\n",
      "Phrasal verb : pick-up\n"
     ]
    },
    {
     "name": "stderr",
     "output_type": "stream",
     "text": [
      "29187it [03:03, 164.74it/s]"
     ]
    },
    {
     "name": "stdout",
     "output_type": "stream",
     "text": [
      "Phrasal verb : pick-up\n",
      "Phrasal verb : pick-up\n",
      "Phrasal verb : fill-up\n",
      "Phrasal verb : pick-up\n",
      "Phrasal verb : fill-up\n",
      "Phrasal verb : pick-up\n",
      "Phrasal verb : pick-up\n"
     ]
    },
    {
     "name": "stderr",
     "output_type": "stream",
     "text": [
      "29221it [03:03, 166.11it/s]"
     ]
    },
    {
     "name": "stdout",
     "output_type": "stream",
     "text": [
      "Phrasal verb : pick-up\n",
      "Phrasal verb : pick-up\n",
      "Phrasal verb : pick-up\n",
      "Phrasal verb : drag-up\n",
      "Phrasal verb : pull-out\n",
      "Phrasal verb : pick-up\n"
     ]
    },
    {
     "name": "stderr",
     "output_type": "stream",
     "text": [
      "29275it [03:03, 168.88it/s]"
     ]
    },
    {
     "name": "stdout",
     "output_type": "stream",
     "text": [
      "Phrasal verb : switch-off\n",
      "Phrasal verb : switch-off\n",
      "Phrasal verb : switch-off\n",
      "Phrasal verb : switch-off\n",
      "Phrasal verb : switch-off\n",
      "Phrasal verb : switch-off\n",
      "Phrasal verb : switch-off\n",
      "Phrasal verb : put-down\n",
      "Phrasal verb : drop-down\n",
      "Phrasal verb : pick-up\n"
     ]
    },
    {
     "name": "stderr",
     "output_type": "stream",
     "text": [
      "29311it [03:04, 171.12it/s]"
     ]
    },
    {
     "name": "stdout",
     "output_type": "stream",
     "text": [
      "Phrasal verb : switch-off\n",
      "Phrasal verb : switch-off\n",
      "Phrasal verb : switch-off\n",
      "Phrasal verb : switch-off\n",
      "Phrasal verb : switch-off\n",
      "Phrasal verb : switch-off\n",
      "Phrasal verb : switch-off\n"
     ]
    },
    {
     "name": "stderr",
     "output_type": "stream",
     "text": [
      "29346it [03:04, 168.44it/s]"
     ]
    },
    {
     "name": "stdout",
     "output_type": "stream",
     "text": [
      "Phrasal verb : switch-off\n",
      "Phrasal verb : switch-off\n",
      "Phrasal verb : switch-off\n",
      "Phrasal verb : switch-off\n",
      "Phrasal verb : switch-off\n",
      "Phrasal verb : switch-off\n",
      "Phrasal verb : turn-around\n",
      "Phrasal verb : turn-around\n"
     ]
    },
    {
     "name": "stderr",
     "output_type": "stream",
     "text": [
      "29381it [03:04, 168.80it/s]"
     ]
    },
    {
     "name": "stdout",
     "output_type": "stream",
     "text": [
      "Phrasal verb : turn-around\n"
     ]
    },
    {
     "name": "stderr",
     "output_type": "stream",
     "text": [
      "29470it [03:04, 167.79it/s]"
     ]
    },
    {
     "name": "stdout",
     "output_type": "stream",
     "text": [
      "Phrasal verb : put-down\n",
      "Phrasal verb : put-on\n",
      "Phrasal verb : pick-up\n",
      "Phrasal verb : pick-up\n",
      "Phrasal verb : pick-up\n"
     ]
    },
    {
     "name": "stderr",
     "output_type": "stream",
     "text": [
      "30033it [03:08, 183.39it/s]"
     ]
    },
    {
     "name": "stdout",
     "output_type": "stream",
     "text": [
      "Phrasal verb : stand-up\n"
     ]
    },
    {
     "name": "stderr",
     "output_type": "stream",
     "text": [
      "30090it [03:08, 178.68it/s]"
     ]
    },
    {
     "name": "stdout",
     "output_type": "stream",
     "text": [
      "Phrasal verb : pour-in\n"
     ]
    },
    {
     "name": "stderr",
     "output_type": "stream",
     "text": [
      "30126it [03:08, 178.29it/s]"
     ]
    },
    {
     "name": "stdout",
     "output_type": "stream",
     "text": [
      "Phrasal verb : turn-off\n",
      "Phrasal verb : turn-off\n",
      "Phrasal verb : put-in\n",
      "Phrasal verb : put-in\n",
      "Phrasal verb : put-in\n"
     ]
    },
    {
     "name": "stderr",
     "output_type": "stream",
     "text": [
      "30183it [03:09, 178.70it/s]"
     ]
    },
    {
     "name": "stdout",
     "output_type": "stream",
     "text": [
      "Phrasal verb : turn-off\n",
      "Phrasal verb : pick-up\n"
     ]
    },
    {
     "name": "stderr",
     "output_type": "stream",
     "text": [
      "30310it [03:09, 169.99it/s]"
     ]
    },
    {
     "name": "stdout",
     "output_type": "stream",
     "text": [
      "Phrasal verb : move-up\n",
      "Phrasal verb : pick-up\n",
      "Phrasal verb : pick-up\n",
      "Phrasal verb : pick-up\n"
     ]
    },
    {
     "name": "stderr",
     "output_type": "stream",
     "text": [
      "30345it [03:10, 166.05it/s]"
     ]
    },
    {
     "name": "stdout",
     "output_type": "stream",
     "text": [
      "Phrasal verb : pull-out\n",
      "Phrasal verb : pick-up\n"
     ]
    },
    {
     "name": "stderr",
     "output_type": "stream",
     "text": [
      "30379it [03:10, 160.94it/s]"
     ]
    },
    {
     "name": "stdout",
     "output_type": "stream",
     "text": [
      "Phrasal verb : pick-up\n",
      "Phrasal verb : pull-out\n",
      "Phrasal verb : pick-up\n",
      "Phrasal verb : pick-up\n",
      "Phrasal verb : raise-up\n",
      "Phrasal verb : cut-off\n"
     ]
    },
    {
     "name": "stderr",
     "output_type": "stream",
     "text": [
      "30497it [03:11, 161.76it/s]"
     ]
    },
    {
     "name": "stdout",
     "output_type": "stream",
     "text": [
      "Phrasal verb : join-out\n",
      "Phrasal verb : drop-out\n",
      "Phrasal verb : point-out\n"
     ]
    },
    {
     "name": "stderr",
     "output_type": "stream",
     "text": [
      "30544it [03:11, 114.79it/s]"
     ]
    },
    {
     "name": "stdout",
     "output_type": "stream",
     "text": [
      "Phrasal verb : move-up\n",
      "Phrasal verb : move-up\n"
     ]
    },
    {
     "name": "stderr",
     "output_type": "stream",
     "text": [
      "30599it [03:11, 126.34it/s]"
     ]
    },
    {
     "name": "stdout",
     "output_type": "stream",
     "text": [
      "Phrasal verb : stretch-out\n",
      "Phrasal verb : hold-on\n",
      "Phrasal verb : pull-out\n",
      "Phrasal verb : pick-up\n"
     ]
    },
    {
     "name": "stderr",
     "output_type": "stream",
     "text": [
      "30643it [03:12, 135.37it/s]"
     ]
    },
    {
     "name": "stdout",
     "output_type": "stream",
     "text": [
      "Phrasal verb : put-down\n",
      "Phrasal verb : drop-down\n"
     ]
    },
    {
     "name": "stderr",
     "output_type": "stream",
     "text": [
      "30714it [03:12, 162.14it/s]"
     ]
    },
    {
     "name": "stdout",
     "output_type": "stream",
     "text": [
      "Phrasal verb : pick-up\n",
      "Phrasal verb : pick-up\n",
      "Phrasal verb : pick-up\n",
      "Phrasal verb : pick-up\n",
      "Phrasal verb : put-down\n",
      "Phrasal verb : pick-up\n",
      "Phrasal verb : pick-up\n",
      "Phrasal verb : pick-up\n",
      "Phrasal verb : pick-up\n",
      "Phrasal verb : pick-up\n",
      "Phrasal verb : pick-up\n",
      "Phrasal verb : pick-up\n",
      "Phrasal verb : pick-up\n"
     ]
    },
    {
     "name": "stderr",
     "output_type": "stream",
     "text": [
      "30749it [03:12, 161.58it/s]"
     ]
    },
    {
     "name": "stdout",
     "output_type": "stream",
     "text": [
      "Phrasal verb : pick-up\n",
      "Phrasal verb : pick-up\n",
      "Phrasal verb : pick-up\n",
      "Phrasal verb : pick-up\n",
      "Phrasal verb : pick-up\n",
      "Phrasal verb : pick-up\n",
      "Phrasal verb : pick-up\n",
      "Phrasal verb : pick-up\n",
      "Phrasal verb : pick-up\n",
      "Phrasal verb : pick-up\n",
      "Phrasal verb : pick-up\n",
      "Phrasal verb : pick-up\n",
      "Phrasal verb : pick-up\n"
     ]
    },
    {
     "name": "stderr",
     "output_type": "stream",
     "text": [
      "30783it [03:13, 160.66it/s]"
     ]
    },
    {
     "name": "stdout",
     "output_type": "stream",
     "text": [
      "Phrasal verb : pick-up\n",
      "Phrasal verb : pick-up\n",
      "Phrasal verb : hold-down\n",
      "Phrasal verb : pick-up\n",
      "Phrasal verb : bring-out\n",
      "Phrasal verb : pick-up\n",
      "Phrasal verb : pick-up\n",
      "Phrasal verb : pick-up\n",
      "Phrasal verb : pick-up\n"
     ]
    },
    {
     "name": "stderr",
     "output_type": "stream",
     "text": [
      "30834it [03:13, 158.06it/s]"
     ]
    },
    {
     "name": "stdout",
     "output_type": "stream",
     "text": [
      "Phrasal verb : pick-up\n",
      "Phrasal verb : pick-up\n",
      "Phrasal verb : pick-up\n",
      "Phrasal verb : pick-up\n",
      "Phrasal verb : pick-up\n"
     ]
    },
    {
     "name": "stderr",
     "output_type": "stream",
     "text": [
      "30868it [03:13, 162.09it/s]"
     ]
    },
    {
     "name": "stdout",
     "output_type": "stream",
     "text": [
      "Phrasal verb : pick-up\n",
      "Phrasal verb : pick-up\n",
      "Phrasal verb : pick-up\n",
      "Phrasal verb : pick-up\n"
     ]
    },
    {
     "name": "stderr",
     "output_type": "stream",
     "text": [
      "31207it [03:15, 168.61it/s]"
     ]
    },
    {
     "name": "stdout",
     "output_type": "stream",
     "text": [
      "Phrasal verb : put-down\n",
      "Phrasal verb : drop-down\n",
      "Phrasal verb : put-down\n",
      "Phrasal verb : put-down\n",
      "Phrasal verb : put-down\n",
      "Phrasal verb : put-down\n"
     ]
    },
    {
     "name": "stderr",
     "output_type": "stream",
     "text": [
      "31241it [03:15, 161.32it/s]"
     ]
    },
    {
     "name": "stdout",
     "output_type": "stream",
     "text": [
      "Phrasal verb : drop-down\n",
      "Phrasal verb : put-down\n",
      "Phrasal verb : put-down\n",
      "Phrasal verb : put-down\n"
     ]
    },
    {
     "name": "stderr",
     "output_type": "stream",
     "text": [
      "31394it [03:16, 165.03it/s]"
     ]
    },
    {
     "name": "stdout",
     "output_type": "stream",
     "text": [
      "Phrasal verb : pick-up\n",
      "Phrasal verb : pick-up\n",
      "Phrasal verb : pick-up\n",
      "Phrasal verb : pick-up\n",
      "Phrasal verb : pick-up\n",
      "Phrasal verb : pick-up\n",
      "Phrasal verb : pick-up\n",
      "Phrasal verb : pick-up\n",
      "Phrasal verb : pick-up\n"
     ]
    },
    {
     "name": "stderr",
     "output_type": "stream",
     "text": [
      "31429it [03:16, 164.52it/s]"
     ]
    },
    {
     "name": "stdout",
     "output_type": "stream",
     "text": [
      "Phrasal verb : pull-out\n",
      "Phrasal verb : pick-up\n"
     ]
    },
    {
     "name": "stderr",
     "output_type": "stream",
     "text": [
      "31480it [03:17, 159.19it/s]"
     ]
    },
    {
     "name": "stdout",
     "output_type": "stream",
     "text": [
      "Phrasal verb : bring-out\n",
      "Phrasal verb : pull-out\n",
      "Phrasal verb : pull-out\n",
      "Phrasal verb : turn-over\n"
     ]
    },
    {
     "name": "stderr",
     "output_type": "stream",
     "text": [
      "31497it [03:17, 132.20it/s]"
     ]
    },
    {
     "name": "stdout",
     "output_type": "stream",
     "text": [
      "Phrasal verb : turn-over\n",
      "Phrasal verb : pick-up\n"
     ]
    },
    {
     "name": "stderr",
     "output_type": "stream",
     "text": [
      "31705it [03:18, 161.83it/s]"
     ]
    },
    {
     "name": "stdout",
     "output_type": "stream",
     "text": [
      "Phrasal verb : pick-up\n",
      "Phrasal verb : pick-up\n",
      "Phrasal verb : bring-out\n",
      "Phrasal verb : pick-up\n",
      "Phrasal verb : pick-up\n",
      "Phrasal verb : pick-up\n",
      "Phrasal verb : pick-up\n",
      "Phrasal verb : tear-out\n"
     ]
    },
    {
     "name": "stderr",
     "output_type": "stream",
     "text": [
      "31758it [03:19, 167.76it/s]"
     ]
    },
    {
     "name": "stdout",
     "output_type": "stream",
     "text": [
      "Phrasal verb : pick-up\n",
      "Phrasal verb : pick-up\n",
      "Phrasal verb : pick-up\n",
      "Phrasal verb : pick-up\n"
     ]
    },
    {
     "name": "stderr",
     "output_type": "stream",
     "text": [
      "31856it [03:19, 154.65it/s]"
     ]
    },
    {
     "name": "stdout",
     "output_type": "stream",
     "text": [
      "Phrasal verb : drag-out\n"
     ]
    },
    {
     "name": "stderr",
     "output_type": "stream",
     "text": [
      "31904it [03:20, 149.67it/s]"
     ]
    },
    {
     "name": "stdout",
     "output_type": "stream",
     "text": [
      "Phrasal verb : drag-out\n",
      "Phrasal verb : pick-out\n"
     ]
    },
    {
     "name": "stderr",
     "output_type": "stream",
     "text": [
      "32004it [03:20, 133.08it/s]"
     ]
    },
    {
     "name": "stdout",
     "output_type": "stream",
     "text": [
      "Phrasal verb : take-off\n",
      "Phrasal verb : take-off\n",
      "Phrasal verb : take-off\n",
      "Phrasal verb : take-off\n",
      "Phrasal verb : take-off\n",
      "Phrasal verb : take-off\n"
     ]
    },
    {
     "name": "stderr",
     "output_type": "stream",
     "text": [
      "32032it [03:21, 132.55it/s]"
     ]
    },
    {
     "name": "stdout",
     "output_type": "stream",
     "text": [
      "Phrasal verb : take-off\n",
      "Phrasal verb : take-off\n",
      "Phrasal verb : take-off\n",
      "Phrasal verb : take-off\n",
      "Phrasal verb : take-off\n",
      "Phrasal verb : walk-up\n"
     ]
    },
    {
     "name": "stderr",
     "output_type": "stream",
     "text": [
      "32172it [03:21, 164.72it/s]"
     ]
    },
    {
     "name": "stdout",
     "output_type": "stream",
     "text": [
      "Phrasal verb : turn-around\n",
      "Phrasal verb : pick-up\n",
      "Phrasal verb : pick-up\n"
     ]
    },
    {
     "name": "stderr",
     "output_type": "stream",
     "text": [
      "32206it [03:22, 159.67it/s]"
     ]
    },
    {
     "name": "stdout",
     "output_type": "stream",
     "text": [
      "Phrasal verb : pick-up\n",
      "Phrasal verb : clean-up\n",
      "Phrasal verb : clean-up\n"
     ]
    },
    {
     "name": "stderr",
     "output_type": "stream",
     "text": [
      "32240it [03:22, 161.56it/s]"
     ]
    },
    {
     "name": "stdout",
     "output_type": "stream",
     "text": [
      "Phrasal verb : clean-up\n",
      "Phrasal verb : pull-out\n"
     ]
    },
    {
     "name": "stderr",
     "output_type": "stream",
     "text": [
      "32273it [03:22, 158.24it/s]"
     ]
    },
    {
     "name": "stdout",
     "output_type": "stream",
     "text": [
      "Phrasal verb : pick-up\n",
      "Phrasal verb : pick-up\n",
      "Phrasal verb : pick-up\n",
      "Phrasal verb : pick-up\n"
     ]
    },
    {
     "name": "stderr",
     "output_type": "stream",
     "text": [
      "32358it [03:23, 165.49it/s]"
     ]
    },
    {
     "name": "stdout",
     "output_type": "stream",
     "text": [
      "Phrasal verb : stand-up\n"
     ]
    },
    {
     "name": "stderr",
     "output_type": "stream",
     "text": [
      "32394it [03:23, 168.58it/s]"
     ]
    },
    {
     "name": "stdout",
     "output_type": "stream",
     "text": [
      "Phrasal verb : turn-off\n"
     ]
    },
    {
     "name": "stderr",
     "output_type": "stream",
     "text": [
      "32499it [03:24, 166.23it/s]"
     ]
    },
    {
     "name": "stdout",
     "output_type": "stream",
     "text": [
      "Phrasal verb : put-on\n"
     ]
    },
    {
     "name": "stderr",
     "output_type": "stream",
     "text": [
      "32570it [03:24, 165.85it/s]"
     ]
    },
    {
     "name": "stdout",
     "output_type": "stream",
     "text": [
      "Phrasal verb : pick-up\n",
      "Phrasal verb : pick-up\n"
     ]
    },
    {
     "name": "stderr",
     "output_type": "stream",
     "text": [
      "32656it [03:24, 162.66it/s]"
     ]
    },
    {
     "name": "stdout",
     "output_type": "stream",
     "text": [
      "Phrasal verb : switch-off\n",
      "Phrasal verb : lift-up\n",
      "Phrasal verb : lift-up\n"
     ]
    },
    {
     "name": "stderr",
     "output_type": "stream",
     "text": [
      "32739it [03:25, 160.64it/s]"
     ]
    },
    {
     "name": "stdout",
     "output_type": "stream",
     "text": [
      "Phrasal verb : switch-off\n",
      "Phrasal verb : pick-up\n",
      "Phrasal verb : pick-up\n",
      "Phrasal verb : pick-up\n",
      "Phrasal verb : pick-up\n",
      "Phrasal verb : pick-up\n",
      "Phrasal verb : pick-up\n",
      "Phrasal verb : pick-up\n",
      "Phrasal verb : pick-up\n"
     ]
    },
    {
     "name": "stderr",
     "output_type": "stream",
     "text": [
      "32773it [03:25, 161.48it/s]"
     ]
    },
    {
     "name": "stdout",
     "output_type": "stream",
     "text": [
      "Phrasal verb : put-down\n",
      "Phrasal verb : pick-up\n",
      "Phrasal verb : pick-up\n",
      "Phrasal verb : pick-up\n",
      "Phrasal verb : pick-up\n",
      "Phrasal verb : pick-up\n",
      "Phrasal verb : put-down\n",
      "Phrasal verb : pick-up\n",
      "Phrasal verb : pick-up\n",
      "Phrasal verb : pick-up\n",
      "Phrasal verb : put-down\n",
      "Phrasal verb : pick-up\n",
      "Phrasal verb : pick-up\n",
      "Phrasal verb : pick-up\n",
      "Phrasal verb : pick-up\n",
      "Phrasal verb : pick-up\n"
     ]
    },
    {
     "name": "stderr",
     "output_type": "stream",
     "text": [
      "32824it [03:26, 163.05it/s]"
     ]
    },
    {
     "name": "stdout",
     "output_type": "stream",
     "text": [
      "Phrasal verb : pick-up\n",
      "Phrasal verb : pick-up\n",
      "Phrasal verb : pick-up\n",
      "Phrasal verb : pick-up\n",
      "Phrasal verb : pick-up\n",
      "Phrasal verb : put-down\n",
      "Phrasal verb : pick-up\n",
      "Phrasal verb : pick-up\n",
      "Phrasal verb : pick-up\n",
      "Phrasal verb : pick-up\n",
      "Phrasal verb : pick-up\n",
      "Phrasal verb : put-down\n"
     ]
    },
    {
     "name": "stderr",
     "output_type": "stream",
     "text": [
      "32871it [03:26, 185.29it/s]"
     ]
    },
    {
     "name": "stdout",
     "output_type": "stream",
     "text": [
      "Phrasal verb : roll-up\n",
      "Phrasal verb : pick-up\n",
      "Phrasal verb : pick-up\n",
      "Phrasal verb : put-down\n",
      "Phrasal verb : pick-up\n",
      "Phrasal verb : put-down\n",
      "Phrasal verb : put-down\n",
      "Phrasal verb : turn-off\n",
      "Phrasal verb : put-down\n",
      "Phrasal verb : pick-up\n",
      "Phrasal verb : put-down\n",
      "Phrasal verb : pick-up\n",
      "Phrasal verb : put-down\n",
      "Phrasal verb : pull-out\n",
      "Phrasal verb : pick-up\n"
     ]
    },
    {
     "name": "stderr",
     "output_type": "stream",
     "text": [
      "32910it [03:26, 170.05it/s]"
     ]
    },
    {
     "name": "stdout",
     "output_type": "stream",
     "text": [
      "Phrasal verb : shake-off\n",
      "Phrasal verb : pick-up\n",
      "Phrasal verb : cut-off\n",
      "Phrasal verb : take-out\n",
      "Phrasal verb : put-back\n"
     ]
    },
    {
     "name": "stderr",
     "output_type": "stream",
     "text": [
      "32946it [03:26, 167.84it/s]"
     ]
    },
    {
     "name": "stdout",
     "output_type": "stream",
     "text": [
      "Phrasal verb : shake-off\n",
      "Phrasal verb : pick-up\n",
      "Phrasal verb : shake-off\n"
     ]
    },
    {
     "name": "stderr",
     "output_type": "stream",
     "text": [
      "32980it [03:26, 165.00it/s]"
     ]
    },
    {
     "name": "stdout",
     "output_type": "stream",
     "text": [
      "Phrasal verb : pick-up\n",
      "Phrasal verb : put-down\n",
      "Phrasal verb : pick-up\n",
      "Phrasal verb : put-down\n",
      "Phrasal verb : pick-up\n",
      "Phrasal verb : pick-up\n"
     ]
    },
    {
     "name": "stderr",
     "output_type": "stream",
     "text": [
      "33162it [03:28, 157.70it/s]"
     ]
    },
    {
     "name": "stdout",
     "output_type": "stream",
     "text": [
      "Phrasal verb : pick-up\n",
      "Phrasal verb : drag-out\n"
     ]
    },
    {
     "name": "stderr",
     "output_type": "stream",
     "text": [
      "33212it [03:28, 159.82it/s]"
     ]
    },
    {
     "name": "stdout",
     "output_type": "stream",
     "text": [
      "Phrasal verb : switch-off\n",
      "Phrasal verb : switch-off\n",
      "Phrasal verb : switch-off\n",
      "Phrasal verb : switch-off\n"
     ]
    },
    {
     "name": "stderr",
     "output_type": "stream",
     "text": [
      "33259it [03:28, 144.67it/s]"
     ]
    },
    {
     "name": "stdout",
     "output_type": "stream",
     "text": [
      "Phrasal verb : stand-up\n",
      "Phrasal verb : stand-up\n",
      "Phrasal verb : stand-up\n"
     ]
    },
    {
     "name": "stderr",
     "output_type": "stream",
     "text": [
      "33309it [03:29, 156.57it/s]"
     ]
    },
    {
     "name": "stdout",
     "output_type": "stream",
     "text": [
      "Phrasal verb : stand-up\n",
      "Phrasal verb : stand-up\n"
     ]
    },
    {
     "name": "stderr",
     "output_type": "stream",
     "text": [
      "33376it [03:29, 161.14it/s]"
     ]
    },
    {
     "name": "stdout",
     "output_type": "stream",
     "text": [
      "Phrasal verb : turn-off\n",
      "Phrasal verb : turn-off\n",
      "Phrasal verb : turn-off\n",
      "Phrasal verb : turn-off\n",
      "Phrasal verb : turn-off\n",
      "Phrasal verb : turn-off\n",
      "Phrasal verb : turn-off\n",
      "Phrasal verb : turn-off\n",
      "Phrasal verb : turn-off\n"
     ]
    },
    {
     "name": "stderr",
     "output_type": "stream",
     "text": [
      "33429it [03:29, 167.49it/s]"
     ]
    },
    {
     "name": "stdout",
     "output_type": "stream",
     "text": [
      "Phrasal verb : turn-around\n",
      "Phrasal verb : pick-up\n",
      "Phrasal verb : pick-up\n"
     ]
    },
    {
     "name": "stderr",
     "output_type": "stream",
     "text": [
      "33847it [03:32, 173.65it/s]"
     ]
    },
    {
     "name": "stdout",
     "output_type": "stream",
     "text": [
      "Phrasal verb : pick-up\n",
      "Phrasal verb : turn-off\n"
     ]
    },
    {
     "name": "stderr",
     "output_type": "stream",
     "text": [
      "34137it [03:33, 176.04it/s]"
     ]
    },
    {
     "name": "stdout",
     "output_type": "stream",
     "text": [
      "Phrasal verb : pick-up\n",
      "Phrasal verb : turn-off\n",
      "Phrasal verb : pick-up\n",
      "Phrasal verb : pick-up\n",
      "Phrasal verb : pick-up\n",
      "Phrasal verb : pick-up\n",
      "Phrasal verb : pick-up\n"
     ]
    },
    {
     "name": "stderr",
     "output_type": "stream",
     "text": [
      "34173it [03:34, 166.48it/s]"
     ]
    },
    {
     "name": "stdout",
     "output_type": "stream",
     "text": [
      "Phrasal verb : pick-up\n",
      "Phrasal verb : pick-up\n",
      "Phrasal verb : pick-up\n",
      "Phrasal verb : pick-up\n",
      "Phrasal verb : pick-up\n",
      "Phrasal verb : pick-up\n"
     ]
    },
    {
     "name": "stderr",
     "output_type": "stream",
     "text": [
      "34207it [03:34, 164.50it/s]"
     ]
    },
    {
     "name": "stdout",
     "output_type": "stream",
     "text": [
      "Phrasal verb : push-in\n",
      "Phrasal verb : bend-down\n",
      "Phrasal verb : stand-up\n"
     ]
    },
    {
     "name": "stderr",
     "output_type": "stream",
     "text": [
      "34279it [03:34, 174.74it/s]"
     ]
    },
    {
     "name": "stdout",
     "output_type": "stream",
     "text": [
      "Phrasal verb : pull-up\n"
     ]
    },
    {
     "name": "stderr",
     "output_type": "stream",
     "text": [
      "34316it [03:34, 179.00it/s]"
     ]
    },
    {
     "name": "stdout",
     "output_type": "stream",
     "text": [
      "Phrasal verb : stand-up\n",
      "Phrasal verb : stand-up\n",
      "Phrasal verb : stand-up\n"
     ]
    },
    {
     "name": "stderr",
     "output_type": "stream",
     "text": [
      "34352it [03:35, 178.52it/s]"
     ]
    },
    {
     "name": "stdout",
     "output_type": "stream",
     "text": [
      "Phrasal verb : stand-up\n",
      "Phrasal verb : stand-up\n"
     ]
    },
    {
     "name": "stderr",
     "output_type": "stream",
     "text": [
      "34448it [03:35, 183.36it/s]"
     ]
    },
    {
     "name": "stdout",
     "output_type": "stream",
     "text": [
      "Phrasal verb : put-down\n",
      "Phrasal verb : stand-up\n"
     ]
    },
    {
     "name": "stderr",
     "output_type": "stream",
     "text": [
      "34486it [03:35, 177.30it/s]"
     ]
    },
    {
     "name": "stdout",
     "output_type": "stream",
     "text": [
      "Phrasal verb : stand-up\n"
     ]
    },
    {
     "name": "stderr",
     "output_type": "stream",
     "text": [
      "34540it [03:36, 174.83it/s]"
     ]
    },
    {
     "name": "stdout",
     "output_type": "stream",
     "text": [
      "Phrasal verb : stand-up\n"
     ]
    },
    {
     "name": "stderr",
     "output_type": "stream",
     "text": [
      "34709it [03:37, 185.79it/s]"
     ]
    },
    {
     "name": "stdout",
     "output_type": "stream",
     "text": [
      "Phrasal verb : stand-up\n",
      "Phrasal verb : stand-up\n",
      "Phrasal verb : stand-up\n",
      "Phrasal verb : stand-up\n"
     ]
    },
    {
     "name": "stderr",
     "output_type": "stream",
     "text": [
      "34771it [03:37, 195.61it/s]"
     ]
    },
    {
     "name": "stdout",
     "output_type": "stream",
     "text": [
      "Phrasal verb : stand-up\n",
      "Phrasal verb : stand-up\n",
      "Phrasal verb : stand-up\n",
      "Phrasal verb : stand-up\n"
     ]
    },
    {
     "name": "stderr",
     "output_type": "stream",
     "text": [
      "34811it [03:37, 181.82it/s]"
     ]
    },
    {
     "name": "stdout",
     "output_type": "stream",
     "text": [
      "Phrasal verb : pick-up\n",
      "Phrasal verb : pick-up\n",
      "Phrasal verb : pick-up\n",
      "Phrasal verb : pick-up\n",
      "Phrasal verb : pick-up\n"
     ]
    },
    {
     "name": "stderr",
     "output_type": "stream",
     "text": [
      "34848it [03:37, 175.89it/s]"
     ]
    },
    {
     "name": "stdout",
     "output_type": "stream",
     "text": [
      "Phrasal verb : pick-up\n",
      "Phrasal verb : pick-up\n",
      "Phrasal verb : pick-up\n"
     ]
    },
    {
     "name": "stderr",
     "output_type": "stream",
     "text": [
      "34902it [03:38, 169.22it/s]"
     ]
    },
    {
     "name": "stdout",
     "output_type": "stream",
     "text": [
      "Phrasal verb : blow-off\n"
     ]
    },
    {
     "name": "stderr",
     "output_type": "stream",
     "text": [
      "34934it [03:38, 118.60it/s]"
     ]
    },
    {
     "name": "stdout",
     "output_type": "stream",
     "text": [
      "Phrasal verb : pull-out\n",
      "Phrasal verb : bring-out\n",
      "Phrasal verb : bring-out\n"
     ]
    },
    {
     "name": "stderr",
     "output_type": "stream",
     "text": [
      "35033it [03:39, 129.08it/s]"
     ]
    },
    {
     "name": "stdout",
     "output_type": "stream",
     "text": [
      "Phrasal verb : bring-out\n",
      "Phrasal verb : cut-out\n",
      "Phrasal verb : pass-out\n",
      "Phrasal verb : pick-up\n"
     ]
    },
    {
     "name": "stderr",
     "output_type": "stream",
     "text": [
      "35067it [03:39, 146.28it/s]"
     ]
    },
    {
     "name": "stdout",
     "output_type": "stream",
     "text": [
      "Phrasal verb : pick-up\n",
      "Phrasal verb : pick-up\n",
      "Phrasal verb : stand-up\n",
      "Phrasal verb : pick-up\n",
      "Phrasal verb : stand-up\n",
      "Phrasal verb : pick-up\n",
      "Phrasal verb : pick-up\n"
     ]
    },
    {
     "name": "stderr",
     "output_type": "stream",
     "text": [
      "35124it [03:39, 167.48it/s]"
     ]
    },
    {
     "name": "stdout",
     "output_type": "stream",
     "text": [
      "Phrasal verb : pick-up\n",
      "Phrasal verb : pick-up\n",
      "Phrasal verb : pick-up\n"
     ]
    },
    {
     "name": "stderr",
     "output_type": "stream",
     "text": [
      "35142it [03:40, 138.18it/s]"
     ]
    },
    {
     "name": "stdout",
     "output_type": "stream",
     "text": [
      "Phrasal verb : pick-up\n",
      "Phrasal verb : pick-up\n"
     ]
    },
    {
     "name": "stderr",
     "output_type": "stream",
     "text": [
      "35189it [03:40, 145.28it/s]"
     ]
    },
    {
     "name": "stdout",
     "output_type": "stream",
     "text": [
      "Phrasal verb : pick-up\n"
     ]
    },
    {
     "name": "stderr",
     "output_type": "stream",
     "text": [
      "35220it [03:40, 147.25it/s]"
     ]
    },
    {
     "name": "stdout",
     "output_type": "stream",
     "text": [
      "Phrasal verb : pick-up\n",
      "Phrasal verb : pick-up\n",
      "Phrasal verb : stand-up\n",
      "Phrasal verb : pick-up\n",
      "Phrasal verb : stand-up\n",
      "Phrasal verb : pick-up\n",
      "Phrasal verb : pick-up\n",
      "Phrasal verb : pick-up\n",
      "Phrasal verb : stand-up\n"
     ]
    },
    {
     "name": "stderr",
     "output_type": "stream",
     "text": [
      "35269it [03:40, 155.20it/s]"
     ]
    },
    {
     "name": "stdout",
     "output_type": "stream",
     "text": [
      "Phrasal verb : pick-up\n",
      "Phrasal verb : pick-up\n",
      "Phrasal verb : pick-up\n",
      "Phrasal verb : pick-up\n",
      "Phrasal verb : stand-up\n"
     ]
    },
    {
     "name": "stderr",
     "output_type": "stream",
     "text": [
      "35304it [03:41, 160.48it/s]"
     ]
    },
    {
     "name": "stdout",
     "output_type": "stream",
     "text": [
      "Phrasal verb : pick-up\n",
      "Phrasal verb : pick-up\n",
      "Phrasal verb : pick-up\n",
      "Phrasal verb : stand-up\n",
      "Phrasal verb : pick-up\n",
      "Phrasal verb : pick-up\n",
      "Phrasal verb : pick-up\n",
      "Phrasal verb : stand-up\n"
     ]
    },
    {
     "name": "stderr",
     "output_type": "stream",
     "text": [
      "35339it [03:41, 160.49it/s]"
     ]
    },
    {
     "name": "stdout",
     "output_type": "stream",
     "text": [
      "Phrasal verb : pick-up\n",
      "Phrasal verb : bring-out\n",
      "Phrasal verb : open-up\n"
     ]
    },
    {
     "name": "stderr",
     "output_type": "stream",
     "text": [
      "35373it [03:41, 159.84it/s]"
     ]
    },
    {
     "name": "stdout",
     "output_type": "stream",
     "text": [
      "Phrasal verb : pick-up\n",
      "Phrasal verb : pick-up\n"
     ]
    },
    {
     "name": "stderr",
     "output_type": "stream",
     "text": [
      "35425it [03:41, 166.62it/s]"
     ]
    },
    {
     "name": "stdout",
     "output_type": "stream",
     "text": [
      "Phrasal verb : put-down\n",
      "Phrasal verb : pick-up\n"
     ]
    },
    {
     "name": "stderr",
     "output_type": "stream",
     "text": [
      "35464it [03:42, 177.47it/s]"
     ]
    },
    {
     "name": "stdout",
     "output_type": "stream",
     "text": [
      "Phrasal verb : stand-up\n",
      "Phrasal verb : put-down\n",
      "Phrasal verb : put-on\n"
     ]
    },
    {
     "name": "stderr",
     "output_type": "stream",
     "text": [
      "35500it [03:42, 174.69it/s]"
     ]
    },
    {
     "name": "stdout",
     "output_type": "stream",
     "text": [
      "Phrasal verb : put-in\n"
     ]
    },
    {
     "name": "stderr",
     "output_type": "stream",
     "text": [
      "35650it [03:43, 138.17it/s]"
     ]
    },
    {
     "name": "stdout",
     "output_type": "stream",
     "text": [
      "Phrasal verb : bend-down\n",
      "Phrasal verb : bend-down\n"
     ]
    },
    {
     "name": "stderr",
     "output_type": "stream",
     "text": [
      "35910it [03:44, 163.41it/s]"
     ]
    },
    {
     "name": "stdout",
     "output_type": "stream",
     "text": [
      "Phrasal verb : pick-up\n",
      "Phrasal verb : pick-up\n",
      "Phrasal verb : pick-up\n",
      "Phrasal verb : pick-up\n"
     ]
    },
    {
     "name": "stderr",
     "output_type": "stream",
     "text": [
      "36163it [03:46, 156.73it/s]"
     ]
    },
    {
     "name": "stdout",
     "output_type": "stream",
     "text": [
      "Phrasal verb : pick-up\n",
      "Phrasal verb : peel-off\n",
      "Phrasal verb : peel-off\n",
      "Phrasal verb : peel-off\n"
     ]
    },
    {
     "name": "stderr",
     "output_type": "stream",
     "text": [
      "36244it [03:46, 130.94it/s]"
     ]
    },
    {
     "name": "stdout",
     "output_type": "stream",
     "text": [
      "Phrasal verb : peel-off\n",
      "Phrasal verb : pick-up\n",
      "Phrasal verb : peel-off\n",
      "Phrasal verb : pick-up\n",
      "Phrasal verb : pick-up\n",
      "Phrasal verb : pick-up\n"
     ]
    },
    {
     "name": "stderr",
     "output_type": "stream",
     "text": [
      "36272it [03:47, 129.98it/s]"
     ]
    },
    {
     "name": "stdout",
     "output_type": "stream",
     "text": [
      "Phrasal verb : pick-up\n",
      "Phrasal verb : pick-up\n",
      "Phrasal verb : pick-up\n",
      "Phrasal verb : pick-up\n",
      "Phrasal verb : pick-up\n",
      "Phrasal verb : pick-up\n",
      "Phrasal verb : pick-up\n"
     ]
    },
    {
     "name": "stderr",
     "output_type": "stream",
     "text": [
      "36323it [03:47, 136.97it/s]"
     ]
    },
    {
     "name": "stdout",
     "output_type": "stream",
     "text": [
      "Phrasal verb : peel-off\n",
      "Phrasal verb : peel-off\n"
     ]
    },
    {
     "name": "stderr",
     "output_type": "stream",
     "text": [
      "36406it [03:47, 168.06it/s]"
     ]
    },
    {
     "name": "stdout",
     "output_type": "stream",
     "text": [
      "Phrasal verb : put-down\n",
      "Phrasal verb : move-up\n"
     ]
    },
    {
     "name": "stderr",
     "output_type": "stream",
     "text": [
      "36565it [03:48, 163.07it/s]"
     ]
    },
    {
     "name": "stdout",
     "output_type": "stream",
     "text": [
      "Phrasal verb : pick-up\n",
      "Phrasal verb : pick-up\n",
      "Phrasal verb : pick-up\n",
      "Phrasal verb : put-down\n",
      "Phrasal verb : pick-up\n",
      "Phrasal verb : pick-up\n",
      "Phrasal verb : pick-up\n",
      "Phrasal verb : put-down\n",
      "Phrasal verb : pick-up\n",
      "Phrasal verb : put-down\n",
      "Phrasal verb : put-down\n",
      "Phrasal verb : pick-up\n",
      "Phrasal verb : put-down\n",
      "Phrasal verb : pick-up\n",
      "Phrasal verb : put-down\n",
      "Phrasal verb : pick-up\n",
      "Phrasal verb : pick-up\n",
      "Phrasal verb : stand-up\n",
      "Phrasal verb : pick-up\n",
      "Phrasal verb : put-down\n"
     ]
    },
    {
     "name": "stderr",
     "output_type": "stream",
     "text": [
      "36610it [03:49, 184.45it/s]"
     ]
    },
    {
     "name": "stdout",
     "output_type": "stream",
     "text": [
      "Phrasal verb : pick-up\n",
      "Phrasal verb : put-down\n",
      "Phrasal verb : pick-up\n",
      "Phrasal verb : put-down\n",
      "Phrasal verb : pick-up\n",
      "Phrasal verb : pick-up\n",
      "Phrasal verb : put-down\n",
      "Phrasal verb : put-down\n",
      "Phrasal verb : pick-up\n",
      "Phrasal verb : pick-up\n",
      "Phrasal verb : pick-up\n",
      "Phrasal verb : stand-up\n",
      "Phrasal verb : put-down\n",
      "Phrasal verb : pick-up\n",
      "Phrasal verb : put-down\n",
      "Phrasal verb : pick-up\n",
      "Phrasal verb : pick-up\n",
      "Phrasal verb : pick-up\n"
     ]
    },
    {
     "name": "stderr",
     "output_type": "stream",
     "text": [
      "36635it [03:49, 200.00it/s]"
     ]
    },
    {
     "name": "stdout",
     "output_type": "stream",
     "text": [
      "Phrasal verb : pick-up\n",
      "Phrasal verb : put-down\n",
      "Phrasal verb : pick-up\n",
      "Phrasal verb : pick-up\n",
      "Phrasal verb : put-down\n",
      "Phrasal verb : put-down\n",
      "Phrasal verb : put-down\n",
      "Phrasal verb : pick-up\n",
      "Phrasal verb : pick-up\n",
      "Phrasal verb : put-down\n",
      "Phrasal verb : raise-up\n"
     ]
    },
    {
     "name": "stderr",
     "output_type": "stream",
     "text": [
      "36698it [03:49, 177.40it/s]"
     ]
    },
    {
     "name": "stdout",
     "output_type": "stream",
     "text": [
      "Phrasal verb : bend-down\n"
     ]
    },
    {
     "name": "stderr",
     "output_type": "stream",
     "text": [
      "36735it [03:49, 168.72it/s]"
     ]
    },
    {
     "name": "stdout",
     "output_type": "stream",
     "text": [
      "Phrasal verb : pick-up\n"
     ]
    },
    {
     "name": "stderr",
     "output_type": "stream",
     "text": [
      "36884it [03:50, 152.48it/s]"
     ]
    },
    {
     "name": "stdout",
     "output_type": "stream",
     "text": [
      "Phrasal verb : move-out\n",
      "Phrasal verb : bring-out\n"
     ]
    },
    {
     "name": "stderr",
     "output_type": "stream",
     "text": [
      "36950it [03:51, 158.14it/s]"
     ]
    },
    {
     "name": "stdout",
     "output_type": "stream",
     "text": [
      "Phrasal verb : pick-up\n",
      "Phrasal verb : pick-up\n",
      "Phrasal verb : put-down\n"
     ]
    },
    {
     "name": "stderr",
     "output_type": "stream",
     "text": [
      "37003it [03:51, 167.36it/s]"
     ]
    },
    {
     "name": "stdout",
     "output_type": "stream",
     "text": [
      "Phrasal verb : put-down\n"
     ]
    },
    {
     "name": "stderr",
     "output_type": "stream",
     "text": [
      "37057it [03:51, 169.74it/s]"
     ]
    },
    {
     "name": "stdout",
     "output_type": "stream",
     "text": [
      "Phrasal verb : turn-around\n",
      "Phrasal verb : put-down\n",
      "Phrasal verb : drill-out\n",
      "Phrasal verb : turn-around\n"
     ]
    },
    {
     "name": "stderr",
     "output_type": "stream",
     "text": [
      "37091it [03:52, 168.87it/s]"
     ]
    },
    {
     "name": "stdout",
     "output_type": "stream",
     "text": [
      "Phrasal verb : drill-out\n",
      "Phrasal verb : turn-around\n",
      "Phrasal verb : turn-around\n",
      "Phrasal verb : drill-out\n",
      "Phrasal verb : turn-around\n",
      "Phrasal verb : turn-around\n",
      "Phrasal verb : turn-around\n",
      "Phrasal verb : drift-out\n",
      "Phrasal verb : turn-around\n"
     ]
    },
    {
     "name": "stderr",
     "output_type": "stream",
     "text": [
      "37128it [03:52, 175.54it/s]"
     ]
    },
    {
     "name": "stdout",
     "output_type": "stream",
     "text": [
      "Phrasal verb : blow-off\n"
     ]
    },
    {
     "name": "stderr",
     "output_type": "stream",
     "text": [
      "37267it [03:53, 169.23it/s]"
     ]
    },
    {
     "name": "stdout",
     "output_type": "stream",
     "text": [
      "Phrasal verb : turn-around\n"
     ]
    },
    {
     "name": "stderr",
     "output_type": "stream",
     "text": [
      "37318it [03:53, 163.96it/s]"
     ]
    },
    {
     "name": "stdout",
     "output_type": "stream",
     "text": [
      "Phrasal verb : take-off\n",
      "Phrasal verb : put-on\n",
      "Phrasal verb : put-off\n",
      "Phrasal verb : put-on\n",
      "Phrasal verb : pick-up\n",
      "Phrasal verb : pick-up\n"
     ]
    },
    {
     "name": "stderr",
     "output_type": "stream",
     "text": [
      "37388it [03:53, 168.47it/s]"
     ]
    },
    {
     "name": "stdout",
     "output_type": "stream",
     "text": [
      "Phrasal verb : pick-up\n",
      "Phrasal verb : drill-out\n",
      "Phrasal verb : drill-out\n",
      "Phrasal verb : drill-out\n",
      "Phrasal verb : drill-out\n",
      "Phrasal verb : drill-out\n",
      "Phrasal verb : drill-out\n"
     ]
    },
    {
     "name": "stderr",
     "output_type": "stream",
     "text": [
      "37440it [03:54, 167.07it/s]"
     ]
    },
    {
     "name": "stdout",
     "output_type": "stream",
     "text": [
      "Phrasal verb : take-off\n",
      "Phrasal verb : put-on\n",
      "Phrasal verb : go-down\n",
      "Phrasal verb : take-off\n",
      "Phrasal verb : take-off\n"
     ]
    },
    {
     "name": "stderr",
     "output_type": "stream",
     "text": [
      "37474it [03:54, 167.11it/s]"
     ]
    },
    {
     "name": "stdout",
     "output_type": "stream",
     "text": [
      "Phrasal verb : take-off\n",
      "Phrasal verb : use-up\n"
     ]
    },
    {
     "name": "stderr",
     "output_type": "stream",
     "text": [
      "37508it [03:54, 166.67it/s]"
     ]
    },
    {
     "name": "stdout",
     "output_type": "stream",
     "text": [
      "Phrasal verb : lift-up\n",
      "Phrasal verb : pick-up\n",
      "Phrasal verb : pick-up\n",
      "Phrasal verb : pick-up\n"
     ]
    },
    {
     "name": "stderr",
     "output_type": "stream",
     "text": [
      "37642it [03:55, 177.14it/s]"
     ]
    },
    {
     "name": "stdout",
     "output_type": "stream",
     "text": [
      "Phrasal verb : pick-up\n",
      "Phrasal verb : pick-up\n",
      "Phrasal verb : pick-up\n",
      "Phrasal verb : pick-up\n",
      "Phrasal verb : pick-up\n",
      "Phrasal verb : pick-up\n",
      "Phrasal verb : pick-up\n"
     ]
    },
    {
     "name": "stderr",
     "output_type": "stream",
     "text": [
      "37735it [03:55, 179.68it/s]"
     ]
    },
    {
     "name": "stdout",
     "output_type": "stream",
     "text": [
      "Phrasal verb : take-out\n",
      "Phrasal verb : take-out\n",
      "Phrasal verb : pick-up\n",
      "Phrasal verb : pick-up\n",
      "Phrasal verb : pick-up\n",
      "Phrasal verb : take-out\n",
      "Phrasal verb : light-up\n",
      "Phrasal verb : light-up\n"
     ]
    },
    {
     "name": "stderr",
     "output_type": "stream",
     "text": [
      "37804it [03:56, 151.80it/s]"
     ]
    },
    {
     "name": "stdout",
     "output_type": "stream",
     "text": [
      "Phrasal verb : take-out\n",
      "Phrasal verb : take-out\n"
     ]
    },
    {
     "name": "stderr",
     "output_type": "stream",
     "text": [
      "37836it [03:56, 151.14it/s]"
     ]
    },
    {
     "name": "stdout",
     "output_type": "stream",
     "text": [
      "Phrasal verb : take-out\n",
      "Phrasal verb : take-out\n",
      "Phrasal verb : take-out\n",
      "Phrasal verb : pull-out\n"
     ]
    },
    {
     "name": "stderr",
     "output_type": "stream",
     "text": [
      "37867it [03:56, 137.15it/s]"
     ]
    },
    {
     "name": "stdout",
     "output_type": "stream",
     "text": [
      "Phrasal verb : pick-up\n",
      "Phrasal verb : take-out\n",
      "Phrasal verb : take-out\n",
      "Phrasal verb : pick-off\n"
     ]
    },
    {
     "name": "stderr",
     "output_type": "stream",
     "text": [
      "37914it [03:57, 146.87it/s]"
     ]
    },
    {
     "name": "stdout",
     "output_type": "stream",
     "text": [
      "Phrasal verb : level-down\n",
      "Phrasal verb : bring-down\n",
      "Phrasal verb : take-out\n"
     ]
    },
    {
     "name": "stderr",
     "output_type": "stream",
     "text": [
      "37930it [03:57, 148.14it/s]"
     ]
    },
    {
     "name": "stdout",
     "output_type": "stream",
     "text": [
      "Phrasal verb : bring-out\n"
     ]
    },
    {
     "name": "stderr",
     "output_type": "stream",
     "text": [
      "37991it [03:57, 140.66it/s]"
     ]
    },
    {
     "name": "stdout",
     "output_type": "stream",
     "text": [
      "Phrasal verb : bring-out\n",
      "Phrasal verb : take-out\n",
      "Phrasal verb : take-out\n"
     ]
    },
    {
     "name": "stderr",
     "output_type": "stream",
     "text": [
      "38035it [03:58, 134.71it/s]"
     ]
    },
    {
     "name": "stdout",
     "output_type": "stream",
     "text": [
      "Phrasal verb : pick-up\n",
      "Phrasal verb : take-out\n",
      "Phrasal verb : take-down\n"
     ]
    },
    {
     "name": "stderr",
     "output_type": "stream",
     "text": [
      "38068it [03:58, 145.76it/s]"
     ]
    },
    {
     "name": "stdout",
     "output_type": "stream",
     "text": [
      "Phrasal verb : take-down\n",
      "Phrasal verb : take-out\n"
     ]
    },
    {
     "name": "stderr",
     "output_type": "stream",
     "text": [
      "38260it [03:59, 144.36it/s]"
     ]
    },
    {
     "name": "stdout",
     "output_type": "stream",
     "text": [
      "Phrasal verb : pick-up\n"
     ]
    },
    {
     "name": "stderr",
     "output_type": "stream",
     "text": [
      "38325it [04:00, 132.08it/s]"
     ]
    },
    {
     "name": "stdout",
     "output_type": "stream",
     "text": [
      "Phrasal verb : check-out\n"
     ]
    },
    {
     "name": "stderr",
     "output_type": "stream",
     "text": [
      "38993it [04:04, 141.88it/s]"
     ]
    },
    {
     "name": "stdout",
     "output_type": "stream",
     "text": [
      "Phrasal verb : raise-up\n",
      "Phrasal verb : raise-up\n",
      "Phrasal verb : pick-up\n",
      "Phrasal verb : pick-up\n"
     ]
    },
    {
     "name": "stderr",
     "output_type": "stream",
     "text": [
      "39023it [04:04, 135.45it/s]"
     ]
    },
    {
     "name": "stdout",
     "output_type": "stream",
     "text": [
      "Phrasal verb : pick-up\n",
      "Phrasal verb : pick-up\n",
      "Phrasal verb : pick-up\n",
      "Phrasal verb : pick-up\n",
      "Phrasal verb : pick-up\n",
      "Phrasal verb : pick-up\n",
      "Phrasal verb : pick-up\n",
      "Phrasal verb : pick-up\n",
      "Phrasal verb : pick-up\n"
     ]
    },
    {
     "name": "stderr",
     "output_type": "stream",
     "text": [
      "39096it [04:05, 139.47it/s]"
     ]
    },
    {
     "name": "stdout",
     "output_type": "stream",
     "text": [
      "Phrasal verb : put-down\n",
      "Phrasal verb : pick-up\n",
      "Phrasal verb : pick-up\n",
      "Phrasal verb : pick-up\n",
      "Phrasal verb : pick-up\n"
     ]
    },
    {
     "name": "stderr",
     "output_type": "stream",
     "text": [
      "39124it [04:05, 120.54it/s]"
     ]
    },
    {
     "name": "stdout",
     "output_type": "stream",
     "text": [
      "Phrasal verb : pick-up\n",
      "Phrasal verb : pull-out\n",
      "Phrasal verb : pick-up\n",
      "Phrasal verb : pick-out\n",
      "Phrasal verb : pull-out\n"
     ]
    },
    {
     "name": "stderr",
     "output_type": "stream",
     "text": [
      "39150it [04:05, 104.62it/s]"
     ]
    },
    {
     "name": "stdout",
     "output_type": "stream",
     "text": [
      "Phrasal verb : pull-out\n",
      "Phrasal verb : pick-up\n",
      "Phrasal verb : pick-up\n",
      "Phrasal verb : pick-up\n",
      "Phrasal verb : pick-up\n"
     ]
    },
    {
     "name": "stderr",
     "output_type": "stream",
     "text": [
      "39175it [04:05, 112.90it/s]"
     ]
    },
    {
     "name": "stdout",
     "output_type": "stream",
     "text": [
      "Phrasal verb : pick-up\n",
      "Phrasal verb : pick-out\n",
      "Phrasal verb : pick-up\n",
      "Phrasal verb : pull-out\n",
      "Phrasal verb : pick-up\n"
     ]
    },
    {
     "name": "stderr",
     "output_type": "stream",
     "text": [
      "39217it [04:06, 127.65it/s]"
     ]
    },
    {
     "name": "stdout",
     "output_type": "stream",
     "text": [
      "Phrasal verb : pick-up\n",
      "Phrasal verb : pick-up\n",
      "Phrasal verb : pick-up\n",
      "Phrasal verb : move-up\n",
      "Phrasal verb : move-down\n"
     ]
    },
    {
     "name": "stderr",
     "output_type": "stream",
     "text": [
      "39264it [04:06, 143.65it/s]"
     ]
    },
    {
     "name": "stdout",
     "output_type": "stream",
     "text": [
      "Phrasal verb : drive-out\n",
      "Phrasal verb : put-down\n"
     ]
    },
    {
     "name": "stderr",
     "output_type": "stream",
     "text": [
      "39318it [04:06, 161.99it/s]"
     ]
    },
    {
     "name": "stdout",
     "output_type": "stream",
     "text": [
      "Phrasal verb : put-on\n",
      "Phrasal verb : raise-up\n",
      "Phrasal verb : raise-up\n",
      "Phrasal verb : raise-up\n",
      "Phrasal verb : raise-up\n",
      "Phrasal verb : raise-up\n",
      "Phrasal verb : roll-up\n"
     ]
    },
    {
     "name": "stderr",
     "output_type": "stream",
     "text": [
      "39350it [04:07, 134.83it/s]"
     ]
    },
    {
     "name": "stdout",
     "output_type": "stream",
     "text": [
      "Phrasal verb : pull-off\n",
      "Phrasal verb : pick-up\n",
      "Phrasal verb : pick-up\n",
      "Phrasal verb : pick-up\n",
      "Phrasal verb : pick-up\n",
      "Phrasal verb : pick-up\n",
      "Phrasal verb : pick-up\n"
     ]
    },
    {
     "name": "stderr",
     "output_type": "stream",
     "text": [
      "39379it [04:07, 134.26it/s]"
     ]
    },
    {
     "name": "stdout",
     "output_type": "stream",
     "text": [
      "Phrasal verb : pick-up\n",
      "Phrasal verb : pick-up\n",
      "Phrasal verb : pick-up\n",
      "Phrasal verb : pick-up\n",
      "Phrasal verb : pick-up\n",
      "Phrasal verb : pick-up\n",
      "Phrasal verb : pick-up\n",
      "Phrasal verb : pick-up\n",
      "Phrasal verb : pick-up\n",
      "Phrasal verb : pick-up\n",
      "Phrasal verb : pick-up\n",
      "Phrasal verb : pick-up\n",
      "Phrasal verb : pick-up\n"
     ]
    },
    {
     "name": "stderr",
     "output_type": "stream",
     "text": [
      "39393it [04:07, 113.82it/s]"
     ]
    },
    {
     "name": "stdout",
     "output_type": "stream",
     "text": [
      "Phrasal verb : pick-up\n",
      "Phrasal verb : pick-up\n",
      "Phrasal verb : pick-up\n",
      "Phrasal verb : pick-up\n"
     ]
    },
    {
     "name": "stderr",
     "output_type": "stream",
     "text": [
      "39423it [04:07, 128.08it/s]"
     ]
    },
    {
     "name": "stdout",
     "output_type": "stream",
     "text": [
      "Phrasal verb : put-down\n",
      "Phrasal verb : pick-up\n",
      "Phrasal verb : pick-up\n"
     ]
    },
    {
     "name": "stderr",
     "output_type": "stream",
     "text": [
      "39437it [04:07, 159.10it/s]\n"
     ]
    }
   ],
   "source": [
    "new_narration_frame_grouped['direct_object'] = None\n",
    "new_narration_frame_grouped['pos_mask'] = None\n",
    "new_narration_frame_grouped['tag_mask'] = None\n",
    "new_narration_frame_grouped['dep_mask'] = None\n",
    "new_narration_frame_grouped['verb_type'] = 'VERB'\n",
    "\n",
    "count = 1 \n",
    "\n",
    "for ni, ne in tqdm(new_narration_frame_grouped.iterrows()):\n",
    "    if ne.verb and ne.subject:\n",
    "        prev_is_verb = False\n",
    "        doc = nlp(ne.standardized_narration_text)\n",
    "        verb_type = \"VERB\"\n",
    "        pos_toks, tag_toks, dep_toks = [],[],[]\n",
    "        for token in doc:\n",
    "            pos_toks.append(token.pos_)\n",
    "            tag_toks.append(token.tag_)\n",
    "            dep_toks.append(token.dep_)\n",
    "            \n",
    "            if token.lemma_ == ne.verb:\n",
    "                prev_is_verb = True\n",
    "                verb_type = check_verb(token)\n",
    "                new_narration_frame_grouped.at[ni,\"verb_type\"] = verb_type\n",
    "            \n",
    "            # Phrasal verbs\n",
    "            if token.dep_ == 'prt' and prev_is_verb:\n",
    "                prev_is_verb = False\n",
    "                print(\"Phrasal verb : %s\"%(str(ne.verb) + \"-\" + str(token)))\n",
    "                new_narration_frame_grouped.at[ni,\"verb\"] = str(ne.verb) + \"-\" + str(token)\n",
    "                \n",
    "            # Direct object\n",
    "            res_dobj = check_dobj(token)\n",
    "            if res_dobj:\n",
    "                new_narration_frame_grouped.at[ni,\"direct_object\"] = res_dobj\n",
    "                \n",
    "        new_narration_frame_grouped.at[ni,\"pos_mask\"] = str(pos_toks)\n",
    "        new_narration_frame_grouped.at[ni,\"tag_mask\"] = str(tag_toks)\n",
    "        new_narration_frame_grouped.at[ni,\"dep_mask\"] = str(dep_toks)\n",
    "    count += 1 "
   ]
  },
  {
   "cell_type": "code",
   "execution_count": 81,
   "metadata": {},
   "outputs": [
    {
     "data": {
      "text/html": [
       "<div>\n",
       "<style scoped>\n",
       "    .dataframe tbody tr th:only-of-type {\n",
       "        vertical-align: middle;\n",
       "    }\n",
       "\n",
       "    .dataframe tbody tr th {\n",
       "        vertical-align: top;\n",
       "    }\n",
       "\n",
       "    .dataframe thead th {\n",
       "        text-align: right;\n",
       "    }\n",
       "</style>\n",
       "<table border=\"1\" class=\"dataframe\">\n",
       "  <thead>\n",
       "    <tr style=\"text-align: right;\">\n",
       "      <th></th>\n",
       "      <th>video_uid</th>\n",
       "      <th>clip_uid</th>\n",
       "      <th>narration_text</th>\n",
       "      <th>narration_timestamp_frame</th>\n",
       "      <th>action_clip_start_frame</th>\n",
       "      <th>action_clip_end_frame</th>\n",
       "      <th>action_clip_start_sec</th>\n",
       "      <th>action_clip_end_sec</th>\n",
       "      <th>action_start_frame</th>\n",
       "      <th>action_end_frame</th>\n",
       "      <th>standardized_narration_text</th>\n",
       "      <th>subject_verb_pairs</th>\n",
       "      <th>preposition_object_pairs</th>\n",
       "      <th>verb</th>\n",
       "      <th>subject</th>\n",
       "      <th>direct_object</th>\n",
       "      <th>pos_mask</th>\n",
       "      <th>tag_mask</th>\n",
       "      <th>dep_mask</th>\n",
       "      <th>verb_type</th>\n",
       "    </tr>\n",
       "  </thead>\n",
       "  <tbody>\n",
       "    <tr>\n",
       "      <th>0</th>\n",
       "      <td>3e08beb0-9108-4e77-b2ae-80f91ceac474</td>\n",
       "      <td>8cf5a53b-fa9c-4fe7-b767-697133d4d5b8</td>\n",
       "      <td>#C C sits on a chair in the dining room</td>\n",
       "      <td>56</td>\n",
       "      <td>45</td>\n",
       "      <td>285</td>\n",
       "      <td>1.5</td>\n",
       "      <td>9.500000</td>\n",
       "      <td>45</td>\n",
       "      <td>285</td>\n",
       "      <td>CameraWearer sits on a chair in the dining room</td>\n",
       "      <td>[{'CameraWearer': 'sit'}]</td>\n",
       "      <td>[{'chair': 'on'}, {'room': 'in'}]</td>\n",
       "      <td>sit</td>\n",
       "      <td>CameraWearer</td>\n",
       "      <td>None</td>\n",
       "      <td>['PROPN', 'VERB', 'ADP', 'DET', 'NOUN', 'ADP',...</td>\n",
       "      <td>['NNP', 'VBZ', 'IN', 'DT', 'NN', 'IN', 'DT', '...</td>\n",
       "      <td>['nsubj', 'ROOT', 'prep', 'det', 'pobj', 'prep...</td>\n",
       "      <td>INTRANVERB</td>\n",
       "    </tr>\n",
       "    <tr>\n",
       "      <th>1</th>\n",
       "      <td>3e08beb0-9108-4e77-b2ae-80f91ceac474</td>\n",
       "      <td>8cf5a53b-fa9c-4fe7-b767-697133d4d5b8</td>\n",
       "      <td>#C C picks a brush on a table</td>\n",
       "      <td>164</td>\n",
       "      <td>45</td>\n",
       "      <td>362</td>\n",
       "      <td>1.5</td>\n",
       "      <td>12.066667</td>\n",
       "      <td>45</td>\n",
       "      <td>362</td>\n",
       "      <td>CameraWearer picks a brush on a table</td>\n",
       "      <td>[{'CameraWearer': 'pick'}]</td>\n",
       "      <td>[{'table': 'on'}]</td>\n",
       "      <td>pick</td>\n",
       "      <td>CameraWearer</td>\n",
       "      <td>brush</td>\n",
       "      <td>['PROPN', 'VERB', 'DET', 'NOUN', 'ADP', 'DET',...</td>\n",
       "      <td>['NNP', 'VBZ', 'DT', 'NN', 'IN', 'DT', 'NN']</td>\n",
       "      <td>['nsubj', 'ROOT', 'det', 'dobj', 'prep', 'det'...</td>\n",
       "      <td>TRANVERB</td>\n",
       "    </tr>\n",
       "  </tbody>\n",
       "</table>\n",
       "</div>"
      ],
      "text/plain": [
       "                              video_uid                              clip_uid  \\\n",
       "0  3e08beb0-9108-4e77-b2ae-80f91ceac474  8cf5a53b-fa9c-4fe7-b767-697133d4d5b8   \n",
       "1  3e08beb0-9108-4e77-b2ae-80f91ceac474  8cf5a53b-fa9c-4fe7-b767-697133d4d5b8   \n",
       "\n",
       "                            narration_text  narration_timestamp_frame  \\\n",
       "0  #C C sits on a chair in the dining room                         56   \n",
       "1            #C C picks a brush on a table                        164   \n",
       "\n",
       "   action_clip_start_frame  action_clip_end_frame  action_clip_start_sec  \\\n",
       "0                       45                    285                    1.5   \n",
       "1                       45                    362                    1.5   \n",
       "\n",
       "   action_clip_end_sec  action_start_frame  action_end_frame  \\\n",
       "0             9.500000                  45               285   \n",
       "1            12.066667                  45               362   \n",
       "\n",
       "                       standardized_narration_text  \\\n",
       "0  CameraWearer sits on a chair in the dining room   \n",
       "1            CameraWearer picks a brush on a table   \n",
       "\n",
       "           subject_verb_pairs           preposition_object_pairs  verb  \\\n",
       "0   [{'CameraWearer': 'sit'}]  [{'chair': 'on'}, {'room': 'in'}]   sit   \n",
       "1  [{'CameraWearer': 'pick'}]                  [{'table': 'on'}]  pick   \n",
       "\n",
       "        subject direct_object  \\\n",
       "0  CameraWearer          None   \n",
       "1  CameraWearer         brush   \n",
       "\n",
       "                                            pos_mask  \\\n",
       "0  ['PROPN', 'VERB', 'ADP', 'DET', 'NOUN', 'ADP',...   \n",
       "1  ['PROPN', 'VERB', 'DET', 'NOUN', 'ADP', 'DET',...   \n",
       "\n",
       "                                            tag_mask  \\\n",
       "0  ['NNP', 'VBZ', 'IN', 'DT', 'NN', 'IN', 'DT', '...   \n",
       "1       ['NNP', 'VBZ', 'DT', 'NN', 'IN', 'DT', 'NN']   \n",
       "\n",
       "                                            dep_mask   verb_type  \n",
       "0  ['nsubj', 'ROOT', 'prep', 'det', 'pobj', 'prep...  INTRANVERB  \n",
       "1  ['nsubj', 'ROOT', 'det', 'dobj', 'prep', 'det'...    TRANVERB  "
      ]
     },
     "execution_count": 81,
     "metadata": {},
     "output_type": "execute_result"
    }
   ],
   "source": [
    "new_narration_frame_grouped.head(2)"
   ]
  },
  {
   "cell_type": "markdown",
   "metadata": {},
   "source": [
    "DEPS TAGS\n",
    "\n",
    "* nsubj: Nominal subject.\n",
    "* prep: Preposition.\n",
    "* pobj: Object of preposition.\n",
    "* NNP: Proper noun, singular.\n",
    "* VBD: Verb, past tense.\n",
    "* IN: Conjunction, subordinating or preposition."
   ]
  },
  {
   "cell_type": "code",
   "execution_count": 82,
   "metadata": {},
   "outputs": [],
   "source": [
    "import sys\n",
    "sys.setrecursionlimit(15000)\n",
    "new_narration_frame_grouped_analysis = new_narration_frame_grouped"
   ]
  },
  {
   "cell_type": "code",
   "execution_count": 83,
   "metadata": {},
   "outputs": [],
   "source": [
    "for idx, row in new_narration_frame_grouped_analysis.iterrows():\n",
    "    new_narration_frame_grouped_analysis.at[idx,'subject'] = str(row.subject).strip()"
   ]
  },
  {
   "cell_type": "code",
   "execution_count": null,
   "metadata": {},
   "outputs": [],
   "source": [
    "new_narration_frame_grouped_analysis.to_json('new_narration_frame_grouped_analysis.json', default_handler=str)"
   ]
  },
  {
   "cell_type": "code",
   "execution_count": 84,
   "metadata": {},
   "outputs": [
    {
     "name": "stdout",
     "output_type": "stream",
     "text": [
      "Total number of transverbs 458\n"
     ]
    }
   ],
   "source": [
    "new_narration_frame_grouped = new_narration_frame_grouped_analysis[\n",
    "    (new_narration_frame_grouped_analysis['verb_type']=='TRANVERB')\n",
    "    &(new_narration_frame_grouped_analysis['subject']=='CameraWearer')\n",
    "    &(new_narration_frame_grouped_analysis['direct_object'])]\n",
    "\n",
    "verbs_set = set(new_narration_frame_grouped['verb'].values)\n",
    "print(f'Total number of transverbs {len(verbs_set)}')"
   ]
  },
  {
   "cell_type": "code",
   "execution_count": null,
   "metadata": {},
   "outputs": [],
   "source": [
    "new_narration_frame_grouped.to_json('new_narration_frame_grouped_spacy_populated.json', default_handler=str)"
   ]
  },
  {
   "cell_type": "code",
   "execution_count": 85,
   "metadata": {},
   "outputs": [
    {
     "data": {
      "text/plain": [
       "32182"
      ]
     },
     "execution_count": 85,
     "metadata": {},
     "output_type": "execute_result"
    }
   ],
   "source": [
    "len(new_narration_frame_grouped)"
   ]
  },
  {
   "cell_type": "code",
   "execution_count": 86,
   "metadata": {},
   "outputs": [],
   "source": [
    "verb_groups = {}\n",
    "for i, r in enumerate(list(narration_verb_taxonomy_frame['label'].values)):\n",
    "    if r.find('(') != -1: \n",
    "        main_v,other_v = r.split(\"(\")[0], r.split(\"(\")[1]\n",
    "        other_v = other_v.replace(\"/\",\",\").rstrip(\")\")\n",
    "        other_v = [v.replace(\"_\",\" \").strip() for v in other_v.split(\",\")]\n",
    "        main_v = main_v.replace(\"_\",\" \").strip()\n",
    "        other_v.append(main_v)\n",
    "        for ov in other_v:\n",
    "            verb_groups[ov] = i\n",
    "    else:\n",
    "        verb_groups[r] = i"
   ]
  },
  {
   "cell_type": "code",
   "execution_count": 87,
   "metadata": {},
   "outputs": [],
   "source": [
    "verb_masks_dict = {}\n",
    "for v in verbs_set:\n",
    "    selected_entries = new_narration_frame_grouped_analysis[new_narration_frame_grouped_analysis.verb == v]\n",
    "    if v in verb_groups.keys():\n",
    "        verb_masks_dict[v] = {\n",
    "            'pos_masks':selected_entries.pos_mask.values,\n",
    "            'tag_masks':selected_entries.tag_mask.values,\n",
    "            'dep_masks':selected_entries.dep_mask.values,\n",
    "            'narrations':selected_entries.standardized_narration_text.values,\n",
    "            'group':verb_groups[v]\n",
    "        }\n",
    "    else:\n",
    "        verb_masks_dict[v] = {\n",
    "            'pos_masks':selected_entries.pos_mask.values,\n",
    "            'tag_masks':selected_entries.tag_mask.values,\n",
    "            'dep_masks':selected_entries.dep_mask.values,\n",
    "            'narrations':selected_entries.standardized_narration_text.values,\n",
    "            'group':-1\n",
    "        }"
   ]
  },
  {
   "cell_type": "code",
   "execution_count": 88,
   "metadata": {},
   "outputs": [
    {
     "data": {
      "text/plain": [
       "{'pos_masks': array([\"['PROPN', 'VERB', 'DET', 'NOUN', 'NOUN']\",\n",
       "        \"['PROPN', 'VERB', 'DET', 'NOUN']\",\n",
       "        \"['PROPN', 'VERB', 'DET', 'NOUN', 'ADP', 'DET', 'NOUN', 'NOUN']\",\n",
       "        \"['PROPN', 'VERB', 'DET', 'NOUN', 'ADP', 'DET', 'NOUN', 'NOUN']\",\n",
       "        \"['PROPN', 'VERB', 'DET', 'NOUN', 'ADP', 'DET', 'NOUN', 'NOUN']\",\n",
       "        \"['PROPN', 'VERB', 'DET', 'NOUN', 'ADP', 'DET', 'NOUN', 'NOUN']\",\n",
       "        \"['PROPN', 'VERB', 'DET', 'NOUN', 'ADP', 'DET', 'NOUN', 'NOUN']\",\n",
       "        \"['PROPN', 'VERB', 'DET', 'NOUN', 'ADP', 'DET', 'NOUN', 'NOUN']\",\n",
       "        \"['PROPN', 'VERB', 'DET', 'NOUN', 'ADP', 'DET', 'NOUN', 'NOUN']\",\n",
       "        \"['PROPN', 'VERB', 'DET', 'NOUN', 'ADP', 'DET', 'NOUN', 'NOUN']\",\n",
       "        \"['PROPN', 'VERB', 'DET', 'NOUN']\",\n",
       "        \"['PROPN', 'VERB', 'DET', 'NOUN']\",\n",
       "        \"['PROPN', 'VERB', 'DET', 'NOUN']\",\n",
       "        \"['PROPN', 'PROPN', 'VERB', 'DET', 'NOUN']\",\n",
       "        \"['PROPN', 'VERB', 'DET', 'NOUN', 'ADP', 'DET', 'NOUN']\",\n",
       "        \"['PROPN', 'VERB', 'NOUN', 'NOUN']\",\n",
       "        \"['PROPN', 'VERB', 'NOUN', 'NOUN']\",\n",
       "        \"['PROPN', 'VERB', 'NOUN', 'NOUN']\",\n",
       "        \"['PROPN', 'VERB', 'NOUN', 'NOUN']\",\n",
       "        \"['PROPN', 'VERB', 'DET', 'NOUN']\",\n",
       "        \"['PROPN', 'VERB', 'PROPN', 'NOUN']\",\n",
       "        \"['PROPN', 'VERB', 'DET', 'NOUN']\",\n",
       "        \"['PROPN', 'VERB', 'DET', 'NOUN']\",\n",
       "        \"['PROPN', 'VERB', 'DET', 'NOUN']\",\n",
       "        \"['PROPN', 'VERB', 'DET', 'NOUN']\",\n",
       "        \"['PROPN', 'VERB', 'DET', 'NOUN']\",\n",
       "        \"['PROPN', 'VERB', 'DET', 'NOUN']\",\n",
       "        \"['PROPN', 'VERB', 'DET', 'NOUN']\",\n",
       "        \"['PROPN', 'VERB', 'PROPN', 'PROPN']\",\n",
       "        \"['PROPN', 'VERB', 'DET', 'NOUN']\",\n",
       "        \"['PROPN', 'VERB', 'DET', 'ADJ', 'NOUN']\",\n",
       "        \"['PROPN', 'VERB', 'DET', 'NOUN']\",\n",
       "        \"['PROPN', 'VERB', 'DET', 'NOUN']\",\n",
       "        \"['PROPN', 'VERB', 'NOUN', 'NOUN']\",\n",
       "        \"['PROPN', 'VERB', 'ADJ', 'NOUN']\",\n",
       "        \"['PROPN', 'VERB', 'DET', 'NOUN']\",\n",
       "        \"['PROPN', 'VERB', 'DET', 'NOUN', 'NOUN']\",\n",
       "        \"['PROPN', 'VERB', 'ADJ', 'NOUN', 'NOUN']\",\n",
       "        \"['PROPN', 'VERB', 'DET', 'NOUN', 'NOUN', 'PUNCT']\",\n",
       "        \"['PROPN', 'VERB', 'DET', 'NOUN', 'ADP', 'DET', 'NOUN']\",\n",
       "        \"['PROPN', 'VERB', 'DET', 'ADJ', 'NOUN', 'ADP', 'DET', 'NOUN']\",\n",
       "        \"['PROPN', 'VERB', 'DET', 'NOUN', 'ADP', 'DET', 'NOUN']\",\n",
       "        \"['PROPN', 'VERB', 'DET', 'NOUN', 'ADP', 'DET', 'NOUN']\",\n",
       "        \"['PROPN', 'VERB', 'DET', 'NOUN', 'ADP', 'DET', 'NOUN']\",\n",
       "        \"['PROPN', 'VERB', 'DET', 'ADJ', 'NOUN', 'ADP', 'DET', 'NOUN']\",\n",
       "        \"['PROPN', 'VERB', 'DET', 'NOUN', 'ADP', 'PRON', 'ADJ', 'NOUN']\",\n",
       "        \"['PROPN', 'VERB', 'DET', 'NOUN', 'NOUN', 'ADP', 'DET', 'NOUN']\",\n",
       "        \"['PROPN', 'VERB', 'DET', 'NOUN', 'ADP', 'DET', 'NOUN']\",\n",
       "        \"['PROPN', 'VERB', 'NOUN', 'ADP', 'DET', 'NOUN']\",\n",
       "        \"['PROPN', 'VERB', 'DET', 'NOUN', 'NOUN', 'ADP', 'DET', 'NOUN']\",\n",
       "        \"['PROPN', 'VERB', 'DET', 'NOUN', 'ADP', 'DET', 'NOUN']\",\n",
       "        \"['PROPN', 'VERB', 'DET', 'NOUN', 'ADP', 'DET', 'NOUN', 'NOUN', 'ADP', 'DET', 'NOUN']\",\n",
       "        \"['PROPN', 'VERB', 'DET', 'NOUN', 'NOUN', 'ADP', 'DET', 'NOUN', 'NOUN', 'NOUN']\",\n",
       "        \"['PROPN', 'VERB', 'NOUN']\",\n",
       "        \"['PROPN', 'VERB', 'PROPN', 'PROPN', 'PROPN', 'PROPN', 'PROPN']\",\n",
       "        \"['PROPN', 'VERB', 'DET', 'NOUN', 'ADP', 'DET', 'NOUN']\",\n",
       "        \"['PROPN', 'VERB', 'DET', 'NOUN', 'ADP', 'DET', 'NOUN']\",\n",
       "        \"['PROPN', 'VERB', 'PROPN', 'PROPN', 'CCONJ', 'PROPN', 'PROPN', 'PROPN', 'PUNCT', 'PROPN', 'ADP', 'DET', 'NOUN']\",\n",
       "        \"['PROPN', 'VERB', 'NUM', 'NOUN', 'ADP', 'DET', 'NOUN']\",\n",
       "        \"['PROPN', 'VERB', 'NUM', 'ADJ', 'NOUN', 'NOUN', 'ADP', 'DET', 'NOUN']\",\n",
       "        \"['PROPN', 'VERB', 'DET', 'NOUN', 'ADP', 'DET', 'NOUN']\",\n",
       "        \"['PROPN', 'VERB', 'DET', 'NOUN', 'NOUN', 'ADP', 'DET', 'NOUN', 'ADP', 'PRON', 'ADJ', 'NOUN']\",\n",
       "        \"['PROPN', 'VERB', 'DET', 'NOUN', 'NOUN', 'ADP', 'PRON', 'ADJ', 'NOUN']\",\n",
       "        \"['PROPN', 'VERB', 'NOUN', 'NOUN', 'ADP', 'PRON', 'ADJ', 'NOUN']\",\n",
       "        \"['PROPN', 'VERB', 'NUM', 'NOUN', 'ADP', 'DET', 'NOUN']\",\n",
       "        \"['PROPN', 'VERB', 'DET', 'NUM', 'NOUN', 'ADP', 'PRON', 'ADJ', 'NOUN']\",\n",
       "        \"['PROPN', 'VERB', 'DET', 'NOUN', 'ADP', 'DET', 'NOUN']\",\n",
       "        \"['PROPN', 'VERB', 'DET', 'NOUN', 'ADP', 'PRON', 'ADJ', 'NOUN']\",\n",
       "        \"['PROPN', 'VERB', 'DET', 'NOUN', 'ADP', 'DET', 'NOUN', 'NOUN']\",\n",
       "        \"['PROPN', 'VERB', 'DET', 'NOUN', 'NOUN', 'ADP', 'DET', 'NOUN']\",\n",
       "        \"['PROPN', 'VERB', 'DET', 'NOUN', 'ADP', 'NOUN']\",\n",
       "        \"['PROPN', 'VERB', 'DET', 'NOUN', 'ADP', 'DET', 'NOUN', 'NOUN', 'PUNCT']\",\n",
       "        \"['PROPN', 'VERB', 'DET', 'NOUN', 'ADP', 'DET', 'NOUN', 'NOUN', 'PUNCT']\",\n",
       "        \"['PROPN', 'VERB', 'DET', 'NOUN', 'ADP', 'DET', 'NOUN', 'PUNCT']\",\n",
       "        \"['PROPN', 'VERB', 'DET', 'NOUN', 'ADP', 'DET', 'NOUN', 'PUNCT']\",\n",
       "        \"['PROPN', 'VERB', 'DET', 'NOUN', 'ADP', 'DET', 'NOUN', 'PUNCT']\",\n",
       "        \"['PROPN', 'VERB', 'DET', 'NOUN', 'ADP', 'DET', 'NOUN', 'PUNCT']\",\n",
       "        \"['PROPN', 'VERB', 'DET', 'NOUN', 'ADP', 'DET', 'NOUN', 'PUNCT']\",\n",
       "        \"['PROPN', 'VERB', 'DET', 'NOUN', 'ADP', 'DET', 'NOUN', 'PUNCT']\",\n",
       "        \"['PROPN', 'VERB', 'DET', 'NOUN', 'ADP', 'DET', 'NOUN', 'PUNCT']\",\n",
       "        \"['PROPN', 'VERB', 'DET', 'NOUN', 'ADP', 'DET', 'NOUN', 'PUNCT']\",\n",
       "        \"['PROPN', 'VERB', 'DET', 'NOUN', 'ADP', 'DET', 'NOUN', 'NOUN', 'PUNCT']\",\n",
       "        \"['PROPN', 'VERB', 'DET', 'NOUN', 'ADP', 'DET', 'NOUN', 'NOUN', 'PUNCT']\",\n",
       "        \"['PROPN', 'VERB', 'DET', 'NOUN', 'ADP', 'DET', 'NOUN', 'NOUN', 'PUNCT']\",\n",
       "        \"['PROPN', 'VERB', 'DET', 'NOUN', 'ADP', 'DET', 'NOUN', 'NOUN', 'PUNCT']\",\n",
       "        \"['PROPN', 'VERB', 'DET', 'NOUN', 'ADP', 'DET', 'NOUN', 'NOUN', 'PUNCT']\",\n",
       "        \"['PROPN', 'VERB', 'DET', 'NOUN', 'ADP', 'DET', 'NOUN', 'NOUN', 'PUNCT']\",\n",
       "        \"['PROPN', 'VERB', 'DET', 'NOUN', 'ADP', 'DET', 'NOUN', 'NOUN', 'PUNCT']\",\n",
       "        \"['PROPN', 'VERB', 'DET', 'NOUN', 'ADP', 'DET', 'NOUN', 'PUNCT']\",\n",
       "        \"['PROPN', 'VERB', 'NOUN', 'ADP', 'DET', 'NOUN', 'PUNCT']\",\n",
       "        \"['PROPN', 'VERB', 'NOUN', 'ADP', 'DET', 'NOUN', 'PUNCT']\",\n",
       "        \"['PROPN', 'VERB', 'DET', 'NOUN', 'NOUN', 'ADP', 'DET', 'NOUN', 'PUNCT']\",\n",
       "        \"['PROPN', 'VERB', 'DET', 'NOUN', 'ADP', 'DET', 'NOUN', 'PUNCT']\",\n",
       "        \"['PROPN', 'VERB', 'NOUN', 'ADP', 'DET', 'NOUN', 'ADP', 'DET', 'NOUN', 'NOUN', 'PUNCT']\",\n",
       "        \"['PROPN', 'VERB', 'NOUN', 'ADP', 'DET', 'NOUN', 'ADP', 'DET', 'NOUN', 'NOUN', 'PUNCT']\",\n",
       "        \"['PROPN', 'VERB', 'NOUN', 'ADP', 'DET', 'NOUN', 'ADP', 'DET', 'NOUN', 'NOUN', 'PUNCT']\",\n",
       "        \"['PROPN', 'VERB', 'NOUN', 'ADP', 'DET', 'NOUN', 'ADP', 'NOUN', 'ADP', 'DET', 'ADJ', 'NOUN', 'PUNCT']\",\n",
       "        \"['PROPN', 'VERB', 'NOUN', 'ADP', 'DET', 'NOUN', 'ADP', 'NOUN', 'ADP', 'DET', 'NOUN', 'ADP', 'PRON', 'ADJ', 'NOUN', 'PUNCT']\",\n",
       "        \"['PROPN', 'VERB', 'DET', 'NOUN', 'ADP', 'DET', 'NOUN', 'NOUN']\",\n",
       "        \"['PROPN', 'VERB', 'DET', 'NOUN', 'ADP', 'DET', 'NOUN', 'NOUN']\",\n",
       "        \"['PROPN', 'VERB', 'DET', 'NOUN', 'ADP', 'DET', 'NOUN', 'NOUN']\",\n",
       "        \"['PROPN', 'VERB', 'DET', 'NOUN', 'NOUN', 'ADP', 'DET', 'NOUN']\",\n",
       "        \"['PROPN', 'VERB', 'NOUN', 'ADP', 'DET', 'NOUN', 'NOUN']\",\n",
       "        \"['PROPN', 'VERB', 'NOUN']\", \"['PROPN', 'VERB', 'NOUN']\",\n",
       "        \"['PROPN', 'VERB', 'NOUN']\", \"['PROPN', 'VERB', 'NOUN']\",\n",
       "        \"['PROPN', 'VERB', 'ADP', 'NOUN']\",\n",
       "        \"['PROPN', 'VERB', 'DET', 'NOUN']\", \"['PROPN', 'VERB', 'NOUN']\",\n",
       "        \"['PROPN', 'VERB', 'DET', 'NOUN']\",\n",
       "        \"['PROPN', 'VERB', 'DET', 'NOUN']\",\n",
       "        \"['PROPN', 'VERB', 'DET', 'NOUN', 'ADJ', 'ADP', 'DET', 'NOUN', 'ADP', 'DET', 'NOUN', 'NOUN']\",\n",
       "        \"['PROPN', 'VERB', 'DET', 'NOUN', 'NOUN', 'ADP', 'NUM', 'NOUN', 'NOUN', 'ADP', 'DET', 'NOUN', 'ADP', 'PRON', 'ADJ', 'NOUN']\",\n",
       "        \"['PROPN', 'VERB', 'NOUN', 'ADP', 'DET', 'NOUN', 'NOUN', 'ADP', 'PRON']\",\n",
       "        \"['PROPN', 'VERB', 'PRON', 'NOUN', 'ADP', 'DET', 'NOUN', 'ADP', 'DET', 'NOUN', 'NOUN']\",\n",
       "        \"['PROPN', 'VERB', 'DET', 'NOUN', 'ADP', 'DET', 'NOUN', 'NOUN']\",\n",
       "        \"['PROPN', 'VERB', 'DET', 'NOUN', 'ADP', 'DET', 'NOUN']\",\n",
       "        \"['PROPN', 'VERB', 'DET', 'NOUN', 'ADP', 'DET', 'NOUN', 'ADP', 'DET', 'NOUN', 'NOUN']\",\n",
       "        \"['PROPN', 'VERB', 'DET', 'NOUN', 'ADP', 'DET', 'NOUN', 'ADP', 'DET', 'NOUN', 'NOUN']\",\n",
       "        \"['PROPN', 'VERB', 'NOUN', 'ADP', 'DET', 'ADJ', 'NOUN']\",\n",
       "        \"['PROPN', 'VERB', 'NOUN', 'ADP', 'DET', 'ADJ', 'NOUN']\",\n",
       "        \"['PROPN', 'VERB', 'NOUN', 'ADP', 'DET', 'ADJ', 'NOUN']\",\n",
       "        \"['PROPN', 'VERB', 'NOUN', 'ADP', 'DET', 'ADJ', 'NOUN']\",\n",
       "        \"['PROPN', 'VERB', 'NOUN', 'ADP', 'DET', 'ADJ', 'NOUN']\",\n",
       "        \"['PROPN', 'VERB', 'NOUN', 'ADP', 'DET', 'ADJ', 'NOUN']\",\n",
       "        \"['PROPN', 'VERB', 'NOUN', 'ADP', 'DET', 'ADJ', 'NOUN']\",\n",
       "        \"['PROPN', 'VERB', 'NOUN', 'ADP', 'DET', 'ADJ', 'NOUN']\",\n",
       "        \"['PROPN', 'VERB', 'NOUN', 'ADP', 'DET', 'ADJ', 'NOUN']\",\n",
       "        \"['PROPN', 'VERB', 'NOUN', 'ADP', 'DET', 'ADJ', 'NOUN']\",\n",
       "        \"['PROPN', 'VERB', 'NOUN', 'ADP', 'DET', 'ADJ', 'NOUN']\",\n",
       "        \"['PROPN', 'VERB', 'DET', 'NOUN', 'ADP', 'DET', 'NOUN', 'PUNCT']\",\n",
       "        \"['PROPN', 'VERB', 'DET', 'NOUN', 'ADP', 'DET', 'NOUN', 'PUNCT']\",\n",
       "        \"['PROPN', 'VERB', 'NOUN', 'ADP', 'DET', 'NOUN', 'NOUN']\",\n",
       "        \"['PROPN', 'VERB', 'NOUN', 'ADP', 'DET', 'NOUN', 'NOUN']\",\n",
       "        \"['PROPN', 'VERB', 'NOUN', 'ADP', 'DET', 'NOUN', 'NOUN']\",\n",
       "        \"['PROPN', 'VERB', 'NOUN', 'ADP', 'DET', 'NOUN', 'NOUN']\",\n",
       "        \"['PROPN', 'VERB', 'NOUN', 'ADP', 'DET', 'NOUN', 'NOUN']\",\n",
       "        \"['PROPN', 'VERB', 'NOUN', 'ADP', 'DET', 'NOUN', 'NOUN']\",\n",
       "        \"['PROPN', 'VERB', 'NOUN', 'ADP', 'DET', 'NOUN', 'NOUN']\",\n",
       "        \"['PROPN', 'VERB', 'NOUN', 'ADP', 'DET', 'NOUN', 'NOUN']\",\n",
       "        \"['PROPN', 'VERB', 'NOUN', 'ADP', 'DET', 'NOUN', 'NOUN']\",\n",
       "        \"['PROPN', 'VERB', 'NOUN', 'ADP', 'DET', 'NOUN', 'NOUN', 'VERB', 'DET', 'NOUN', 'NOUN']\",\n",
       "        \"['PROPN', 'VERB', 'NOUN', 'ADP', 'DET', 'NOUN', 'NOUN', 'VERB', 'DET', 'NOUN', 'NOUN']\",\n",
       "        \"['PROPN', 'VERB', 'NOUN', 'ADP', 'DET', 'NOUN', 'NOUN', 'VERB', 'DET', 'NOUN', 'NOUN']\",\n",
       "        \"['PROPN', 'VERB', 'NOUN', 'ADP', 'DET', 'NOUN', 'NOUN', 'VERB', 'DET', 'NOUN', 'NOUN']\",\n",
       "        \"['PROPN', 'VERB', 'NOUN', 'ADP', 'DET', 'NOUN', 'NOUN', 'VERB', 'DET', 'NOUN', 'NOUN']\",\n",
       "        \"['PROPN', 'VERB', 'NOUN', 'ADP', 'DET', 'NOUN', 'NOUN', 'VERB', 'DET', 'NOUN', 'NOUN']\",\n",
       "        \"['PROPN', 'VERB', 'NOUN', 'ADP', 'DET', 'NOUN', 'NOUN', 'VERB', 'DET', 'NOUN', 'NOUN']\",\n",
       "        \"['PROPN', 'VERB', 'NOUN', 'ADP', 'DET', 'NOUN', 'NOUN', 'VERB', 'DET', 'NOUN', 'NOUN']\",\n",
       "        \"['PROPN', 'SPACE', 'PROPN', 'VERB', 'NOUN', 'ADP', 'DET', 'NOUN', 'NOUN', 'VERB', 'DET', 'NOUN', 'NOUN']\",\n",
       "        \"['PROPN', 'VERB', 'NOUN', 'NOUN', 'NOUN']\",\n",
       "        \"['PROPN', 'VERB', 'NOUN', 'NOUN', 'NOUN']\",\n",
       "        \"['PROPN', 'VERB', 'DET', 'NOUN', 'ADP', 'ADJ', 'NOUN']\",\n",
       "        \"['PROPN', 'VERB', 'ADP', 'DET', 'NOUN']\",\n",
       "        \"['PROPN', 'VERB', 'NOUN', 'ADP', 'DET', 'NOUN', 'ADP', 'PRON', 'ADJ', 'NOUN']\",\n",
       "        \"['PROPN', 'VERB', 'NOUN', 'ADP', 'DET', 'NOUN', 'ADP', 'PRON', 'ADJ', 'NOUN', 'PUNCT']\",\n",
       "        \"['PROPN', 'VERB', 'NOUN', 'ADP', 'DET', 'NOUN', 'ADP', 'PRON', 'ADJ', 'NOUN', 'PUNCT']\",\n",
       "        \"['PROPN', 'VERB', 'DET', 'NOUN', 'NOUN', 'PUNCT']\",\n",
       "        \"['PROPN', 'VERB', 'DET', 'NOUN', 'PUNCT']\",\n",
       "        \"['PROPN', 'VERB', 'DET', 'NOUN', 'PUNCT']\",\n",
       "        \"['PROPN', 'VERB', 'DET', 'NOUN', 'PUNCT']\",\n",
       "        \"['PROPN', 'VERB', 'DET', 'NOUN', 'PUNCT']\",\n",
       "        \"['PROPN', 'VERB', 'DET', 'NOUN', 'NOUN', 'PUNCT']\",\n",
       "        \"['PROPN', 'VERB', 'DET', 'NOUN', 'NOUN', 'PUNCT']\",\n",
       "        \"['PROPN', 'VERB', 'DET', 'NOUN', 'PUNCT']\",\n",
       "        \"['PROPN', 'VERB', 'DET', 'NOUN', 'PUNCT']\",\n",
       "        \"['PROPN', 'VERB', 'DET', 'NOUN', 'NOUN', 'PUNCT']\",\n",
       "        \"['PROPN', 'VERB', 'DET', 'NOUN', 'NOUN', 'PUNCT']\",\n",
       "        \"['PROPN', 'VERB', 'DET', 'NOUN', 'NOUN', 'PUNCT']\",\n",
       "        \"['PROPN', 'VERB', 'DET', 'NOUN', 'NOUN', 'PUNCT']\",\n",
       "        \"['PROPN', 'VERB', 'DET', 'NOUN', 'PUNCT']\",\n",
       "        \"['PROPN', 'VERB', 'DET', 'NOUN', 'PUNCT']\",\n",
       "        \"['PROPN', 'VERB', 'DET', 'NOUN', 'PUNCT']\",\n",
       "        \"['PROPN', 'VERB', 'DET', 'NOUN', 'PUNCT']\",\n",
       "        \"['PROPN', 'VERB', 'DET', 'NOUN', 'PUNCT']\",\n",
       "        \"['PROPN', 'VERB', 'DET', 'NOUN', 'PUNCT']\",\n",
       "        \"['PROPN', 'VERB', 'DET', 'NOUN', 'PUNCT']\",\n",
       "        \"['PROPN', 'VERB', 'DET', 'NOUN', 'PUNCT']\",\n",
       "        \"['PROPN', 'VERB', 'DET', 'NOUN', 'PUNCT']\",\n",
       "        \"['PROPN', 'VERB', 'DET', 'NOUN', 'NOUN', 'PUNCT']\",\n",
       "        \"['PROPN', 'VERB', 'DET', 'NOUN', 'NOUN', 'PUNCT']\",\n",
       "        \"['PROPN', 'VERB', 'DET', 'NOUN', 'PUNCT']\",\n",
       "        \"['PROPN', 'VERB', 'DET', 'NOUN', 'PUNCT']\",\n",
       "        \"['PROPN', 'VERB', 'DET', 'NOUN', 'PUNCT']\",\n",
       "        \"['PROPN', 'VERB', 'DET', 'NOUN', 'PUNCT']\",\n",
       "        \"['PROPN', 'VERB', 'DET', 'NOUN', 'CCONJ', 'DET', 'NOUN', 'PUNCT']\",\n",
       "        \"['PROPN', 'VERB', 'DET', 'NOUN', 'PUNCT']\",\n",
       "        \"['PROPN', 'VERB', 'DET', 'NOUN', 'PUNCT']\",\n",
       "        \"['PROPN', 'VERB', 'DET', 'NOUN', 'PUNCT']\",\n",
       "        \"['PROPN', 'VERB', 'DET', 'NOUN', 'ADP', 'DET', 'NOUN']\",\n",
       "        \"['PROPN', 'VERB', 'DET', 'NOUN', 'ADP', 'DET', 'NOUN']\",\n",
       "        \"['PROPN', 'VERB', 'DET', 'NOUN', 'ADP', 'DET', 'NOUN']\",\n",
       "        \"['PROPN', 'VERB', 'DET', 'NOUN', 'ADP', 'DET', 'NOUN']\",\n",
       "        \"['PROPN', 'VERB', 'DET', 'NOUN', 'ADP', 'DET', 'NOUN']\",\n",
       "        \"['PROPN', 'VERB', 'DET', 'NOUN', 'ADP', 'DET', 'NOUN', 'ADP', 'PRON', 'ADJ', 'NOUN']\",\n",
       "        \"['PROPN', 'VERB', 'DET', 'NOUN', 'ADP', 'DET', 'NOUN', 'PUNCT']\",\n",
       "        \"['PROPN', 'VERB', 'DET', 'NOUN', 'ADP', 'DET', 'NOUN', 'PUNCT']\",\n",
       "        \"['PROPN', 'VERB', 'DET', 'NOUN', 'ADP', 'DET', 'NOUN', 'PUNCT']\",\n",
       "        \"['PROPN', 'VERB', 'DET', 'NOUN', 'ADP', 'DET', 'NOUN', 'ADP', 'DET', 'NOUN', 'PUNCT']\",\n",
       "        \"['PROPN', 'VERB', 'DET', 'NOUN', 'ADP', 'DET', 'NOUN']\",\n",
       "        \"['NOUN', 'NOUN', 'VERB', 'DET', 'NOUN', 'ADP', 'DET', 'NOUN']\",\n",
       "        \"['NOUN', 'NOUN', 'VERB', 'DET', 'NOUN', 'ADP', 'DET', 'NOUN', 'PUNCT']\",\n",
       "        \"['NOUN', 'NOUN', 'VERB', 'DET', 'NOUN', 'ADP', 'DET', 'NOUN', 'PUNCT']\",\n",
       "        \"['PROPN', 'VERB', 'DET', 'NOUN', 'ADP', 'DET', 'NOUN', 'ADP', 'PRON', 'ADJ', 'NOUN', 'PUNCT']\",\n",
       "        \"['NOUN', 'NOUN', 'VERB', 'DET', 'NOUN', 'ADP', 'DET', 'NOUN', 'PUNCT']\",\n",
       "        \"['NOUN', 'PROPN', 'VERB', 'PRON', 'NOUN', 'ADP', 'DET', 'NOUN', 'PUNCT']\",\n",
       "        \"['PROPN', 'PROPN', 'VERB', 'PRON', 'NOUN', 'ADP', 'DET', 'NOUN', 'PUNCT']\",\n",
       "        \"['NOUN', 'NOUN', 'VERB', 'PRON', 'NOUN', 'ADP', 'DET', 'NOUN', 'PUNCT']\",\n",
       "        \"['NOUN', 'PROPN', 'VERB', 'DET', 'NOUN', 'ADP', 'DET', 'NOUN', 'ADP', 'DET', 'NOUN', 'PUNCT']\",\n",
       "        \"['NOUN', 'PROPN', 'VERB', 'DET', 'NOUN', 'ADP', 'DET', 'NOUN', 'ADP', 'DET', 'NOUN', 'PUNCT']\",\n",
       "        \"['NOUN', 'PROPN', 'VERB', 'DET', 'NOUN', 'ADP', 'DET', 'NOUN', 'PUNCT']\",\n",
       "        \"['PROPN', 'VERB', 'DET', 'NOUN', 'ADP', 'DET', 'NOUN', 'PUNCT']\",\n",
       "        \"['PROPN', 'VERB', 'NUM', 'NOUN', 'ADJ', 'ADP', 'DET', 'NOUN', 'NOUN']\",\n",
       "        \"['PROPN', 'VERB', 'DET', 'NOUN', 'ADP', 'DET', 'NOUN', 'NOUN', 'ADP', 'DET', 'NOUN', 'NOUN', 'ADP', 'PRON', 'ADJ', 'NOUN', 'PUNCT']\",\n",
       "        \"['PROPN', 'VERB', 'DET', 'NOUN', 'NOUN', 'ADP', 'PRON', 'ADJ', 'ADJ', 'NOUN', 'ADP', 'PRON', 'ADJ', 'ADJ', 'NOUN', 'PUNCT']\",\n",
       "        \"['PROPN', 'VERB', 'DET', 'ADJ', 'NOUN', 'ADP', 'VERB', 'NOUN', 'ADP', 'DET', 'NOUN', 'NOUN', 'ADP', 'PRON', 'ADJ', 'NOUN', 'PUNCT']\",\n",
       "        \"['PROPN', 'VERB', 'DET', 'ADJ', 'NOUN', 'ADP', 'NOUN', 'ADP', 'PRON', 'ADJ', 'ADJ', 'NOUN', 'ADP', 'PRON', 'ADJ', 'ADJ', 'NOUN', 'PUNCT']\",\n",
       "        \"['PROPN', 'VERB', 'DET', 'NOUN', 'ADP', 'NOUN', 'ADP', 'PRON', 'ADJ', 'ADJ', 'NOUN', 'ADP', 'PRON', 'ADJ', 'ADJ', 'NOUN', 'PUNCT']\",\n",
       "        \"['PROPN', 'VERB', 'DET', 'NOUN', 'ADP', 'NOUN', 'ADP', 'PRON', 'ADJ', 'ADJ', 'NOUN', 'ADP', 'PRON', 'ADJ', 'ADJ', 'NOUN', 'PUNCT']\",\n",
       "        \"['PROPN', 'VERB', 'DET', 'NOUN', 'ADP', 'NOUN', 'ADP', 'PRON', 'ADJ', 'ADJ', 'NOUN', 'ADP', 'PRON', 'ADJ', 'ADJ', 'NOUN', 'PUNCT']\",\n",
       "        \"['PROPN', 'VERB', 'DET', 'NOUN', 'ADP', 'NOUN', 'ADP', 'PRON', 'ADJ', 'ADJ', 'NOUN', 'ADP', 'PRON', 'ADJ', 'ADJ', 'NOUN', 'PUNCT']\",\n",
       "        \"['PROPN', 'VERB', 'DET', 'NOUN', 'ADP', 'NOUN', 'ADP', 'PRON', 'ADJ', 'ADJ', 'NOUN', 'ADP', 'PRON', 'ADJ', 'ADJ', 'NOUN', 'PUNCT']\",\n",
       "        \"['PROPN', 'VERB', 'DET', 'NOUN', 'ADP', 'NOUN', 'ADP', 'PRON', 'ADJ', 'ADJ', 'NOUN', 'ADP', 'PRON', 'ADJ', 'ADJ', 'NOUN', 'PUNCT']\",\n",
       "        \"['PROPN', 'VERB', 'DET', 'NOUN', 'ADP', 'NOUN', 'ADP', 'PRON', 'ADJ', 'ADJ', 'NOUN', 'ADP', 'PRON', 'ADJ', 'ADJ', 'NOUN', 'PUNCT']\",\n",
       "        \"['PROPN', 'VERB', 'DET', 'NOUN', 'ADP', 'NOUN', 'ADP', 'PRON', 'ADJ', 'ADJ', 'NOUN', 'ADP', 'PRON', 'ADJ', 'ADJ', 'NOUN', 'PUNCT']\",\n",
       "        \"['PROPN', 'VERB', 'DET', 'NOUN', 'ADP', 'NOUN', 'ADP', 'PRON', 'ADJ', 'ADJ', 'NOUN', 'ADP', 'PRON', 'ADJ', 'ADJ', 'NOUN', 'PUNCT']\",\n",
       "        \"['PROPN', 'VERB', 'DET', 'NOUN', 'ADP', 'DET', 'NOUN', 'ADV', 'ADP', 'DET', 'NOUN', 'ADP', 'DET', 'PROPN', 'ADP', 'PRON', 'ADJ', 'ADJ', 'NOUN', 'PUNCT']\",\n",
       "        \"['PROPN', 'VERB', 'DET', 'NOUN', 'ADP', 'NOUN', 'ADP', 'DET', 'NOUN', 'ADP', 'PRON', 'ADJ', 'ADJ', 'NOUN', 'PUNCT']\",\n",
       "        \"['PROPN', 'VERB', 'DET', 'NOUN', 'ADP', 'DET', 'NOUN', 'ADP', 'NOUN', 'ADP', 'PRON', 'ADJ', 'ADJ', 'NOUN', 'PUNCT']\",\n",
       "        \"['PROPN', 'VERB', 'DET', 'NOUN', 'ADP', 'PRON', 'ADJ', 'ADJ', 'NOUN', 'ADP', 'PRON', 'ADJ', 'ADJ', 'NOUN', 'PUNCT']\",\n",
       "        \"['PROPN', 'VERB', 'DET', 'ADJ', 'NOUN', 'ADP', 'PRON', 'ADJ', 'ADJ', 'NOUN', 'ADP', 'PRON', 'ADJ', 'ADJ', 'NOUN', 'PUNCT']\",\n",
       "        \"['PROPN', 'VERB', 'DET', 'NOUN', 'ADP', 'DET', 'NOUN', 'ADP', 'PRON', 'ADJ', 'NOUN', 'PUNCT']\",\n",
       "        \"['PROPN', 'VERB', 'DET', 'NOUN', 'ADP', 'DET', 'NOUN', 'ADP', 'DET', 'NOUN', 'ADP', 'PRON', 'ADJ', 'NOUN', 'PUNCT']\",\n",
       "        \"['PROPN', 'VERB', 'DET', 'NOUN', 'ADP', 'NOUN', 'ADP', 'DET', 'NOUN', 'ADP', 'PRON', 'ADJ', 'ADJ', 'NOUN', 'PUNCT']\",\n",
       "        \"['PROPN', 'VERB', 'DET', 'NOUN', 'ADP', 'DET', 'NOUN', 'ADP', 'DET', 'NOUN', 'ADP', 'PRON', 'ADJ', 'ADJ', 'NOUN', 'PUNCT']\",\n",
       "        \"['PROPN', 'VERB', 'DET', 'NOUN', 'ADP', 'PRON', 'ADJ', 'ADJ', 'NOUN', 'ADP', 'PRON', 'ADJ', 'ADJ', 'NOUN', 'PUNCT']\",\n",
       "        \"['PROPN', 'VERB', 'DET', 'NOUN', 'ADP', 'DET', 'NOUN', 'ADP', 'PRON', 'ADJ', 'ADJ', 'NOUN', 'PUNCT']\",\n",
       "        \"['PROPN', 'VERB', 'DET', 'NOUN', 'ADP', 'NOUN', 'ADP', 'DET', 'NOUN', 'ADP', 'PRON', 'ADJ', 'ADJ', 'NOUN', 'PUNCT']\",\n",
       "        \"['PROPN', 'VERB', 'DET', 'NOUN', 'ADP', 'NOUN', 'ADP', 'DET', 'NOUN', 'ADP', 'PRON', 'ADJ', 'ADJ', 'NOUN', 'PUNCT']\",\n",
       "        \"['PROPN', 'VERB', 'DET', 'NOUN', 'ADP', 'NOUN', 'ADP', 'DET', 'NOUN', 'ADP', 'PRON', 'ADJ', 'ADJ', 'NOUN', 'PUNCT']\",\n",
       "        \"['PROPN', 'VERB', 'DET', 'NOUN', 'ADP', 'NOUN', 'ADP', 'DET', 'NOUN', 'ADP', 'PRON', 'ADJ', 'ADJ', 'NOUN', 'PUNCT']\",\n",
       "        \"['PROPN', 'VERB', 'DET', 'NOUN', 'ADP', 'NOUN', 'ADP', 'DET', 'NOUN', 'ADP', 'PRON', 'ADJ', 'ADJ', 'NOUN', 'PUNCT']\",\n",
       "        \"['PROPN', 'VERB', 'DET', 'NOUN', 'ADP', 'NOUN', 'ADP', 'DET', 'NOUN', 'ADP', 'PRON', 'ADJ', 'ADJ', 'NOUN', 'PUNCT']\",\n",
       "        \"['PROPN', 'VERB', 'DET', 'NOUN', 'ADP', 'DET', 'NOUN', 'ADP', 'DET', 'NOUN', 'ADP', 'PRON', 'ADJ', 'ADJ', 'NOUN', 'PUNCT']\",\n",
       "        \"['PROPN', 'VERB', 'DET', 'ADJ', 'NOUN', 'ADP', 'PRON', 'ADJ', 'ADJ', 'NOUN', 'ADP', 'PRON', 'ADJ', 'ADJ', 'NOUN', 'PUNCT']\",\n",
       "        \"['PROPN', 'VERB', 'DET', 'NOUN', 'ADP', 'DET', 'NOUN', 'ADP', 'DET', 'NOUN', 'ADP', 'PRON', 'ADJ', 'ADJ', 'NOUN', 'PUNCT']\",\n",
       "        \"['PROPN', 'VERB', 'DET', 'ADJ', 'NOUN', 'ADP', 'NOUN', 'ADP', 'PRON', 'ADJ', 'ADJ', 'NOUN', 'ADP', 'PRON', 'ADJ', 'ADJ', 'NOUN', 'PUNCT']\",\n",
       "        \"['PROPN', 'VERB', 'DET', 'ADJ', 'NOUN', 'ADP', 'NOUN', 'ADP', 'PRON', 'ADJ', 'ADJ', 'NOUN', 'ADP', 'PRON', 'ADJ', 'ADJ', 'NOUN', 'PUNCT']\",\n",
       "        \"['PROPN', 'VERB', 'DET', 'NOUN', 'ADP', 'NOUN', 'NOUN', 'ADP', 'ADP', 'DET', 'NOUN', 'ADP', 'PRON', 'ADJ', 'ADJ', 'NOUN', 'PUNCT']\",\n",
       "        \"['PROPN', 'VERB', 'DET', 'NOUN', 'ADP', 'DET', 'VERB', 'NOUN', 'ADP', 'PRON', 'ADJ', 'ADJ', 'NOUN']\",\n",
       "        \"['PROPN', 'VERB', 'DET', 'NOUN', 'ADP', 'DET', 'NOUN', 'ADP', 'PRON', 'ADJ', 'ADJ', 'NOUN', 'PUNCT']\",\n",
       "        \"['PROPN', 'VERB', 'DET', 'NOUN', 'ADP', 'PRON', 'ADJ', 'ADJ', 'NOUN', 'ADP', 'PRON', 'ADJ', 'ADJ', 'NOUN', 'PUNCT']\",\n",
       "        \"['PROPN', 'VERB', 'DET', 'NOUN', 'ADP', 'ADP', 'DET', 'NOUN', 'ADP', 'NOUN', 'ADP', 'PRON', 'ADJ', 'ADJ', 'NOUN', 'PUNCT']\",\n",
       "        \"['PROPN', 'VERB', 'DET', 'NOUN', 'ADP', 'DET', 'NOUN', 'ADP', 'DET', 'NOUN', 'ADP', 'NOUN', 'ADP', 'PRON', 'ADJ', 'ADJ', 'NOUN', 'PUNCT']\",\n",
       "        \"['PROPN', 'VERB', 'DET', 'NOUN', 'ADP', 'DET', 'NOUN', 'ADP', 'DET', 'NOUN', 'ADP', 'NOUN', 'ADP', 'PRON', 'ADJ', 'ADJ', 'NOUN', 'PUNCT']\",\n",
       "        \"['PROPN', 'VERB', 'DET', 'ADJ', 'NOUN', 'ADP', 'PRON', 'ADJ', 'ADJ', 'NOUN', 'ADP', 'PRON', 'ADJ', 'ADJ', 'NOUN', 'PUNCT']\",\n",
       "        \"['PROPN', 'VERB', 'DET', 'NOUN', 'ADP', 'DET', 'NOUN', 'NOUN', 'ADP', 'PRON', 'ADJ', 'ADJ', 'NOUN', 'PUNCT']\",\n",
       "        \"['PROPN', 'VERB', 'DET', 'NOUN', 'ADP', 'DET', 'NOUN', 'ADP', 'DET', 'NOUN', 'ADP', 'PRON', 'ADJ', 'ADJ', 'NOUN', 'PUNCT']\",\n",
       "        \"['PROPN', 'VERB', 'DET', 'NOUN', 'ADP', 'DET', 'NOUN', 'ADP', 'DET', 'NOUN', 'ADP', 'PRON', 'ADJ', 'ADJ', 'NOUN', 'PUNCT']\",\n",
       "        \"['PROPN', 'VERB', 'DET', 'NOUN', 'ADP', 'DET', 'NOUN', 'ADP', 'DET', 'NOUN', 'ADP', 'PRON', 'ADJ', 'ADJ', 'NOUN', 'PUNCT']\",\n",
       "        \"['PROPN', 'VERB', 'DET', 'NOUN', 'ADP', 'DET', 'NOUN', 'ADP', 'DET', 'NOUN', 'ADP', 'PRON', 'ADJ', 'ADJ', 'NOUN', 'PUNCT']\",\n",
       "        \"['PROPN', 'VERB', 'DET', 'NOUN', 'ADP', 'NOUN', 'ADP', 'DET', 'NOUN', 'ADP', 'DET', 'NOUN', 'ADP', 'PRON', 'ADJ', 'ADJ', 'NOUN', 'PUNCT']\",\n",
       "        \"['PROPN', 'VERB', 'NOUN', 'ADP', 'DET', 'NOUN', 'ADP', 'DET', 'NOUN', 'ADP', 'PRON', 'ADJ', 'ADJ', 'NOUN', 'PUNCT']\",\n",
       "        \"['PROPN', 'VERB', 'DET', 'NOUN', 'NOUN', 'ADP', 'DET', 'NOUN', 'NOUN', 'PUNCT']\",\n",
       "        \"['PROPN', 'VERB', 'PRON', 'ADJ', 'NOUN', 'ADV', 'ADP', 'DET', 'NOUN', 'NOUN']\",\n",
       "        \"['PROPN', 'VERB', 'DET', 'NOUN', 'ADP', 'DET', 'NOUN', 'PUNCT']\",\n",
       "        \"['PROPN', 'VERB', 'DET', 'NOUN', 'VERB', 'ADP', 'DET', 'NOUN', 'ADP', 'PRON', 'ADJ', 'NOUN', 'PUNCT']\",\n",
       "        \"['DET', 'NOUN', 'PROPN', 'VERB', 'DET', 'NOUN', 'NOUN', 'ADP', 'PROPN']\",\n",
       "        \"['PROPN', 'VERB', 'DET', 'NOUN', 'NOUN', 'NOUN', 'ADP', 'DET', 'NOUN', 'ADP', 'PRON', 'ADJ', 'NOUN', 'PUNCT']\",\n",
       "        \"['PROPN', 'VERB', 'DET', 'NOUN']\",\n",
       "        \"['PROPN', 'VERB', 'DET', 'ADJ', 'NOUN']\",\n",
       "        \"['PROPN', 'VERB', 'DET', 'NOUN']\",\n",
       "        \"['PROPN', 'VERB', 'DET', 'NOUN']\",\n",
       "        \"['PROPN', 'VERB', 'DET', 'NOUN']\",\n",
       "        \"['PROPN', 'VERB', 'DET', 'NOUN']\",\n",
       "        \"['PROPN', 'VERB', 'DET', 'NOUN', 'ADP', 'NOUN']\",\n",
       "        \"['PROPN', 'VERB', 'DET', 'NOUN', 'NOUN']\",\n",
       "        \"['PROPN', 'VERB', 'DET', 'NOUN']\",\n",
       "        \"['PROPN', 'VERB', 'DET', 'NOUN']\",\n",
       "        \"['PROPN', 'VERB', 'DET', 'NOUN', 'ADJ', 'NOUN']\",\n",
       "        \"['PROPN', 'VERB', 'DET', 'NOUN']\",\n",
       "        \"['PROPN', 'VERB', 'DET', 'ADJ', 'NOUN']\",\n",
       "        \"['PROPN', 'VERB', 'DET', 'NOUN']\",\n",
       "        \"['PROPN', 'VERB', 'DET', 'NOUN']\",\n",
       "        \"['PROPN', 'VERB', 'DET', 'NOUN']\",\n",
       "        \"['PROPN', 'VERB', 'DET', 'NOUN', 'ADP', 'NOUN']\",\n",
       "        \"['PROPN', 'VERB', 'DET', 'NOUN', 'ADJ', 'NOUN']\",\n",
       "        \"['PROPN', 'VERB', 'NOUN', 'NOUN']\",\n",
       "        \"['PROPN', 'VERB', 'DET', 'NOUN', 'NOUN']\",\n",
       "        \"['PROPN', 'VERB', 'DET', 'NOUN']\",\n",
       "        \"['PROPN', 'VERB', 'DET', 'NOUN', 'NOUN']\",\n",
       "        \"['PROPN', 'VERB', 'DET', 'NOUN', 'NOUN']\",\n",
       "        \"['PROPN', 'VERB', 'DET', 'NOUN', 'NOUN', 'NOUN']\",\n",
       "        \"['PROPN', 'VERB', 'DET', 'NOUN', 'ADJ', 'NOUN']\",\n",
       "        \"['PROPN', 'VERB', 'DET', 'NOUN', 'ADJ', 'NOUN']\",\n",
       "        \"['PROPN', 'VERB', 'DET', 'NOUN', 'NOUN', 'NOUN']\",\n",
       "        \"['PROPN', 'VERB', 'DET', 'NOUN', 'NOUN']\",\n",
       "        \"['PROPN', 'VERB', 'DET', 'NOUN']\",\n",
       "        \"['PROPN', 'VERB', 'DET', 'NOUN', 'ADJ', 'NOUN']\",\n",
       "        \"['PROPN', 'VERB', 'DET', 'NOUN', 'NOUN', 'NOUN']\",\n",
       "        \"['PROPN', 'VERB', 'DET', 'NOUN', 'NOUN', 'NOUN']\",\n",
       "        \"['PROPN', 'VERB', 'DET', 'NOUN', 'NOUN', 'NOUN']\",\n",
       "        \"['PROPN', 'VERB', 'DET', 'NOUN', 'NOUN', 'NOUN']\",\n",
       "        \"['PROPN', 'VERB', 'DET', 'NOUN', 'NOUN', 'NOUN']\",\n",
       "        \"['PROPN', 'VERB', 'DET', 'NOUN', 'ADJ', 'NOUN']\",\n",
       "        \"['PROPN', 'VERB', 'DET', 'NOUN', 'NOUN']\",\n",
       "        \"['PROPN', 'VERB', 'DET', 'NOUN']\",\n",
       "        \"['PROPN', 'VERB', 'DET', 'NOUN']\",\n",
       "        \"['PROPN', 'VERB', 'DET', 'NOUN']\",\n",
       "        \"['PROPN', 'VERB', 'DET', 'NOUN', 'NOUN']\",\n",
       "        \"['PROPN', 'VERB', 'DET', 'NOUN']\",\n",
       "        \"['PROPN', 'VERB', 'DET', 'NOUN']\",\n",
       "        \"['PROPN', 'VERB', 'DET', 'NOUN', 'ADP', 'DET', 'NOUN', 'ADP', 'NOUN', 'PUNCT']\",\n",
       "        \"['PROPN', 'VERB', 'DET', 'NOUN', 'ADP', 'DET', 'NOUN', 'ADP', 'NOUN', 'ADP', 'PRON', 'ADJ', 'NOUN', 'PUNCT']\",\n",
       "        \"['PROPN', 'VERB', 'DET', 'NOUN', 'ADP', 'DET', 'NOUN', 'ADP', 'NOUN', 'PUNCT']\",\n",
       "        \"['PROPN', 'VERB', 'DET', 'NOUN', 'NOUN', 'ADP', 'DET', 'NOUN', 'ADP', 'NOUN', 'PUNCT']\",\n",
       "        \"['PROPN', 'VERB', 'DET', 'NOUN', 'ADP', 'NOUN', 'ADP', 'DET', 'NOUN', 'PUNCT']\",\n",
       "        \"['PROPN', 'VERB', 'DET', 'NOUN', 'ADP', 'DET', 'NOUN', 'PUNCT']\",\n",
       "        \"['PROPN', 'VERB', 'DET', 'NOUN', 'ADP', 'DET', 'NOUN', 'NOUN', 'PUNCT']\",\n",
       "        \"['PROPN', 'VERB', 'DET', 'NOUN', 'ADP', 'DET', 'NOUN', 'PUNCT']\",\n",
       "        \"['PROPN', 'VERB', 'DET', 'NOUN', 'NOUN', 'ADP', 'DET', 'NOUN', 'PUNCT']\",\n",
       "        \"['PROPN', 'VERB', 'DET', 'NOUN', 'ADP', 'DET', 'NOUN', 'PUNCT']\",\n",
       "        \"['PROPN', 'VERB', 'DET', 'NOUN', 'ADP', 'DET', 'NOUN', 'PUNCT']\",\n",
       "        \"['PROPN', 'VERB', 'DET', 'NOUN', 'NOUN', 'ADP', 'DET', 'NOUN', 'PUNCT']\",\n",
       "        \"['PROPN', 'VERB', 'DET', 'NOUN']\",\n",
       "        \"['PROPN', 'VERB', 'NOUN', 'ADP', 'DET', 'NOUN']\",\n",
       "        \"['PROPN', 'VERB', 'DET', 'NOUN', 'ADP', 'DET', 'NOUN']\",\n",
       "        \"['PROPN', 'VERB', 'DET', 'ADJ', 'NOUN', 'ADV', 'ADP', 'DET', 'ADJ', 'NOUN', 'NOUN', 'PUNCT']\",\n",
       "        \"['PROPN', 'VERB', 'DET', 'NOUN', 'ADP', 'DET', 'NOUN', 'NOUN', 'ADP', 'PRON', 'ADJ', 'NOUN', 'PUNCT']\",\n",
       "        \"['PROPN', 'VERB', 'NOUN', 'ADP', 'DET', 'NOUN', 'ADP', 'PRON', 'ADJ', 'NOUN', 'PUNCT']\",\n",
       "        \"['PROPN', 'VERB', 'DET', 'NOUN', 'ADP', 'DET', 'NOUN', 'ADP', 'PRON', 'ADJ', 'NOUN', 'PUNCT']\",\n",
       "        \"['PROPN', 'VERB', 'DET', 'ADJ', 'NOUN', 'ADP', 'DET', 'NOUN', 'ADP', 'PRON', 'ADJ', 'NOUN', 'PUNCT']\",\n",
       "        \"['PROPN', 'VERB', 'DET', 'NOUN', 'NOUN']\",\n",
       "        \"['PROPN', 'VERB', 'NOUN', 'ADP', 'ADP', 'NOUN', 'NOUN']\",\n",
       "        \"['PROPN', 'VERB', 'NOUN', 'ADP', 'ADP', 'NOUN', 'NOUN']\",\n",
       "        \"['PROPN', 'VERB', 'NOUN', 'ADP', 'ADP', 'NOUN']\",\n",
       "        \"['PROPN', 'VERB', 'NOUN', 'ADP', 'NOUN']\",\n",
       "        \"['PROPN', 'VERB', 'NOUN', 'ADP', 'NOUN']\",\n",
       "        \"['PROPN', 'VERB', 'NOUN', 'ADP', 'ADP', 'NOUN', 'NOUN']\",\n",
       "        \"['PROPN', 'VERB', 'NOUN', 'ADP', 'ADP', 'NOUN', 'NOUN']\",\n",
       "        \"['PROPN', 'VERB', 'NOUN', 'ADP', 'NOUN']\",\n",
       "        \"['PROPN', 'VERB', 'NOUN', 'ADP', 'ADP', 'NOUN', 'NOUN']\",\n",
       "        \"['PROPN', 'VERB', 'NOUN', 'ADP', 'ADP', 'NOUN', 'NOUN']\",\n",
       "        \"['PROPN', 'VERB', 'NOUN', 'ADP', 'NOUN']\",\n",
       "        \"['PROPN', 'VERB', 'NOUN', 'ADP', 'ADP', 'NOUN', 'NOUN']\",\n",
       "        \"['PROPN', 'VERB', 'NOUN', 'ADP', 'NOUN']\",\n",
       "        \"['PROPN', 'VERB', 'NOUN', 'NOUN']\",\n",
       "        \"['PROPN', 'VERB', 'NOUN', 'ADP', 'PROPN', 'NOUN']\",\n",
       "        \"['PROPN', 'VERB', 'NOUN', 'ADP', 'DET', 'NOUN', 'NOUN', 'PUNCT']\",\n",
       "        \"['PROPN', 'VERB', 'DET', 'NOUN', 'ADP', 'DET', 'NOUN', 'NOUN', 'PUNCT']\",\n",
       "        \"['PROPN', 'VERB', 'DET', 'NOUN', 'NOUN', 'PUNCT']\",\n",
       "        \"['PROPN', 'VERB']\",\n",
       "        \"['PROPN', 'VERB', 'DET', 'NOUN', 'NOUN', 'PUNCT']\",\n",
       "        \"['PROPN', 'VERB', 'DET', 'NOUN', 'NOUN', 'PUNCT']\",\n",
       "        \"['PROPN', 'VERB', 'DET', 'NOUN', 'NOUN', 'PUNCT']\",\n",
       "        \"['PROPN', 'VERB', 'DET', 'NOUN', 'NOUN', 'PUNCT']\",\n",
       "        \"['PROPN', 'VERB', 'DET', 'NOUN', 'NOUN', 'PUNCT']\",\n",
       "        \"['PROPN', 'VERB', 'DET', 'NOUN', 'PUNCT']\",\n",
       "        \"['PROPN', 'VERB', 'DET', 'NOUN', 'NOUN', 'PUNCT']\",\n",
       "        \"['PROPN', 'VERB', 'DET', 'NOUN', 'PUNCT']\",\n",
       "        \"['PROPN', 'VERB', 'DET', 'NOUN', 'PUNCT']\",\n",
       "        \"['PROPN', 'VERB', 'NOUN']\", \"['PROPN', 'VERB', 'NOUN']\",\n",
       "        \"['PROPN', 'VERB']\", \"['PROPN', 'VERB', 'NOUN', 'NOUN']\",\n",
       "        \"['PROPN', 'VERB', 'DET', 'NOUN', 'NOUN']\",\n",
       "        \"['PROPN', 'VERB', 'NOUN']\",\n",
       "        \"['PROPN', 'VERB', 'DET', 'NOUN', 'NOUN']\",\n",
       "        \"['PROPN', 'VERB', 'NOUN', 'NOUN']\",\n",
       "        \"['PROPN', 'VERB', 'NOUN', 'NOUN']\",\n",
       "        \"['PROPN', 'VERB', 'DET', 'ADJ', 'NOUN']\",\n",
       "        \"['PROPN', 'VERB', 'DET', 'NOUN']\",\n",
       "        \"['PROPN', 'VERB', 'DET', 'NOUN']\",\n",
       "        \"['PROPN', 'VERB', 'DET', 'NOUN', 'ADP', 'DET', 'NOUN', 'ADP', 'NOUN', 'ADP', 'PRON', 'NOUN']\",\n",
       "        \"['PROPN', 'VERB', 'DET', 'NOUN', 'ADP', 'PRON', 'NOUN']\",\n",
       "        \"['PROPN', 'VERB', 'DET', 'NOUN', 'ADP', 'DET', 'NOUN', 'ADP', 'NOUN', 'ADP', 'PRON', 'NOUN']\",\n",
       "        \"['PROPN', 'VERB', 'DET', 'NOUN', 'ADP', 'DET', 'NOUN', 'NOUN', 'ADP', 'PRON', 'NOUN']\",\n",
       "        \"['PROPN', 'VERB', 'DET', 'NOUN', 'ADP', 'PRON', 'NOUN']\",\n",
       "        \"['PROPN', 'VERB', 'DET', 'NOUN', 'ADP', 'DET', 'NOUN', 'ADP', 'NOUN', 'ADP', 'PRON', 'NOUN']\",\n",
       "        \"['PROPN', 'VERB', 'DET', 'NOUN', 'ADP', 'DET', 'NOUN', 'ADP', 'NOUN', 'ADP', 'PRON', 'NOUN']\",\n",
       "        \"['PROPN', 'VERB', 'DET', 'NOUN', 'ADP', 'DET', 'NOUN', 'ADP', 'NOUN', 'ADP', 'PRON', 'NOUN']\",\n",
       "        \"['PROPN', 'VERB', 'DET', 'NOUN', 'ADP', 'DET', 'NOUN', 'ADP', 'NOUN', 'ADP', 'PRON', 'NOUN']\",\n",
       "        \"['PROPN', 'VERB', 'DET', 'NOUN', 'ADP', 'DET', 'NOUN', 'ADP', 'NOUN', 'ADP', 'PRON', 'NOUN']\",\n",
       "        \"['PROPN', 'VERB', 'DET', 'NOUN', 'ADP', 'DET', 'NOUN', 'ADP', 'NOUN', 'ADP', 'PRON', 'NOUN']\",\n",
       "        \"['PROPN', 'VERB', 'ADJ', 'NOUN', 'ADP', 'DET', 'NOUN', 'ADP', 'NOUN', 'ADP', 'PRON', 'NOUN']\",\n",
       "        \"['PROPN', 'VERB', 'DET', 'NOUN', 'ADP', 'PRON', 'NOUN']\",\n",
       "        \"['PROPN', 'VERB', 'DET', 'NOUN', 'ADP', 'DET', 'NOUN', 'ADP', 'NOUN', 'ADP', 'PRON', 'NOUN']\",\n",
       "        \"['PROPN', 'VERB', 'DET', 'NOUN', 'ADP', 'DET', 'NOUN', 'ADP', 'NOUN', 'ADP', 'PRON', 'NOUN']\",\n",
       "        \"['PROPN', 'VERB', 'DET', 'NOUN', 'ADP', 'PRON', 'NOUN']\",\n",
       "        \"['PROPN', 'VERB', 'DET', 'NOUN', 'ADP', 'DET', 'NOUN', 'ADP', 'NOUN', 'ADP', 'PRON', 'NOUN']\",\n",
       "        \"['PROPN', 'VERB', 'DET', 'NOUN', 'ADP', 'PRON', 'NOUN']\",\n",
       "        \"['PROPN', 'VERB', 'DET', 'ADJ', 'NOUN', 'ADP', 'PRON', 'NOUN']\",\n",
       "        \"['PROPN', 'VERB', 'DET', 'ADJ', 'NOUN', 'ADP', 'PRON', 'NOUN']\",\n",
       "        \"['PROPN', 'VERB', 'DET', 'ADJ', 'NOUN', 'ADP', 'DET', 'NOUN', 'ADP', 'PRON', 'ADJ', 'NOUN']\",\n",
       "        \"['PROPN', 'VERB', 'PRON', 'ADJ', 'NOUN', 'ADP', 'DET', 'ADJ', 'NOUN', 'PUNCT']\",\n",
       "        \"['PROPN', 'VERB', 'DET', 'ADJ', 'NOUN', 'ADV', 'PUNCT']\",\n",
       "        \"['PROPN', 'VERB', 'DET', 'NOUN', 'NOUN']\",\n",
       "        \"['PROPN', 'VERB', 'PRON', 'NOUN', 'NOUN']\",\n",
       "        \"['PROPN', 'VERB', 'DET', 'NOUN', 'NOUN', 'NOUN', 'NOUN']\",\n",
       "        \"['PROPN', 'VERB', 'DET', 'ADJ', 'NOUN']\",\n",
       "        \"['PROPN', 'VERB', 'DET', 'NOUN', 'NOUN', 'ADP', 'DET', 'NOUN']\",\n",
       "        \"['PROPN', 'VERB', 'DET', 'ADJ', 'NOUN']\",\n",
       "        \"['PROPN', 'VERB', 'DET', 'NOUN', 'ADP', 'PRON', 'ADJ', 'NOUN', 'PUNCT']\",\n",
       "        \"['PROPN', 'VERB', 'DET', 'NOUN', 'NOUN', 'ADP', 'DET', 'NOUN', 'ADP', 'DET', 'ADJ', 'NOUN', 'ADP', 'DET', 'NOUN', 'PUNCT']\",\n",
       "        \"['PROPN', 'VERB', 'DET', 'NOUN', 'ADP', 'DET', 'NOUN']\",\n",
       "        \"['PROPN', 'VERB', 'DET', 'NOUN', 'ADP', 'DET', 'NOUN']\",\n",
       "        \"['PROPN', 'VERB', 'DET', 'NOUN', 'ADP', 'DET', 'NOUN']\",\n",
       "        \"['PROPN', 'VERB', 'DET', 'NOUN', 'ADP', 'DET', 'NOUN']\",\n",
       "        \"['PROPN', 'VERB', 'DET', 'VERB', 'NOUN']\",\n",
       "        \"['PROPN', 'VERB', 'DET', 'NOUN', 'NOUN', 'NOUN']\",\n",
       "        \"['PROPN', 'VERB', 'DET', 'ADJ', 'NOUN', 'NOUN', 'NOUN', 'ADP', 'DET', 'NOUN']\",\n",
       "        \"['PROPN', 'VERB', 'DET', 'NOUN']\",\n",
       "        \"['PROPN', 'VERB', 'DET', 'NOUN', 'NOUN']\",\n",
       "        \"['PROPN', 'VERB', 'DET', 'NOUN']\",\n",
       "        \"['PROPN', 'VERB', 'DET', 'NOUN']\",\n",
       "        \"['PROPN', 'VERB', 'DET', 'NOUN']\",\n",
       "        \"['PROPN', 'VERB', 'DET', 'NOUN', 'NOUN']\",\n",
       "        \"['PROPN', 'VERB', 'DET', 'NOUN']\",\n",
       "        \"['PROPN', 'VERB', 'DET', 'NOUN', 'ADP', 'PRON', 'NOUN']\",\n",
       "        \"['PROPN', 'VERB', 'DET', 'NOUN', 'ADP', 'PRON', 'NOUN']\",\n",
       "        \"['PROPN', 'VERB']\", \"['PROPN', 'VERB', 'DET', 'NOUN']\",\n",
       "        \"['PROPN', 'VERB', 'NOUN', 'ADP', 'DET', 'NOUN', 'PUNCT']\",\n",
       "        \"['PROPN', 'VERB', 'ADJ', 'NOUN']\",\n",
       "        \"['PROPN', 'VERB', 'VERB', 'NOUN']\",\n",
       "        \"['PROPN', 'VERB', 'VERB', 'NOUN']\",\n",
       "        \"['PROPN', 'VERB', 'VERB', 'NOUN']\",\n",
       "        \"['PROPN', 'VERB', 'VERB', 'NOUN']\",\n",
       "        \"['PROPN', 'VERB', 'VERB', 'NOUN']\",\n",
       "        \"['PROPN', 'VERB', 'VERB', 'NOUN']\",\n",
       "        \"['PROPN', 'VERB', 'VERB', 'NOUN']\",\n",
       "        \"['PROPN', 'VERB', 'DET', 'NOUN', 'NOUN']\",\n",
       "        \"['PROPN', 'VERB', 'DET', 'ADJ', 'NOUN']\",\n",
       "        \"['PROPN', 'VERB', 'VERB', 'NOUN']\",\n",
       "        \"['PROPN', 'VERB', 'DET', 'NOUN', 'NOUN']\",\n",
       "        \"['PROPN', 'VERB', 'DET', 'NOUN', 'NOUN']\",\n",
       "        \"['PROPN', 'VERB', 'DET', 'NOUN', 'NOUN']\",\n",
       "        \"['PROPN', 'VERB', 'VERB', 'NOUN']\",\n",
       "        \"['PROPN', 'VERB', 'VERB', 'NOUN']\",\n",
       "        \"['PROPN', 'VERB', 'VERB', 'NOUN']\",\n",
       "        \"['PROPN', 'VERB', 'VERB', 'NOUN']\",\n",
       "        \"['PROPN', 'VERB', 'VERB', 'NOUN']\",\n",
       "        \"['PROPN', 'VERB', 'DET', 'NOUN', 'ADP', 'DET', 'NOUN']\",\n",
       "        \"['PROPN', 'VERB', 'VERB', 'NOUN']\",\n",
       "        \"['PROPN', 'VERB', 'DET', 'ADJ', 'NOUN']\",\n",
       "        \"['PROPN', 'VERB', 'DET', 'ADJ', 'NOUN']\",\n",
       "        \"['PROPN', 'VERB', 'DET', 'ADJ', 'NOUN']\",\n",
       "        \"['PROPN', 'VERB', 'DET', 'VERB', 'NOUN']\",\n",
       "        \"['PROPN', 'VERB', 'DET', 'VERB', 'NOUN']\",\n",
       "        \"['PROPN', 'VERB', 'DET', 'ADJ', 'NOUN']\",\n",
       "        \"['PROPN', 'VERB', 'DET', 'ADJ', 'NOUN']\",\n",
       "        \"['PROPN', 'VERB', 'DET', 'NOUN', 'NOUN']\",\n",
       "        \"['PROPN', 'VERB', 'DET', 'NOUN']\",\n",
       "        \"['PROPN', 'VERB', 'DET', 'NOUN', 'VERB', 'ADP', 'DET', 'NOUN']\",\n",
       "        \"['PROPN', 'VERB', 'DET', 'NOUN', 'NOUN', 'VERB', 'ADP', 'DET', 'NOUN']\",\n",
       "        \"['PROPN', 'VERB', 'DET', 'NOUN', 'NOUN', 'VERB', 'ADP', 'DET', 'NOUN', 'NOUN']\",\n",
       "        \"['PROPN', 'VERB', 'DET', 'NOUN', 'VERB', 'ADP', 'DET', 'NOUN']\",\n",
       "        \"['PROPN', 'VERB', 'DET', 'NOUN', 'ADP', 'NOUN']\",\n",
       "        \"['PROPN', 'VERB', 'DET', 'NOUN', 'NOUN', 'ADP', 'DET', 'ADJ', 'NOUN', 'PUNCT']\",\n",
       "        \"['PROPN', 'VERB', 'DET', 'NOUN', 'ADP', 'ADP', 'NOUN', 'DET', 'NOUN']\",\n",
       "        \"['PROPN', 'VERB', 'DET', 'NOUN', 'ADP', 'ADP', 'NOUN', 'DET', 'NOUN']\",\n",
       "        \"['PROPN', 'VERB', 'DET', 'NOUN', 'ADP', 'ADP', 'ADJ', 'DET', 'NOUN']\",\n",
       "        \"['PROPN', 'VERB', 'DET', 'NOUN', 'NOUN', 'ADP', 'ADP', 'NOUN', 'DET', 'NOUN']\",\n",
       "        \"['PROPN', 'VERB', 'NOUN', 'ADP', 'ADP', 'NOUN', 'DET', 'NOUN']\",\n",
       "        \"['PROPN', 'VERB', 'NOUN', 'ADP', 'DET', 'NOUN']\",\n",
       "        \"['PROPN', 'VERB', 'DET', 'NOUN', 'PUNCT']\",\n",
       "        \"['PROPN', 'VERB', 'DET', 'NOUN', 'PUNCT']\",\n",
       "        \"['PROPN', 'VERB', 'DET', 'NOUN', 'PUNCT']\",\n",
       "        \"['PROPN', 'VERB', 'DET', 'NOUN', 'NOUN', 'PUNCT']\",\n",
       "        \"['PROPN', 'VERB']\", \"['PROPN', 'VERB', 'DET', 'NOUN', 'PUNCT']\",\n",
       "        \"['PROPN', 'VERB', 'DET', 'NOUN', 'PUNCT']\",\n",
       "        \"['PROPN', 'VERB', 'DET', 'NOUN', 'NOUN', 'PUNCT']\",\n",
       "        \"['PROPN', 'VERB', 'DET', 'NOUN', 'PUNCT']\",\n",
       "        \"['PROPN', 'VERB', 'DET', 'NOUN', 'PUNCT']\",\n",
       "        \"['PROPN', 'VERB', 'DET', 'NOUN', 'PUNCT']\",\n",
       "        \"['PROPN', 'VERB', 'DET', 'NOUN', 'PUNCT']\",\n",
       "        \"['PROPN', 'VERB', 'ADJ', 'NOUN', 'ADP', 'DET', 'NOUN', 'PRON', 'ADJ', 'NOUN', 'PUNCT']\",\n",
       "        \"['PROPN', 'VERB', 'NUM', 'ADJ', 'NOUN', 'ADP', 'DET', 'NOUN', 'ADP', 'PRON', 'ADJ', 'NOUN', 'PUNCT']\",\n",
       "        \"['PROPN', 'VERB', 'PRON', 'ADJ', 'NOUN', 'ADP', 'DET', 'PROPN', 'NOUN']\",\n",
       "        \"['PROPN', 'VERB', 'PRON', 'ADJ', 'NOUN', 'ADP', 'DET', 'PROPN', 'NOUN', 'NOUN', 'PUNCT']\",\n",
       "        \"['PROPN', 'VERB', 'DET', 'NOUN']\",\n",
       "        \"['PROPN', 'VERB', 'DET', 'NOUN']\",\n",
       "        \"['PROPN', 'VERB', 'NOUN', 'VERB', 'NOUN']\",\n",
       "        \"['PROPN', 'VERB', 'NOUN']\",\n",
       "        \"['PROPN', 'VERB', 'DET', 'NOUN', 'NOUN']\",\n",
       "        \"['PROPN', 'VERB', 'DET', 'NOUN']\",\n",
       "        \"['PROPN', 'VERB', 'NOUN', 'ADP', 'DET', 'NOUN', 'PUNCT']\",\n",
       "        \"['PROPN', 'VERB', 'DET', 'NOUN', 'ADP', 'NOUN', 'NOUN']\",\n",
       "        \"['PROPN', 'VERB', 'DET', 'NOUN', 'NOUN']\",\n",
       "        \"['PROPN', 'VERB', 'DET', 'NOUN', 'ADP', 'NOUN']\",\n",
       "        \"['PROPN', 'VERB', 'DET', 'NOUN']\",\n",
       "        \"['PROPN', 'VERB', 'DET', 'NOUN']\",\n",
       "        \"['PROPN', 'VERB', 'DET', 'NOUN']\", \"['PROPN', 'VERB', 'NOUN']\",\n",
       "        \"['PROPN', 'VERB', 'DET', 'ADJ', 'NOUN']\",\n",
       "        \"['PROPN', 'VERB', 'DET', 'NOUN', 'ADP', 'DET', 'NOUN', 'PUNCT']\",\n",
       "        \"['PROPN', 'VERB', 'DET', 'ADJ', 'NOUN', 'PUNCT']\",\n",
       "        \"['PROPN', 'VERB', 'DET', 'ADJ', 'NOUN', 'ADP', 'DET', 'NOUN', 'PUNCT']\",\n",
       "        \"['PROPN', 'VERB', 'DET', 'NOUN', 'PUNCT']\",\n",
       "        \"['PROPN', 'VERB', 'ADJ', 'ADJ', 'NOUN', 'PUNCT']\",\n",
       "        \"['PROPN', 'VERB', 'DET', 'NOUN', 'PUNCT']\",\n",
       "        \"['PROPN', 'VERB', 'DET', 'ADJ', 'NOUN', 'ADP', 'DET', 'NOUN', 'PUNCT']\",\n",
       "        \"['PROPN', 'VERB', 'DET', 'NOUN', 'PUNCT']\",\n",
       "        \"['PROPN', 'VERB', 'DET', 'NOUN', 'PUNCT']\",\n",
       "        \"['PROPN', 'VERB', 'DET', 'ADJ', 'NOUN', 'ADP', 'NOUN', 'PUNCT']\",\n",
       "        \"['PROPN', 'VERB', 'DET', 'ADJ', 'NOUN', 'PUNCT']\",\n",
       "        \"['PROPN', 'VERB', 'DET', 'DET', 'NOUN', 'PUNCT']\",\n",
       "        \"['PROPN', 'VERB', 'DET', 'NOUN', 'ADP', 'DET', 'NOUN', 'PUNCT']\",\n",
       "        \"['PROPN', 'VERB', 'DET', 'ADJ', 'NOUN', 'PUNCT']\",\n",
       "        \"['PROPN', 'VERB', 'DET', 'NOUN', 'PUNCT']\",\n",
       "        \"['PROPN', 'VERB', 'DET', 'NOUN', 'PUNCT']\",\n",
       "        \"['PROPN', 'VERB', 'DET', 'NOUN', 'NOUN', 'PUNCT']\",\n",
       "        \"['PROPN', 'VERB', 'DET', 'NOUN', 'ADP', 'DET', 'NOUN', 'PUNCT']\",\n",
       "        \"['PROPN', 'VERB', 'NUM', 'NOUN', 'PUNCT']\",\n",
       "        \"['PROPN', 'VERB', 'DET', 'NOUN', 'NOUN', 'PUNCT']\",\n",
       "        \"['PROPN', 'VERB', 'DET', 'NOUN', 'PUNCT']\",\n",
       "        \"['PROPN', 'VERB', 'DET', 'NOUN', 'NOUN', 'PUNCT']\",\n",
       "        \"['PROPN', 'VERB', 'DET', 'NOUN', 'PUNCT']\",\n",
       "        \"['PROPN', 'VERB', 'DET', 'NOUN', 'NOUN', 'PUNCT']\",\n",
       "        \"['PROPN', 'VERB', 'DET', 'NOUN', 'PUNCT']\",\n",
       "        \"['PROPN', 'VERB', 'DET', 'NOUN', 'PUNCT']\",\n",
       "        \"['PROPN', 'VERB', 'DET', 'NOUN', 'PUNCT']\",\n",
       "        \"['PROPN', 'VERB', 'DET', 'NOUN', 'NOUN', 'PUNCT']\",\n",
       "        \"['PROPN', 'VERB', 'DET', 'NOUN', 'PUNCT']\",\n",
       "        \"['PROPN', 'VERB', 'DET', 'NOUN', 'NOUN', 'PUNCT']\",\n",
       "        \"['PROPN', 'VERB', 'DET', 'NOUN', 'PUNCT']\",\n",
       "        \"['PROPN', 'VERB', 'DET', 'NOUN', 'NOUN', 'PUNCT']\",\n",
       "        \"['PROPN', 'VERB', 'DET', 'NOUN', 'PUNCT']\",\n",
       "        \"['PROPN', 'VERB', 'DET', 'NOUN', 'NOUN', 'PUNCT']\",\n",
       "        \"['PROPN', 'VERB', 'DET', 'NOUN', 'PUNCT']\",\n",
       "        \"['PROPN', 'VERB', 'DET', 'NOUN', 'NOUN', 'PUNCT']\",\n",
       "        \"['PROPN', 'VERB', 'DET', 'NOUN', 'PUNCT']\",\n",
       "        \"['PROPN', 'VERB', 'DET', 'NOUN', 'NOUN', 'PUNCT']\",\n",
       "        \"['PROPN', 'VERB', 'DET', 'NOUN', 'PUNCT']\",\n",
       "        \"['PROPN', 'VERB', 'DET', 'NOUN', 'NOUN', 'PUNCT']\",\n",
       "        \"['PROPN', 'VERB', 'DET', 'NOUN', 'PUNCT']\",\n",
       "        \"['PROPN', 'VERB', 'DET', 'NOUN', 'NOUN', 'PUNCT']\",\n",
       "        \"['PROPN', 'VERB', 'DET', 'NOUN', 'NOUN', 'PUNCT']\",\n",
       "        \"['PROPN', 'VERB', 'DET', 'NOUN', 'PUNCT']\",\n",
       "        \"['PROPN', 'VERB', 'DET', 'NOUN', 'NOUN', 'PUNCT']\",\n",
       "        \"['PROPN', 'VERB', 'DET', 'NOUN', 'NOUN']\",\n",
       "        \"['PROPN', 'VERB', 'NOUN', 'ADP', 'ADP', 'NOUN']\",\n",
       "        \"['PROPN', 'VERB', 'DET', 'NOUN', 'ADP', 'ADP', 'NOUN']\",\n",
       "        \"['PROPN', 'VERB', 'DET', 'NOUN', 'NOUN', 'ADP', 'PRON', 'ADJ', 'NOUN']\",\n",
       "        \"['PROPN', 'VERB', 'DET', 'NOUN', 'ADP', 'PRON', 'ADJ', 'NOUN']\",\n",
       "        \"['PROPN', 'VERB', 'DET', 'NOUN', 'ADP', 'PRON', 'ADJ', 'NOUN']\",\n",
       "        \"['PROPN', 'VERB', 'DET', 'NOUN', 'ADP', 'PRON', 'ADJ', 'NOUN']\",\n",
       "        \"['PROPN', 'VERB', 'DET', 'NOUN', 'ADP', 'PRON', 'ADJ', 'NOUN']\",\n",
       "        \"['PROPN', 'VERB', 'DET', 'NOUN', 'ADP', 'DET', 'NOUN', 'ADP', 'PRON', 'ADJ', 'NOUN']\",\n",
       "        \"['PROPN', 'VERB', 'DET', 'NOUN', 'ADP', 'DET', 'NOUN', 'ADP', 'PRON', 'ADJ', 'NOUN', 'PUNCT']\",\n",
       "        \"['PROPN', 'VERB', 'DET', 'NOUN', 'ADP', 'DET', 'NOUN', 'ADP', 'PRON', 'ADJ', 'NOUN', 'PUNCT']\",\n",
       "        \"['PROPN', 'VERB', 'DET', 'NOUN', 'NOUN', 'ADP', 'PRON', 'ADJ', 'NOUN', 'ADP', 'PRON', 'ADJ', 'NOUN', 'PUNCT']\",\n",
       "        \"['PROPN', 'VERB', 'DET', 'NOUN', 'NOUN', 'ADP', 'DET', 'NOUN', 'ADP', 'DET', 'NOUN', 'ADP', 'PRON', 'ADJ', 'NOUN', 'PUNCT']\",\n",
       "        \"['PROPN', 'VERB', 'DET', 'NOUN', 'NOUN', 'NOUN', 'ADP', 'DET', 'NOUN', 'PUNCT']\",\n",
       "        \"['PROPN', 'VERB', 'DET', 'NOUN', 'NOUN', 'ADP', 'DET', 'NOUN', 'PUNCT']\",\n",
       "        \"['PROPN', 'VERB', 'DET', 'NOUN', 'ADP', 'DET', 'NOUN', 'ADP', 'DET', 'NOUN', 'ADP', 'PRON', 'ADJ', 'NOUN', 'PUNCT']\",\n",
       "        \"['PROPN', 'PROPN', 'VERB', 'DET', 'NOUN', 'ADP', 'NOUN']\",\n",
       "        \"['PROPN', 'VERB', 'DET', 'NOUN', 'PUNCT']\",\n",
       "        \"['PROPN', 'VERB', 'NOUN', 'ADP', 'DET', 'NOUN']\",\n",
       "        \"['PROPN', 'VERB', 'DET', 'NOUN', 'ADP', 'DET', 'NOUN', 'ADP', 'DET', 'PROPN']\",\n",
       "        \"['PROPN', 'VERB', 'DET', 'NOUN', 'ADP', 'DET', 'NOUN', 'ADP', 'DET', 'PROPN']\",\n",
       "        \"['PROPN', 'VERB', 'DET', 'NOUN', 'NOUN', 'ADP', 'ADP', 'DET', 'NOUN', 'NOUN']\",\n",
       "        \"['PROPN', 'VERB', 'PRON', 'NOUN', 'ADP', 'ADP', 'DET', 'NOUN', 'NOUN']\",\n",
       "        \"['PROPN', 'VERB', 'NOUN', 'ADP', 'DET', 'NOUN', 'ADP', 'DET', 'ADJ', 'NOUN']\",\n",
       "        \"['PROPN', 'VERB', 'NOUN', 'ADP', 'DET', 'NOUN', 'ADP', 'DET', 'ADJ', 'NOUN']\",\n",
       "        \"['PROPN', 'VERB', 'NOUN', 'ADP', 'DET', 'NOUN', 'ADP', 'DET', 'ADJ', 'NOUN']\",\n",
       "        \"['PROPN', 'VERB', 'DET', 'NOUN', 'ADP', 'DET', 'ADJ', 'NOUN', 'PUNCT']\",\n",
       "        \"['PROPN', 'VERB', 'DET', 'NOUN', 'ADP', 'NOUN', 'ADP', 'DET', 'ADJ', 'NOUN', 'PUNCT']\",\n",
       "        \"['PROPN', 'VERB', 'DET', 'NOUN', 'ADP', 'NOUN', 'ADP', 'DET', 'NOUN', 'PUNCT']\",\n",
       "        \"['PROPN', 'VERB', 'DET', 'NOUN', 'ADP', 'NOUN', 'ADP', 'DET', 'NOUN', 'ADP', 'DET', 'NOUN', 'PUNCT']\",\n",
       "        \"['PROPN', 'VERB', 'DET', 'NOUN', 'NOUN', 'ADV', 'ADP', 'DET', 'NOUN']\",\n",
       "        \"['PROPN', 'VERB', 'DET', 'NOUN', 'ADP', 'DET', 'NOUN', 'ADP', 'DET', 'NOUN']\",\n",
       "        \"['PROPN', 'VERB', 'DET', 'NOUN', 'NOUN']\",\n",
       "        \"['PROPN', 'VERB', 'DET', 'NOUN', 'ADP', 'DET', 'NOUN']\",\n",
       "        \"['PROPN', 'VERB', 'DET', 'NOUN', 'NOUN', 'VERB', 'ADP', 'DET', 'NOUN']\",\n",
       "        \"['PROPN', 'VERB', 'DET', 'NOUN', 'NOUN', 'NOUN', 'VERB', 'ADP', 'DET', 'NOUN']\",\n",
       "        \"['PROPN', 'VERB', 'DET', 'NOUN', 'NOUN', 'NOUN']\",\n",
       "        \"['PROPN', 'VERB', 'DET', 'NOUN', 'NOUN']\",\n",
       "        \"['PROPN', 'VERB', 'DET', 'NOUN', 'VERB', 'ADP', 'DET', 'NOUN', 'PART', 'VERB', 'DET', 'NOUN', 'NOUN']\",\n",
       "        \"['PROPN', 'VERB', 'DET', 'NOUN', 'ADP', 'DET', 'NOUN', 'ADP', 'ADJ', 'NOUN', 'PUNCT']\",\n",
       "        \"['PROPN', 'VERB', 'DET', 'NOUN', 'ADP', 'DET', 'NOUN', 'ADP', 'ADJ', 'NOUN', 'PUNCT']\",\n",
       "        \"['PROPN', 'VERB', 'DET', 'NOUN', 'ADP', 'DET', 'NOUN', 'PUNCT']\",\n",
       "        \"['PROPN', 'VERB', 'DET', 'NOUN', 'NOUN']\",\n",
       "        \"['PROPN', 'VERB', 'DET', 'NOUN', 'NOUN', 'ADP', 'DET', 'NOUN']\",\n",
       "        \"['PROPN', 'VERB', 'DET', 'NOUN', 'NOUN']\",\n",
       "        \"['PROPN', 'VERB', 'DET', 'NOUN', 'ADP', 'ADJ', 'NOUN']\",\n",
       "        \"['PROPN', 'VERB', 'DET', 'NOUN', 'NOUN', 'NOUN', 'ADP', 'DET', 'NOUN', 'PUNCT']\",\n",
       "        \"['PROPN', 'VERB', 'DET', 'NOUN', 'ADP', 'DET', 'NOUN', 'ADP', 'DET', 'NOUN', 'PUNCT']\",\n",
       "        \"['DET', 'NOUN', 'PROPN', 'VERB', 'DET', 'NOUN', 'ADP', 'DET', 'NOUN', 'PUNCT']\",\n",
       "        \"['PROPN', 'VERB', 'DET', 'NOUN', 'ADP', 'DET', 'NOUN', 'ADP', 'DET', 'NOUN']\",\n",
       "        \"['PROPN', 'VERB', 'DET', 'NOUN', 'ADP', 'DET', 'NOUN', 'ADP', 'ADJ', 'NOUN']\",\n",
       "        \"['PROPN', 'VERB', 'DET', 'DET', 'NOUN', 'PUNCT']\",\n",
       "        \"['PROPN', 'VERB', 'NOUN', 'ADP', 'DET', 'NOUN', 'ADP', 'NOUN', 'ADP', 'DET', 'PROPN', 'PROPN', 'PUNCT']\",\n",
       "        \"['PROPN', 'VERB', 'DET', 'PROPN', 'PROPN', 'ADP', 'DET', 'NOUN', 'ADP', 'NOUN', 'PUNCT']\",\n",
       "        \"['PROPN', 'VERB', 'NOUN', 'ADP', 'DET', 'NOUN', 'ADP', 'NOUN', 'ADP', 'DET', 'PROPN', 'PROPN', 'PUNCT']\",\n",
       "        \"['PROPN', 'VERB', 'DET', 'PROPN', 'PROPN', 'ADP', 'DET', 'NOUN', 'ADP', 'NOUN', 'PUNCT']\",\n",
       "        \"['PROPN', 'VERB', 'PRON', 'ADJ', 'NOUN', 'ADP', 'DET', 'NOUN', 'ADP', 'DET', 'NOUN', 'NOUN', 'PUNCT']\",\n",
       "        \"['PROPN', 'VERB', 'DET', 'NOUN', 'ADP', 'DET', 'NOUN', 'ADP', 'NOUN', 'PUNCT']\",\n",
       "        \"['PROPN', 'VERB', 'NOUN', 'ADP', 'DET', 'NOUN', 'ADP', 'NOUN', 'PUNCT']\",\n",
       "        \"['PROPN', 'VERB', 'DET', 'NOUN']\",\n",
       "        \"['PROPN', 'VERB', 'DET', 'NOUN']\",\n",
       "        \"['PROPN', 'VERB', 'DET', 'NOUN', 'NOUN', 'NOUN']\",\n",
       "        \"['PROPN', 'VERB', 'DET', 'NOUN', 'ADP', 'DET', 'NOUN', 'ADP', 'DET', 'NOUN', 'ADP', 'PRON', 'ADJ', 'NOUN', 'PUNCT']\",\n",
       "        \"['PROPN', 'VERB', 'PRON', 'ADJ', 'NOUN', 'ADP', 'DET', 'ADJ', 'NOUN', 'NOUN']\",\n",
       "        \"['PROPN', 'VERB', 'DET', 'NOUN', 'ADV', 'ADP', 'DET', 'NOUN']\",\n",
       "        \"['PROPN', 'VERB', 'DET', 'NOUN', 'ADP', 'DET', 'ADJ', 'NOUN', 'NOUN']\",\n",
       "        \"['PROPN', 'VERB', 'DET', 'NOUN', 'ADP', 'DET', 'ADJ', 'NOUN', 'NOUN']\",\n",
       "        \"['PROPN', 'VERB', 'DET', 'NOUN', 'ADP', 'DET', 'ADJ', 'NOUN', 'NOUN']\",\n",
       "        \"['PROPN', 'VERB', 'DET', 'NOUN', 'ADV', 'ADP', 'DET', 'NOUN']\",\n",
       "        \"['PROPN', 'VERB', 'NOUN']\",\n",
       "        \"['PROPN', 'VERB', 'PRON', 'ADJ', 'NOUN', 'ADV', 'PUNCT']\",\n",
       "        \"['PROPN', 'VERB', 'PRON', 'ADJ', 'NOUN', 'ADP', 'DET', 'NOUN', 'PUNCT']\",\n",
       "        \"['PUNCT', 'NOUN', 'VERB', 'DET', 'NOUN', 'NOUN', 'ADP', 'DET', 'NOUN', 'PUNCT']\",\n",
       "        \"['PROPN', 'VERB', 'DET', 'NOUN', 'ADP', 'DET', 'NOUN', 'PUNCT']\",\n",
       "        \"['PROPN', 'VERB', 'DET', 'NOUN', 'ADP', 'NOUN', 'NOUN', 'ADP', 'DET', 'NOUN', 'PUNCT']\",\n",
       "        \"['PROPN', 'VERB', 'DET', 'NOUN', 'ADP', 'DET', 'NOUN', 'PUNCT']\",\n",
       "        \"['PROPN', 'VERB', 'DET', 'NOUN', 'NOUN', 'ADP', 'DET', 'NOUN', 'PUNCT']\",\n",
       "        \"['PROPN', 'VERB', 'DET', 'NOUN', 'ADP', 'DET', 'NOUN', 'PUNCT']\",\n",
       "        \"['PROPN', 'VERB', 'DET', 'ADJ', 'NOUN', 'ADP', 'DET', 'NOUN', 'PUNCT']\",\n",
       "        \"['PROPN', 'VERB', 'DET', 'NOUN', 'PUNCT']\",\n",
       "        \"['PROPN', 'VERB', 'DET', 'NOUN', 'ADP', 'DET', 'ADJ', 'NOUN', 'PUNCT']\",\n",
       "        \"['PROPN', 'VERB', 'DET', 'NOUN', 'PUNCT']\",\n",
       "        \"['PROPN', 'VERB', 'DET', 'NOUN', 'PUNCT']\",\n",
       "        \"['PROPN', 'VERB', 'DET', 'NOUN', 'PUNCT']\",\n",
       "        \"['PROPN', 'VERB', 'DET', 'ADJ', 'NOUN', 'ADV', 'ADP', 'DET', 'ADJ', 'NOUN', 'PUNCT']\",\n",
       "        \"['PROPN', 'VERB', 'DET', 'NOUN', 'NOUN']\",\n",
       "        \"['PROPN', 'VERB', 'NOUN', 'NOUN']\",\n",
       "        \"['PROPN', 'VERB', 'DET', 'NOUN', 'NOUN']\",\n",
       "        \"['PROPN', 'VERB', 'NOUN']\",\n",
       "        \"['PROPN', 'VERB', 'NUM', 'NOUN', 'ADP', 'DET', 'NOUN', 'NOUN']\",\n",
       "        \"['PROPN', 'VERB', 'DET', 'NOUN', 'ADP', 'NOUN', 'ADP', 'DET', 'NOUN', 'ADP', 'PRON', 'ADJ', 'NOUN', 'PUNCT']\",\n",
       "        \"['PROPN', 'VERB', 'DET', 'NOUN', 'ADP', 'DET', 'NOUN', 'ADP', 'PRON', 'ADJ', 'NOUN', 'PUNCT']\",\n",
       "        \"['PROPN', 'VERB', 'DET', 'NOUN', 'ADP', 'NOUN', 'ADP', 'DET', 'NOUN', 'ADP', 'PRON', 'ADJ', 'NOUN', 'PUNCT']\",\n",
       "        \"['PROPN', 'VERB', 'DET', 'NOUN', 'ADP', 'DET', 'NOUN', 'ADP', 'PRON', 'ADJ', 'NOUN', 'PUNCT']\",\n",
       "        \"['PROPN', 'VERB', 'DET', 'NOUN', 'ADP', 'DET', 'NOUN', 'ADP', 'PRON', 'ADJ', 'NOUN', 'PUNCT']\",\n",
       "        \"['PROPN', 'VERB', 'DET', 'NOUN']\",\n",
       "        \"['PROPN', 'VERB', 'DET', 'NOUN', 'ADP', 'DET', 'NOUN']\",\n",
       "        \"['PROPN', 'VERB', 'DET', 'NOUN']\",\n",
       "        \"['PROPN', 'VERB', 'DET', 'NOUN', 'ADP', 'DET', 'NOUN']\",\n",
       "        \"['PROPN', 'VERB', 'ADP', 'DET', 'NOUN']\",\n",
       "        \"['PROPN', 'VERB', 'DET', 'NOUN', 'ADP', 'DET', 'NOUN']\",\n",
       "        \"['PROPN', 'VERB', 'PRON', 'ADJ', 'NOUN', 'ADP', 'DET', 'ADJ', 'NOUN']\",\n",
       "        \"['PROPN', 'VERB', 'PRON', 'ADJ', 'NOUN', 'ADP', 'DET', 'ADJ', 'NOUN', 'NOUN']\",\n",
       "        \"['PROPN', 'VERB', 'DET', 'NOUN', 'ADP', 'PRON', 'ADJ', 'NOUN', 'ADP', 'DET', 'NOUN']\",\n",
       "        \"['PROPN', 'VERB', 'PRON', 'ADJ', 'NOUN', 'ADP', 'DET', 'ADJ', 'NOUN', 'NOUN']\",\n",
       "        \"['PROPN', 'VERB', 'DET', 'NOUN', 'ADP', 'PRON', 'ADJ', 'NOUN', 'ADP', 'DET', 'NOUN']\",\n",
       "        \"['PROPN', 'VERB', 'DET', 'NOUN', 'ADP', 'PRON', 'ADJ', 'NOUN', 'ADP', 'DET', 'NOUN']\",\n",
       "        \"['PROPN', 'VERB', 'DET', 'NOUN', 'ADP', 'PRON', 'ADJ', 'NOUN', 'ADP', 'DET', 'NOUN']\",\n",
       "        \"['PROPN', 'VERB', 'DET', 'NOUN', 'ADP', 'PRON', 'ADJ', 'NOUN', 'ADP', 'DET', 'NOUN']\",\n",
       "        \"['PROPN', 'VERB', 'DET', 'NOUN', 'ADP', 'PRON', 'ADJ', 'NOUN', 'ADP', 'DET', 'NOUN']\",\n",
       "        \"['PROPN', 'VERB', 'ADJ', 'NOUN', 'ADP', 'DET', 'NOUN']\",\n",
       "        \"['PROPN', 'VERB', 'ADJ', 'NOUN', 'ADP', 'DET', 'NOUN']\",\n",
       "        \"['PROPN', 'VERB', 'NUM', 'ADJ', 'NOUN', 'ADP', 'DET', 'NOUN']\",\n",
       "        \"['PROPN', 'VERB', 'NOUN', 'ADP', 'DET', 'NOUN', 'NOUN']\",\n",
       "        \"['PROPN', 'VERB', 'NOUN', 'ADP', 'DET', 'NOUN', 'NOUN']\",\n",
       "        \"['PROPN', 'VERB', 'NOUN', 'ADP', 'DET', 'NOUN', 'NOUN']\",\n",
       "        \"['PROPN', 'VERB', 'NOUN', 'ADP', 'DET', 'NOUN', 'NOUN']\",\n",
       "        \"['PROPN', 'VERB', 'NOUN', 'ADP', 'DET', 'NOUN', 'NOUN']\",\n",
       "        \"['PROPN', 'VERB', 'NOUN', 'ADP', 'DET', 'NOUN', 'NOUN']\",\n",
       "        \"['PROPN', 'VERB', 'NOUN', 'ADP', 'DET', 'NOUN', 'NOUN']\",\n",
       "        \"['PROPN', 'VERB', 'DET', 'NOUN', 'NOUN', 'ADP', 'DET', 'NOUN']\",\n",
       "        \"['PROPN', 'VERB', 'DET', 'NOUN', 'ADP', 'DET', 'NOUN', 'ADP', 'ADJ', 'NOUN', 'PUNCT']\",\n",
       "        \"['PROPN', 'VERB', 'DET', 'NOUN', 'ADP', 'DET', 'NOUN', 'ADP', 'ADJ', 'NOUN', 'PUNCT']\",\n",
       "        \"['PROPN', 'VERB', 'DET', 'NOUN', 'ADP', 'DET', 'NOUN', 'ADP', 'ADJ', 'NOUN', 'PUNCT']\",\n",
       "        \"['PROPN', 'VERB', 'DET', 'ADJ', 'NOUN', 'ADP', 'DET', 'NOUN', 'NOUN', 'ADP', 'PRON', 'ADJ', 'NOUN', 'PUNCT']\",\n",
       "        \"['PROPN', 'VERB', 'DET', 'NOUN', 'ADP', 'DET', 'NOUN', 'ADP', 'PRON', 'ADJ', 'NOUN', 'PUNCT']\",\n",
       "        \"['PROPN', 'VERB', 'DET', 'NOUN', 'ADP', 'DET', 'NOUN', 'ADP', 'DET', 'NOUN']\",\n",
       "        \"['PROPN', 'VERB', 'DET', 'NOUN', 'ADP', 'DET', 'NOUN', 'ADP', 'ADJ', 'NOUN', 'PUNCT']\",\n",
       "        \"['PROPN', 'VERB', 'DET', 'NOUN', 'ADP', 'DET', 'NOUN', 'ADP', 'ADJ', 'NOUN', 'PUNCT']\",\n",
       "        \"['PROPN', 'VERB', 'DET', 'NOUN', 'ADP', 'DET', 'NOUN']\",\n",
       "        \"['PROPN', 'VERB', 'DET', 'ADJ', 'NOUN', 'ADP', 'DET', 'NOUN', 'ADP', 'ADJ', 'NOUN', 'PUNCT']\",\n",
       "        \"['PROPN', 'VERB', 'DET', 'NOUN', 'ADP', 'DET', 'NOUN', 'ADP', 'ADJ', 'NOUN', 'PUNCT']\",\n",
       "        \"['PROPN', 'VERB', 'DET', 'NOUN', 'ADP', 'DET', 'NOUN', 'ADP', 'ADJ', 'NOUN', 'PUNCT']\",\n",
       "        \"['PROPN', 'VERB', 'DET', 'NOUN', 'ADP', 'DET', 'NOUN', 'ADP', 'ADJ', 'NOUN', 'PUNCT']\",\n",
       "        \"['PROPN', 'VERB', 'DET', 'NOUN', 'ADP', 'DET', 'NOUN', 'ADP', 'ADJ', 'NOUN', 'PUNCT']\",\n",
       "        \"['PROPN', 'VERB', 'DET', 'NOUN', 'ADP', 'PRON', 'ADJ', 'NOUN', 'PUNCT']\",\n",
       "        \"['PROPN', 'VERB', 'DET', 'NOUN', 'ADP', 'PRON', 'ADJ', 'NOUN', 'PUNCT']\",\n",
       "        \"['PROPN', 'VERB', 'DET', 'NOUN', 'ADP', 'DET', 'PROPN', 'PROPN', 'PUNCT']\",\n",
       "        \"['PROPN', 'VERB', 'DET', 'NOUN', 'ADP', 'DET', 'NOUN', 'NOUN', 'ADP', 'ADJ', 'NOUN', 'PUNCT']\",\n",
       "        \"['PROPN', 'VERB', 'DET', 'NOUN', 'ADP', 'DET', 'ADJ', 'ADP', 'ADJ', 'NOUN', 'PUNCT']\",\n",
       "        \"['PROPN', 'VERB', 'DET', 'NOUN', 'ADP', 'DET', 'ADJ', 'ADP', 'ADJ', 'NOUN', 'PUNCT']\",\n",
       "        \"['PROPN', 'VERB', 'DET', 'NOUN', 'NOUN', 'PUNCT']\",\n",
       "        \"['PROPN', 'VERB', 'DET', 'NOUN', 'NOUN', 'PUNCT']\",\n",
       "        \"['PROPN', 'VERB', 'DET', 'PROPN', 'PROPN', 'PUNCT']\",\n",
       "        \"['PROPN', 'VERB', 'DET', 'NOUN', 'NOUN', 'PUNCT']\",\n",
       "        \"['PROPN', 'VERB', 'DET', 'NOUN', 'VERB', 'NOUN', 'PUNCT']\",\n",
       "        \"['PROPN', 'VERB', 'DET', 'NOUN', 'ADP', 'DET', 'NOUN', 'ADP', 'PRON', 'ADJ', 'NOUN', 'PUNCT']\",\n",
       "        \"['PROPN', 'VERB', 'DET', 'NOUN', 'ADP', 'DET', 'NOUN', 'ADP', 'PRON', 'ADJ', 'NOUN', 'PUNCT']\",\n",
       "        \"['PROPN', 'VERB', 'DET', 'NOUN', 'NOUN', 'ADP', 'DET', 'NOUN']\",\n",
       "        \"['PROPN', 'VERB', 'DET', 'ADJ', 'NOUN', 'ADP', 'DET', 'NOUN', 'ADP', 'DET', 'NOUN']\",\n",
       "        \"['PROPN', 'VERB', 'NOUN', 'NOUN', 'ADP', 'NOUN', 'ADP', 'PRON']\",\n",
       "        \"['PROPN', 'VERB', 'DET', 'NOUN', 'NOUN', 'ADP', 'NOUN', 'ADP', 'PRON']\",\n",
       "        \"['PROPN', 'VERB', 'DET', 'NOUN', 'NOUN', 'ADP', 'PRON', 'ADJ', 'NOUN', 'ADP', 'PRON', 'ADJ', 'NOUN', 'PUNCT']\",\n",
       "        \"['PROPN', 'VERB', 'DET', 'NOUN', 'NOUN', 'ADP', 'DET', 'NOUN', 'ADP', 'PRON', 'ADJ', 'NOUN', 'PUNCT']\",\n",
       "        \"['PROPN', 'VERB', 'DET', 'NOUN']\",\n",
       "        \"['PROPN', 'VERB', 'DET', 'NOUN', 'NOUN']\",\n",
       "        \"['PROPN', 'VERB', 'DET', 'NOUN', 'NOUN']\",\n",
       "        \"['PROPN', 'VERB', 'DET', 'NOUN', 'NOUN']\", \"['PROPN', 'VERB']\",\n",
       "        \"['PROPN', 'VERB', 'DET', 'NOUN', 'NOUN']\",\n",
       "        \"['PROPN', 'VERB', 'DET', 'NOUN', 'NOUN', 'NOUN']\",\n",
       "        \"['PROPN', 'VERB', 'DET', 'ADJ', 'NOUN']\",\n",
       "        \"['PROPN', 'VERB', 'DET', 'NOUN', 'ADP', 'NOUN']\",\n",
       "        \"['PROPN', 'VERB', 'DET', 'NOUN', 'ADP', 'NOUN']\",\n",
       "        \"['PROPN', 'VERB', 'DET', 'NOUN', 'ADJ', 'NOUN']\",\n",
       "        \"['PROPN', 'VERB', 'DET', 'NOUN', 'VERB', 'NOUN']\",\n",
       "        \"['PROPN', 'VERB', 'DET', 'NOUN', 'ADP', 'ADJ', 'NOUN']\",\n",
       "        \"['PROPN', 'VERB', 'DET', 'NOUN', 'ADP', 'ADJ', 'NOUN']\",\n",
       "        \"['PROPN', 'VERB', 'DET', 'ADJ', 'ADJ', 'NOUN', 'ADP', 'DET', 'NOUN']\",\n",
       "        \"['PROPN', 'VERB', 'DET', 'ADJ', 'ADJ', 'NOUN', 'ADP', 'DET', 'NOUN']\",\n",
       "        \"['PROPN', 'VERB', 'DET', 'NOUN', 'NOUN', 'ADP', 'DET', 'NOUN']\",\n",
       "        \"['PROPN', 'VERB', 'DET', 'NOUN', 'NOUN', 'ADP', 'DET', 'NOUN']\",\n",
       "        \"['PROPN', 'VERB', 'NOUN', 'ADP', 'DET', 'NOUN']\",\n",
       "        \"['PROPN', 'VERB', 'NOUN', 'NOUN', 'ADP', 'DET', 'NOUN']\",\n",
       "        \"['PROPN', 'VERB', 'DET', 'NOUN', 'VERB', 'NOUN']\",\n",
       "        \"['PROPN', 'VERB', 'DET', 'NOUN', 'VERB', 'NOUN']\",\n",
       "        \"['PROPN', 'VERB', 'DET', 'ADJ', 'ADJ', 'NOUN', 'ADP', 'DET', 'NOUN']\",\n",
       "        \"['PROPN', 'VERB', 'NOUN', 'ADP', 'DET', 'NOUN']\",\n",
       "        \"['PROPN', 'VERB', 'NOUN', 'NOUN', 'ADP', 'DET', 'NOUN']\",\n",
       "        \"['PROPN', 'VERB', 'DET', 'NOUN', 'VERB', 'NOUN']\",\n",
       "        \"['PROPN', 'VERB', 'DET', 'NOUN', 'ADJ', 'NOUN']\",\n",
       "        \"['PROPN', 'VERB', 'DET', 'ADJ', 'ADJ', 'NOUN', 'ADP', 'DET', 'NOUN']\",\n",
       "        \"['PROPN', 'VERB', 'DET', 'NOUN', 'ADP', 'DET', 'VERB', 'NOUN', 'PUNCT']\",\n",
       "        \"['PROPN', 'VERB', 'DET', 'NOUN', 'ADP', 'DET', 'VERB', 'NOUN', 'PUNCT']\",\n",
       "        \"['PROPN', 'VERB', 'DET', 'NOUN', 'NOUN', 'NOUN', 'ADP', 'DET', 'NOUN', 'PUNCT']\",\n",
       "        \"['PROPN', 'VERB', 'DET', 'NOUN', 'ADP', 'DET', 'NOUN', 'NOUN', 'PUNCT']\",\n",
       "        \"['PROPN', 'VERB', 'DET', 'NOUN', 'ADP', 'DET', 'NOUN', 'NOUN', 'PUNCT']\",\n",
       "        \"['PROPN', 'VERB', 'DET', 'NOUN', 'ADP', 'DET', 'NOUN']\",\n",
       "        \"['PROPN', 'VERB', 'DET', 'NOUN', 'ADP', 'ADP', 'DET', 'NOUN', 'ADP', 'DET', 'NOUN', 'PUNCT']\",\n",
       "        \"['PROPN', 'VERB', 'PRON', 'ADJ', 'NOUN', 'ADP', 'DET', 'NOUN', 'NOUN', 'PUNCT']\",\n",
       "        \"['PROPN', 'VERB', 'PRON', 'NOUN', 'ADP', 'DET', 'NOUN', 'PUNCT']\",\n",
       "        \"['PROPN', 'VERB', 'PRON', 'ADJ', 'NOUN', 'ADP', 'DET', 'NOUN', 'NOUN', 'PUNCT']\",\n",
       "        \"['PROPN', 'VERB', 'PRON', 'ADJ', 'NOUN', 'ADP', 'DET', 'NOUN', 'NOUN', 'PUNCT']\",\n",
       "        \"['PROPN', 'VERB', 'DET', 'NOUN', 'ADP', 'NOUN', 'ADP', 'DET', 'NOUN', 'PUNCT']\",\n",
       "        \"['PROPN', 'VERB', 'DET', 'NOUN', 'ADP', 'NOUN', 'ADP', 'DET', 'NOUN', 'PUNCT']\",\n",
       "        \"['PROPN', 'VERB', 'DET', 'NOUN', 'ADP', 'NOUN', 'ADP', 'DET', 'NOUN', 'PUNCT']\",\n",
       "        \"['PROPN', 'VERB', 'NOUN', 'ADP', 'ADJ', 'NOUN']\",\n",
       "        \"['PROPN', 'VERB', 'DET', 'NOUN', 'ADP', 'DET', 'ADJ', 'NOUN']\",\n",
       "        \"['PROPN', 'VERB', 'NOUN', 'ADP', 'NOUN', 'PROPN']\",\n",
       "        \"['PROPN', 'VERB', 'PROPN', 'PROPN']\",\n",
       "        \"['PROPN', 'VERB', 'DET', 'NOUN', 'ADP', 'ADJ', 'NOUN']\",\n",
       "        \"['PROPN', 'VERB', 'NOUN']\",\n",
       "        \"['PROPN', 'VERB', 'NOUN', 'ADP', 'ADJ', 'NOUN']\",\n",
       "        \"['PROPN', 'VERB', 'NOUN', 'ADP', 'NOUN', 'ADP', 'DET', 'NOUN']\",\n",
       "        \"['PROPN', 'VERB', 'NOUN', 'ADP', 'NOUN']\",\n",
       "        \"['PROPN', 'VERB', 'NOUN', 'NOUN', 'ADP', 'ADJ', 'NOUN', 'ADP', 'ADJ', 'NOUN']\",\n",
       "        \"['PROPN', 'VERB', 'NOUN', 'NOUN', 'ADP', 'ADJ', 'NOUN', 'ADP', 'ADJ', 'NOUN']\",\n",
       "        \"['PROPN', 'VERB', 'NOUN', 'NOUN', 'ADP', 'ADJ', 'NOUN', 'ADP', 'ADJ', 'NOUN']\",\n",
       "        \"['PROPN', 'VERB', 'DET', 'NOUN', 'ADP', 'NOUN', 'ADP', 'DET', 'NOUN']\",\n",
       "        \"['PROPN', 'VERB', 'DET', 'NOUN', 'NOUN', 'ADP', 'DET', 'NOUN']\",\n",
       "        \"['PROPN', 'VERB', 'DET', 'NOUN', 'ADP', 'DET', 'NOUN', 'CCONJ', 'VERB', 'PRON', 'ADV']\",\n",
       "        \"['PROPN', 'VERB', 'DET', 'NOUN', 'NOUN', 'ADP', 'DET', 'NOUN']\",\n",
       "        \"['PROPN', 'VERB', 'DET', 'NOUN', 'NOUN', 'ADP', 'DET', 'NOUN']\",\n",
       "        \"['PROPN', 'VERB', 'DET', 'NOUN', 'NOUN', 'ADP', 'DET', 'NOUN']\",\n",
       "        \"['PROPN', 'VERB', 'DET', 'NOUN', 'NOUN', 'ADP', 'DET', 'NOUN']\"],\n",
       "       dtype=object),\n",
       " 'tag_masks': array([\"['NNP', 'VBZ', 'DT', 'NN', 'NN']\", \"['NNP', 'VBZ', 'DT', 'NN']\",\n",
       "        \"['NNP', 'VBZ', 'DT', 'NN', 'IN', 'DT', 'NN', 'NN']\",\n",
       "        \"['NNP', 'VBZ', 'DT', 'NN', 'IN', 'DT', 'NN', 'NN']\",\n",
       "        \"['NNP', 'VBZ', 'DT', 'NN', 'IN', 'DT', 'NN', 'NN']\",\n",
       "        \"['NNP', 'VBZ', 'DT', 'NN', 'IN', 'DT', 'NN', 'NN']\",\n",
       "        \"['NNP', 'VBZ', 'DT', 'NN', 'IN', 'DT', 'NN', 'NN']\",\n",
       "        \"['NNP', 'VBZ', 'DT', 'NN', 'IN', 'DT', 'NN', 'NN']\",\n",
       "        \"['NNP', 'VBZ', 'DT', 'NN', 'IN', 'DT', 'NN', 'NN']\",\n",
       "        \"['NNP', 'VBZ', 'DT', 'NN', 'IN', 'DT', 'NN', 'NN']\",\n",
       "        \"['NNP', 'VBZ', 'DT', 'NN']\", \"['NNP', 'VBZ', 'DT', 'NN']\",\n",
       "        \"['NNP', 'VBZ', 'DT', 'NN']\", \"['NNP', 'NNP', 'VBZ', 'DT', 'NN']\",\n",
       "        \"['NNP', 'VBZ', 'DT', 'NN', 'IN', 'DT', 'NN']\",\n",
       "        \"['NNP', 'VBZ', 'NN', 'NN']\", \"['NNP', 'VBZ', 'NN', 'NN']\",\n",
       "        \"['NNP', 'VBZ', 'NN', 'NN']\", \"['NNP', 'VBZ', 'NN', 'NN']\",\n",
       "        \"['NNP', 'VBZ', 'DT', 'NN']\", \"['NNP', 'VBZ', 'NNP', 'NN']\",\n",
       "        \"['NNP', 'VBZ', 'DT', 'NN']\", \"['NNP', 'VBZ', 'DT', 'NN']\",\n",
       "        \"['NNP', 'VBZ', 'DT', 'NN']\", \"['NNP', 'VBZ', 'DT', 'NN']\",\n",
       "        \"['NNP', 'VBZ', 'DT', 'NN']\", \"['NNP', 'VBZ', 'DT', 'NN']\",\n",
       "        \"['NNP', 'VBZ', 'DT', 'NN']\", \"['NNP', 'VBZ', 'NNP', 'NNP']\",\n",
       "        \"['NNP', 'VBZ', 'DT', 'NN']\", \"['NNP', 'VBZ', 'DT', 'JJ', 'NN']\",\n",
       "        \"['NNP', 'VBZ', 'DT', 'NN']\", \"['NNP', 'VBZ', 'DT', 'NN']\",\n",
       "        \"['NNP', 'VBZ', 'NN', 'NN']\", \"['NNP', 'VBZ', 'JJ', 'NN']\",\n",
       "        \"['NNP', 'VBZ', 'DT', 'NN']\", \"['NNP', 'VBZ', 'DT', 'NN', 'NN']\",\n",
       "        \"['NNP', 'VBZ', 'JJ', 'NN', 'NN']\",\n",
       "        \"['NNP', 'VBZ', 'DT', 'NN', 'NN', '.']\",\n",
       "        \"['NNP', 'VBZ', 'DT', 'NN', 'IN', 'DT', 'NN']\",\n",
       "        \"['NNP', 'VBZ', 'DT', 'JJ', 'NN', 'IN', 'DT', 'NN']\",\n",
       "        \"['NNP', 'VBZ', 'DT', 'NN', 'IN', 'DT', 'NN']\",\n",
       "        \"['NNP', 'VBZ', 'DT', 'NN', 'IN', 'DT', 'NN']\",\n",
       "        \"['NNP', 'VBZ', 'DT', 'NN', 'IN', 'DT', 'NN']\",\n",
       "        \"['NNP', 'VBZ', 'DT', 'JJ', 'NN', 'IN', 'DT', 'NN']\",\n",
       "        \"['NNP', 'VBZ', 'DT', 'NN', 'IN', 'PRP$', 'JJ', 'NN']\",\n",
       "        \"['NNP', 'VBZ', 'DT', 'NN', 'NN', 'IN', 'DT', 'NN']\",\n",
       "        \"['NNP', 'VBZ', 'DT', 'NN', 'IN', 'DT', 'NN']\",\n",
       "        \"['NNP', 'VBZ', 'NN', 'IN', 'DT', 'NN']\",\n",
       "        \"['NNP', 'VBZ', 'DT', 'NN', 'NN', 'IN', 'DT', 'NN']\",\n",
       "        \"['NNP', 'VBZ', 'DT', 'NNS', 'IN', 'DT', 'NN']\",\n",
       "        \"['NNP', 'VBZ', 'DT', 'NN', 'IN', 'DT', 'NN', 'NN', 'IN', 'DT', 'NN']\",\n",
       "        \"['NNP', 'VBZ', 'DT', 'NN', 'NN', 'IN', 'DT', 'NN', 'NNS', 'NN']\",\n",
       "        \"['NNP', 'VBZ', 'NNS']\",\n",
       "        \"['NNP', 'VBZ', 'NNP', 'NNP', 'NNP', 'NNP', 'NNP']\",\n",
       "        \"['NNP', 'VBZ', 'DT', 'NNS', 'IN', 'DT', 'NN']\",\n",
       "        \"['NNP', 'VBZ', 'DT', 'NN', 'IN', 'DT', 'NN']\",\n",
       "        \"['NNP', 'VBZ', 'NNP', 'NNP', 'CC', 'NNP', 'NNP', 'NNP', 'HYPH', 'NNP', 'IN', 'DT', 'NN']\",\n",
       "        \"['NNP', 'VBZ', 'CD', 'NNS', 'IN', 'DT', 'NN']\",\n",
       "        \"['NNP', 'VBZ', 'CD', 'JJ', 'NN', 'NNS', 'IN', 'DT', 'NN']\",\n",
       "        \"['NNP', 'VBZ', 'DT', 'NN', 'IN', 'DT', 'NN']\",\n",
       "        \"['NNP', 'VBZ', 'DT', 'NN', 'NN', 'IN', 'DT', 'NN', 'IN', 'PRP$', 'JJ', 'NN']\",\n",
       "        \"['NNP', 'VBZ', 'DT', 'NN', 'NN', 'IN', 'PRP$', 'JJ', 'NN']\",\n",
       "        \"['NNP', 'VBZ', 'NN', 'NN', 'IN', 'PRP$', 'JJ', 'NN']\",\n",
       "        \"['NNP', 'VBZ', 'CD', 'NNS', 'IN', 'DT', 'NN']\",\n",
       "        \"['NNP', 'VBZ', 'DT', 'CD', 'NNS', 'IN', 'PRP$', 'JJ', 'NN']\",\n",
       "        \"['NNP', 'VBZ', 'DT', 'NN', 'IN', 'DT', 'NN']\",\n",
       "        \"['NNP', 'VBZ', 'DT', 'NN', 'IN', 'PRP$', 'JJ', 'NN']\",\n",
       "        \"['NNP', 'VBZ', 'DT', 'NN', 'IN', 'DT', 'NN', 'NN']\",\n",
       "        \"['NNP', 'VBZ', 'DT', 'NN', 'NN', 'IN', 'DT', 'NN']\",\n",
       "        \"['NNP', 'VBZ', 'DT', 'NN', 'IN', 'NN']\",\n",
       "        \"['NNP', 'VBZ', 'DT', 'NN', 'IN', 'DT', 'NN', 'NN', '.']\",\n",
       "        \"['NNP', 'VBZ', 'DT', 'NN', 'IN', 'DT', 'NN', 'NN', '.']\",\n",
       "        \"['NNP', 'VBZ', 'DT', 'NN', 'IN', 'DT', 'NN', '.']\",\n",
       "        \"['NNP', 'VBZ', 'DT', 'NN', 'IN', 'DT', 'NN', '.']\",\n",
       "        \"['NNP', 'VBZ', 'DT', 'NN', 'IN', 'DT', 'NN', '.']\",\n",
       "        \"['NNP', 'VBZ', 'DT', 'NN', 'IN', 'DT', 'NN', '.']\",\n",
       "        \"['NNP', 'VBZ', 'DT', 'NN', 'IN', 'DT', 'NN', '.']\",\n",
       "        \"['NNP', 'VBZ', 'DT', 'NN', 'IN', 'DT', 'NN', '.']\",\n",
       "        \"['NNP', 'VBZ', 'DT', 'NN', 'IN', 'DT', 'NN', '.']\",\n",
       "        \"['NNP', 'VBZ', 'DT', 'NN', 'IN', 'DT', 'NN', '.']\",\n",
       "        \"['NNP', 'VBZ', 'DT', 'NNS', 'IN', 'DT', 'NN', 'NN', '.']\",\n",
       "        \"['NNP', 'VBZ', 'DT', 'NNS', 'IN', 'DT', 'NN', 'NN', '.']\",\n",
       "        \"['NNP', 'VBZ', 'DT', 'NNS', 'IN', 'DT', 'NN', 'NN', '.']\",\n",
       "        \"['NNP', 'VBZ', 'DT', 'NNS', 'IN', 'DT', 'NN', 'NN', '.']\",\n",
       "        \"['NNP', 'VBZ', 'DT', 'NNS', 'IN', 'DT', 'NN', 'NN', '.']\",\n",
       "        \"['NNP', 'VBZ', 'DT', 'NNS', 'IN', 'DT', 'NN', 'NN', '.']\",\n",
       "        \"['NNP', 'VBZ', 'DT', 'NNS', 'IN', 'DT', 'NN', 'NN', '.']\",\n",
       "        \"['NNP', 'VBZ', 'DT', 'NN', 'IN', 'DT', 'NN', '.']\",\n",
       "        \"['NNP', 'VBZ', 'NN', 'IN', 'DT', 'NN', '.']\",\n",
       "        \"['NNP', 'VBZ', 'NN', 'IN', 'DT', 'NN', '.']\",\n",
       "        \"['NNP', 'VBZ', 'DT', 'NN', 'NN', 'IN', 'DT', 'NN', '.']\",\n",
       "        \"['NNP', 'VBZ', 'DT', 'NN', 'IN', 'DT', 'NN', '.']\",\n",
       "        \"['NNP', 'VBZ', 'NN', 'IN', 'DT', 'NN', 'IN', 'DT', 'NN', 'NN', '.']\",\n",
       "        \"['NNP', 'VBZ', 'NN', 'IN', 'DT', 'NN', 'IN', 'DT', 'NN', 'NN', '.']\",\n",
       "        \"['NNP', 'VBZ', 'NN', 'IN', 'DT', 'NN', 'IN', 'DT', 'NN', 'NN', '.']\",\n",
       "        \"['NNP', 'VBZ', 'NN', 'IN', 'DT', 'NN', 'IN', 'NN', 'IN', 'DT', 'JJ', 'NN', '.']\",\n",
       "        \"['NNP', 'VBZ', 'NN', 'IN', 'DT', 'NN', 'IN', 'NN', 'IN', 'DT', 'NN', 'IN', 'PRP$', 'JJ', 'NN', '.']\",\n",
       "        \"['NNP', 'VBZ', 'DT', 'NNS', 'IN', 'DT', 'NN', 'NN']\",\n",
       "        \"['NNP', 'VBZ', 'DT', 'NNS', 'IN', 'DT', 'NN', 'NN']\",\n",
       "        \"['NNP', 'VBZ', 'DT', 'NNS', 'IN', 'DT', 'NN', 'NN']\",\n",
       "        \"['NNP', 'VBZ', 'DT', 'NN', 'NN', 'IN', 'DT', 'NN']\",\n",
       "        \"['NNP', 'VBZ', 'NN', 'IN', 'DT', 'NN', 'NN']\",\n",
       "        \"['NNP', 'VBZ', 'NNS']\", \"['NNP', 'VBZ', 'NNS']\",\n",
       "        \"['NNP', 'VBZ', 'NN']\", \"['NNP', 'VBZ', 'NN']\",\n",
       "        \"['NNP', 'VBZ', 'IN', 'NN']\", \"['NNP', 'VBZ', 'DT', 'NN']\",\n",
       "        \"['NNP', 'VBZ', 'NN']\", \"['NNP', 'VBZ', 'DT', 'NN']\",\n",
       "        \"['NNP', 'VBZ', 'DT', 'NN']\",\n",
       "        \"['NNP', 'VBZ', 'DT', 'NNS', 'JJ', 'IN', 'DT', 'NN', 'IN', 'DT', 'NN', 'NN']\",\n",
       "        \"['NNP', 'VBZ', 'DT', 'NN', 'NN', 'IN', 'CD', 'NN', 'NN', 'IN', 'DT', 'NN', 'IN', 'PRP$', 'JJ', 'NN']\",\n",
       "        \"['NNP', 'VBZ', 'NN', 'IN', 'DT', 'NN', 'NN', 'IN', 'DT']\",\n",
       "        \"['NNP', 'VBZ', 'PRP$', 'NN', 'IN', 'DT', 'NN', 'IN', 'DT', 'NN', 'NN']\",\n",
       "        \"['NNP', 'VBZ', 'DT', 'NN', 'IN', 'DT', 'NN', 'NN']\",\n",
       "        \"['NNP', 'VBZ', 'DT', 'NN', 'IN', 'DT', 'NN']\",\n",
       "        \"['NNP', 'VBZ', 'DT', 'NN', 'IN', 'DT', 'NN', 'IN', 'DT', 'NN', 'NN']\",\n",
       "        \"['NNP', 'VBZ', 'DT', 'NN', 'IN', 'DT', 'NN', 'IN', 'DT', 'NN', 'NN']\",\n",
       "        \"['NNP', 'VBZ', 'NN', 'IN', 'DT', 'JJ', 'NN']\",\n",
       "        \"['NNP', 'VBZ', 'NN', 'IN', 'DT', 'JJ', 'NN']\",\n",
       "        \"['NNP', 'VBZ', 'NN', 'IN', 'DT', 'JJ', 'NN']\",\n",
       "        \"['NNP', 'VBZ', 'NN', 'IN', 'DT', 'JJ', 'NN']\",\n",
       "        \"['NNP', 'VBZ', 'NN', 'IN', 'DT', 'JJ', 'NN']\",\n",
       "        \"['NNP', 'VBZ', 'NN', 'IN', 'DT', 'JJ', 'NN']\",\n",
       "        \"['NNP', 'VBZ', 'NN', 'IN', 'DT', 'JJ', 'NN']\",\n",
       "        \"['NNP', 'VBZ', 'NN', 'IN', 'DT', 'JJ', 'NN']\",\n",
       "        \"['NNP', 'VBZ', 'NN', 'IN', 'DT', 'JJ', 'NN']\",\n",
       "        \"['NNP', 'VBZ', 'NN', 'IN', 'DT', 'JJ', 'NN']\",\n",
       "        \"['NNP', 'VBZ', 'NN', 'IN', 'DT', 'JJ', 'NN']\",\n",
       "        \"['NNP', 'VBZ', 'DT', 'NNS', 'IN', 'DT', 'NN', '.']\",\n",
       "        \"['NNP', 'VBZ', 'DT', 'NNS', 'IN', 'DT', 'NN', '.']\",\n",
       "        \"['NNP', 'VBZ', 'NN', 'IN', 'DT', 'NN', 'NN']\",\n",
       "        \"['NNP', 'VBZ', 'NN', 'IN', 'DT', 'NN', 'NN']\",\n",
       "        \"['NNP', 'VBZ', 'NN', 'IN', 'DT', 'NN', 'NN']\",\n",
       "        \"['NNP', 'VBZ', 'NN', 'IN', 'DT', 'NN', 'NN']\",\n",
       "        \"['NNP', 'VBZ', 'NN', 'IN', 'DT', 'NN', 'NN']\",\n",
       "        \"['NNP', 'VBZ', 'NN', 'IN', 'DT', 'NN', 'NN']\",\n",
       "        \"['NNP', 'VBZ', 'NN', 'IN', 'DT', 'NN', 'NN']\",\n",
       "        \"['NNP', 'VBZ', 'NN', 'IN', 'DT', 'NN', 'NN']\",\n",
       "        \"['NNP', 'VBZ', 'NN', 'IN', 'DT', 'NN', 'NN']\",\n",
       "        \"['NNP', 'VBZ', 'NN', 'IN', 'DT', 'NN', 'NN', 'VBG', 'DT', 'NN', 'NN']\",\n",
       "        \"['NNP', 'VBZ', 'NN', 'IN', 'DT', 'NN', 'NN', 'VBG', 'DT', 'NN', 'NN']\",\n",
       "        \"['NNP', 'VBZ', 'NN', 'IN', 'DT', 'NN', 'NN', 'VBG', 'DT', 'NN', 'NN']\",\n",
       "        \"['NNP', 'VBZ', 'NN', 'IN', 'DT', 'NN', 'NN', 'VBG', 'DT', 'NN', 'NN']\",\n",
       "        \"['NNP', 'VBZ', 'NN', 'IN', 'DT', 'NN', 'NN', 'VBG', 'DT', 'NN', 'NN']\",\n",
       "        \"['NNP', 'VBZ', 'NN', 'IN', 'DT', 'NN', 'NN', 'VBG', 'DT', 'NN', 'NN']\",\n",
       "        \"['NNP', 'VBZ', 'NN', 'IN', 'DT', 'NN', 'NN', 'VBG', 'DT', 'NN', 'NN']\",\n",
       "        \"['NNP', 'VBZ', 'NN', 'IN', 'DT', 'NN', 'NN', 'VBG', 'DT', 'NN', 'NN']\",\n",
       "        \"['NNP', '_SP', 'NNP', 'VBZ', 'NN', 'IN', 'DT', 'NN', 'NN', 'VBG', 'DT', 'NN', 'NN']\",\n",
       "        \"['NNP', 'VBZ', 'NN', 'NN', 'NN']\",\n",
       "        \"['NNP', 'VBZ', 'NN', 'NN', 'NN']\",\n",
       "        \"['NNP', 'VBZ', 'DT', 'NN', 'IN', 'JJ', 'NN']\",\n",
       "        \"['NNP', 'VBZ', 'IN', 'DT', 'NN']\",\n",
       "        \"['NNP', 'VBZ', 'NN', 'IN', 'DT', 'NN', 'IN', 'PRP$', 'JJ', 'NN']\",\n",
       "        \"['NNP', 'VBZ', 'NN', 'IN', 'DT', 'NN', 'IN', 'PRP$', 'JJ', 'NN', '.']\",\n",
       "        \"['NNP', 'VBZ', 'NN', 'IN', 'DT', 'NN', 'IN', 'PRP$', 'JJ', 'NN', '.']\",\n",
       "        \"['NNP', 'VBZ', 'DT', 'NN', 'NN', '.']\",\n",
       "        \"['NNP', 'VBZ', 'DT', 'NN', '.']\",\n",
       "        \"['NNP', 'VBZ', 'DT', 'NN', '.']\",\n",
       "        \"['NNP', 'VBZ', 'DT', 'NN', '.']\",\n",
       "        \"['NNP', 'VBZ', 'DT', 'NN', '.']\",\n",
       "        \"['NNP', 'VBZ', 'DT', 'NN', 'NN', '.']\",\n",
       "        \"['NNP', 'VBZ', 'DT', 'NN', 'NN', '.']\",\n",
       "        \"['NNP', 'VBZ', 'DT', 'NN', '.']\",\n",
       "        \"['NNP', 'VBZ', 'DT', 'NN', '.']\",\n",
       "        \"['NNP', 'VBZ', 'DT', 'NN', 'NN', '.']\",\n",
       "        \"['NNP', 'VBZ', 'DT', 'NN', 'NN', '.']\",\n",
       "        \"['NNP', 'VBZ', 'DT', 'NN', 'NN', '.']\",\n",
       "        \"['NNP', 'VBZ', 'DT', 'NN', 'NN', '.']\",\n",
       "        \"['NNP', 'VBZ', 'DT', 'NN', '.']\",\n",
       "        \"['NNP', 'VBZ', 'DT', 'NN', '.']\",\n",
       "        \"['NNP', 'VBZ', 'DT', 'NNS', '.']\",\n",
       "        \"['NNP', 'VBZ', 'DT', 'NN', '.']\",\n",
       "        \"['NNP', 'VBZ', 'DT', 'NN', '.']\",\n",
       "        \"['NNP', 'VBZ', 'DT', 'NN', '.']\",\n",
       "        \"['NNP', 'VBZ', 'DT', 'NN', '.']\",\n",
       "        \"['NNP', 'VBZ', 'DT', 'NN', '.']\",\n",
       "        \"['NNP', 'VBZ', 'DT', 'NN', '.']\",\n",
       "        \"['NNP', 'VBZ', 'DT', 'NN', 'NN', '.']\",\n",
       "        \"['NNP', 'VBZ', 'DT', 'NN', 'NN', '.']\",\n",
       "        \"['NNP', 'VBZ', 'DT', 'NN', '.']\",\n",
       "        \"['NNP', 'VBZ', 'DT', 'NN', '.']\",\n",
       "        \"['NNP', 'VBZ', 'DT', 'NN', '.']\",\n",
       "        \"['NNP', 'VBZ', 'DT', 'NN', '.']\",\n",
       "        \"['NNP', 'VBZ', 'DT', 'NN', 'CC', 'DT', 'NN', '.']\",\n",
       "        \"['NNP', 'VBZ', 'DT', 'NN', '.']\",\n",
       "        \"['NNP', 'VBZ', 'DT', 'NN', '.']\",\n",
       "        \"['NNP', 'VBZ', 'DT', 'NN', '.']\",\n",
       "        \"['NNP', 'VBZ', 'DT', 'NN', 'IN', 'DT', 'NN']\",\n",
       "        \"['NNP', 'VBZ', 'DT', 'NN', 'IN', 'DT', 'NN']\",\n",
       "        \"['NNP', 'VBZ', 'DT', 'NN', 'IN', 'DT', 'NN']\",\n",
       "        \"['NNP', 'VBZ', 'DT', 'NN', 'IN', 'DT', 'NN']\",\n",
       "        \"['NNP', 'VBZ', 'DT', 'NN', 'IN', 'DT', 'NN']\",\n",
       "        \"['NNP', 'VBZ', 'DT', 'NN', 'IN', 'DT', 'NN', 'IN', 'PRP$', 'JJ', 'NN']\",\n",
       "        \"['NNP', 'VBZ', 'DT', 'NN', 'IN', 'DT', 'NN', '.']\",\n",
       "        \"['NNP', 'VBZ', 'DT', 'NN', 'IN', 'DT', 'NN', '.']\",\n",
       "        \"['NNP', 'VBZ', 'DT', 'NN', 'IN', 'DT', 'NN', '.']\",\n",
       "        \"['NNP', 'VBZ', 'DT', 'NN', 'IN', 'DT', 'NN', 'IN', 'DT', 'NN', '.']\",\n",
       "        \"['NNP', 'VBZ', 'DT', 'NN', 'IN', 'DT', 'NN']\",\n",
       "        \"['NN', 'NN', 'VBZ', 'DT', 'NN', 'IN', 'DT', 'NN']\",\n",
       "        \"['NN', 'NN', 'VBZ', 'DT', 'NNS', 'IN', 'DT', 'NN', '.']\",\n",
       "        \"['NN', 'NN', 'VBZ', 'DT', 'NNS', 'IN', 'DT', 'NN', '.']\",\n",
       "        \"['NNP', 'VBZ', 'DT', 'NN', 'IN', 'DT', 'NN', 'IN', 'PRP$', 'JJ', 'NN', '.']\",\n",
       "        \"['NN', 'NN', 'VBZ', 'DT', 'NNS', 'IN', 'DT', 'NN', '.']\",\n",
       "        \"['NN', 'NNP', 'VBZ', 'PRP$', 'NNS', 'IN', 'DT', 'NN', '.']\",\n",
       "        \"['NNP', 'NNP', 'VBZ', 'PRP$', 'NNS', 'IN', 'DT', 'NN', '.']\",\n",
       "        \"['NN', 'NN', 'VBZ', 'PRP$', 'NNS', 'IN', 'DT', 'NN', '.']\",\n",
       "        \"['NN', 'NNP', 'VBZ', 'DT', 'NNS', 'IN', 'DT', 'NN', 'IN', 'DT', 'NN', '.']\",\n",
       "        \"['NN', 'NNP', 'VBZ', 'DT', 'NNS', 'IN', 'DT', 'NN', 'IN', 'DT', 'NN', '.']\",\n",
       "        \"['NN', 'NNP', 'VBZ', 'DT', 'NNS', 'IN', 'DT', 'NN', '.']\",\n",
       "        \"['NNP', 'VBZ', 'DT', 'NNS', 'IN', 'DT', 'NN', '.']\",\n",
       "        \"['NNP', 'VBZ', 'CD', 'NNS', 'JJ', 'IN', 'DT', 'NN', 'NN']\",\n",
       "        \"['NNP', 'VBZ', 'DT', 'NN', 'IN', 'DT', 'NN', 'NN', 'IN', 'DT', 'NN', 'NN', 'IN', 'PRP$', 'JJ', 'NNS', '.']\",\n",
       "        \"['NNP', 'VBZ', 'DT', 'NN', 'NN', 'IN', 'PRP$', 'JJ', 'JJ', 'NN', 'IN', 'PRP$', 'JJ', 'JJ', 'NN', '.']\",\n",
       "        \"['NNP', 'VBZ', 'DT', 'JJ', 'NN', 'IN', 'VBG', 'NN', 'IN', 'DT', 'NN', 'NN', 'IN', 'PRP$', 'JJ', 'NNS', '.']\",\n",
       "        \"['NNP', 'VBZ', 'DT', 'JJ', 'NN', 'IN', 'NN', 'IN', 'PRP$', 'JJ', 'JJ', 'NN', 'IN', 'PRP$', 'JJ', 'JJ', 'NN', '.']\",\n",
       "        \"['NNP', 'VBZ', 'DT', 'NN', 'IN', 'NN', 'IN', 'PRP$', 'JJ', 'JJ', 'NN', 'IN', 'PRP$', 'JJ', 'JJ', 'NN', '.']\",\n",
       "        \"['NNP', 'VBZ', 'DT', 'NN', 'IN', 'NN', 'IN', 'PRP$', 'JJ', 'JJ', 'NN', 'IN', 'PRP$', 'JJ', 'JJ', 'NN', '.']\",\n",
       "        \"['NNP', 'VBZ', 'DT', 'NN', 'IN', 'NN', 'IN', 'PRP$', 'JJ', 'JJ', 'NN', 'IN', 'PRP$', 'JJ', 'JJ', 'NN', '.']\",\n",
       "        \"['NNP', 'VBZ', 'DT', 'NN', 'IN', 'NN', 'IN', 'PRP$', 'JJ', 'JJ', 'NN', 'IN', 'PRP$', 'JJ', 'JJ', 'NN', '.']\",\n",
       "        \"['NNP', 'VBZ', 'DT', 'NN', 'IN', 'NN', 'IN', 'PRP$', 'JJ', 'JJ', 'NN', 'IN', 'PRP$', 'JJ', 'JJ', 'NN', '.']\",\n",
       "        \"['NNP', 'VBZ', 'DT', 'NN', 'IN', 'NN', 'IN', 'PRP$', 'JJ', 'JJ', 'NN', 'IN', 'PRP$', 'JJ', 'JJ', 'NN', '.']\",\n",
       "        \"['NNP', 'VBZ', 'DT', 'NN', 'IN', 'NN', 'IN', 'PRP$', 'JJ', 'JJ', 'NN', 'IN', 'PRP$', 'JJ', 'JJ', 'NN', '.']\",\n",
       "        \"['NNP', 'VBZ', 'DT', 'NN', 'IN', 'NN', 'IN', 'PRP$', 'JJ', 'JJ', 'NN', 'IN', 'PRP$', 'JJ', 'JJ', 'NN', '.']\",\n",
       "        \"['NNP', 'VBZ', 'DT', 'NN', 'IN', 'NN', 'IN', 'PRP$', 'JJ', 'JJ', 'NN', 'IN', 'PRP$', 'JJ', 'JJ', 'NN', '.']\",\n",
       "        \"['NNP', 'VBZ', 'DT', 'NN', 'IN', 'DT', 'NN', 'RB', 'IN', 'DT', 'NN', 'IN', 'DT', 'NNP', 'IN', 'PRP$', 'JJ', 'JJ', 'NN', '.']\",\n",
       "        \"['NNP', 'VBZ', 'DT', 'NN', 'IN', 'NN', 'IN', 'DT', 'NN', 'IN', 'PRP$', 'JJ', 'JJ', 'NN', '.']\",\n",
       "        \"['NNP', 'VBZ', 'DT', 'NN', 'IN', 'DT', 'NN', 'IN', 'NN', 'IN', 'PRP$', 'JJ', 'JJ', 'NN', '.']\",\n",
       "        \"['NNP', 'VBZ', 'DT', 'NN', 'IN', 'PRP$', 'JJ', 'JJ', 'NN', 'IN', 'PRP$', 'JJ', 'JJ', 'NN', '.']\",\n",
       "        \"['NNP', 'VBZ', 'DT', 'JJ', 'NN', 'IN', 'PRP$', 'JJ', 'JJ', 'NN', 'IN', 'PRP$', 'JJ', 'JJ', 'NN', '.']\",\n",
       "        \"['NNP', 'VBZ', 'DT', 'NN', 'IN', 'DT', 'NN', 'IN', 'PRP$', 'JJ', 'NNS', '.']\",\n",
       "        \"['NNP', 'VBZ', 'DT', 'NN', 'IN', 'DT', 'NN', 'IN', 'DT', 'NN', 'IN', 'PRP$', 'JJ', 'NNS', '.']\",\n",
       "        \"['NNP', 'VBZ', 'DT', 'NN', 'IN', 'NN', 'IN', 'DT', 'NN', 'IN', 'PRP$', 'JJ', 'JJ', 'NN', '.']\",\n",
       "        \"['NNP', 'VBZ', 'DT', 'NN', 'IN', 'DT', 'NN', 'IN', 'DT', 'NN', 'IN', 'PRP$', 'JJ', 'JJ', 'NN', '.']\",\n",
       "        \"['NNP', 'VBZ', 'DT', 'NN', 'IN', 'PRP$', 'JJ', 'JJ', 'NN', 'IN', 'PRP$', 'JJ', 'JJ', 'NN', '.']\",\n",
       "        \"['NNP', 'VBZ', 'DT', 'NN', 'IN', 'DT', 'NN', 'IN', 'PRP$', 'JJ', 'JJ', 'NN', '.']\",\n",
       "        \"['NNP', 'VBZ', 'DT', 'NN', 'IN', 'NN', 'IN', 'DT', 'NN', 'IN', 'PRP$', 'JJ', 'JJ', 'NN', '.']\",\n",
       "        \"['NNP', 'VBZ', 'DT', 'NN', 'IN', 'NN', 'IN', 'DT', 'NN', 'IN', 'PRP$', 'JJ', 'JJ', 'NN', '.']\",\n",
       "        \"['NNP', 'VBZ', 'DT', 'NN', 'IN', 'NN', 'IN', 'DT', 'NN', 'IN', 'PRP$', 'JJ', 'JJ', 'NN', '.']\",\n",
       "        \"['NNP', 'VBZ', 'DT', 'NN', 'IN', 'NN', 'IN', 'DT', 'NN', 'IN', 'PRP$', 'JJ', 'JJ', 'NN', '.']\",\n",
       "        \"['NNP', 'VBZ', 'DT', 'NN', 'IN', 'NN', 'IN', 'DT', 'NN', 'IN', 'PRP$', 'JJ', 'JJ', 'NN', '.']\",\n",
       "        \"['NNP', 'VBZ', 'DT', 'NN', 'IN', 'NN', 'IN', 'DT', 'NN', 'IN', 'PRP$', 'JJ', 'JJ', 'NN', '.']\",\n",
       "        \"['NNP', 'VBZ', 'DT', 'NN', 'IN', 'DT', 'NN', 'IN', 'DT', 'NN', 'IN', 'PRP$', 'JJ', 'JJ', 'NN', '.']\",\n",
       "        \"['NNP', 'VBZ', 'DT', 'JJ', 'NN', 'IN', 'PRP$', 'JJ', 'JJ', 'NN', 'IN', 'PRP$', 'JJ', 'JJ', 'NN', '.']\",\n",
       "        \"['NNP', 'VBZ', 'DT', 'NN', 'IN', 'DT', 'NN', 'IN', 'DT', 'NN', 'IN', 'PRP$', 'JJ', 'JJ', 'NN', '.']\",\n",
       "        \"['NNP', 'VBZ', 'DT', 'JJ', 'NN', 'IN', 'NN', 'IN', 'PRP$', 'JJ', 'JJ', 'NN', 'IN', 'PRP$', 'JJ', 'JJ', 'NN', '.']\",\n",
       "        \"['NNP', 'VBZ', 'DT', 'JJ', 'NN', 'IN', 'NN', 'IN', 'PRP$', 'JJ', 'JJ', 'NN', 'IN', 'PRP$', 'JJ', 'JJ', 'NN', '.']\",\n",
       "        \"['NNP', 'VBZ', 'DT', 'NN', 'IN', 'NN', 'NN', 'IN', 'IN', 'DT', 'NN', 'IN', 'PRP$', 'JJ', 'JJ', 'NN', '.']\",\n",
       "        \"['NNP', 'VBZ', 'DT', 'NN', 'IN', 'DT', 'VBG', 'NN', 'IN', 'PRP$', 'JJ', 'JJ', 'NN']\",\n",
       "        \"['NNP', 'VBZ', 'DT', 'NN', 'IN', 'DT', 'NN', 'IN', 'PRP$', 'JJ', 'JJ', 'NN', '.']\",\n",
       "        \"['NNP', 'VBZ', 'DT', 'NN', 'IN', 'PRP$', 'JJ', 'JJ', 'NN', 'IN', 'PRP$', 'JJ', 'JJ', 'NN', '.']\",\n",
       "        \"['NNP', 'VBZ', 'DT', 'NN', 'IN', 'IN', 'DT', 'NN', 'IN', 'NN', 'IN', 'PRP$', 'JJ', 'JJ', 'NN', '.']\",\n",
       "        \"['NNP', 'VBZ', 'DT', 'NN', 'IN', 'DT', 'NN', 'IN', 'DT', 'NN', 'IN', 'NN', 'IN', 'PRP$', 'JJ', 'JJ', 'NN', '.']\",\n",
       "        \"['NNP', 'VBZ', 'DT', 'NN', 'IN', 'DT', 'NN', 'IN', 'DT', 'NN', 'IN', 'NN', 'IN', 'PRP$', 'JJ', 'JJ', 'NN', '.']\",\n",
       "        \"['NNP', 'VBZ', 'DT', 'JJ', 'NN', 'IN', 'PRP$', 'JJ', 'JJ', 'NN', 'IN', 'PRP$', 'JJ', 'JJ', 'NN', '.']\",\n",
       "        \"['NNP', 'VBZ', 'DT', 'NN', 'IN', 'DT', 'NN', 'NN', 'IN', 'PRP$', 'JJ', 'JJ', 'NN', '.']\",\n",
       "        \"['NNP', 'VBZ', 'DT', 'NN', 'IN', 'DT', 'NN', 'IN', 'DT', 'NN', 'IN', 'PRP$', 'JJ', 'JJ', 'NN', '.']\",\n",
       "        \"['NNP', 'VBZ', 'DT', 'NN', 'IN', 'DT', 'NN', 'IN', 'DT', 'NN', 'IN', 'PRP$', 'JJ', 'JJ', 'NN', '.']\",\n",
       "        \"['NNP', 'VBZ', 'DT', 'NN', 'IN', 'DT', 'NN', 'IN', 'DT', 'NN', 'IN', 'PRP$', 'JJ', 'JJ', 'NN', '.']\",\n",
       "        \"['NNP', 'VBZ', 'DT', 'NN', 'IN', 'DT', 'NN', 'IN', 'DT', 'NN', 'IN', 'PRP$', 'JJ', 'JJ', 'NN', '.']\",\n",
       "        \"['NNP', 'VBZ', 'DT', 'NN', 'IN', 'NN', 'IN', 'DT', 'NN', 'IN', 'DT', 'NN', 'IN', 'PRP$', 'JJ', 'JJ', 'NN', '.']\",\n",
       "        \"['NNP', 'VBZ', 'NN', 'IN', 'DT', 'NN', 'IN', 'DT', 'NN', 'IN', 'PRP$', 'JJ', 'JJ', 'NN', '.']\",\n",
       "        \"['NNP', 'VBZ', 'DT', 'NN', 'NN', 'IN', 'DT', 'NN', 'NN', '.']\",\n",
       "        \"['NNP', 'VBZ', 'PRP$', 'JJ', 'NN', 'RB', 'IN', 'DT', 'NN', 'NN']\",\n",
       "        \"['NNP', 'VBZ', 'DT', 'NN', 'IN', 'DT', 'NN', '.']\",\n",
       "        \"['NNP', 'VBZ', 'DT', 'NN', 'VBD', 'IN', 'DT', 'NN', 'IN', 'PRP$', 'JJ', 'NN', '.']\",\n",
       "        \"['DT', 'NN', 'NNP', 'VBZ', 'DT', 'NN', 'NN', 'IN', 'NNP']\",\n",
       "        \"['NNP', 'VBZ', 'DT', 'NN', 'NN', 'NN', 'IN', 'DT', 'NN', 'IN', 'PRP$', 'JJ', 'NN', '.']\",\n",
       "        \"['NNP', 'VBZ', 'DT', 'NN']\", \"['NNP', 'VBZ', 'DT', 'JJ', 'NN']\",\n",
       "        \"['NNP', 'VBZ', 'DT', 'NN']\", \"['NNP', 'VBZ', 'DT', 'NN']\",\n",
       "        \"['NNP', 'VBZ', 'DT', 'NN']\", \"['NNP', 'VBZ', 'DT', 'NN']\",\n",
       "        \"['NNP', 'VBZ', 'DT', 'NN', 'IN', 'NN']\",\n",
       "        \"['NNP', 'VBZ', 'DT', 'NN', 'NN']\", \"['NNP', 'VBZ', 'DT', 'NN']\",\n",
       "        \"['NNP', 'VBZ', 'DT', 'NN']\",\n",
       "        \"['NNP', 'VBZ', 'DT', 'NN', 'JJ', 'NN']\",\n",
       "        \"['NNP', 'VBZ', 'DT', 'NN']\", \"['NNP', 'VBZ', 'DT', 'JJ', 'NN']\",\n",
       "        \"['NNP', 'VBZ', 'DT', 'NN']\", \"['NNP', 'VBZ', 'DT', 'NN']\",\n",
       "        \"['NNP', 'VBZ', 'DT', 'NN']\",\n",
       "        \"['NNP', 'VBZ', 'DT', 'NN', 'IN', 'NN']\",\n",
       "        \"['NNP', 'VBZ', 'DT', 'NN', 'JJ', 'NN']\",\n",
       "        \"['NNP', 'VBZ', 'NN', 'NN']\", \"['NNP', 'VBZ', 'DT', 'NN', 'NN']\",\n",
       "        \"['NNP', 'VBZ', 'DT', 'NN']\", \"['NNP', 'VBZ', 'DT', 'NN', 'NN']\",\n",
       "        \"['NNP', 'VBZ', 'DT', 'NN', 'NN']\",\n",
       "        \"['NNP', 'VBZ', 'DT', 'NN', 'NN', 'NN']\",\n",
       "        \"['NNP', 'VBZ', 'DT', 'NN', 'JJ', 'NN']\",\n",
       "        \"['NNP', 'VBZ', 'DT', 'NN', 'JJ', 'NN']\",\n",
       "        \"['NNP', 'VBZ', 'DT', 'NN', 'NN', 'NNS']\",\n",
       "        \"['NNP', 'VBZ', 'DT', 'NN', 'NN']\", \"['NNP', 'VBZ', 'DT', 'NN']\",\n",
       "        \"['NNP', 'VBZ', 'DT', 'NN', 'JJ', 'NN']\",\n",
       "        \"['NNP', 'VBZ', 'DT', 'NN', 'NN', 'NN']\",\n",
       "        \"['NNP', 'VBZ', 'DT', 'NN', 'NN', 'NN']\",\n",
       "        \"['NNP', 'VBZ', 'DT', 'NN', 'NN', 'NN']\",\n",
       "        \"['NNP', 'VBZ', 'DT', 'NN', 'NN', 'NN']\",\n",
       "        \"['NNP', 'VBZ', 'DT', 'NN', 'NN', 'NN']\",\n",
       "        \"['NNP', 'VBZ', 'DT', 'NN', 'JJ', 'NN']\",\n",
       "        \"['NNP', 'VBZ', 'DT', 'NN', 'NN']\", \"['NNP', 'VBZ', 'DT', 'NN']\",\n",
       "        \"['NNP', 'VBZ', 'DT', 'NN']\", \"['NNP', 'VBZ', 'DT', 'NN']\",\n",
       "        \"['NNP', 'VBZ', 'DT', 'NN', 'NN']\", \"['NNP', 'VBZ', 'DT', 'NN']\",\n",
       "        \"['NNP', 'VBZ', 'DT', 'NN']\",\n",
       "        \"['NNP', 'VBZ', 'DT', 'NN', 'IN', 'DT', 'NN', 'IN', 'NNS', '.']\",\n",
       "        \"['NNP', 'VBZ', 'DT', 'NNS', 'IN', 'DT', 'NN', 'IN', 'NNS', 'IN', 'PRP$', 'JJ', 'NN', '.']\",\n",
       "        \"['NNP', 'VBZ', 'DT', 'NN', 'IN', 'DT', 'NN', 'IN', 'NNS', '.']\",\n",
       "        \"['NNP', 'VBZ', 'DT', 'NN', 'NN', 'IN', 'DT', 'NN', 'IN', 'NNS', '.']\",\n",
       "        \"['NNP', 'VBZ', 'DT', 'NN', 'IN', 'NN', 'IN', 'DT', 'NN', '.']\",\n",
       "        \"['NNP', 'VBZ', 'DT', 'NN', 'IN', 'DT', 'NN', '.']\",\n",
       "        \"['NNP', 'VBZ', 'DT', 'NN', 'IN', 'DT', 'NN', 'NN', '.']\",\n",
       "        \"['NNP', 'VBZ', 'DT', 'NN', 'IN', 'DT', 'NN', '.']\",\n",
       "        \"['NNP', 'VBZ', 'DT', 'NN', 'NN', 'IN', 'DT', 'NN', '.']\",\n",
       "        \"['NNP', 'VBZ', 'DT', 'NN', 'IN', 'DT', 'NN', '.']\",\n",
       "        \"['NNP', 'VBZ', 'DT', 'NN', 'IN', 'DT', 'NN', '.']\",\n",
       "        \"['NNP', 'VBZ', 'DT', 'NN', 'NN', 'IN', 'DT', 'NN', '.']\",\n",
       "        \"['NNP', 'VBZ', 'DT', 'NN']\",\n",
       "        \"['NNP', 'VBZ', 'NN', 'IN', 'DT', 'NN']\",\n",
       "        \"['NNP', 'VBZ', 'DT', 'NN', 'IN', 'DT', 'NN']\",\n",
       "        \"['NNP', 'VBZ', 'DT', 'JJ', 'NNS', 'RB', 'IN', 'DT', 'JJ', 'NN', 'NN', '.']\",\n",
       "        \"['NNP', 'VBZ', 'DT', 'NN', 'IN', 'DT', 'NN', 'NN', 'IN', 'PRP$', 'JJ', 'NN', '.']\",\n",
       "        \"['NNP', 'VBZ', 'NN', 'IN', 'DT', 'NN', 'IN', 'PRP$', 'JJ', 'NN', '.']\",\n",
       "        \"['NNP', 'VBZ', 'DT', 'NN', 'IN', 'DT', 'NN', 'IN', 'PRP$', 'JJ', 'NN', '.']\",\n",
       "        \"['NNP', 'VBZ', 'DT', 'JJ', 'NN', 'IN', 'DT', 'NN', 'IN', 'PRP$', 'JJ', 'NN', '.']\",\n",
       "        \"['NNP', 'VBZ', 'DT', 'NN', 'NN']\",\n",
       "        \"['NNP', 'VBZ', 'NN', 'IN', 'IN', 'NN', 'NN']\",\n",
       "        \"['NNP', 'VBZ', 'NN', 'IN', 'IN', 'NN', 'NN']\",\n",
       "        \"['NNP', 'VBZ', 'NN', 'IN', 'IN', 'NN']\",\n",
       "        \"['NNP', 'VBZ', 'NN', 'IN', 'NN']\",\n",
       "        \"['NNP', 'VBZ', 'NN', 'IN', 'NNS']\",\n",
       "        \"['NNP', 'VBZ', 'NN', 'IN', 'IN', 'NN', 'NN']\",\n",
       "        \"['NNP', 'VBZ', 'NN', 'IN', 'IN', 'NN', 'NN']\",\n",
       "        \"['NNP', 'VBZ', 'NNS', 'IN', 'NN']\",\n",
       "        \"['NNP', 'VBZ', 'NN', 'IN', 'IN', 'NN', 'NN']\",\n",
       "        \"['NNP', 'VBZ', 'NN', 'IN', 'IN', 'NN', 'NN']\",\n",
       "        \"['NNP', 'VBZ', 'NN', 'IN', 'NNS']\",\n",
       "        \"['NNP', 'VBZ', 'NN', 'IN', 'IN', 'NN', 'NN']\",\n",
       "        \"['NNP', 'VBZ', 'NNS', 'IN', 'NNS']\", \"['NNP', 'VBZ', 'NN', 'NN']\",\n",
       "        \"['NNP', 'VBZ', 'NN', 'IN', 'NNP', 'NN']\",\n",
       "        \"['NNP', 'VBZ', 'NN', 'IN', 'DT', 'NN', 'NN', '.']\",\n",
       "        \"['NNP', 'VBZ', 'DT', 'NN', 'IN', 'DT', 'NN', 'NN', '.']\",\n",
       "        \"['NNP', 'VBZ', 'DT', 'NN', 'NN', '.']\", \"['NNP', 'VBZ']\",\n",
       "        \"['NNP', 'VBZ', 'DT', 'NN', 'NN', '.']\",\n",
       "        \"['NNP', 'VBZ', 'DT', 'NN', 'NN', '.']\",\n",
       "        \"['NNP', 'VBZ', 'DT', 'NN', 'NN', '.']\",\n",
       "        \"['NNP', 'VBZ', 'DT', 'NN', 'NN', '.']\",\n",
       "        \"['NNP', 'VBZ', 'DT', 'NN', 'NN', '.']\",\n",
       "        \"['NNP', 'VBZ', 'DT', 'NN', '.']\",\n",
       "        \"['NNP', 'VBZ', 'DT', 'NN', 'NN', '.']\",\n",
       "        \"['NNP', 'VBZ', 'DT', 'NN', '.']\",\n",
       "        \"['NNP', 'VBZ', 'DT', 'NN', '.']\", \"['NNP', 'VBZ', 'NN']\",\n",
       "        \"['NNP', 'VBZ', 'NN']\", \"['NNP', 'VBZ']\",\n",
       "        \"['NNP', 'VBZ', 'NN', 'NN']\", \"['NNP', 'VBZ', 'DT', 'NN', 'NN']\",\n",
       "        \"['NNP', 'VBZ', 'NN']\", \"['NNP', 'VBZ', 'DT', 'NN', 'NN']\",\n",
       "        \"['NNP', 'VBZ', 'NN', 'NN']\", \"['NNP', 'VBZ', 'NN', 'NN']\",\n",
       "        \"['NNP', 'VBZ', 'DT', 'JJ', 'NN']\", \"['NNP', 'VBZ', 'DT', 'NN']\",\n",
       "        \"['NNP', 'VBZ', 'DT', 'NN']\",\n",
       "        \"['NNP', 'VBZ', 'DT', 'NN', 'IN', 'DT', 'NN', 'IN', 'NN', 'IN', 'PRP$', 'NN']\",\n",
       "        \"['NNP', 'VBZ', 'DT', 'NN', 'IN', 'PRP$', 'NN']\",\n",
       "        \"['NNP', 'VBZ', 'DT', 'NN', 'IN', 'DT', 'NN', 'IN', 'NN', 'IN', 'PRP$', 'NN']\",\n",
       "        \"['NNP', 'VBZ', 'DT', 'NN', 'IN', 'DT', 'NN', 'NN', 'IN', 'PRP$', 'NN']\",\n",
       "        \"['NNP', 'VBZ', 'DT', 'NN', 'IN', 'PRP$', 'NN']\",\n",
       "        \"['NNP', 'VBZ', 'DT', 'NN', 'IN', 'DT', 'NN', 'IN', 'NN', 'IN', 'PRP$', 'NN']\",\n",
       "        \"['NNP', 'VBZ', 'DT', 'NN', 'IN', 'DT', 'NN', 'IN', 'NN', 'IN', 'PRP$', 'NN']\",\n",
       "        \"['NNP', 'VBZ', 'DT', 'NN', 'IN', 'DT', 'NN', 'IN', 'NN', 'IN', 'PRP$', 'NN']\",\n",
       "        \"['NNP', 'VBZ', 'DT', 'NN', 'IN', 'DT', 'NN', 'IN', 'NN', 'IN', 'PRP$', 'NN']\",\n",
       "        \"['NNP', 'VBZ', 'DT', 'NN', 'IN', 'DT', 'NN', 'IN', 'NN', 'IN', 'PRP$', 'NN']\",\n",
       "        \"['NNP', 'VBZ', 'DT', 'NN', 'IN', 'DT', 'NN', 'IN', 'NN', 'IN', 'PRP$', 'NN']\",\n",
       "        \"['NNP', 'VBZ', 'JJ', 'NNS', 'IN', 'DT', 'NN', 'IN', 'NN', 'IN', 'PRP$', 'NN']\",\n",
       "        \"['NNP', 'VBZ', 'DT', 'NN', 'IN', 'PRP$', 'NN']\",\n",
       "        \"['NNP', 'VBZ', 'DT', 'NNS', 'IN', 'DT', 'NN', 'IN', 'NN', 'IN', 'PRP$', 'NN']\",\n",
       "        \"['NNP', 'VBZ', 'DT', 'NN', 'IN', 'DT', 'NN', 'IN', 'NN', 'IN', 'PRP$', 'NN']\",\n",
       "        \"['NNP', 'VBZ', 'DT', 'NN', 'IN', 'PRP$', 'NN']\",\n",
       "        \"['NNP', 'VBZ', 'DT', 'NN', 'IN', 'DT', 'NN', 'IN', 'NN', 'IN', 'PRP$', 'NN']\",\n",
       "        \"['NNP', 'VBZ', 'DT', 'NN', 'IN', 'PRP$', 'NN']\",\n",
       "        \"['NNP', 'VBZ', 'DT', 'JJ', 'NN', 'IN', 'PRP$', 'NN']\",\n",
       "        \"['NNP', 'VBZ', 'DT', 'JJ', 'NN', 'IN', 'PRP$', 'NN']\",\n",
       "        \"['NNP', 'VBZ', 'DT', 'JJ', 'NN', 'IN', 'DT', 'NN', 'IN', 'PRP$', 'JJ', 'NN']\",\n",
       "        \"['NNP', 'VBZ', 'PRP$', 'JJ', 'NN', 'RP', 'DT', 'JJ', 'NN', '.']\",\n",
       "        \"['NNP', 'VBZ', 'DT', 'JJ', 'NNS', 'RB', '.']\",\n",
       "        \"['NNP', 'VBZ', 'DT', 'NN', 'NN']\",\n",
       "        \"['NNP', 'VBZ', 'PRP$', 'NN', 'NNS']\",\n",
       "        \"['NNP', 'VBZ', 'DT', 'NN', 'NN', 'NN', 'NN']\",\n",
       "        \"['NNP', 'VBZ', 'DT', 'JJ', 'NN']\",\n",
       "        \"['NNP', 'VBZ', 'DT', 'NN', 'NN', 'IN', 'DT', 'NN']\",\n",
       "        \"['NNP', 'VBZ', 'DT', 'JJ', 'NN']\",\n",
       "        \"['NNP', 'VBZ', 'DT', 'NN', 'IN', 'PRP$', 'JJ', 'NN', '.']\",\n",
       "        \"['NNP', 'VBZ', 'DT', 'NN', 'NN', 'IN', 'DT', 'NN', 'IN', 'DT', 'JJ', 'NN', 'IN', 'DT', 'NN', '.']\",\n",
       "        \"['NNP', 'VBZ', 'DT', 'NN', 'IN', 'DT', 'NN']\",\n",
       "        \"['NNP', 'VBZ', 'DT', 'NN', 'IN', 'DT', 'NN']\",\n",
       "        \"['NNP', 'VBZ', 'DT', 'NN', 'IN', 'DT', 'NN']\",\n",
       "        \"['NNP', 'VBZ', 'DT', 'NN', 'IN', 'DT', 'NN']\",\n",
       "        \"['NNP', 'VBZ', 'DT', 'VBN', 'NN']\",\n",
       "        \"['NNP', 'VBZ', 'DT', 'NN', 'NN', 'NN']\",\n",
       "        \"['NNP', 'VBZ', 'DT', 'JJ', 'NN', 'NN', 'NN', 'IN', 'DT', 'NN']\",\n",
       "        \"['NNP', 'VBZ', 'DT', 'NN']\", \"['NNP', 'VBZ', 'DT', 'NN', 'NN']\",\n",
       "        \"['NNP', 'VBZ', 'DT', 'NNS']\", \"['NNP', 'VBZ', 'DT', 'NN']\",\n",
       "        \"['NNP', 'VBZ', 'DT', 'NNS']\", \"['NNP', 'VBZ', 'DT', 'NN', 'NN']\",\n",
       "        \"['NNP', 'VBZ', 'DT', 'NN']\",\n",
       "        \"['NNP', 'VBZ', 'DT', 'NN', 'IN', 'PRP$', 'NN']\",\n",
       "        \"['NNP', 'VBZ', 'DT', 'NN', 'IN', 'PRP$', 'NN']\", \"['NNP', 'VBZ']\",\n",
       "        \"['NNP', 'VBZ', 'DT', 'NN']\",\n",
       "        \"['NNP', 'VBZ', 'NN', 'IN', 'DT', 'NN', '.']\",\n",
       "        \"['NNP', 'VBZ', 'JJ', 'NNS']\", \"['NNP', 'VBZ', 'VBG', 'NN']\",\n",
       "        \"['NNP', 'VBZ', 'VBG', 'NN']\", \"['NNP', 'VBZ', 'VBG', 'NN']\",\n",
       "        \"['NNP', 'VBZ', 'VBG', 'NN']\", \"['NNP', 'VBZ', 'VBG', 'NN']\",\n",
       "        \"['NNP', 'VBZ', 'VBG', 'NN']\", \"['NNP', 'VBZ', 'VBG', 'NN']\",\n",
       "        \"['NNP', 'VBZ', 'DT', 'NN', 'NN']\",\n",
       "        \"['NNP', 'VBZ', 'DT', 'JJ', 'NN']\", \"['NNP', 'VBZ', 'VBG', 'NN']\",\n",
       "        \"['NNP', 'VBZ', 'DT', 'NN', 'NN']\",\n",
       "        \"['NNP', 'VBZ', 'DT', 'NN', 'NN']\",\n",
       "        \"['NNP', 'VBZ', 'DT', 'NN', 'NN']\", \"['NNP', 'VBZ', 'VBG', 'NN']\",\n",
       "        \"['NNP', 'VBZ', 'VBG', 'NN']\", \"['NNP', 'VBZ', 'VBG', 'NN']\",\n",
       "        \"['NNP', 'VBZ', 'VBG', 'NN']\", \"['NNP', 'VBZ', 'VBG', 'NN']\",\n",
       "        \"['NNP', 'VBZ', 'DT', 'NN', 'IN', 'DT', 'NN']\",\n",
       "        \"['NNP', 'VBZ', 'VBG', 'NN']\", \"['NNP', 'VBZ', 'DT', 'JJ', 'NN']\",\n",
       "        \"['NNP', 'VBZ', 'DT', 'JJ', 'NN']\",\n",
       "        \"['NNP', 'VBZ', 'DT', 'JJ', 'NN']\",\n",
       "        \"['NNP', 'VBZ', 'DT', 'VBG', 'NN']\",\n",
       "        \"['NNP', 'VBZ', 'DT', 'VBG', 'NN']\",\n",
       "        \"['NNP', 'VBZ', 'DT', 'JJ', 'NN']\",\n",
       "        \"['NNP', 'VBZ', 'DT', 'JJ', 'NN']\",\n",
       "        \"['NNP', 'VBZ', 'DT', 'NN', 'NN']\", \"['NNP', 'VBZ', 'DT', 'NN']\",\n",
       "        \"['NNP', 'VBZ', 'DT', 'NNS', 'VBN', 'IN', 'DT', 'NN']\",\n",
       "        \"['NNP', 'VBZ', 'DT', 'NN', 'NN', 'VBN', 'IN', 'DT', 'NN']\",\n",
       "        \"['NNP', 'VBZ', 'DT', 'NN', 'NNS', 'VBN', 'IN', 'DT', 'NN', 'NN']\",\n",
       "        \"['NNP', 'VBZ', 'DT', 'NNS', 'VBN', 'IN', 'DT', 'NN']\",\n",
       "        \"['NNP', 'VBZ', 'DT', 'NN', 'IN', 'NN']\",\n",
       "        \"['NNP', 'VBZ', 'DT', 'NN', 'NNS', 'IN', 'DT', 'JJ', 'NN', '.']\",\n",
       "        \"['NNP', 'VBZ', 'DT', 'NN', 'IN', 'IN', 'NN', 'DT', 'NN']\",\n",
       "        \"['NNP', 'VBZ', 'DT', 'NN', 'IN', 'IN', 'NN', 'DT', 'NN']\",\n",
       "        \"['NNP', 'VBZ', 'DT', 'NN', 'IN', 'IN', 'JJ', 'DT', 'NN']\",\n",
       "        \"['NNP', 'VBZ', 'DT', 'NN', 'NN', 'IN', 'IN', 'NN', 'DT', 'NN']\",\n",
       "        \"['NNP', 'VBZ', 'NN', 'IN', 'IN', 'NN', 'DT', 'NN']\",\n",
       "        \"['NNP', 'VBZ', 'NN', 'IN', 'DT', 'NN']\",\n",
       "        \"['NNP', 'VBZ', 'DT', 'NN', '.']\",\n",
       "        \"['NNP', 'VBZ', 'DT', 'NN', '.']\",\n",
       "        \"['NNP', 'VBZ', 'DT', 'NN', '.']\",\n",
       "        \"['NNP', 'VBZ', 'DT', 'NN', 'NN', '.']\", \"['NNP', 'VBZ']\",\n",
       "        \"['NNP', 'VBZ', 'DT', 'NN', '.']\",\n",
       "        \"['NNP', 'VBZ', 'DT', 'NN', '.']\",\n",
       "        \"['NNP', 'VBZ', 'DT', 'NN', 'NN', '.']\",\n",
       "        \"['NNP', 'VBZ', 'DT', 'NN', '.']\",\n",
       "        \"['NNP', 'VBZ', 'DT', 'NN', '.']\",\n",
       "        \"['NNP', 'VBZ', 'DT', 'NN', '.']\",\n",
       "        \"['NNP', 'VBZ', 'DT', 'NN', '.']\",\n",
       "        \"['NNP', 'VBZ', 'JJ', 'NN', 'IN', 'DT', 'NN', 'PRP$', 'JJ', 'NN', '.']\",\n",
       "        \"['NNP', 'VBZ', 'CD', 'JJ', 'NN', 'IN', 'DT', 'NN', 'IN', 'PRP$', 'JJ', 'NN', '.']\",\n",
       "        \"['NNP', 'VBZ', 'PRP$', 'JJ', 'NN', 'IN', 'DT', 'NNP', 'NN']\",\n",
       "        \"['NNP', 'VBZ', 'PRP$', 'JJ', 'NN', 'IN', 'DT', 'NNP', 'NN', 'NN', '.']\",\n",
       "        \"['NNP', 'VBZ', 'DT', 'NN']\", \"['NNP', 'VBZ', 'DT', 'NN']\",\n",
       "        \"['NNP', 'VBZ', 'NN', 'VBD', 'NN']\", \"['NNP', 'VBZ', 'NN']\",\n",
       "        \"['NNP', 'VBZ', 'DT', 'NN', 'NN']\", \"['NNP', 'VBZ', 'DT', 'NN']\",\n",
       "        \"['NNP', 'VBZ', 'NNS', 'IN', 'DT', 'NN', '.']\",\n",
       "        \"['NNP', 'VBZ', 'DT', 'NN', 'IN', 'NN', 'NNS']\",\n",
       "        \"['NNP', 'VBZ', 'DT', 'NN', 'NN']\",\n",
       "        \"['NNP', 'VBZ', 'DT', 'NN', 'IN', 'NN']\",\n",
       "        \"['NNP', 'VBZ', 'DT', 'NN']\", \"['NNP', 'VBZ', 'DT', 'NN']\",\n",
       "        \"['NNP', 'VBZ', 'DT', 'NN']\", \"['NNP', 'VBZ', 'NNS']\",\n",
       "        \"['NNP', 'VBZ', 'DT', 'JJ', 'NN']\",\n",
       "        \"['NNP', 'VBZ', 'DT', 'NNS', 'IN', 'DT', 'NN', '.']\",\n",
       "        \"['NNP', 'VBZ', 'DT', 'JJ', 'NN', '.']\",\n",
       "        \"['NNP', 'VBZ', 'DT', 'JJ', 'NN', 'IN', 'DT', 'NN', '.']\",\n",
       "        \"['NNP', 'VBZ', 'DT', 'NN', '.']\",\n",
       "        \"['NNP', 'VBZ', 'JJR', 'JJ', 'NNS', '.']\",\n",
       "        \"['NNP', 'VBZ', 'DT', 'NN', '.']\",\n",
       "        \"['NNP', 'VBZ', 'DT', 'JJ', 'NN', 'IN', 'DT', 'NN', '.']\",\n",
       "        \"['NNP', 'VBZ', 'DT', 'NN', '.']\",\n",
       "        \"['NNP', 'VBZ', 'DT', 'NN', '.']\",\n",
       "        \"['NNP', 'VBZ', 'DT', 'JJ', 'NN', 'IN', 'NN', '.']\",\n",
       "        \"['NNP', 'VBZ', 'DT', 'JJ', 'NN', '.']\",\n",
       "        \"['NNP', 'VBZ', 'DT', 'DT', 'NN', '.']\",\n",
       "        \"['NNP', 'VBZ', 'DT', 'NN', 'IN', 'DT', 'NN', '.']\",\n",
       "        \"['NNP', 'VBZ', 'DT', 'JJR', 'NN', '.']\",\n",
       "        \"['NNP', 'VBZ', 'DT', 'NN', '.']\",\n",
       "        \"['NNP', 'VBZ', 'DT', 'NN', '.']\",\n",
       "        \"['NNP', 'VBZ', 'DT', 'NN', 'NN', '.']\",\n",
       "        \"['NNP', 'VBZ', 'DT', 'NNS', 'IN', 'DT', 'NN', '.']\",\n",
       "        \"['NNP', 'VBZ', 'CD', 'NN', '.']\",\n",
       "        \"['NNP', 'VBZ', 'DT', 'NN', 'NN', '.']\",\n",
       "        \"['NNP', 'VBZ', 'DT', 'NN', '.']\",\n",
       "        \"['NNP', 'VBZ', 'DT', 'NN', 'NN', '.']\",\n",
       "        \"['NNP', 'VBZ', 'DT', 'NN', '.']\",\n",
       "        \"['NNP', 'VBZ', 'DT', 'NN', 'NN', '.']\",\n",
       "        \"['NNP', 'VBZ', 'DT', 'NNS', '.']\",\n",
       "        \"['NNP', 'VBZ', 'DT', 'NN', '.']\",\n",
       "        \"['NNP', 'VBZ', 'DT', 'NN', '.']\",\n",
       "        \"['NNP', 'VBZ', 'DT', 'NN', 'NN', '.']\",\n",
       "        \"['NNP', 'VBZ', 'DT', 'NN', '.']\",\n",
       "        \"['NNP', 'VBZ', 'DT', 'NN', 'NN', '.']\",\n",
       "        \"['NNP', 'VBZ', 'DT', 'NN', '.']\",\n",
       "        \"['NNP', 'VBZ', 'DT', 'NN', 'NN', '.']\",\n",
       "        \"['NNP', 'VBZ', 'DT', 'NN', '.']\",\n",
       "        \"['NNP', 'VBZ', 'DT', 'NN', 'NN', '.']\",\n",
       "        \"['NNP', 'VBZ', 'DT', 'NN', '.']\",\n",
       "        \"['NNP', 'VBZ', 'DT', 'NN', 'NN', '.']\",\n",
       "        \"['NNP', 'VBZ', 'DT', 'NN', '.']\",\n",
       "        \"['NNP', 'VBZ', 'DT', 'NN', 'NN', '.']\",\n",
       "        \"['NNP', 'VBZ', 'DT', 'NN', '.']\",\n",
       "        \"['NNP', 'VBZ', 'DT', 'NN', 'NN', '.']\",\n",
       "        \"['NNP', 'VBZ', 'DT', 'NN', '.']\",\n",
       "        \"['NNP', 'VBZ', 'DT', 'NN', 'NN', '.']\",\n",
       "        \"['NNP', 'VBZ', 'DT', 'NN', 'NN', '.']\",\n",
       "        \"['NNP', 'VBZ', 'DT', 'NN', '.']\",\n",
       "        \"['NNP', 'VBZ', 'DT', 'NN', 'NN', '.']\",\n",
       "        \"['NNP', 'VBZ', 'DT', 'NN', 'NN']\",\n",
       "        \"['NNP', 'VBZ', 'NN', 'IN', 'IN', 'NN']\",\n",
       "        \"['NNP', 'VBZ', 'DT', 'NN', 'IN', 'IN', 'NN']\",\n",
       "        \"['NNP', 'VBZ', 'DT', 'NN', 'NN', 'IN', 'PRP$', 'JJ', 'NN']\",\n",
       "        \"['NNP', 'VBZ', 'DT', 'NN', 'IN', 'PRP$', 'JJ', 'NN']\",\n",
       "        \"['NNP', 'VBZ', 'DT', 'NN', 'IN', 'PRP$', 'JJ', 'NN']\",\n",
       "        \"['NNP', 'VBZ', 'DT', 'NN', 'IN', 'PRP$', 'JJ', 'NN']\",\n",
       "        \"['NNP', 'VBZ', 'DT', 'NN', 'IN', 'PRP$', 'JJ', 'NN']\",\n",
       "        \"['NNP', 'VBZ', 'DT', 'NN', 'IN', 'DT', 'NN', 'IN', 'PRP$', 'JJ', 'NN']\",\n",
       "        \"['NNP', 'VB', 'DT', 'NN', 'IN', 'DT', 'NN', 'IN', 'PRP$', 'JJ', 'NN', '.']\",\n",
       "        \"['NNP', 'VBZ', 'DT', 'NN', 'IN', 'DT', 'NN', 'IN', 'PRP$', 'JJ', 'NN', '.']\",\n",
       "        \"['NNP', 'VBZ', 'DT', 'NN', 'NN', 'IN', 'PRP$', 'JJ', 'NN', 'IN', 'PRP$', 'JJ', 'NN', '.']\",\n",
       "        \"['NNP', 'VBZ', 'DT', 'NN', 'NN', 'IN', 'DT', 'NN', 'IN', 'DT', 'NN', 'IN', 'PRP$', 'JJ', 'NN', '.']\",\n",
       "        \"['NNP', 'VBZ', 'DT', 'NN', 'NN', 'NN', 'IN', 'DT', 'NN', '.']\",\n",
       "        \"['NNP', 'VBZ', 'DT', 'NN', 'NN', 'IN', 'DT', 'NN', '.']\",\n",
       "        \"['NNP', 'VBZ', 'DT', 'NN', 'IN', 'DT', 'NN', 'IN', 'DT', 'NN', 'IN', 'PRP$', 'JJ', 'NN', '.']\",\n",
       "        \"['NNP', 'NNP', 'VBZ', 'DT', 'NN', 'IN', 'NN']\",\n",
       "        \"['NNP', 'VBZ', 'DT', 'NN', '.']\",\n",
       "        \"['NNP', 'VBZ', 'NN', 'IN', 'DT', 'NN']\",\n",
       "        \"['NNP', 'VBZ', 'DT', 'NN', 'IN', 'DT', 'NN', 'IN', 'DT', 'NNP']\",\n",
       "        \"['NNP', 'VBZ', 'DT', 'NN', 'IN', 'DT', 'NN', 'IN', 'DT', 'NNP']\",\n",
       "        \"['NNP', 'VBZ', 'DT', 'NN', 'NN', 'IN', 'IN', 'DT', 'NN', 'NN']\",\n",
       "        \"['NNP', 'VBZ', 'PRP$', 'NN', 'IN', 'IN', 'DT', 'NN', 'NN']\",\n",
       "        \"['NNP', 'VBZ', 'NN', 'IN', 'DT', 'NN', 'IN', 'DT', 'JJ', 'NN']\",\n",
       "        \"['NNP', 'VBZ', 'NN', 'IN', 'DT', 'NN', 'IN', 'DT', 'JJ', 'NN']\",\n",
       "        \"['NNP', 'VBZ', 'NN', 'IN', 'DT', 'NN', 'IN', 'DT', 'JJ', 'NN']\",\n",
       "        \"['NNP', 'VBZ', 'DT', 'NN', 'IN', 'DT', 'JJ', 'NN', '.']\",\n",
       "        \"['NNP', 'VBZ', 'DT', 'NN', 'IN', 'NN', 'IN', 'DT', 'JJ', 'NN', '.']\",\n",
       "        \"['NNP', 'VBZ', 'DT', 'NN', 'IN', 'NN', 'IN', 'DT', 'NN', '.']\",\n",
       "        \"['NNP', 'VBZ', 'DT', 'NN', 'IN', 'NN', 'IN', 'DT', 'NN', 'IN', 'DT', 'NN', '.']\",\n",
       "        \"['NNP', 'VBZ', 'DT', 'NN', 'NN', 'RB', 'IN', 'DT', 'NN']\",\n",
       "        \"['NNP', 'VBZ', 'DT', 'NNS', 'IN', 'DT', 'NN', 'IN', 'DT', 'NN']\",\n",
       "        \"['NNP', 'VBZ', 'DT', 'NN', 'NN']\",\n",
       "        \"['NNP', 'VBZ', 'DT', 'NN', 'IN', 'DT', 'NN']\",\n",
       "        \"['NNP', 'VBZ', 'DT', 'NN', 'NN', 'VBN', 'IN', 'DT', 'NN']\",\n",
       "        \"['NNP', 'VBZ', 'DT', 'NN', 'NN', 'NN', 'VBN', 'IN', 'DT', 'NN']\",\n",
       "        \"['NNP', 'VBZ', 'DT', 'NN', 'NN', 'NNS']\",\n",
       "        \"['NNP', 'VBZ', 'DT', 'NN', 'NN']\",\n",
       "        \"['NNP', 'VBZ', 'DT', 'NN', 'VBN', 'IN', 'DT', 'NN', 'TO', 'VB', 'DT', 'NN', 'NN']\",\n",
       "        \"['NNP', 'VBZ', 'DT', 'NN', 'IN', 'DT', 'NN', 'IN', 'JJ', 'NN', '.']\",\n",
       "        \"['NNP', 'VBZ', 'DT', 'NN', 'IN', 'DT', 'NN', 'IN', 'JJ', 'NN', '.']\",\n",
       "        \"['NNP', 'VBZ', 'DT', 'NN', 'IN', 'DT', 'NN', '.']\",\n",
       "        \"['NNP', 'VBZ', 'DT', 'NN', 'NN']\",\n",
       "        \"['NNP', 'VBZ', 'DT', 'NN', 'NN', 'IN', 'DT', 'NN']\",\n",
       "        \"['NNP', 'VBZ', 'DT', 'NN', 'NN']\",\n",
       "        \"['NNP', 'VBZ', 'DT', 'NN', 'IN', 'JJ', 'NN']\",\n",
       "        \"['NNP', 'VBZ', 'DT', 'NN', 'NN', 'NN', 'IN', 'DT', 'NN', '.']\",\n",
       "        \"['NNP', 'VBZ', 'DT', 'NN', 'IN', 'DT', 'NN', 'IN', 'DT', 'NN', '.']\",\n",
       "        \"['DT', 'NN', 'NNP', 'VBZ', 'DT', 'NN', 'IN', 'DT', 'NN', '.']\",\n",
       "        \"['NNP', 'VBZ', 'DT', 'NN', 'IN', 'DT', 'NN', 'IN', 'DT', 'NN']\",\n",
       "        \"['NNP', 'VBZ', 'DT', 'NN', 'IN', 'DT', 'NN', 'IN', 'JJ', 'NN']\",\n",
       "        \"['NNP', 'VBZ', 'DT', 'DT', 'NN', '.']\",\n",
       "        \"['NNP', 'VBZ', 'NN', 'IN', 'DT', 'NN', 'IN', 'NN', 'IN', 'DT', 'NNP', 'NNP', '.']\",\n",
       "        \"['NNP', 'VBZ', 'DT', 'NNP', 'NNP', 'IN', 'DT', 'NN', 'IN', 'NN', '.']\",\n",
       "        \"['NNP', 'VBZ', 'NN', 'IN', 'DT', 'NN', 'IN', 'NN', 'IN', 'DT', 'NNP', 'NNP', '.']\",\n",
       "        \"['NNP', 'VBZ', 'DT', 'NNP', 'NNP', 'IN', 'DT', 'NN', 'IN', 'NN', '.']\",\n",
       "        \"['NNP', 'VBZ', 'PRP$', 'JJ', 'NN', 'IN', 'DT', 'NN', 'IN', 'DT', 'NN', 'NN', '.']\",\n",
       "        \"['NNP', 'VBZ', 'DT', 'NN', 'IN', 'DT', 'NN', 'IN', 'NN', '.']\",\n",
       "        \"['NNP', 'VBZ', 'NN', 'IN', 'DT', 'NN', 'IN', 'NN', '.']\",\n",
       "        \"['NNP', 'VBZ', 'DT', 'NN']\", \"['NNP', 'VBZ', 'DT', 'NN']\",\n",
       "        \"['NNP', 'VBZ', 'DT', 'NN', 'NN', 'NN']\",\n",
       "        \"['NNP', 'VBZ', 'DT', 'NN', 'IN', 'DT', 'NN', 'IN', 'DT', 'NN', 'IN', 'PRP$', 'JJ', 'NN', '.']\",\n",
       "        \"['NNP', 'VBZ', 'PRP$', 'JJ', 'NN', 'RP', 'DT', 'JJ', 'NN', 'NN']\",\n",
       "        \"['NNP', 'VBZ', 'DT', 'NN', 'RB', 'IN', 'DT', 'NN']\",\n",
       "        \"['NNP', 'VBZ', 'DT', 'NN', 'IN', 'DT', 'JJ', 'NN', 'NN']\",\n",
       "        \"['NNP', 'VBZ', 'DT', 'NN', 'IN', 'DT', 'JJ', 'NN', 'NN']\",\n",
       "        \"['NNP', 'VBZ', 'DT', 'NN', 'IN', 'DT', 'JJ', 'NN', 'NN']\",\n",
       "        \"['NNP', 'VBZ', 'DT', 'NN', 'RB', 'IN', 'DT', 'NN']\",\n",
       "        \"['NNP', 'VBZ', 'NN']\",\n",
       "        \"['NNP', 'VBZ', 'PRP$', 'JJ', 'NN', 'RB', '.']\",\n",
       "        \"['NNP', 'VBZ', 'PRP$', 'JJ', 'NN', 'RP', 'DT', 'NN', '.']\",\n",
       "        \"['.', 'NN', 'VBZ', 'DT', 'NN', 'NN', 'IN', 'DT', 'NN', '.']\",\n",
       "        \"['NNP', 'VBZ', 'DT', 'NNS', 'IN', 'DT', 'NN', '.']\",\n",
       "        \"['NNP', 'VBZ', 'DT', 'NN', 'IN', 'NN', 'NN', 'IN', 'DT', 'NN', '.']\",\n",
       "        \"['NNP', 'VBZ', 'DT', 'NNS', 'IN', 'DT', 'NN', '.']\",\n",
       "        \"['NNP', 'VBZ', 'DT', 'NN', 'NN', 'IN', 'DT', 'NN', '.']\",\n",
       "        \"['NNP', 'VBZ', 'DT', 'NNS', 'IN', 'DT', 'NN', '.']\",\n",
       "        \"['NNP', 'VBZ', 'DT', 'JJ', 'NN', 'IN', 'DT', 'NN', '.']\",\n",
       "        \"['NNP', 'VBZ', 'DT', 'NNS', '.']\",\n",
       "        \"['NNP', 'VBZ', 'DT', 'NNS', 'IN', 'DT', 'JJ', 'NN', '.']\",\n",
       "        \"['NNP', 'VBZ', 'DT', 'NNS', '.']\",\n",
       "        \"['NNP', 'VBZ', 'DT', 'NNS', '.']\",\n",
       "        \"['NNP', 'VBZ', 'DT', 'NN', '.']\",\n",
       "        \"['NNP', 'VBZ', 'DT', 'JJ', 'NNS', 'RB', 'IN', 'DT', 'JJ', 'NNS', '.']\",\n",
       "        \"['NNP', 'VBZ', 'DT', 'NN', 'NN']\", \"['NNP', 'VBZ', 'NN', 'NN']\",\n",
       "        \"['NNP', 'VBZ', 'DT', 'NN', 'NN']\", \"['NNP', 'VBZ', 'NNS']\",\n",
       "        \"['NNP', 'VBZ', 'CD', 'NN', 'IN', 'DT', 'NN', 'NN']\",\n",
       "        \"['NNP', 'VBZ', 'DT', 'NN', 'IN', 'NN', 'IN', 'DT', 'NN', 'IN', 'PRP$', 'JJ', 'NN', '.']\",\n",
       "        \"['NNP', 'VBZ', 'DT', 'NN', 'IN', 'DT', 'NN', 'IN', 'PRP$', 'JJ', 'NN', '.']\",\n",
       "        \"['NNP', 'VBZ', 'DT', 'NN', 'IN', 'NN', 'IN', 'DT', 'NN', 'IN', 'PRP$', 'JJ', 'NN', '.']\",\n",
       "        \"['NNP', 'VBZ', 'DT', 'NN', 'IN', 'DT', 'NN', 'IN', 'PRP$', 'JJ', 'NN', '.']\",\n",
       "        \"['NNP', 'VBZ', 'DT', 'NN', 'IN', 'DT', 'NN', 'IN', 'PRP$', 'JJ', 'NN', '.']\",\n",
       "        \"['NNP', 'VBZ', 'DT', 'NN']\",\n",
       "        \"['NNP', 'VBZ', 'DT', 'NN', 'IN', 'DT', 'NN']\",\n",
       "        \"['NNP', 'VBZ', 'DT', 'NN']\",\n",
       "        \"['NNP', 'VBZ', 'DT', 'NN', 'IN', 'DT', 'NN']\",\n",
       "        \"['NNP', 'VBZ', 'IN', 'DT', 'NN']\",\n",
       "        \"['NNP', 'VBZ', 'DT', 'NN', 'IN', 'DT', 'NN']\",\n",
       "        \"['NNP', 'VBZ', 'PRP', 'JJ', 'NN', 'RP', 'DT', 'JJ', 'NN']\",\n",
       "        \"['NNP', 'VBZ', 'PRP', 'JJ', 'NN', 'IN', 'DT', 'JJ', 'NN', 'NN']\",\n",
       "        \"['NNP', 'VBZ', 'DT', 'NN', 'IN', 'PRP$', 'JJ', 'NN', 'IN', 'DT', 'NNS']\",\n",
       "        \"['NNP', 'VBZ', 'PRP', 'JJ', 'NN', 'IN', 'DT', 'JJ', 'NN', 'NN']\",\n",
       "        \"['NNP', 'VBZ', 'DT', 'NN', 'IN', 'PRP$', 'JJ', 'NN', 'IN', 'DT', 'NNS']\",\n",
       "        \"['NNP', 'VBZ', 'DT', 'NN', 'IN', 'PRP$', 'JJ', 'NN', 'IN', 'DT', 'NNS']\",\n",
       "        \"['NNP', 'VBZ', 'DT', 'NN', 'IN', 'PRP$', 'JJ', 'NN', 'IN', 'DT', 'NNS']\",\n",
       "        \"['NNP', 'VBZ', 'DT', 'NN', 'IN', 'PRP$', 'JJ', 'NN', 'IN', 'DT', 'NNS']\",\n",
       "        \"['NNP', 'VBZ', 'DT', 'NN', 'IN', 'PRP$', 'JJ', 'NN', 'IN', 'DT', 'NNS']\",\n",
       "        \"['NNP', 'VBZ', 'JJ', 'NNS', 'IN', 'DT', 'NN']\",\n",
       "        \"['NNP', 'VBZ', 'JJ', 'NNS', 'IN', 'DT', 'NN']\",\n",
       "        \"['NNP', 'VBZ', 'CD', 'JJR', 'NN', 'IN', 'DT', 'NN']\",\n",
       "        \"['NNP', 'VBZ', 'NN', 'IN', 'DT', 'NN', 'NN']\",\n",
       "        \"['NNP', 'VBZ', 'NN', 'IN', 'DT', 'NN', 'NN']\",\n",
       "        \"['NNP', 'VBZ', 'NN', 'IN', 'DT', 'NN', 'NN']\",\n",
       "        \"['NNP', 'VBZ', 'NN', 'IN', 'DT', 'NN', 'NN']\",\n",
       "        \"['NNP', 'VBZ', 'NN', 'IN', 'DT', 'NN', 'NN']\",\n",
       "        \"['NNP', 'VBZ', 'NN', 'IN', 'DT', 'NN', 'NN']\",\n",
       "        \"['NNP', 'VBZ', 'NN', 'IN', 'DT', 'NN', 'NN']\",\n",
       "        \"['NNP', 'VBZ', 'DT', 'NN', 'NN', 'IN', 'DT', 'NN']\",\n",
       "        \"['NNP', 'VBZ', 'DT', 'NN', 'IN', 'DT', 'NN', 'IN', 'JJ', 'NN', '.']\",\n",
       "        \"['NNP', 'VBZ', 'DT', 'NN', 'IN', 'DT', 'NN', 'IN', 'JJ', 'NN', '.']\",\n",
       "        \"['NNP', 'VBZ', 'DT', 'NN', 'IN', 'DT', 'NN', 'IN', 'JJ', 'NN', '.']\",\n",
       "        \"['NNP', 'VBZ', 'DT', 'JJ', 'NN', 'IN', 'DT', 'NN', 'NN', 'IN', 'PRP$', 'JJ', 'NN', '.']\",\n",
       "        \"['NNP', 'VBZ', 'DT', 'NN', 'IN', 'DT', 'NN', 'IN', 'PRP$', 'JJ', 'NN', '.']\",\n",
       "        \"['NNP', 'VBZ', 'DT', 'NN', 'IN', 'DT', 'NN', 'IN', 'DT', 'NN']\",\n",
       "        \"['NNP', 'VBZ', 'DT', 'NN', 'IN', 'DT', 'NN', 'IN', 'JJ', 'NN', '.']\",\n",
       "        \"['NNP', 'VBZ', 'DT', 'NN', 'IN', 'DT', 'NN', 'IN', 'JJ', 'NN', '.']\",\n",
       "        \"['NNP', 'VBZ', 'DT', 'NN', 'IN', 'DT', 'NN']\",\n",
       "        \"['NNP', 'VBZ', 'DT', 'JJ', 'NN', 'IN', 'DT', 'NN', 'IN', 'JJ', 'NN', '.']\",\n",
       "        \"['NNP', 'VBZ', 'DT', 'NN', 'IN', 'DT', 'NN', 'IN', 'JJ', 'NN', '.']\",\n",
       "        \"['NNP', 'VBZ', 'DT', 'NN', 'IN', 'DT', 'NN', 'IN', 'JJ', 'NN', '.']\",\n",
       "        \"['NNP', 'VBZ', 'DT', 'NN', 'IN', 'DT', 'NN', 'IN', 'JJ', 'NN', '.']\",\n",
       "        \"['NNP', 'VBZ', 'DT', 'NN', 'IN', 'DT', 'NN', 'IN', 'JJ', 'NN', '.']\",\n",
       "        \"['NNP', 'VBZ', 'DT', 'NN', 'IN', 'PRP$', 'JJ', 'NN', '.']\",\n",
       "        \"['NNP', 'VBZ', 'DT', 'NN', 'IN', 'PRP$', 'JJ', 'NN', '.']\",\n",
       "        \"['NNP', 'VBZ', 'DT', 'NN', 'IN', 'DT', 'NNP', 'NNP', '.']\",\n",
       "        \"['NNP', 'VBZ', 'DT', 'NN', 'IN', 'DT', 'NN', 'NN', 'IN', 'JJ', 'NN', '.']\",\n",
       "        \"['NNP', 'VBZ', 'DT', 'NN', 'IN', 'DT', 'JJ', 'IN', 'JJ', 'NN', '.']\",\n",
       "        \"['NNP', 'VBZ', 'DT', 'NN', 'IN', 'DT', 'JJ', 'IN', 'JJ', 'NN', '.']\",\n",
       "        \"['NNP', 'VBZ', 'DT', 'NN', 'NN', '.']\",\n",
       "        \"['NNP', 'VBZ', 'DT', 'NN', 'NN', '.']\",\n",
       "        \"['NNP', 'VBZ', 'DT', 'NNP', 'NNP', '.']\",\n",
       "        \"['NNP', 'VBZ', 'DT', 'NN', 'NN', '.']\",\n",
       "        \"['NNP', 'VBZ', 'DT', 'NN', 'VBG', 'NN', '.']\",\n",
       "        \"['NNP', 'VBZ', 'DT', 'NNS', 'IN', 'DT', 'NN', 'IN', 'PRP$', 'JJ', 'NN', '.']\",\n",
       "        \"['NNP', 'VBZ', 'DT', 'NNS', 'IN', 'DT', 'NN', 'IN', 'PRP$', 'JJ', 'NN', '.']\",\n",
       "        \"['NNP', 'VBZ', 'DT', 'NN', 'NN', 'IN', 'DT', 'NN']\",\n",
       "        \"['NNP', 'VBZ', 'DT', 'JJ', 'NN', 'IN', 'DT', 'NN', 'IN', 'DT', 'NNS']\",\n",
       "        \"['NNP', 'VBZ', 'NN', 'NNS', 'IN', 'NN', 'IN', 'PRP']\",\n",
       "        \"['NNP', 'VBZ', 'DT', 'NN', 'NN', 'IN', 'NN', 'IN', 'PRP']\",\n",
       "        \"['NNP', 'VBZ', 'DT', 'NN', 'NN', 'IN', 'PRP$', 'JJ', 'NN', 'IN', 'PRP$', 'JJ', 'NN', '.']\",\n",
       "        \"['NNP', 'VBZ', 'DT', 'NN', 'NN', 'IN', 'DT', 'NN', 'IN', 'PRP$', 'JJ', 'NN', '.']\",\n",
       "        \"['NNP', 'VBZ', 'DT', 'NN']\", \"['NNP', 'VBZ', 'DT', 'NN', 'NN']\",\n",
       "        \"['NNP', 'VBZ', 'DT', 'NN', 'NN']\",\n",
       "        \"['NNP', 'VBZ', 'DT', 'NN', 'NN']\", \"['NNP', 'VBZ']\",\n",
       "        \"['NNP', 'VBZ', 'DT', 'NN', 'NN']\",\n",
       "        \"['NNP', 'VBZ', 'DT', 'NN', 'NN', 'NN']\",\n",
       "        \"['NNP', 'VBZ', 'DT', 'JJ', 'NN']\",\n",
       "        \"['NNP', 'VBZ', 'DT', 'NN', 'IN', 'NN']\",\n",
       "        \"['NNP', 'VBZ', 'DT', 'NN', 'IN', 'NN']\",\n",
       "        \"['NNP', 'VBZ', 'DT', 'NN', 'JJ', 'NN']\",\n",
       "        \"['NNP', 'VBZ', 'DT', 'NN', 'VBN', 'NN']\",\n",
       "        \"['NNP', 'VB', 'DT', 'NN', 'IN', 'JJ', 'NN']\",\n",
       "        \"['NNP', 'VB', 'DT', 'NN', 'IN', 'JJ', 'NN']\",\n",
       "        \"['NNP', 'VBZ', 'DT', 'JJ', 'JJ', 'NN', 'IN', 'DT', 'NN']\",\n",
       "        \"['NNP', 'VBZ', 'DT', 'JJ', 'JJ', 'NN', 'IN', 'DT', 'NN']\",\n",
       "        \"['NNP', 'VBZ', 'DT', 'NN', 'NN', 'IN', 'DT', 'NN']\",\n",
       "        \"['NNP', 'VBZ', 'DT', 'NN', 'NN', 'IN', 'DT', 'NN']\",\n",
       "        \"['NNP', 'VBZ', 'NNS', 'IN', 'DT', 'NN']\",\n",
       "        \"['NNP', 'VBZ', 'NN', 'NN', 'IN', 'DT', 'NN']\",\n",
       "        \"['NNP', 'VBZ', 'DT', 'NN', 'VBN', 'NN']\",\n",
       "        \"['NNP', 'VBZ', 'DT', 'NN', 'VBN', 'NN']\",\n",
       "        \"['NNP', 'VBZ', 'DT', 'JJ', 'JJ', 'NN', 'IN', 'DT', 'NN']\",\n",
       "        \"['NNP', 'VBZ', 'NNS', 'IN', 'DT', 'NN']\",\n",
       "        \"['NNP', 'VBZ', 'NN', 'NN', 'IN', 'DT', 'NN']\",\n",
       "        \"['NNP', 'VBZ', 'DT', 'NN', 'VBN', 'NN']\",\n",
       "        \"['NNP', 'VBZ', 'DT', 'NN', 'JJ', 'NN']\",\n",
       "        \"['NNP', 'VBZ', 'DT', 'JJ', 'JJ', 'NN', 'IN', 'DT', 'NN']\",\n",
       "        \"['NNP', 'VBZ', 'DT', 'NN', 'IN', 'DT', 'VBG', 'NN', '.']\",\n",
       "        \"['NNP', 'VBZ', 'DT', 'NN', 'IN', 'DT', 'VBG', 'NN', '.']\",\n",
       "        \"['NNP', 'VBZ', 'DT', 'NN', 'NN', 'NN', 'IN', 'DT', 'NN', '.']\",\n",
       "        \"['NNP', 'VBZ', 'DT', 'NN', 'IN', 'DT', 'NN', 'NN', '.']\",\n",
       "        \"['NNP', 'VBZ', 'DT', 'NN', 'IN', 'DT', 'NN', 'NN', '.']\",\n",
       "        \"['NNP', 'VBZ', 'DT', 'NN', 'IN', 'DT', 'NN']\",\n",
       "        \"['NNP', 'VBZ', 'DT', 'NN', 'IN', 'IN', 'DT', 'NN', 'IN', 'DT', 'NN', '.']\",\n",
       "        \"['NNP', 'VBZ', 'PRP', 'JJ', 'NN', 'IN', 'DT', 'NN', 'NN', '.']\",\n",
       "        \"['NNP', 'VBZ', 'PRP$', 'NN', 'IN', 'DT', 'NN', '.']\",\n",
       "        \"['NNP', 'VBZ', 'PRP', 'JJ', 'NN', 'IN', 'DT', 'NN', 'NN', '.']\",\n",
       "        \"['NNP', 'VBZ', 'PRP', 'JJ', 'NN', 'IN', 'DT', 'NN', 'NN', '.']\",\n",
       "        \"['NNP', 'VBZ', 'DT', 'NN', 'IN', 'NN', 'IN', 'DT', 'NN', '.']\",\n",
       "        \"['NNP', 'VBZ', 'DT', 'NN', 'IN', 'NN', 'IN', 'DT', 'NN', '.']\",\n",
       "        \"['NNP', 'VBZ', 'DT', 'NN', 'IN', 'NN', 'IN', 'DT', 'NN', '.']\",\n",
       "        \"['NNP', 'VBZ', 'NN', 'IN', 'JJ', 'NN']\",\n",
       "        \"['NNP', 'VBZ', 'DT', 'NN', 'IN', 'DT', 'JJ', 'NN']\",\n",
       "        \"['NNP', 'VBZ', 'NN', 'IN', 'NN', 'NNP']\",\n",
       "        \"['NNP', 'VBZ', 'NNP', 'NNP']\",\n",
       "        \"['NNP', 'VBZ', 'DT', 'NN', 'IN', 'JJ', 'NN']\",\n",
       "        \"['NNP', 'VBZ', 'NN']\", \"['NNP', 'VBZ', 'NN', 'IN', 'JJ', 'NN']\",\n",
       "        \"['NNP', 'VBZ', 'NN', 'IN', 'NN', 'IN', 'DT', 'NNS']\",\n",
       "        \"['NNP', 'VBZ', 'NN', 'IN', 'NN']\",\n",
       "        \"['NNP', 'VBZ', 'NN', 'NN', 'IN', 'JJ', 'NN', 'IN', 'JJ', 'NN']\",\n",
       "        \"['NNP', 'VBZ', 'NN', 'NN', 'IN', 'JJ', 'NN', 'IN', 'JJ', 'NN']\",\n",
       "        \"['NNP', 'VBZ', 'NN', 'NN', 'IN', 'JJ', 'NN', 'IN', 'JJ', 'NN']\",\n",
       "        \"['NNP', 'VBZ', 'DT', 'NN', 'IN', 'NN', 'IN', 'DT', 'NN']\",\n",
       "        \"['NNP', 'VBZ', 'DT', 'NN', 'NN', 'IN', 'DT', 'NN']\",\n",
       "        \"['NNP', 'VBZ', 'DT', 'NN', 'IN', 'DT', 'NN', 'CC', 'VBZ', 'PRP', 'RB']\",\n",
       "        \"['NNP', 'VBZ', 'DT', 'NN', 'NN', 'IN', 'DT', 'NN']\",\n",
       "        \"['NNP', 'VBZ', 'DT', 'NN', 'NN', 'IN', 'DT', 'NN']\",\n",
       "        \"['NNP', 'VBZ', 'DT', 'NN', 'NN', 'IN', 'DT', 'NN']\",\n",
       "        \"['NNP', 'VBZ', 'DT', 'NN', 'NN', 'IN', 'DT', 'NN']\"], dtype=object),\n",
       " 'dep_masks': array([\"['nsubj', 'ROOT', 'det', 'compound', 'dobj']\",\n",
       "        \"['nsubj', 'ROOT', 'det', 'dobj']\",\n",
       "        \"['nsubj', 'ROOT', 'det', 'dobj', 'prep', 'det', 'compound', 'pobj']\",\n",
       "        \"['nsubj', 'ROOT', 'det', 'dobj', 'prep', 'det', 'compound', 'pobj']\",\n",
       "        \"['nsubj', 'ROOT', 'det', 'dobj', 'prep', 'det', 'compound', 'pobj']\",\n",
       "        \"['nsubj', 'ROOT', 'det', 'dobj', 'prep', 'det', 'compound', 'pobj']\",\n",
       "        \"['nsubj', 'ROOT', 'det', 'dobj', 'prep', 'det', 'compound', 'pobj']\",\n",
       "        \"['nsubj', 'ROOT', 'det', 'dobj', 'prep', 'det', 'compound', 'pobj']\",\n",
       "        \"['nsubj', 'ROOT', 'det', 'dobj', 'prep', 'det', 'compound', 'pobj']\",\n",
       "        \"['nsubj', 'ROOT', 'det', 'dobj', 'prep', 'det', 'compound', 'pobj']\",\n",
       "        \"['nsubj', 'ROOT', 'det', 'dobj']\",\n",
       "        \"['nsubj', 'ROOT', 'det', 'dobj']\",\n",
       "        \"['nsubj', 'ROOT', 'det', 'dobj']\",\n",
       "        \"['compound', 'nsubj', 'ROOT', 'det', 'dobj']\",\n",
       "        \"['nsubj', 'ROOT', 'det', 'dobj', 'prep', 'det', 'pobj']\",\n",
       "        \"['nsubj', 'ROOT', 'compound', 'dobj']\",\n",
       "        \"['nsubj', 'ROOT', 'compound', 'dobj']\",\n",
       "        \"['nsubj', 'ROOT', 'compound', 'dobj']\",\n",
       "        \"['nsubj', 'ROOT', 'compound', 'dobj']\",\n",
       "        \"['nsubj', 'ROOT', 'det', 'dobj']\",\n",
       "        \"['nsubj', 'ROOT', 'compound', 'dobj']\",\n",
       "        \"['nsubj', 'ROOT', 'det', 'dobj']\",\n",
       "        \"['nsubj', 'ROOT', 'det', 'dobj']\",\n",
       "        \"['nsubj', 'ROOT', 'det', 'dobj']\",\n",
       "        \"['nsubj', 'ROOT', 'det', 'dobj']\",\n",
       "        \"['nsubj', 'ROOT', 'det', 'dobj']\",\n",
       "        \"['nsubj', 'ROOT', 'det', 'dobj']\",\n",
       "        \"['nsubj', 'ROOT', 'det', 'dobj']\",\n",
       "        \"['nsubj', 'ROOT', 'compound', 'dobj']\",\n",
       "        \"['nsubj', 'ROOT', 'det', 'dobj']\",\n",
       "        \"['nsubj', 'ROOT', 'det', 'amod', 'dobj']\",\n",
       "        \"['nsubj', 'ROOT', 'det', 'dobj']\",\n",
       "        \"['nsubj', 'ROOT', 'det', 'dobj']\",\n",
       "        \"['nsubj', 'ROOT', 'amod', 'dobj']\",\n",
       "        \"['nsubj', 'ROOT', 'amod', 'dobj']\",\n",
       "        \"['nsubj', 'ROOT', 'det', 'dobj']\",\n",
       "        \"['nsubj', 'ROOT', 'det', 'compound', 'dobj']\",\n",
       "        \"['nsubj', 'ROOT', 'amod', 'compound', 'dobj']\",\n",
       "        \"['nsubj', 'ROOT', 'det', 'compound', 'dobj', 'punct']\",\n",
       "        \"['nsubj', 'ROOT', 'det', 'dobj', 'prep', 'det', 'pobj']\",\n",
       "        \"['nsubj', 'ROOT', 'det', 'amod', 'dobj', 'prep', 'det', 'pobj']\",\n",
       "        \"['nsubj', 'ROOT', 'det', 'dobj', 'prep', 'det', 'pobj']\",\n",
       "        \"['nsubj', 'ROOT', 'det', 'dobj', 'prep', 'det', 'pobj']\",\n",
       "        \"['nsubj', 'ROOT', 'det', 'dobj', 'prep', 'det', 'pobj']\",\n",
       "        \"['nsubj', 'ROOT', 'det', 'amod', 'dobj', 'prep', 'det', 'pobj']\",\n",
       "        \"['nsubj', 'ROOT', 'det', 'dobj', 'prep', 'poss', 'amod', 'pobj']\",\n",
       "        \"['nsubj', 'ROOT', 'det', 'compound', 'dobj', 'prep', 'det', 'pobj']\",\n",
       "        \"['nsubj', 'ROOT', 'det', 'dobj', 'prep', 'det', 'pobj']\",\n",
       "        \"['nsubj', 'ROOT', 'dobj', 'prep', 'det', 'pobj']\",\n",
       "        \"['nsubj', 'ROOT', 'det', 'compound', 'dobj', 'prep', 'det', 'pobj']\",\n",
       "        \"['nsubj', 'ROOT', 'det', 'dobj', 'prep', 'det', 'pobj']\",\n",
       "        \"['nsubj', 'ROOT', 'det', 'dobj', 'prep', 'det', 'compound', 'pobj', 'prep', 'det', 'pobj']\",\n",
       "        \"['nsubj', 'ROOT', 'det', 'compound', 'dobj', 'prep', 'det', 'compound', 'compound', 'pobj']\",\n",
       "        \"['nsubj', 'ROOT', 'dobj']\",\n",
       "        \"['nsubj', 'ROOT', 'compound', 'compound', 'compound', 'compound', 'dobj']\",\n",
       "        \"['nsubj', 'ROOT', 'det', 'dobj', 'prep', 'det', 'pobj']\",\n",
       "        \"['nsubj', 'ROOT', 'det', 'dobj', 'prep', 'det', 'pobj']\",\n",
       "        \"['nsubj', 'ROOT', 'compound', 'dobj', 'cc', 'conj', 'compound', 'compound', 'punct', 'npadvmod', 'prep', 'det', 'pobj']\",\n",
       "        \"['nsubj', 'ROOT', 'nummod', 'dobj', 'prep', 'det', 'pobj']\",\n",
       "        \"['nsubj', 'ROOT', 'nummod', 'amod', 'compound', 'dobj', 'prep', 'det', 'pobj']\",\n",
       "        \"['nsubj', 'ROOT', 'det', 'dobj', 'prep', 'det', 'pobj']\",\n",
       "        \"['nsubj', 'ROOT', 'det', 'compound', 'dobj', 'prep', 'det', 'pobj', 'prep', 'poss', 'amod', 'pobj']\",\n",
       "        \"['nsubj', 'ROOT', 'det', 'compound', 'dobj', 'prep', 'poss', 'amod', 'pobj']\",\n",
       "        \"['nsubj', 'ROOT', 'compound', 'dobj', 'prep', 'poss', 'amod', 'pobj']\",\n",
       "        \"['nsubj', 'ROOT', 'nummod', 'dobj', 'prep', 'det', 'pobj']\",\n",
       "        \"['nsubj', 'ROOT', 'det', 'nummod', 'dobj', 'prep', 'poss', 'amod', 'pobj']\",\n",
       "        \"['nsubj', 'ROOT', 'det', 'dobj', 'prep', 'det', 'pobj']\",\n",
       "        \"['nsubj', 'ROOT', 'det', 'dobj', 'prep', 'poss', 'amod', 'pobj']\",\n",
       "        \"['nsubj', 'ROOT', 'det', 'dobj', 'prep', 'det', 'compound', 'pobj']\",\n",
       "        \"['nsubj', 'ROOT', 'det', 'compound', 'dobj', 'prep', 'det', 'pobj']\",\n",
       "        \"['nsubj', 'ROOT', 'det', 'dobj', 'prep', 'pobj']\",\n",
       "        \"['nsubj', 'ROOT', 'det', 'dobj', 'prep', 'det', 'compound', 'pobj', 'punct']\",\n",
       "        \"['nsubj', 'ROOT', 'det', 'dobj', 'prep', 'det', 'compound', 'pobj', 'punct']\",\n",
       "        \"['nsubj', 'ROOT', 'det', 'dobj', 'prep', 'det', 'pobj', 'punct']\",\n",
       "        \"['nsubj', 'ROOT', 'det', 'dobj', 'prep', 'det', 'pobj', 'punct']\",\n",
       "        \"['nsubj', 'ROOT', 'det', 'dobj', 'prep', 'det', 'pobj', 'punct']\",\n",
       "        \"['nsubj', 'ROOT', 'det', 'dobj', 'prep', 'det', 'pobj', 'punct']\",\n",
       "        \"['nsubj', 'ROOT', 'det', 'dobj', 'prep', 'det', 'pobj', 'punct']\",\n",
       "        \"['nsubj', 'ROOT', 'det', 'dobj', 'prep', 'det', 'pobj', 'punct']\",\n",
       "        \"['nsubj', 'ROOT', 'det', 'dobj', 'prep', 'det', 'pobj', 'punct']\",\n",
       "        \"['nsubj', 'ROOT', 'det', 'dobj', 'prep', 'det', 'pobj', 'punct']\",\n",
       "        \"['nsubj', 'ROOT', 'det', 'dobj', 'prep', 'det', 'compound', 'pobj', 'punct']\",\n",
       "        \"['nsubj', 'ROOT', 'det', 'dobj', 'prep', 'det', 'compound', 'pobj', 'punct']\",\n",
       "        \"['nsubj', 'ROOT', 'det', 'dobj', 'prep', 'det', 'compound', 'pobj', 'punct']\",\n",
       "        \"['nsubj', 'ROOT', 'det', 'dobj', 'prep', 'det', 'compound', 'pobj', 'punct']\",\n",
       "        \"['nsubj', 'ROOT', 'det', 'dobj', 'prep', 'det', 'compound', 'pobj', 'punct']\",\n",
       "        \"['nsubj', 'ROOT', 'det', 'dobj', 'prep', 'det', 'compound', 'pobj', 'punct']\",\n",
       "        \"['nsubj', 'ROOT', 'det', 'dobj', 'prep', 'det', 'compound', 'pobj', 'punct']\",\n",
       "        \"['nsubj', 'ROOT', 'det', 'dobj', 'prep', 'det', 'pobj', 'punct']\",\n",
       "        \"['nsubj', 'ROOT', 'dobj', 'prep', 'det', 'pobj', 'punct']\",\n",
       "        \"['nsubj', 'ROOT', 'dobj', 'prep', 'det', 'pobj', 'punct']\",\n",
       "        \"['nsubj', 'ROOT', 'det', 'compound', 'dobj', 'prep', 'det', 'pobj', 'punct']\",\n",
       "        \"['nsubj', 'ROOT', 'det', 'dobj', 'prep', 'det', 'pobj', 'punct']\",\n",
       "        \"['nsubj', 'ROOT', 'dobj', 'prep', 'det', 'pobj', 'prep', 'det', 'compound', 'pobj', 'punct']\",\n",
       "        \"['nsubj', 'ROOT', 'dobj', 'prep', 'det', 'pobj', 'prep', 'det', 'compound', 'pobj', 'punct']\",\n",
       "        \"['nsubj', 'ROOT', 'dobj', 'prep', 'det', 'pobj', 'prep', 'det', 'compound', 'pobj', 'punct']\",\n",
       "        \"['nsubj', 'ROOT', 'dobj', 'prep', 'det', 'pobj', 'prep', 'pobj', 'prep', 'det', 'amod', 'pobj', 'punct']\",\n",
       "        \"['nsubj', 'ROOT', 'dobj', 'prep', 'det', 'pobj', 'prep', 'pobj', 'prep', 'det', 'pobj', 'prep', 'poss', 'amod', 'pobj', 'punct']\",\n",
       "        \"['nsubj', 'ROOT', 'det', 'dobj', 'prep', 'det', 'compound', 'pobj']\",\n",
       "        \"['nsubj', 'ROOT', 'det', 'dobj', 'prep', 'det', 'compound', 'pobj']\",\n",
       "        \"['nsubj', 'ROOT', 'det', 'dobj', 'prep', 'det', 'compound', 'pobj']\",\n",
       "        \"['nsubj', 'ROOT', 'det', 'compound', 'dobj', 'prep', 'det', 'pobj']\",\n",
       "        \"['nsubj', 'ROOT', 'dobj', 'prep', 'det', 'compound', 'pobj']\",\n",
       "        \"['nsubj', 'ROOT', 'dobj']\", \"['nsubj', 'ROOT', 'dobj']\",\n",
       "        \"['nsubj', 'ROOT', 'dobj']\", \"['nsubj', 'ROOT', 'dobj']\",\n",
       "        \"['nsubj', 'ROOT', 'prep', 'pobj']\",\n",
       "        \"['nsubj', 'ROOT', 'det', 'dobj']\", \"['nsubj', 'ROOT', 'dobj']\",\n",
       "        \"['nsubj', 'ROOT', 'det', 'dobj']\",\n",
       "        \"['nsubj', 'ROOT', 'det', 'dobj']\",\n",
       "        \"['nsubj', 'ROOT', 'det', 'dobj', 'advcl', 'prep', 'det', 'pobj', 'prep', 'det', 'compound', 'pobj']\",\n",
       "        \"['nsubj', 'ROOT', 'det', 'compound', 'dobj', 'prep', 'nummod', 'compound', 'pobj', 'prep', 'det', 'pobj', 'prep', 'poss', 'amod', 'pobj']\",\n",
       "        \"['nsubj', 'ROOT', 'dobj', 'prep', 'det', 'compound', 'pobj', 'prep', 'pobj']\",\n",
       "        \"['nsubj', 'ROOT', 'poss', 'dobj', 'prep', 'det', 'pobj', 'prep', 'det', 'compound', 'pobj']\",\n",
       "        \"['nsubj', 'ROOT', 'det', 'dobj', 'prep', 'det', 'compound', 'pobj']\",\n",
       "        \"['nsubj', 'ROOT', 'det', 'dobj', 'prep', 'det', 'pobj']\",\n",
       "        \"['nsubj', 'ROOT', 'det', 'dobj', 'prep', 'det', 'pobj', 'prep', 'det', 'compound', 'pobj']\",\n",
       "        \"['nsubj', 'ROOT', 'det', 'dobj', 'prep', 'det', 'pobj', 'prep', 'det', 'compound', 'pobj']\",\n",
       "        \"['nsubj', 'ROOT', 'dobj', 'prep', 'det', 'amod', 'pobj']\",\n",
       "        \"['nsubj', 'ROOT', 'dobj', 'prep', 'det', 'amod', 'pobj']\",\n",
       "        \"['nsubj', 'ROOT', 'dobj', 'prep', 'det', 'amod', 'pobj']\",\n",
       "        \"['nsubj', 'ROOT', 'dobj', 'prep', 'det', 'amod', 'pobj']\",\n",
       "        \"['nsubj', 'ROOT', 'dobj', 'prep', 'det', 'amod', 'pobj']\",\n",
       "        \"['nsubj', 'ROOT', 'dobj', 'prep', 'det', 'amod', 'pobj']\",\n",
       "        \"['nsubj', 'ROOT', 'dobj', 'prep', 'det', 'amod', 'pobj']\",\n",
       "        \"['nsubj', 'ROOT', 'dobj', 'prep', 'det', 'amod', 'pobj']\",\n",
       "        \"['nsubj', 'ROOT', 'dobj', 'prep', 'det', 'amod', 'pobj']\",\n",
       "        \"['nsubj', 'ROOT', 'dobj', 'prep', 'det', 'amod', 'pobj']\",\n",
       "        \"['nsubj', 'ROOT', 'dobj', 'prep', 'det', 'amod', 'pobj']\",\n",
       "        \"['nsubj', 'ROOT', 'det', 'dobj', 'prep', 'det', 'pobj', 'punct']\",\n",
       "        \"['nsubj', 'ROOT', 'det', 'dobj', 'prep', 'det', 'pobj', 'punct']\",\n",
       "        \"['nsubj', 'ROOT', 'dobj', 'prep', 'det', 'compound', 'pobj']\",\n",
       "        \"['nsubj', 'ROOT', 'dobj', 'prep', 'det', 'compound', 'pobj']\",\n",
       "        \"['nsubj', 'ROOT', 'dobj', 'prep', 'det', 'compound', 'pobj']\",\n",
       "        \"['nsubj', 'ROOT', 'dobj', 'prep', 'det', 'compound', 'pobj']\",\n",
       "        \"['nsubj', 'ROOT', 'dobj', 'prep', 'det', 'compound', 'pobj']\",\n",
       "        \"['nsubj', 'ROOT', 'dobj', 'prep', 'det', 'compound', 'pobj']\",\n",
       "        \"['nsubj', 'ROOT', 'dobj', 'prep', 'det', 'compound', 'pobj']\",\n",
       "        \"['nsubj', 'ROOT', 'dobj', 'prep', 'det', 'compound', 'pobj']\",\n",
       "        \"['nsubj', 'ROOT', 'dobj', 'prep', 'det', 'compound', 'pobj']\",\n",
       "        \"['nsubj', 'ROOT', 'dobj', 'prep', 'det', 'compound', 'pobj', 'advcl', 'det', 'compound', 'dobj']\",\n",
       "        \"['nsubj', 'ROOT', 'dobj', 'prep', 'det', 'compound', 'pobj', 'advcl', 'det', 'compound', 'dobj']\",\n",
       "        \"['nsubj', 'ROOT', 'dobj', 'prep', 'det', 'compound', 'pobj', 'advcl', 'det', 'compound', 'dobj']\",\n",
       "        \"['nsubj', 'ROOT', 'dobj', 'prep', 'det', 'compound', 'pobj', 'advcl', 'det', 'compound', 'dobj']\",\n",
       "        \"['nsubj', 'ROOT', 'dobj', 'prep', 'det', 'compound', 'pobj', 'advcl', 'det', 'compound', 'dobj']\",\n",
       "        \"['nsubj', 'ROOT', 'dobj', 'prep', 'det', 'compound', 'pobj', 'advcl', 'det', 'compound', 'dobj']\",\n",
       "        \"['nsubj', 'ROOT', 'dobj', 'prep', 'det', 'compound', 'pobj', 'advcl', 'det', 'compound', 'dobj']\",\n",
       "        \"['nsubj', 'ROOT', 'dobj', 'prep', 'det', 'compound', 'pobj', 'advcl', 'det', 'compound', 'dobj']\",\n",
       "        \"['compound', 'dep', 'nsubj', 'ROOT', 'dobj', 'prep', 'det', 'compound', 'pobj', 'advcl', 'det', 'compound', 'dobj']\",\n",
       "        \"['nsubj', 'ROOT', 'compound', 'compound', 'dobj']\",\n",
       "        \"['nsubj', 'ROOT', 'compound', 'compound', 'dobj']\",\n",
       "        \"['nsubj', 'ROOT', 'det', 'dobj', 'prep', 'amod', 'pobj']\",\n",
       "        \"['nsubj', 'ROOT', 'prep', 'det', 'pobj']\",\n",
       "        \"['nsubj', 'ROOT', 'dobj', 'prep', 'det', 'pobj', 'prep', 'poss', 'amod', 'pobj']\",\n",
       "        \"['nsubj', 'ROOT', 'dobj', 'prep', 'det', 'pobj', 'prep', 'poss', 'amod', 'pobj', 'punct']\",\n",
       "        \"['nsubj', 'ROOT', 'dobj', 'prep', 'det', 'pobj', 'prep', 'poss', 'amod', 'pobj', 'punct']\",\n",
       "        \"['nsubj', 'ROOT', 'det', 'compound', 'dobj', 'punct']\",\n",
       "        \"['nsubj', 'ROOT', 'det', 'dobj', 'punct']\",\n",
       "        \"['nsubj', 'ROOT', 'det', 'dobj', 'punct']\",\n",
       "        \"['nsubj', 'ROOT', 'det', 'dobj', 'punct']\",\n",
       "        \"['nsubj', 'ROOT', 'det', 'dobj', 'punct']\",\n",
       "        \"['nsubj', 'ROOT', 'det', 'compound', 'dobj', 'punct']\",\n",
       "        \"['nsubj', 'ROOT', 'det', 'compound', 'dobj', 'punct']\",\n",
       "        \"['nsubj', 'ROOT', 'det', 'dobj', 'punct']\",\n",
       "        \"['nsubj', 'ROOT', 'det', 'dobj', 'punct']\",\n",
       "        \"['nsubj', 'ROOT', 'det', 'compound', 'dobj', 'punct']\",\n",
       "        \"['nsubj', 'ROOT', 'det', 'compound', 'dobj', 'punct']\",\n",
       "        \"['nsubj', 'ROOT', 'det', 'compound', 'dobj', 'punct']\",\n",
       "        \"['nsubj', 'ROOT', 'det', 'compound', 'dobj', 'punct']\",\n",
       "        \"['nsubj', 'ROOT', 'det', 'dobj', 'punct']\",\n",
       "        \"['nsubj', 'ROOT', 'det', 'dobj', 'punct']\",\n",
       "        \"['nsubj', 'ROOT', 'det', 'dobj', 'punct']\",\n",
       "        \"['nsubj', 'ROOT', 'det', 'dobj', 'punct']\",\n",
       "        \"['nsubj', 'ROOT', 'det', 'dobj', 'punct']\",\n",
       "        \"['nsubj', 'ROOT', 'det', 'dobj', 'punct']\",\n",
       "        \"['nsubj', 'ROOT', 'det', 'dobj', 'punct']\",\n",
       "        \"['nsubj', 'ROOT', 'det', 'dobj', 'punct']\",\n",
       "        \"['nsubj', 'ROOT', 'det', 'dobj', 'punct']\",\n",
       "        \"['nsubj', 'ROOT', 'det', 'compound', 'dobj', 'punct']\",\n",
       "        \"['nsubj', 'ROOT', 'det', 'compound', 'dobj', 'punct']\",\n",
       "        \"['nsubj', 'ROOT', 'det', 'dobj', 'punct']\",\n",
       "        \"['nsubj', 'ROOT', 'det', 'dobj', 'punct']\",\n",
       "        \"['nsubj', 'ROOT', 'det', 'dobj', 'punct']\",\n",
       "        \"['nsubj', 'ROOT', 'det', 'dobj', 'punct']\",\n",
       "        \"['nsubj', 'ROOT', 'det', 'dobj', 'cc', 'det', 'conj', 'punct']\",\n",
       "        \"['nsubj', 'ROOT', 'det', 'dobj', 'punct']\",\n",
       "        \"['nsubj', 'ROOT', 'det', 'dobj', 'punct']\",\n",
       "        \"['nsubj', 'ROOT', 'det', 'dobj', 'punct']\",\n",
       "        \"['nsubj', 'ROOT', 'det', 'dobj', 'prep', 'det', 'pobj']\",\n",
       "        \"['nsubj', 'ROOT', 'det', 'dobj', 'prep', 'det', 'pobj']\",\n",
       "        \"['nsubj', 'ROOT', 'det', 'dobj', 'prep', 'det', 'pobj']\",\n",
       "        \"['nsubj', 'ROOT', 'det', 'dobj', 'prep', 'det', 'pobj']\",\n",
       "        \"['nsubj', 'ROOT', 'det', 'dobj', 'prep', 'det', 'pobj']\",\n",
       "        \"['nsubj', 'ROOT', 'det', 'dobj', 'prep', 'det', 'pobj', 'prep', 'poss', 'amod', 'pobj']\",\n",
       "        \"['nsubj', 'ROOT', 'det', 'dobj', 'prep', 'det', 'pobj', 'punct']\",\n",
       "        \"['nsubj', 'ROOT', 'det', 'dobj', 'prep', 'det', 'pobj', 'punct']\",\n",
       "        \"['nsubj', 'ROOT', 'det', 'dobj', 'prep', 'det', 'pobj', 'punct']\",\n",
       "        \"['nsubj', 'ROOT', 'det', 'dobj', 'prep', 'det', 'pobj', 'prep', 'det', 'pobj', 'punct']\",\n",
       "        \"['nsubj', 'ROOT', 'det', 'dobj', 'prep', 'det', 'pobj']\",\n",
       "        \"['compound', 'nsubj', 'ROOT', 'det', 'dobj', 'prep', 'det', 'pobj']\",\n",
       "        \"['compound', 'nsubj', 'ROOT', 'det', 'dobj', 'prep', 'det', 'pobj', 'punct']\",\n",
       "        \"['compound', 'nsubj', 'ROOT', 'det', 'dobj', 'prep', 'det', 'pobj', 'punct']\",\n",
       "        \"['nsubj', 'ROOT', 'det', 'dobj', 'prep', 'det', 'pobj', 'prep', 'poss', 'amod', 'pobj', 'punct']\",\n",
       "        \"['compound', 'nsubj', 'ROOT', 'det', 'dobj', 'prep', 'det', 'pobj', 'punct']\",\n",
       "        \"['compound', 'nsubj', 'ROOT', 'poss', 'dobj', 'prep', 'det', 'pobj', 'punct']\",\n",
       "        \"['compound', 'nsubj', 'ROOT', 'poss', 'dobj', 'prep', 'det', 'pobj', 'punct']\",\n",
       "        \"['compound', 'nsubj', 'ROOT', 'poss', 'dobj', 'prep', 'det', 'pobj', 'punct']\",\n",
       "        \"['compound', 'nsubj', 'ROOT', 'det', 'dobj', 'prep', 'det', 'pobj', 'prep', 'det', 'pobj', 'punct']\",\n",
       "        \"['compound', 'nsubj', 'ROOT', 'det', 'dobj', 'prep', 'det', 'pobj', 'prep', 'det', 'pobj', 'punct']\",\n",
       "        \"['compound', 'nsubj', 'ROOT', 'det', 'dobj', 'prep', 'det', 'pobj', 'punct']\",\n",
       "        \"['nsubj', 'ROOT', 'det', 'dobj', 'prep', 'det', 'pobj', 'punct']\",\n",
       "        \"['nsubj', 'ROOT', 'nummod', 'dobj', 'advmod', 'prep', 'det', 'compound', 'pobj']\",\n",
       "        \"['nsubj', 'ROOT', 'det', 'dobj', 'prep', 'det', 'compound', 'pobj', 'prep', 'det', 'compound', 'pobj', 'prep', 'poss', 'amod', 'pobj', 'punct']\",\n",
       "        \"['nsubj', 'ROOT', 'det', 'dative', 'dobj', 'prep', 'poss', 'amod', 'amod', 'pobj', 'prep', 'poss', 'amod', 'amod', 'pobj', 'punct']\",\n",
       "        \"['nsubj', 'ROOT', 'det', 'amod', 'dobj', 'prep', 'pcomp', 'dobj', 'prep', 'det', 'compound', 'pobj', 'prep', 'poss', 'amod', 'pobj', 'punct']\",\n",
       "        \"['nsubj', 'ROOT', 'det', 'amod', 'dobj', 'prep', 'pobj', 'prep', 'poss', 'pobj', 'amod', 'pobj', 'prep', 'poss', 'amod', 'amod', 'pobj', 'punct']\",\n",
       "        \"['nsubj', 'ROOT', 'det', 'dobj', 'prep', 'pobj', 'prep', 'poss', 'pobj', 'amod', 'pobj', 'prep', 'poss', 'amod', 'amod', 'pobj', 'punct']\",\n",
       "        \"['nsubj', 'ROOT', 'det', 'dobj', 'prep', 'pobj', 'prep', 'poss', 'pobj', 'amod', 'pobj', 'prep', 'poss', 'amod', 'amod', 'pobj', 'punct']\",\n",
       "        \"['nsubj', 'ROOT', 'det', 'dobj', 'prep', 'pobj', 'prep', 'poss', 'pobj', 'amod', 'pobj', 'prep', 'poss', 'amod', 'amod', 'pobj', 'punct']\",\n",
       "        \"['nsubj', 'ROOT', 'det', 'dobj', 'prep', 'pobj', 'prep', 'poss', 'pobj', 'amod', 'pobj', 'prep', 'poss', 'amod', 'amod', 'pobj', 'punct']\",\n",
       "        \"['nsubj', 'ROOT', 'det', 'dobj', 'prep', 'pobj', 'prep', 'poss', 'pobj', 'amod', 'pobj', 'prep', 'poss', 'amod', 'amod', 'pobj', 'punct']\",\n",
       "        \"['nsubj', 'ROOT', 'det', 'dobj', 'prep', 'pobj', 'prep', 'poss', 'pobj', 'amod', 'pobj', 'prep', 'poss', 'amod', 'amod', 'pobj', 'punct']\",\n",
       "        \"['nsubj', 'ROOT', 'det', 'dobj', 'prep', 'pobj', 'prep', 'poss', 'pobj', 'amod', 'pobj', 'prep', 'poss', 'amod', 'amod', 'pobj', 'punct']\",\n",
       "        \"['nsubj', 'ROOT', 'det', 'dobj', 'prep', 'pobj', 'prep', 'poss', 'pobj', 'amod', 'pobj', 'prep', 'poss', 'amod', 'amod', 'pobj', 'punct']\",\n",
       "        \"['nsubj', 'ROOT', 'det', 'dobj', 'prep', 'pobj', 'prep', 'poss', 'pobj', 'amod', 'pobj', 'prep', 'poss', 'amod', 'amod', 'pobj', 'punct']\",\n",
       "        \"['nsubj', 'ROOT', 'det', 'dobj', 'prep', 'det', 'pobj', 'advmod', 'prep', 'det', 'pobj', 'prep', 'det', 'pobj', 'prep', 'poss', 'amod', 'amod', 'pobj', 'punct']\",\n",
       "        \"['nsubj', 'ROOT', 'det', 'dobj', 'prep', 'pobj', 'prep', 'det', 'pobj', 'prep', 'poss', 'amod', 'amod', 'pobj', 'punct']\",\n",
       "        \"['nsubj', 'ROOT', 'det', 'dobj', 'prep', 'det', 'pobj', 'prep', 'pobj', 'prep', 'poss', 'amod', 'amod', 'pobj', 'punct']\",\n",
       "        \"['nsubj', 'ROOT', 'det', 'dobj', 'prep', 'poss', 'amod', 'amod', 'pobj', 'prep', 'poss', 'amod', 'amod', 'pobj', 'punct']\",\n",
       "        \"['nsubj', 'ROOT', 'det', 'amod', 'dobj', 'prep', 'poss', 'amod', 'amod', 'pobj', 'prep', 'poss', 'amod', 'amod', 'pobj', 'punct']\",\n",
       "        \"['nsubj', 'ROOT', 'det', 'dobj', 'prep', 'det', 'pobj', 'prep', 'poss', 'amod', 'pobj', 'punct']\",\n",
       "        \"['nsubj', 'ROOT', 'det', 'dobj', 'prep', 'det', 'pobj', 'prep', 'det', 'pobj', 'prep', 'poss', 'amod', 'pobj', 'punct']\",\n",
       "        \"['nsubj', 'ROOT', 'det', 'dobj', 'prep', 'pobj', 'prep', 'det', 'pobj', 'prep', 'poss', 'amod', 'amod', 'pobj', 'punct']\",\n",
       "        \"['nsubj', 'ROOT', 'det', 'dobj', 'prep', 'det', 'pobj', 'prep', 'det', 'pobj', 'prep', 'poss', 'amod', 'amod', 'pobj', 'punct']\",\n",
       "        \"['nsubj', 'ROOT', 'det', 'dobj', 'prep', 'poss', 'amod', 'amod', 'pobj', 'prep', 'poss', 'amod', 'amod', 'pobj', 'punct']\",\n",
       "        \"['nsubj', 'ROOT', 'det', 'dobj', 'prep', 'det', 'pobj', 'prep', 'poss', 'amod', 'amod', 'pobj', 'punct']\",\n",
       "        \"['nsubj', 'ROOT', 'det', 'dobj', 'prep', 'pobj', 'prep', 'det', 'pobj', 'prep', 'poss', 'amod', 'amod', 'pobj', 'punct']\",\n",
       "        \"['nsubj', 'ROOT', 'det', 'dobj', 'prep', 'pobj', 'prep', 'det', 'pobj', 'prep', 'poss', 'amod', 'amod', 'pobj', 'punct']\",\n",
       "        \"['nsubj', 'ROOT', 'det', 'dobj', 'prep', 'pobj', 'prep', 'det', 'pobj', 'prep', 'poss', 'amod', 'amod', 'pobj', 'punct']\",\n",
       "        \"['nsubj', 'ROOT', 'det', 'dobj', 'prep', 'pobj', 'prep', 'det', 'pobj', 'prep', 'poss', 'amod', 'amod', 'pobj', 'punct']\",\n",
       "        \"['nsubj', 'ROOT', 'det', 'dobj', 'prep', 'pobj', 'prep', 'det', 'pobj', 'prep', 'poss', 'amod', 'amod', 'pobj', 'punct']\",\n",
       "        \"['nsubj', 'ROOT', 'det', 'dobj', 'prep', 'pobj', 'prep', 'det', 'pobj', 'prep', 'poss', 'amod', 'amod', 'pobj', 'punct']\",\n",
       "        \"['nsubj', 'ROOT', 'det', 'dobj', 'prep', 'det', 'pobj', 'prep', 'det', 'pobj', 'prep', 'poss', 'amod', 'amod', 'pobj', 'punct']\",\n",
       "        \"['nsubj', 'ROOT', 'det', 'amod', 'dobj', 'prep', 'poss', 'pobj', 'amod', 'pobj', 'prep', 'poss', 'amod', 'amod', 'pobj', 'punct']\",\n",
       "        \"['nsubj', 'ROOT', 'det', 'dobj', 'prep', 'det', 'pobj', 'prep', 'det', 'pobj', 'prep', 'poss', 'amod', 'amod', 'pobj', 'punct']\",\n",
       "        \"['nsubj', 'ROOT', 'det', 'amod', 'dobj', 'prep', 'pobj', 'prep', 'poss', 'amod', 'amod', 'pobj', 'prep', 'poss', 'amod', 'amod', 'pobj', 'punct']\",\n",
       "        \"['nsubj', 'ROOT', 'det', 'amod', 'dobj', 'prep', 'pobj', 'prep', 'poss', 'amod', 'amod', 'pobj', 'prep', 'poss', 'amod', 'amod', 'pobj', 'punct']\",\n",
       "        \"['nsubj', 'ROOT', 'det', 'dobj', 'prep', 'compound', 'pobj', 'prep', 'prep', 'det', 'pobj', 'prep', 'poss', 'amod', 'amod', 'pobj', 'punct']\",\n",
       "        \"['nsubj', 'ROOT', 'det', 'dobj', 'prep', 'det', 'compound', 'pobj', 'prep', 'poss', 'amod', 'amod', 'pobj']\",\n",
       "        \"['nsubj', 'ROOT', 'det', 'dobj', 'prep', 'det', 'pobj', 'prep', 'poss', 'amod', 'amod', 'pobj', 'punct']\",\n",
       "        \"['nsubj', 'ROOT', 'det', 'dobj', 'prep', 'poss', 'amod', 'amod', 'pobj', 'prep', 'poss', 'amod', 'amod', 'pobj', 'punct']\",\n",
       "        \"['nsubj', 'ROOT', 'det', 'dobj', 'prep', 'prep', 'det', 'pobj', 'prep', 'pobj', 'prep', 'poss', 'amod', 'amod', 'pobj', 'punct']\",\n",
       "        \"['nsubj', 'ROOT', 'det', 'dobj', 'prep', 'det', 'pobj', 'prep', 'det', 'pobj', 'prep', 'pobj', 'prep', 'poss', 'amod', 'amod', 'pobj', 'punct']\",\n",
       "        \"['nsubj', 'ROOT', 'det', 'dobj', 'prep', 'det', 'pobj', 'prep', 'det', 'pobj', 'prep', 'pobj', 'prep', 'poss', 'amod', 'amod', 'pobj', 'punct']\",\n",
       "        \"['nsubj', 'ROOT', 'det', 'amod', 'dobj', 'prep', 'poss', 'amod', 'amod', 'pobj', 'prep', 'poss', 'amod', 'amod', 'pobj', 'punct']\",\n",
       "        \"['nsubj', 'ROOT', 'det', 'dobj', 'prep', 'det', 'compound', 'pobj', 'prep', 'poss', 'amod', 'amod', 'pobj', 'punct']\",\n",
       "        \"['nsubj', 'ROOT', 'det', 'dobj', 'prep', 'det', 'pobj', 'prep', 'det', 'pobj', 'prep', 'poss', 'amod', 'amod', 'pobj', 'punct']\",\n",
       "        \"['nsubj', 'ROOT', 'det', 'dobj', 'prep', 'det', 'pobj', 'prep', 'det', 'pobj', 'prep', 'poss', 'amod', 'amod', 'pobj', 'punct']\",\n",
       "        \"['nsubj', 'ROOT', 'det', 'dobj', 'prep', 'det', 'pobj', 'prep', 'det', 'pobj', 'prep', 'poss', 'amod', 'amod', 'pobj', 'punct']\",\n",
       "        \"['nsubj', 'ROOT', 'det', 'dobj', 'prep', 'det', 'pobj', 'prep', 'det', 'pobj', 'prep', 'poss', 'amod', 'amod', 'pobj', 'punct']\",\n",
       "        \"['nsubj', 'ROOT', 'det', 'dobj', 'prep', 'pobj', 'prep', 'det', 'pobj', 'prep', 'det', 'pobj', 'prep', 'poss', 'amod', 'amod', 'pobj', 'punct']\",\n",
       "        \"['nsubj', 'ROOT', 'dobj', 'prep', 'det', 'pobj', 'prep', 'det', 'pobj', 'prep', 'poss', 'amod', 'amod', 'pobj', 'punct']\",\n",
       "        \"['nsubj', 'ROOT', 'det', 'compound', 'dobj', 'prep', 'det', 'amod', 'pobj', 'punct']\",\n",
       "        \"['nsubj', 'ROOT', 'poss', 'amod', 'dobj', 'advmod', 'prep', 'det', 'amod', 'pobj']\",\n",
       "        \"['nsubj', 'ROOT', 'det', 'dobj', 'prep', 'det', 'pobj', 'punct']\",\n",
       "        \"['nsubj', 'ROOT', 'det', 'dobj', 'acl', 'prep', 'det', 'pobj', 'prep', 'poss', 'amod', 'pobj', 'punct']\",\n",
       "        \"['det', 'compound', 'nsubj', 'ROOT', 'det', 'compound', 'dobj', 'prep', 'pobj']\",\n",
       "        \"['nsubj', 'ROOT', 'det', 'compound', 'compound', 'dobj', 'prep', 'det', 'pobj', 'prep', 'poss', 'amod', 'pobj', 'punct']\",\n",
       "        \"['nsubj', 'ROOT', 'det', 'dobj']\",\n",
       "        \"['nsubj', 'ROOT', 'det', 'amod', 'dobj']\",\n",
       "        \"['nsubj', 'ROOT', 'det', 'dobj']\",\n",
       "        \"['nsubj', 'ROOT', 'det', 'dobj']\",\n",
       "        \"['nsubj', 'ROOT', 'det', 'dobj']\",\n",
       "        \"['nsubj', 'ROOT', 'det', 'dobj']\",\n",
       "        \"['nsubj', 'ROOT', 'det', 'dobj', 'prep', 'pobj']\",\n",
       "        \"['nsubj', 'ROOT', 'det', 'compound', 'dobj']\",\n",
       "        \"['nsubj', 'ROOT', 'det', 'dobj']\",\n",
       "        \"['nsubj', 'ROOT', 'det', 'dobj']\",\n",
       "        \"['nsubj', 'ROOT', 'det', 'dobj', 'amod', 'dobj']\",\n",
       "        \"['nsubj', 'ROOT', 'det', 'dobj']\",\n",
       "        \"['nsubj', 'ROOT', 'det', 'amod', 'dobj']\",\n",
       "        \"['nsubj', 'ROOT', 'det', 'dobj']\",\n",
       "        \"['nsubj', 'ROOT', 'det', 'dobj']\",\n",
       "        \"['nsubj', 'ROOT', 'det', 'dobj']\",\n",
       "        \"['nsubj', 'ROOT', 'det', 'dobj', 'prep', 'pobj']\",\n",
       "        \"['nsubj', 'ROOT', 'det', 'nmod', 'amod', 'dobj']\",\n",
       "        \"['nsubj', 'ROOT', 'compound', 'dobj']\",\n",
       "        \"['nsubj', 'ROOT', 'det', 'compound', 'dobj']\",\n",
       "        \"['nsubj', 'ROOT', 'det', 'dobj']\",\n",
       "        \"['nsubj', 'ROOT', 'det', 'compound', 'dobj']\",\n",
       "        \"['nsubj', 'ROOT', 'det', 'compound', 'dobj']\",\n",
       "        \"['nsubj', 'ROOT', 'det', 'compound', 'compound', 'dobj']\",\n",
       "        \"['nsubj', 'ROOT', 'det', 'nmod', 'amod', 'dobj']\",\n",
       "        \"['nsubj', 'ROOT', 'det', 'nmod', 'amod', 'dobj']\",\n",
       "        \"['nsubj', 'ROOT', 'det', 'compound', 'compound', 'dobj']\",\n",
       "        \"['nsubj', 'ROOT', 'det', 'compound', 'dobj']\",\n",
       "        \"['nsubj', 'ROOT', 'det', 'dobj']\",\n",
       "        \"['nsubj', 'ROOT', 'det', 'nmod', 'amod', 'dobj']\",\n",
       "        \"['nsubj', 'ROOT', 'det', 'compound', 'compound', 'dobj']\",\n",
       "        \"['nsubj', 'ROOT', 'det', 'compound', 'compound', 'dobj']\",\n",
       "        \"['nsubj', 'ROOT', 'det', 'compound', 'compound', 'dobj']\",\n",
       "        \"['nsubj', 'ROOT', 'det', 'compound', 'compound', 'dobj']\",\n",
       "        \"['nsubj', 'ROOT', 'det', 'compound', 'compound', 'dobj']\",\n",
       "        \"['nsubj', 'ROOT', 'det', 'nmod', 'amod', 'dobj']\",\n",
       "        \"['nsubj', 'ROOT', 'det', 'compound', 'dobj']\",\n",
       "        \"['nsubj', 'ROOT', 'det', 'dobj']\",\n",
       "        \"['nsubj', 'ROOT', 'det', 'dobj']\",\n",
       "        \"['nsubj', 'ROOT', 'det', 'dobj']\",\n",
       "        \"['nsubj', 'ROOT', 'det', 'compound', 'dobj']\",\n",
       "        \"['nsubj', 'ROOT', 'det', 'dobj']\",\n",
       "        \"['nsubj', 'ROOT', 'det', 'dobj']\",\n",
       "        \"['nsubj', 'ROOT', 'det', 'dobj', 'prep', 'det', 'pobj', 'prep', 'pobj', 'punct']\",\n",
       "        \"['nsubj', 'ROOT', 'det', 'dobj', 'prep', 'det', 'pobj', 'prep', 'pobj', 'prep', 'poss', 'amod', 'pobj', 'punct']\",\n",
       "        \"['nsubj', 'ROOT', 'det', 'dobj', 'prep', 'det', 'pobj', 'prep', 'pobj', 'punct']\",\n",
       "        \"['nsubj', 'ROOT', 'det', 'compound', 'dobj', 'prep', 'det', 'pobj', 'prep', 'pobj', 'punct']\",\n",
       "        \"['nsubj', 'ROOT', 'det', 'dobj', 'prep', 'pobj', 'prep', 'det', 'pobj', 'punct']\",\n",
       "        \"['nsubj', 'ROOT', 'det', 'dobj', 'prep', 'det', 'pobj', 'punct']\",\n",
       "        \"['nsubj', 'ROOT', 'det', 'dobj', 'prep', 'det', 'compound', 'pobj', 'punct']\",\n",
       "        \"['nsubj', 'ROOT', 'det', 'dobj', 'prep', 'det', 'pobj', 'punct']\",\n",
       "        \"['nsubj', 'ROOT', 'det', 'compound', 'dobj', 'prep', 'det', 'pobj', 'punct']\",\n",
       "        \"['nsubj', 'ROOT', 'det', 'dobj', 'prep', 'det', 'pobj', 'punct']\",\n",
       "        \"['nsubj', 'ROOT', 'det', 'dobj', 'prep', 'det', 'pobj', 'punct']\",\n",
       "        \"['nsubj', 'ROOT', 'det', 'compound', 'dobj', 'prep', 'det', 'pobj', 'punct']\",\n",
       "        \"['nsubj', 'ROOT', 'det', 'dobj']\",\n",
       "        \"['nsubj', 'ROOT', 'dobj', 'prep', 'det', 'pobj']\",\n",
       "        \"['nsubj', 'ROOT', 'det', 'dobj', 'prep', 'det', 'pobj']\",\n",
       "        \"['nsubj', 'ROOT', 'det', 'amod', 'npadvmod', 'advmod', 'prep', 'det', 'amod', 'compound', 'pobj', 'punct']\",\n",
       "        \"['nsubj', 'ROOT', 'det', 'dobj', 'prep', 'det', 'compound', 'pobj', 'prep', 'poss', 'amod', 'pobj', 'punct']\",\n",
       "        \"['nsubj', 'ROOT', 'dobj', 'prep', 'det', 'pobj', 'prep', 'poss', 'amod', 'pobj', 'punct']\",\n",
       "        \"['nsubj', 'ROOT', 'det', 'dobj', 'prep', 'det', 'pobj', 'prep', 'poss', 'amod', 'pobj', 'punct']\",\n",
       "        \"['nsubj', 'ROOT', 'det', 'amod', 'dobj', 'prep', 'det', 'pobj', 'prep', 'poss', 'amod', 'pobj', 'punct']\",\n",
       "        \"['nsubj', 'ROOT', 'det', 'compound', 'dobj']\",\n",
       "        \"['nsubj', 'ROOT', 'dobj', 'prep', 'prep', 'amod', 'pobj']\",\n",
       "        \"['nsubj', 'ROOT', 'dobj', 'prep', 'prep', 'amod', 'pobj']\",\n",
       "        \"['nsubj', 'ROOT', 'dobj', 'prep', 'prep', 'pobj']\",\n",
       "        \"['nsubj', 'ROOT', 'dobj', 'prep', 'pobj']\",\n",
       "        \"['nsubj', 'ROOT', 'dobj', 'prep', 'pobj']\",\n",
       "        \"['nsubj', 'ROOT', 'dobj', 'prep', 'prep', 'amod', 'pobj']\",\n",
       "        \"['nsubj', 'ROOT', 'dobj', 'prep', 'prep', 'amod', 'pobj']\",\n",
       "        \"['nsubj', 'ROOT', 'dobj', 'prep', 'pobj']\",\n",
       "        \"['nsubj', 'ROOT', 'dobj', 'prep', 'prep', 'amod', 'pobj']\",\n",
       "        \"['nsubj', 'ROOT', 'dobj', 'prep', 'prep', 'amod', 'pobj']\",\n",
       "        \"['nsubj', 'ROOT', 'dobj', 'prep', 'pobj']\",\n",
       "        \"['nsubj', 'ROOT', 'dobj', 'prep', 'prep', 'amod', 'pobj']\",\n",
       "        \"['nsubj', 'ROOT', 'dobj', 'prep', 'pobj']\",\n",
       "        \"['nsubj', 'ROOT', 'dobj', 'dobj']\",\n",
       "        \"['nsubj', 'ROOT', 'dobj', 'prep', 'compound', 'pobj']\",\n",
       "        \"['nsubj', 'ROOT', 'dobj', 'prep', 'det', 'compound', 'pobj', 'punct']\",\n",
       "        \"['nsubj', 'ROOT', 'det', 'dobj', 'prep', 'det', 'amod', 'pobj', 'punct']\",\n",
       "        \"['nsubj', 'ROOT', 'det', 'compound', 'dobj', 'punct']\",\n",
       "        \"['nsubj', 'ROOT']\",\n",
       "        \"['nsubj', 'ROOT', 'det', 'amod', 'dobj', 'punct']\",\n",
       "        \"['nsubj', 'ROOT', 'det', 'amod', 'dobj', 'punct']\",\n",
       "        \"['nsubj', 'ROOT', 'det', 'amod', 'dobj', 'punct']\",\n",
       "        \"['nsubj', 'ROOT', 'det', 'amod', 'dobj', 'punct']\",\n",
       "        \"['nsubj', 'ROOT', 'det', 'amod', 'dobj', 'punct']\",\n",
       "        \"['nsubj', 'ROOT', 'det', 'dobj', 'punct']\",\n",
       "        \"['nsubj', 'ROOT', 'det', 'amod', 'dobj', 'punct']\",\n",
       "        \"['nsubj', 'ROOT', 'det', 'dobj', 'punct']\",\n",
       "        \"['nsubj', 'ROOT', 'det', 'dobj', 'punct']\",\n",
       "        \"['nsubj', 'ROOT', 'dobj']\", \"['nsubj', 'ROOT', 'dobj']\",\n",
       "        \"['nsubj', 'ROOT']\", \"['nsubj', 'ROOT', 'compound', 'dobj']\",\n",
       "        \"['nsubj', 'ROOT', 'det', 'compound', 'dobj']\",\n",
       "        \"['nsubj', 'ROOT', 'dobj']\",\n",
       "        \"['nsubj', 'ROOT', 'det', 'compound', 'dobj']\",\n",
       "        \"['nsubj', 'ROOT', 'compound', 'dobj']\",\n",
       "        \"['nsubj', 'ROOT', 'compound', 'dobj']\",\n",
       "        \"['nsubj', 'ROOT', 'det', 'amod', 'dobj']\",\n",
       "        \"['nsubj', 'ROOT', 'det', 'dobj']\",\n",
       "        \"['nsubj', 'ROOT', 'det', 'dobj']\",\n",
       "        \"['nsubj', 'ROOT', 'det', 'dobj', 'prep', 'det', 'pobj', 'prep', 'pobj', 'prep', 'poss', 'pobj']\",\n",
       "        \"['nsubj', 'ROOT', 'det', 'dobj', 'prep', 'poss', 'pobj']\",\n",
       "        \"['nsubj', 'ROOT', 'det', 'dobj', 'prep', 'det', 'pobj', 'prep', 'pobj', 'prep', 'poss', 'pobj']\",\n",
       "        \"['nsubj', 'ROOT', 'det', 'dobj', 'prep', 'det', 'compound', 'pobj', 'prep', 'poss', 'pobj']\",\n",
       "        \"['nsubj', 'ROOT', 'det', 'dobj', 'prep', 'poss', 'pobj']\",\n",
       "        \"['nsubj', 'ROOT', 'det', 'dobj', 'prep', 'det', 'pobj', 'prep', 'pobj', 'prep', 'poss', 'pobj']\",\n",
       "        \"['nsubj', 'ROOT', 'det', 'dobj', 'prep', 'det', 'pobj', 'prep', 'pobj', 'prep', 'poss', 'pobj']\",\n",
       "        \"['nsubj', 'ROOT', 'det', 'dobj', 'prep', 'det', 'pobj', 'prep', 'pobj', 'prep', 'poss', 'pobj']\",\n",
       "        \"['nsubj', 'ROOT', 'det', 'dobj', 'prep', 'det', 'pobj', 'prep', 'pobj', 'prep', 'poss', 'pobj']\",\n",
       "        \"['nsubj', 'ROOT', 'det', 'dobj', 'prep', 'det', 'pobj', 'prep', 'pobj', 'prep', 'poss', 'pobj']\",\n",
       "        \"['nsubj', 'ROOT', 'det', 'dobj', 'prep', 'det', 'pobj', 'prep', 'pobj', 'prep', 'poss', 'pobj']\",\n",
       "        \"['nsubj', 'ROOT', 'amod', 'dobj', 'prep', 'det', 'pobj', 'prep', 'pobj', 'prep', 'poss', 'pobj']\",\n",
       "        \"['nsubj', 'ROOT', 'det', 'dobj', 'prep', 'poss', 'pobj']\",\n",
       "        \"['nsubj', 'ROOT', 'det', 'dobj', 'prep', 'det', 'pobj', 'prep', 'pobj', 'prep', 'poss', 'pobj']\",\n",
       "        \"['nsubj', 'ROOT', 'det', 'dobj', 'prep', 'det', 'pobj', 'prep', 'pobj', 'prep', 'poss', 'pobj']\",\n",
       "        \"['nsubj', 'ROOT', 'det', 'dobj', 'prep', 'poss', 'pobj']\",\n",
       "        \"['nsubj', 'ROOT', 'det', 'dobj', 'prep', 'det', 'pobj', 'prep', 'pobj', 'prep', 'poss', 'pobj']\",\n",
       "        \"['nsubj', 'ROOT', 'det', 'dobj', 'prep', 'poss', 'pobj']\",\n",
       "        \"['nsubj', 'ROOT', 'det', 'compound', 'dobj', 'prep', 'poss', 'pobj']\",\n",
       "        \"['nsubj', 'ROOT', 'det', 'compound', 'dobj', 'prep', 'poss', 'pobj']\",\n",
       "        \"['nsubj', 'ROOT', 'det', 'amod', 'dobj', 'prep', 'det', 'pobj', 'prep', 'poss', 'amod', 'pobj']\",\n",
       "        \"['nsubj', 'ROOT', 'poss', 'amod', 'dobj', 'prep', 'det', 'amod', 'pobj', 'punct']\",\n",
       "        \"['nsubj', 'ROOT', 'det', 'amod', 'dobj', 'advmod', 'punct']\",\n",
       "        \"['nsubj', 'ROOT', 'det', 'compound', 'dobj']\",\n",
       "        \"['nsubj', 'ROOT', 'poss', 'compound', 'dobj']\",\n",
       "        \"['nsubj', 'ROOT', 'det', 'amod', 'amod', 'compound', 'dobj']\",\n",
       "        \"['nsubj', 'ROOT', 'det', 'amod', 'dobj']\",\n",
       "        \"['nsubj', 'ROOT', 'det', 'compound', 'dobj', 'prep', 'det', 'pobj']\",\n",
       "        \"['nsubj', 'ROOT', 'det', 'amod', 'dobj']\",\n",
       "        \"['nsubj', 'ROOT', 'det', 'dobj', 'prep', 'poss', 'amod', 'pobj', 'punct']\",\n",
       "        \"['nsubj', 'ROOT', 'det', 'dobj', 'dobj', 'prep', 'det', 'pobj', 'prep', 'det', 'amod', 'pobj', 'prep', 'det', 'pobj', 'punct']\",\n",
       "        \"['nsubj', 'ROOT', 'det', 'dobj', 'prep', 'det', 'pobj']\",\n",
       "        \"['nsubj', 'ROOT', 'det', 'dobj', 'prep', 'det', 'pobj']\",\n",
       "        \"['nsubj', 'ROOT', 'det', 'dobj', 'prep', 'det', 'pobj']\",\n",
       "        \"['nsubj', 'ROOT', 'det', 'dobj', 'prep', 'det', 'pobj']\",\n",
       "        \"['nsubj', 'ROOT', 'det', 'amod', 'dobj']\",\n",
       "        \"['nsubj', 'ROOT', 'det', 'compound', 'compound', 'dobj']\",\n",
       "        \"['nsubj', 'ROOT', 'det', 'amod', 'compound', 'compound', 'dobj', 'prep', 'det', 'pobj']\",\n",
       "        \"['nsubj', 'ROOT', 'det', 'dobj']\",\n",
       "        \"['nsubj', 'ROOT', 'det', 'compound', 'dobj']\",\n",
       "        \"['nsubj', 'ROOT', 'det', 'dobj']\",\n",
       "        \"['nsubj', 'ROOT', 'det', 'dobj']\",\n",
       "        \"['nsubj', 'ROOT', 'det', 'dobj']\",\n",
       "        \"['nsubj', 'ROOT', 'det', 'compound', 'dobj']\",\n",
       "        \"['nsubj', 'ROOT', 'det', 'dobj']\",\n",
       "        \"['nsubj', 'ROOT', 'det', 'dobj', 'prep', 'poss', 'pobj']\",\n",
       "        \"['nsubj', 'ROOT', 'det', 'dobj', 'prep', 'poss', 'pobj']\",\n",
       "        \"['nsubj', 'ROOT']\", \"['nsubj', 'ROOT', 'det', 'dobj']\",\n",
       "        \"['nsubj', 'ROOT', 'dobj', 'prep', 'det', 'pobj', 'punct']\",\n",
       "        \"['nsubj', 'ROOT', 'amod', 'dobj']\",\n",
       "        \"['nsubj', 'ROOT', 'amod', 'dobj']\",\n",
       "        \"['nsubj', 'ROOT', 'amod', 'dobj']\",\n",
       "        \"['nsubj', 'ROOT', 'amod', 'dobj']\",\n",
       "        \"['nsubj', 'ROOT', 'amod', 'dobj']\",\n",
       "        \"['nsubj', 'ROOT', 'amod', 'dobj']\",\n",
       "        \"['nsubj', 'ROOT', 'amod', 'dobj']\",\n",
       "        \"['nsubj', 'ROOT', 'amod', 'dobj']\",\n",
       "        \"['nsubj', 'ROOT', 'det', 'compound', 'dobj']\",\n",
       "        \"['nsubj', 'ROOT', 'det', 'amod', 'dobj']\",\n",
       "        \"['nsubj', 'ROOT', 'amod', 'dobj']\",\n",
       "        \"['nsubj', 'ROOT', 'det', 'compound', 'dobj']\",\n",
       "        \"['nsubj', 'ROOT', 'det', 'amod', 'dobj']\",\n",
       "        \"['nsubj', 'ROOT', 'det', 'compound', 'dobj']\",\n",
       "        \"['nsubj', 'ROOT', 'amod', 'dobj']\",\n",
       "        \"['nsubj', 'ROOT', 'amod', 'dobj']\",\n",
       "        \"['nsubj', 'ROOT', 'amod', 'dobj']\",\n",
       "        \"['nsubj', 'ROOT', 'amod', 'dobj']\",\n",
       "        \"['nsubj', 'ROOT', 'amod', 'dobj']\",\n",
       "        \"['nsubj', 'ROOT', 'det', 'dobj', 'prep', 'det', 'pobj']\",\n",
       "        \"['nsubj', 'ROOT', 'amod', 'dobj']\",\n",
       "        \"['nsubj', 'ROOT', 'det', 'amod', 'dobj']\",\n",
       "        \"['nsubj', 'ROOT', 'det', 'amod', 'dobj']\",\n",
       "        \"['nsubj', 'ROOT', 'det', 'amod', 'dobj']\",\n",
       "        \"['nsubj', 'ROOT', 'det', 'amod', 'dobj']\",\n",
       "        \"['nsubj', 'ROOT', 'det', 'amod', 'dobj']\",\n",
       "        \"['nsubj', 'ROOT', 'det', 'amod', 'dobj']\",\n",
       "        \"['nsubj', 'ROOT', 'det', 'amod', 'dobj']\",\n",
       "        \"['nsubj', 'ROOT', 'det', 'compound', 'dobj']\",\n",
       "        \"['nsubj', 'ROOT', 'det', 'dobj']\",\n",
       "        \"['nsubj', 'ROOT', 'det', 'dobj', 'acl', 'prep', 'det', 'pobj']\",\n",
       "        \"['nsubj', 'ROOT', 'det', 'compound', 'dobj', 'acl', 'prep', 'det', 'pobj']\",\n",
       "        \"['nsubj', 'ROOT', 'det', 'compound', 'dobj', 'acl', 'prep', 'det', 'compound', 'pobj']\",\n",
       "        \"['nsubj', 'ROOT', 'det', 'dobj', 'acl', 'prep', 'det', 'pobj']\",\n",
       "        \"['nsubj', 'ROOT', 'det', 'dobj', 'prep', 'pobj']\",\n",
       "        \"['nsubj', 'ROOT', 'det', 'compound', 'dobj', 'prep', 'det', 'amod', 'pobj', 'punct']\",\n",
       "        \"['nsubj', 'ROOT', 'det', 'dobj', 'prep', 'prep', 'pobj', 'det', 'dobj']\",\n",
       "        \"['nsubj', 'ROOT', 'det', 'dobj', 'prep', 'prep', 'pobj', 'det', 'dobj']\",\n",
       "        \"['nsubj', 'ROOT', 'det', 'dobj', 'prep', 'prep', 'pobj', 'det', 'pobj']\",\n",
       "        \"['nsubj', 'ROOT', 'det', 'compound', 'dobj', 'prep', 'prep', 'pobj', 'det', 'pobj']\",\n",
       "        \"['nsubj', 'ROOT', 'dobj', 'prep', 'prep', 'pobj', 'det', 'dobj']\",\n",
       "        \"['nsubj', 'ROOT', 'dobj', 'prep', 'det', 'pobj']\",\n",
       "        \"['nsubj', 'ROOT', 'det', 'dobj', 'punct']\",\n",
       "        \"['nsubj', 'ROOT', 'det', 'dobj', 'punct']\",\n",
       "        \"['nsubj', 'ROOT', 'det', 'dobj', 'punct']\",\n",
       "        \"['nsubj', 'ROOT', 'det', 'compound', 'dobj', 'punct']\",\n",
       "        \"['nsubj', 'ROOT']\", \"['nsubj', 'ROOT', 'det', 'dobj', 'punct']\",\n",
       "        \"['nsubj', 'ROOT', 'det', 'dobj', 'punct']\",\n",
       "        \"['nsubj', 'ROOT', 'det', 'compound', 'dobj', 'punct']\",\n",
       "        \"['nsubj', 'ROOT', 'det', 'dobj', 'punct']\",\n",
       "        \"['nsubj', 'ROOT', 'det', 'dobj', 'punct']\",\n",
       "        \"['nsubj', 'ROOT', 'det', 'dobj', 'punct']\",\n",
       "        \"['nsubj', 'ROOT', 'det', 'dobj', 'punct']\",\n",
       "        \"['nsubj', 'ROOT', 'amod', 'dobj', 'prep', 'det', 'pobj', 'poss', 'amod', 'dobj', 'punct']\",\n",
       "        \"['nsubj', 'ROOT', 'nummod', 'amod', 'dobj', 'prep', 'det', 'pobj', 'prep', 'poss', 'amod', 'pobj', 'punct']\",\n",
       "        \"['nsubj', 'ROOT', 'poss', 'amod', 'dobj', 'prep', 'det', 'compound', 'dobj']\",\n",
       "        \"['nsubj', 'ROOT', 'poss', 'amod', 'dobj', 'prep', 'det', 'compound', 'compound', 'pobj', 'punct']\",\n",
       "        \"['nsubj', 'ROOT', 'det', 'dobj']\",\n",
       "        \"['nsubj', 'ROOT', 'det', 'dobj']\",\n",
       "        \"['nsubj', 'ROOT', 'dobj', 'ccomp', 'dobj']\",\n",
       "        \"['nsubj', 'ROOT', 'dobj']\",\n",
       "        \"['nsubj', 'ROOT', 'det', 'compound', 'dobj']\",\n",
       "        \"['nsubj', 'ROOT', 'det', 'dobj']\",\n",
       "        \"['nsubj', 'ROOT', 'dobj', 'prep', 'det', 'pobj', 'punct']\",\n",
       "        \"['nsubj', 'ROOT', 'det', 'dobj', 'prep', 'compound', 'pobj']\",\n",
       "        \"['nsubj', 'ROOT', 'det', 'compound', 'dobj']\",\n",
       "        \"['nsubj', 'ROOT', 'det', 'dobj', 'prep', 'pobj']\",\n",
       "        \"['nsubj', 'ROOT', 'det', 'dobj']\",\n",
       "        \"['nsubj', 'ROOT', 'det', 'dobj']\",\n",
       "        \"['nsubj', 'ROOT', 'det', 'dobj']\", \"['nsubj', 'ROOT', 'dobj']\",\n",
       "        \"['nsubj', 'ROOT', 'det', 'amod', 'dobj']\",\n",
       "        \"['nsubj', 'ROOT', 'det', 'dobj', 'prep', 'det', 'pobj', 'punct']\",\n",
       "        \"['nsubj', 'ROOT', 'det', 'amod', 'dobj', 'punct']\",\n",
       "        \"['nsubj', 'ROOT', 'det', 'amod', 'dobj', 'prep', 'det', 'pobj', 'punct']\",\n",
       "        \"['nsubj', 'ROOT', 'det', 'dobj', 'punct']\",\n",
       "        \"['nsubj', 'ROOT', 'amod', 'amod', 'dobj', 'punct']\",\n",
       "        \"['nsubj', 'ROOT', 'det', 'dobj', 'punct']\",\n",
       "        \"['nsubj', 'ROOT', 'det', 'amod', 'dobj', 'prep', 'det', 'pobj', 'punct']\",\n",
       "        \"['nsubj', 'ROOT', 'det', 'dobj', 'punct']\",\n",
       "        \"['nsubj', 'ROOT', 'det', 'dobj', 'punct']\",\n",
       "        \"['nsubj', 'ROOT', 'det', 'amod', 'dobj', 'prep', 'pobj', 'punct']\",\n",
       "        \"['nsubj', 'ROOT', 'det', 'amod', 'dobj', 'punct']\",\n",
       "        \"['nsubj', 'ROOT', 'det', 'det', 'dobj', 'punct']\",\n",
       "        \"['nsubj', 'ROOT', 'det', 'dobj', 'prep', 'det', 'pobj', 'punct']\",\n",
       "        \"['nsubj', 'ROOT', 'det', 'amod', 'dobj', 'punct']\",\n",
       "        \"['nsubj', 'ROOT', 'det', 'dobj', 'punct']\",\n",
       "        \"['nsubj', 'ROOT', 'det', 'dobj', 'punct']\",\n",
       "        \"['nsubj', 'ROOT', 'det', 'compound', 'dobj', 'punct']\",\n",
       "        \"['nsubj', 'ROOT', 'det', 'dobj', 'prep', 'det', 'pobj', 'punct']\",\n",
       "        \"['nsubj', 'ROOT', 'nummod', 'dobj', 'punct']\",\n",
       "        \"['nsubj', 'ROOT', 'det', 'compound', 'dobj', 'punct']\",\n",
       "        \"['nsubj', 'ROOT', 'det', 'dobj', 'punct']\",\n",
       "        \"['nsubj', 'ROOT', 'det', 'compound', 'dobj', 'punct']\",\n",
       "        \"['nsubj', 'ROOT', 'det', 'dobj', 'punct']\",\n",
       "        \"['nsubj', 'ROOT', 'det', 'compound', 'dobj', 'punct']\",\n",
       "        \"['nsubj', 'ROOT', 'det', 'dobj', 'punct']\",\n",
       "        \"['nsubj', 'ROOT', 'det', 'dobj', 'punct']\",\n",
       "        \"['nsubj', 'ROOT', 'det', 'dobj', 'punct']\",\n",
       "        \"['nsubj', 'ROOT', 'det', 'compound', 'dobj', 'punct']\",\n",
       "        \"['nsubj', 'ROOT', 'det', 'dobj', 'punct']\",\n",
       "        \"['nsubj', 'ROOT', 'det', 'compound', 'dobj', 'punct']\",\n",
       "        \"['nsubj', 'ROOT', 'det', 'dobj', 'punct']\",\n",
       "        \"['nsubj', 'ROOT', 'det', 'compound', 'dobj', 'punct']\",\n",
       "        \"['nsubj', 'ROOT', 'det', 'dobj', 'punct']\",\n",
       "        \"['nsubj', 'ROOT', 'det', 'compound', 'dobj', 'punct']\",\n",
       "        \"['nsubj', 'ROOT', 'det', 'dobj', 'punct']\",\n",
       "        \"['nsubj', 'ROOT', 'det', 'compound', 'dobj', 'punct']\",\n",
       "        \"['nsubj', 'ROOT', 'det', 'dobj', 'punct']\",\n",
       "        \"['nsubj', 'ROOT', 'det', 'compound', 'dobj', 'punct']\",\n",
       "        \"['nsubj', 'ROOT', 'det', 'dobj', 'punct']\",\n",
       "        \"['nsubj', 'ROOT', 'det', 'compound', 'dobj', 'punct']\",\n",
       "        \"['nsubj', 'ROOT', 'det', 'dobj', 'punct']\",\n",
       "        \"['nsubj', 'ROOT', 'det', 'compound', 'dobj', 'punct']\",\n",
       "        \"['nsubj', 'ROOT', 'det', 'compound', 'dobj', 'punct']\",\n",
       "        \"['nsubj', 'ROOT', 'det', 'dobj', 'punct']\",\n",
       "        \"['nsubj', 'ROOT', 'det', 'compound', 'dobj', 'punct']\",\n",
       "        \"['nsubj', 'ROOT', 'det', 'compound', 'dobj']\",\n",
       "        \"['nsubj', 'ROOT', 'dobj', 'prep', 'prep', 'pobj']\",\n",
       "        \"['nsubj', 'ROOT', 'det', 'dobj', 'prep', 'prep', 'pobj']\",\n",
       "        \"['nsubj', 'ROOT', 'det', 'compound', 'dobj', 'prep', 'poss', 'amod', 'pobj']\",\n",
       "        \"['nsubj', 'ROOT', 'det', 'dobj', 'prep', 'poss', 'amod', 'pobj']\",\n",
       "        \"['nsubj', 'ROOT', 'det', 'dobj', 'prep', 'poss', 'amod', 'pobj']\",\n",
       "        \"['nsubj', 'ROOT', 'det', 'dobj', 'prep', 'poss', 'amod', 'pobj']\",\n",
       "        \"['nsubj', 'ROOT', 'det', 'dobj', 'prep', 'poss', 'amod', 'pobj']\",\n",
       "        \"['nsubj', 'ROOT', 'det', 'dobj', 'prep', 'det', 'pobj', 'prep', 'poss', 'amod', 'pobj']\",\n",
       "        \"['nsubj', 'ROOT', 'det', 'dobj', 'prep', 'det', 'pobj', 'prep', 'poss', 'amod', 'pobj', 'punct']\",\n",
       "        \"['nsubj', 'ROOT', 'det', 'dobj', 'prep', 'det', 'pobj', 'prep', 'poss', 'amod', 'pobj', 'punct']\",\n",
       "        \"['nsubj', 'ROOT', 'det', 'compound', 'dobj', 'prep', 'poss', 'amod', 'pobj', 'prep', 'poss', 'amod', 'pobj', 'punct']\",\n",
       "        \"['nsubj', 'ROOT', 'det', 'compound', 'dobj', 'prep', 'det', 'pobj', 'prep', 'det', 'pobj', 'prep', 'poss', 'amod', 'pobj', 'punct']\",\n",
       "        \"['nsubj', 'ROOT', 'det', 'compound', 'compound', 'dobj', 'prep', 'det', 'pobj', 'punct']\",\n",
       "        \"['nsubj', 'ROOT', 'det', 'compound', 'dobj', 'prep', 'det', 'pobj', 'punct']\",\n",
       "        \"['nsubj', 'ROOT', 'det', 'dobj', 'prep', 'det', 'pobj', 'prep', 'det', 'pobj', 'prep', 'poss', 'amod', 'pobj', 'punct']\",\n",
       "        \"['compound', 'nsubj', 'ROOT', 'det', 'dobj', 'prep', 'pobj']\",\n",
       "        \"['nsubj', 'ROOT', 'det', 'dobj', 'punct']\",\n",
       "        \"['nsubj', 'ROOT', 'dobj', 'prep', 'det', 'pobj']\",\n",
       "        \"['nsubj', 'ROOT', 'det', 'dobj', 'prep', 'det', 'pobj', 'prep', 'det', 'pobj']\",\n",
       "        \"['nsubj', 'ROOT', 'det', 'dobj', 'prep', 'det', 'pobj', 'prep', 'det', 'pobj']\",\n",
       "        \"['nsubj', 'ROOT', 'det', 'compound', 'dobj', 'prep', 'prep', 'det', 'compound', 'pobj']\",\n",
       "        \"['nsubj', 'ROOT', 'poss', 'dobj', 'prep', 'prep', 'det', 'compound', 'pobj']\",\n",
       "        \"['nsubj', 'ROOT', 'dobj', 'prep', 'det', 'pobj', 'prep', 'det', 'amod', 'pobj']\",\n",
       "        \"['nsubj', 'ROOT', 'dobj', 'prep', 'det', 'pobj', 'prep', 'det', 'amod', 'pobj']\",\n",
       "        \"['nsubj', 'ROOT', 'dobj', 'prep', 'det', 'pobj', 'prep', 'det', 'amod', 'pobj']\",\n",
       "        \"['nsubj', 'ROOT', 'det', 'dobj', 'prep', 'det', 'amod', 'pobj', 'punct']\",\n",
       "        \"['nsubj', 'ROOT', 'det', 'dobj', 'prep', 'pobj', 'prep', 'det', 'amod', 'pobj', 'punct']\",\n",
       "        \"['nsubj', 'ROOT', 'det', 'dobj', 'prep', 'pobj', 'prep', 'det', 'pobj', 'punct']\",\n",
       "        \"['nsubj', 'ROOT', 'det', 'dobj', 'prep', 'pobj', 'prep', 'det', 'pobj', 'prep', 'det', 'pobj', 'punct']\",\n",
       "        \"['nsubj', 'ROOT', 'det', 'compound', 'dobj', 'advmod', 'prep', 'det', 'pobj']\",\n",
       "        \"['nsubj', 'ROOT', 'det', 'dobj', 'prep', 'det', 'pobj', 'prep', 'det', 'pobj']\",\n",
       "        \"['nsubj', 'ROOT', 'det', 'compound', 'dobj']\",\n",
       "        \"['nsubj', 'ROOT', 'det', 'dobj', 'prep', 'det', 'pobj']\",\n",
       "        \"['nsubj', 'ROOT', 'det', 'compound', 'dobj', 'acl', 'prep', 'det', 'pobj']\",\n",
       "        \"['nsubj', 'ROOT', 'det', 'compound', 'compound', 'dobj', 'acl', 'prep', 'det', 'pobj']\",\n",
       "        \"['nsubj', 'ROOT', 'det', 'compound', 'compound', 'dobj']\",\n",
       "        \"['nsubj', 'ROOT', 'det', 'compound', 'dobj']\",\n",
       "        \"['nsubj', 'ROOT', 'det', 'dobj', 'acl', 'prep', 'det', 'pobj', 'aux', 'advcl', 'det', 'compound', 'dobj']\",\n",
       "        \"['nsubj', 'ROOT', 'det', 'dobj', 'prep', 'det', 'pobj', 'prep', 'amod', 'pobj', 'punct']\",\n",
       "        \"['nsubj', 'ROOT', 'det', 'dobj', 'prep', 'det', 'pobj', 'prep', 'amod', 'pobj', 'punct']\",\n",
       "        \"['nsubj', 'ROOT', 'det', 'dobj', 'prep', 'det', 'pobj', 'punct']\",\n",
       "        \"['nsubj', 'ROOT', 'det', 'compound', 'dobj']\",\n",
       "        \"['nsubj', 'ROOT', 'det', 'dobj', 'npadvmod', 'prep', 'det', 'pobj']\",\n",
       "        \"['nsubj', 'ROOT', 'det', 'dobj', 'npadvmod']\",\n",
       "        \"['nsubj', 'ROOT', 'det', 'dobj', 'prep', 'amod', 'pobj']\",\n",
       "        \"['nsubj', 'ROOT', 'det', 'compound', 'compound', 'dobj', 'prep', 'det', 'pobj', 'punct']\",\n",
       "        \"['nsubj', 'ROOT', 'det', 'dobj', 'prep', 'det', 'pobj', 'prep', 'det', 'pobj', 'punct']\",\n",
       "        \"['det', 'compound', 'nsubj', 'ROOT', 'det', 'dobj', 'prep', 'det', 'pobj', 'punct']\",\n",
       "        \"['nsubj', 'ROOT', 'det', 'dobj', 'prep', 'det', 'pobj', 'prep', 'det', 'pobj']\",\n",
       "        \"['nsubj', 'ROOT', 'det', 'dobj', 'prep', 'det', 'pobj', 'prep', 'amod', 'pobj']\",\n",
       "        \"['nsubj', 'ROOT', 'det', 'det', 'dobj', 'punct']\",\n",
       "        \"['nsubj', 'ROOT', 'dobj', 'prep', 'det', 'pobj', 'prep', 'pobj', 'prep', 'det', 'compound', 'pobj', 'punct']\",\n",
       "        \"['nsubj', 'ROOT', 'det', 'compound', 'dobj', 'prep', 'det', 'pobj', 'prep', 'pobj', 'punct']\",\n",
       "        \"['nsubj', 'ROOT', 'dobj', 'prep', 'det', 'pobj', 'prep', 'pobj', 'prep', 'det', 'compound', 'pobj', 'punct']\",\n",
       "        \"['nsubj', 'ROOT', 'det', 'compound', 'dobj', 'prep', 'det', 'pobj', 'prep', 'pobj', 'punct']\",\n",
       "        \"['nsubj', 'ROOT', 'poss', 'amod', 'dobj', 'prep', 'det', 'pobj', 'prep', 'det', 'compound', 'pobj', 'punct']\",\n",
       "        \"['nsubj', 'ROOT', 'det', 'dobj', 'prep', 'det', 'pobj', 'prep', 'pobj', 'punct']\",\n",
       "        \"['nsubj', 'ROOT', 'dobj', 'prep', 'det', 'pobj', 'prep', 'pobj', 'punct']\",\n",
       "        \"['nsubj', 'ROOT', 'det', 'dobj']\",\n",
       "        \"['nsubj', 'ROOT', 'det', 'dobj']\",\n",
       "        \"['nsubj', 'ROOT', 'det', 'compound', 'compound', 'dobj']\",\n",
       "        \"['nsubj', 'ROOT', 'det', 'dobj', 'prep', 'det', 'pobj', 'prep', 'det', 'pobj', 'prep', 'poss', 'amod', 'pobj', 'punct']\",\n",
       "        \"['nsubj', 'ROOT', 'poss', 'amod', 'dobj', 'prep', 'det', 'compound', 'compound', 'dobj']\",\n",
       "        \"['nsubj', 'ROOT', 'det', 'dobj', 'advmod', 'prep', 'det', 'pobj']\",\n",
       "        \"['nsubj', 'ROOT', 'det', 'dobj', 'prep', 'det', 'compound', 'compound', 'pobj']\",\n",
       "        \"['nsubj', 'ROOT', 'det', 'dobj', 'prep', 'det', 'compound', 'compound', 'pobj']\",\n",
       "        \"['nsubj', 'ROOT', 'det', 'dobj', 'prep', 'det', 'compound', 'compound', 'pobj']\",\n",
       "        \"['nsubj', 'ROOT', 'det', 'dobj', 'advmod', 'prep', 'det', 'pobj']\",\n",
       "        \"['nsubj', 'ROOT', 'dobj']\",\n",
       "        \"['nsubj', 'ROOT', 'poss', 'amod', 'dobj', 'advmod', 'punct']\",\n",
       "        \"['nsubj', 'ROOT', 'poss', 'amod', 'dobj', 'prep', 'det', 'pobj', 'punct']\",\n",
       "        \"['ROOT', 'nsubj', 'ROOT', 'det', 'compound', 'dobj', 'prep', 'det', 'pobj', 'punct']\",\n",
       "        \"['nsubj', 'ROOT', 'det', 'dobj', 'prep', 'det', 'pobj', 'punct']\",\n",
       "        \"['nsubj', 'ROOT', 'det', 'dobj', 'prep', 'compound', 'pobj', 'prep', 'det', 'pobj', 'punct']\",\n",
       "        \"['nsubj', 'ROOT', 'det', 'dobj', 'prep', 'det', 'pobj', 'punct']\",\n",
       "        \"['nsubj', 'ROOT', 'det', 'compound', 'dobj', 'prep', 'det', 'pobj', 'punct']\",\n",
       "        \"['nsubj', 'ROOT', 'det', 'dobj', 'prep', 'det', 'pobj', 'punct']\",\n",
       "        \"['nsubj', 'ROOT', 'det', 'amod', 'dobj', 'prep', 'det', 'pobj', 'punct']\",\n",
       "        \"['nsubj', 'ROOT', 'det', 'dobj', 'punct']\",\n",
       "        \"['nsubj', 'ROOT', 'det', 'dobj', 'prep', 'det', 'amod', 'pobj', 'punct']\",\n",
       "        \"['nsubj', 'ROOT', 'det', 'dobj', 'punct']\",\n",
       "        \"['nsubj', 'ROOT', 'det', 'dobj', 'punct']\",\n",
       "        \"['nsubj', 'ROOT', 'det', 'dobj', 'punct']\",\n",
       "        \"['nsubj', 'ROOT', 'det', 'amod', 'dobj', 'advmod', 'prep', 'det', 'amod', 'pobj', 'punct']\",\n",
       "        \"['nsubj', 'ROOT', 'det', 'compound', 'dobj']\",\n",
       "        \"['nsubj', 'ROOT', 'compound', 'dobj']\",\n",
       "        \"['nsubj', 'ROOT', 'det', 'compound', 'dobj']\",\n",
       "        \"['nsubj', 'ROOT', 'dobj']\",\n",
       "        \"['nsubj', 'ROOT', 'nummod', 'dobj', 'prep', 'det', 'compound', 'pobj']\",\n",
       "        \"['nsubj', 'ROOT', 'det', 'dobj', 'prep', 'pobj', 'prep', 'det', 'pobj', 'prep', 'poss', 'amod', 'pobj', 'punct']\",\n",
       "        \"['nsubj', 'ROOT', 'det', 'dobj', 'prep', 'det', 'pobj', 'prep', 'poss', 'amod', 'pobj', 'punct']\",\n",
       "        \"['nsubj', 'ROOT', 'det', 'dobj', 'prep', 'pobj', 'prep', 'det', 'pobj', 'prep', 'poss', 'amod', 'pobj', 'punct']\",\n",
       "        \"['nsubj', 'ROOT', 'det', 'dobj', 'prep', 'det', 'pobj', 'prep', 'poss', 'amod', 'pobj', 'punct']\",\n",
       "        \"['nsubj', 'ROOT', 'det', 'dobj', 'prep', 'det', 'pobj', 'prep', 'poss', 'amod', 'pobj', 'punct']\",\n",
       "        \"['nsubj', 'ROOT', 'det', 'dobj']\",\n",
       "        \"['nsubj', 'ROOT', 'det', 'dobj', 'prep', 'det', 'pobj']\",\n",
       "        \"['nsubj', 'ROOT', 'det', 'dobj']\",\n",
       "        \"['nsubj', 'ROOT', 'det', 'dobj', 'prep', 'det', 'pobj']\",\n",
       "        \"['nsubj', 'ROOT', 'prep', 'det', 'pobj']\",\n",
       "        \"['nsubj', 'ROOT', 'det', 'dobj', 'prep', 'det', 'pobj']\",\n",
       "        \"['nsubj', 'ROOT', 'poss', 'amod', 'dobj', 'prep', 'det', 'amod', 'dobj']\",\n",
       "        \"['nsubj', 'ROOT', 'poss', 'amod', 'dobj', 'prep', 'det', 'amod', 'compound', 'dobj']\",\n",
       "        \"['nsubj', 'ROOT', 'det', 'dobj', 'prep', 'poss', 'amod', 'pobj', 'prep', 'det', 'pobj']\",\n",
       "        \"['nsubj', 'ROOT', 'poss', 'amod', 'dobj', 'prep', 'det', 'amod', 'compound', 'dobj']\",\n",
       "        \"['nsubj', 'ROOT', 'det', 'dobj', 'prep', 'poss', 'amod', 'pobj', 'prep', 'det', 'pobj']\",\n",
       "        \"['nsubj', 'ROOT', 'det', 'dobj', 'prep', 'poss', 'amod', 'pobj', 'prep', 'det', 'pobj']\",\n",
       "        \"['nsubj', 'ROOT', 'det', 'dobj', 'prep', 'poss', 'amod', 'pobj', 'prep', 'det', 'pobj']\",\n",
       "        \"['nsubj', 'ROOT', 'det', 'dobj', 'prep', 'poss', 'amod', 'pobj', 'prep', 'det', 'pobj']\",\n",
       "        \"['nsubj', 'ROOT', 'det', 'dobj', 'prep', 'poss', 'amod', 'pobj', 'prep', 'det', 'pobj']\",\n",
       "        \"['nsubj', 'ROOT', 'amod', 'dobj', 'prep', 'det', 'pobj']\",\n",
       "        \"['nsubj', 'ROOT', 'amod', 'dobj', 'prep', 'det', 'pobj']\",\n",
       "        \"['nsubj', 'ROOT', 'nummod', 'amod', 'dobj', 'prep', 'det', 'pobj']\",\n",
       "        \"['nsubj', 'ROOT', 'dobj', 'prep', 'det', 'amod', 'pobj']\",\n",
       "        \"['nsubj', 'ROOT', 'dobj', 'prep', 'det', 'amod', 'pobj']\",\n",
       "        \"['nsubj', 'ROOT', 'dobj', 'prep', 'det', 'amod', 'pobj']\",\n",
       "        \"['nsubj', 'ROOT', 'dobj', 'prep', 'det', 'amod', 'pobj']\",\n",
       "        \"['nsubj', 'ROOT', 'dobj', 'prep', 'det', 'amod', 'pobj']\",\n",
       "        \"['nsubj', 'ROOT', 'dobj', 'prep', 'det', 'amod', 'pobj']\",\n",
       "        \"['nsubj', 'ROOT', 'dobj', 'prep', 'det', 'amod', 'pobj']\",\n",
       "        \"['nsubj', 'ROOT', 'det', 'compound', 'dobj', 'prep', 'det', 'pobj']\",\n",
       "        \"['nsubj', 'ROOT', 'det', 'dobj', 'prep', 'det', 'pobj', 'prep', 'amod', 'pobj', 'punct']\",\n",
       "        \"['nsubj', 'ROOT', 'det', 'dobj', 'prep', 'det', 'pobj', 'prep', 'amod', 'pobj', 'punct']\",\n",
       "        \"['nsubj', 'ROOT', 'det', 'dobj', 'prep', 'det', 'pobj', 'prep', 'amod', 'pobj', 'punct']\",\n",
       "        \"['nsubj', 'ROOT', 'det', 'amod', 'dobj', 'prep', 'det', 'compound', 'pobj', 'prep', 'poss', 'amod', 'pobj', 'punct']\",\n",
       "        \"['nsubj', 'ROOT', 'det', 'dobj', 'prep', 'det', 'pobj', 'prep', 'poss', 'amod', 'pobj', 'punct']\",\n",
       "        \"['nsubj', 'ROOT', 'det', 'dobj', 'prep', 'det', 'pobj', 'prep', 'det', 'pobj']\",\n",
       "        \"['nsubj', 'ROOT', 'det', 'dobj', 'prep', 'det', 'pobj', 'prep', 'amod', 'pobj', 'punct']\",\n",
       "        \"['nsubj', 'ROOT', 'det', 'dobj', 'prep', 'det', 'pobj', 'prep', 'amod', 'pobj', 'punct']\",\n",
       "        \"['nsubj', 'ROOT', 'det', 'dobj', 'prep', 'det', 'pobj']\",\n",
       "        \"['nsubj', 'ROOT', 'det', 'amod', 'dobj', 'prep', 'det', 'pobj', 'prep', 'amod', 'pobj', 'punct']\",\n",
       "        \"['nsubj', 'ROOT', 'det', 'dobj', 'prep', 'det', 'pobj', 'prep', 'amod', 'pobj', 'punct']\",\n",
       "        \"['nsubj', 'ROOT', 'det', 'dobj', 'prep', 'det', 'pobj', 'prep', 'amod', 'pobj', 'punct']\",\n",
       "        \"['nsubj', 'ROOT', 'det', 'dobj', 'prep', 'det', 'pobj', 'prep', 'amod', 'pobj', 'punct']\",\n",
       "        \"['nsubj', 'ROOT', 'det', 'dobj', 'prep', 'det', 'pobj', 'prep', 'amod', 'pobj', 'punct']\",\n",
       "        \"['nsubj', 'ROOT', 'det', 'dobj', 'prep', 'poss', 'amod', 'pobj', 'punct']\",\n",
       "        \"['nsubj', 'ROOT', 'det', 'dobj', 'prep', 'poss', 'amod', 'pobj', 'punct']\",\n",
       "        \"['nsubj', 'ROOT', 'det', 'dobj', 'prep', 'det', 'compound', 'pobj', 'punct']\",\n",
       "        \"['nsubj', 'ROOT', 'det', 'dobj', 'prep', 'det', 'compound', 'pobj', 'prep', 'amod', 'pobj', 'punct']\",\n",
       "        \"['nsubj', 'ROOT', 'det', 'dobj', 'prep', 'det', 'pobj', 'prep', 'amod', 'pobj', 'punct']\",\n",
       "        \"['nsubj', 'ROOT', 'det', 'dobj', 'prep', 'det', 'pobj', 'prep', 'amod', 'pobj', 'punct']\",\n",
       "        \"['nsubj', 'ROOT', 'det', 'compound', 'dobj', 'punct']\",\n",
       "        \"['nsubj', 'ROOT', 'det', 'compound', 'dobj', 'punct']\",\n",
       "        \"['nsubj', 'ROOT', 'det', 'compound', 'dobj', 'punct']\",\n",
       "        \"['nsubj', 'ROOT', 'det', 'compound', 'dobj', 'punct']\",\n",
       "        \"['nsubj', 'ROOT', 'det', 'compound', 'amod', 'dobj', 'punct']\",\n",
       "        \"['nsubj', 'ROOT', 'det', 'dobj', 'prep', 'det', 'pobj', 'prep', 'poss', 'amod', 'pobj', 'punct']\",\n",
       "        \"['nsubj', 'ROOT', 'det', 'dobj', 'prep', 'det', 'pobj', 'prep', 'poss', 'amod', 'pobj', 'punct']\",\n",
       "        \"['nsubj', 'ROOT', 'det', 'compound', 'dobj', 'prep', 'det', 'pobj']\",\n",
       "        \"['nsubj', 'ROOT', 'det', 'amod', 'dobj', 'prep', 'det', 'pobj', 'prep', 'det', 'pobj']\",\n",
       "        \"['nsubj', 'ROOT', 'compound', 'dobj', 'prep', 'pobj', 'prep', 'pobj']\",\n",
       "        \"['nsubj', 'ROOT', 'det', 'compound', 'dobj', 'prep', 'pobj', 'prep', 'pobj']\",\n",
       "        \"['nsubj', 'ROOT', 'det', 'compound', 'dobj', 'prep', 'poss', 'amod', 'pobj', 'prep', 'poss', 'amod', 'pobj', 'punct']\",\n",
       "        \"['nsubj', 'ROOT', 'det', 'compound', 'dobj', 'prep', 'det', 'pobj', 'prep', 'poss', 'amod', 'pobj', 'punct']\",\n",
       "        \"['nsubj', 'ROOT', 'det', 'dobj']\",\n",
       "        \"['nsubj', 'ROOT', 'det', 'compound', 'dobj']\",\n",
       "        \"['nsubj', 'ROOT', 'det', 'compound', 'dobj']\",\n",
       "        \"['nsubj', 'ROOT', 'det', 'amod', 'dobj']\", \"['nsubj', 'ROOT']\",\n",
       "        \"['nsubj', 'ROOT', 'det', 'compound', 'dobj']\",\n",
       "        \"['nsubj', 'ROOT', 'det', 'compound', 'dobj', 'dobj']\",\n",
       "        \"['nsubj', 'ROOT', 'det', 'amod', 'dobj']\",\n",
       "        \"['nsubj', 'ROOT', 'det', 'dobj', 'prep', 'pobj']\",\n",
       "        \"['nsubj', 'ROOT', 'det', 'dobj', 'prep', 'pobj']\",\n",
       "        \"['nsubj', 'ROOT', 'det', 'nmod', 'amod', 'dobj']\",\n",
       "        \"['nsubj', 'ROOT', 'det', 'dobj', 'acl', 'dobj']\",\n",
       "        \"['nsubj', 'ROOT', 'det', 'dobj', 'prep', 'amod', 'pobj']\",\n",
       "        \"['nsubj', 'ROOT', 'det', 'dobj', 'prep', 'amod', 'pobj']\",\n",
       "        \"['nsubj', 'ROOT', 'det', 'amod', 'amod', 'dobj', 'prep', 'det', 'pobj']\",\n",
       "        \"['nsubj', 'ROOT', 'det', 'amod', 'amod', 'dobj', 'prep', 'det', 'pobj']\",\n",
       "        \"['nsubj', 'ROOT', 'det', 'compound', 'dobj', 'prep', 'det', 'pobj']\",\n",
       "        \"['nsubj', 'ROOT', 'det', 'compound', 'dobj', 'prep', 'det', 'pobj']\",\n",
       "        \"['nsubj', 'ROOT', 'dobj', 'prep', 'det', 'pobj']\",\n",
       "        \"['nsubj', 'ROOT', 'compound', 'npadvmod', 'prep', 'det', 'pobj']\",\n",
       "        \"['nsubj', 'ROOT', 'det', 'dobj', 'acl', 'dobj']\",\n",
       "        \"['nsubj', 'ROOT', 'det', 'dobj', 'acl', 'dobj']\",\n",
       "        \"['nsubj', 'ROOT', 'det', 'amod', 'amod', 'dobj', 'prep', 'det', 'pobj']\",\n",
       "        \"['nsubj', 'ROOT', 'dobj', 'prep', 'det', 'pobj']\",\n",
       "        \"['nsubj', 'ROOT', 'compound', 'npadvmod', 'prep', 'det', 'pobj']\",\n",
       "        \"['nsubj', 'ROOT', 'det', 'dobj', 'acl', 'dobj']\",\n",
       "        \"['nsubj', 'ROOT', 'det', 'nmod', 'amod', 'dobj']\",\n",
       "        \"['nsubj', 'ROOT', 'det', 'amod', 'amod', 'dobj', 'prep', 'det', 'pobj']\",\n",
       "        \"['nsubj', 'ROOT', 'det', 'dobj', 'prep', 'det', 'amod', 'pobj', 'punct']\",\n",
       "        \"['nsubj', 'ROOT', 'det', 'dobj', 'prep', 'det', 'amod', 'pobj', 'punct']\",\n",
       "        \"['nsubj', 'ROOT', 'det', 'compound', 'compound', 'dobj', 'prep', 'det', 'pobj', 'punct']\",\n",
       "        \"['nsubj', 'ROOT', 'det', 'dobj', 'prep', 'det', 'compound', 'pobj', 'punct']\",\n",
       "        \"['nsubj', 'ROOT', 'det', 'dobj', 'prep', 'det', 'compound', 'pobj', 'punct']\",\n",
       "        \"['nsubj', 'ROOT', 'det', 'dobj', 'prep', 'det', 'pobj']\",\n",
       "        \"['nsubj', 'ROOT', 'det', 'dobj', 'prep', 'prep', 'det', 'pobj', 'prep', 'det', 'pobj', 'punct']\",\n",
       "        \"['nsubj', 'ROOT', 'poss', 'amod', 'dobj', 'prep', 'det', 'compound', 'pobj', 'punct']\",\n",
       "        \"['nsubj', 'ROOT', 'poss', 'dobj', 'prep', 'det', 'pobj', 'punct']\",\n",
       "        \"['nsubj', 'ROOT', 'poss', 'amod', 'dobj', 'prep', 'det', 'compound', 'pobj', 'punct']\",\n",
       "        \"['nsubj', 'ROOT', 'poss', 'amod', 'dobj', 'prep', 'det', 'compound', 'pobj', 'punct']\",\n",
       "        \"['nsubj', 'ROOT', 'det', 'dobj', 'prep', 'pobj', 'prep', 'det', 'pobj', 'punct']\",\n",
       "        \"['nsubj', 'ROOT', 'det', 'dobj', 'prep', 'pobj', 'prep', 'det', 'pobj', 'punct']\",\n",
       "        \"['nsubj', 'ROOT', 'det', 'dobj', 'prep', 'pobj', 'prep', 'det', 'pobj', 'punct']\",\n",
       "        \"['nsubj', 'ROOT', 'dobj', 'prep', 'amod', 'pobj']\",\n",
       "        \"['nsubj', 'ROOT', 'det', 'dobj', 'prep', 'det', 'amod', 'pobj']\",\n",
       "        \"['nsubj', 'ROOT', 'dobj', 'prep', 'compound', 'pobj']\",\n",
       "        \"['nsubj', 'ROOT', 'compound', 'dobj']\",\n",
       "        \"['nsubj', 'ROOT', 'det', 'dobj', 'prep', 'amod', 'pobj']\",\n",
       "        \"['nsubj', 'ROOT', 'dobj']\",\n",
       "        \"['nsubj', 'ROOT', 'dobj', 'prep', 'amod', 'pobj']\",\n",
       "        \"['nsubj', 'ROOT', 'dobj', 'prep', 'pobj', 'prep', 'det', 'pobj']\",\n",
       "        \"['nsubj', 'ROOT', 'dobj', 'prep', 'pobj']\",\n",
       "        \"['nsubj', 'ROOT', 'compound', 'dobj', 'prep', 'amod', 'pobj', 'prep', 'amod', 'pobj']\",\n",
       "        \"['nsubj', 'ROOT', 'compound', 'dobj', 'prep', 'amod', 'pobj', 'prep', 'amod', 'pobj']\",\n",
       "        \"['nsubj', 'ROOT', 'compound', 'dobj', 'prep', 'amod', 'pobj', 'prep', 'amod', 'pobj']\",\n",
       "        \"['nsubj', 'ROOT', 'det', 'dobj', 'prep', 'pobj', 'prep', 'det', 'pobj']\",\n",
       "        \"['nsubj', 'ROOT', 'det', 'compound', 'dobj', 'prep', 'det', 'pobj']\",\n",
       "        \"['nsubj', 'ROOT', 'det', 'dobj', 'prep', 'det', 'pobj', 'cc', 'conj', 'dobj', 'advmod']\",\n",
       "        \"['nsubj', 'ROOT', 'det', 'amod', 'dobj', 'prep', 'det', 'pobj']\",\n",
       "        \"['nsubj', 'ROOT', 'det', 'compound', 'dobj', 'prep', 'det', 'pobj']\",\n",
       "        \"['nsubj', 'ROOT', 'det', 'amod', 'dobj', 'prep', 'det', 'pobj']\",\n",
       "        \"['nsubj', 'ROOT', 'det', 'compound', 'dobj', 'prep', 'det', 'pobj']\"],\n",
       "       dtype=object),\n",
       " 'narrations': array(['CameraWearer takes the iron box', 'CameraWearer takes the bucket',\n",
       "        'CameraWearer takes the paint with a paint brush',\n",
       "        'CameraWearer takes the paint with a paint brush',\n",
       "        'CameraWearer takes the paint with a paint brush',\n",
       "        'CameraWearer takes the paint with a paint brush',\n",
       "        'CameraWearer takes the paint with a paint brush',\n",
       "        'CameraWearer takes the paint with a paint brush',\n",
       "        'CameraWearer takes the paint with a paint brush',\n",
       "        'CameraWearer takes the paint with a paint brush',\n",
       "        'CameraWearer takes the paint', 'CameraWearer takes the paint',\n",
       "        'CameraWearer takes the paint', 'Man Y takes the bucket',\n",
       "        'CameraWearer takes the paint with a roller',\n",
       "        'CameraWearer takes paint roller',\n",
       "        'CameraWearer takes paint brush',\n",
       "        'CameraWearer takes paint roller',\n",
       "        'CameraWearer takes paint brush', 'CameraWearer takes the paper',\n",
       "        'CameraWearer takes Putty knife', 'CameraWearer Takes the phone',\n",
       "        'CameraWearer takes a glass', 'CameraWearer takes a glass',\n",
       "        'CameraWearer takes a glass', 'CameraWearer takes a mug',\n",
       "        'CameraWearer takes a mug', 'CameraWearer takes a mug',\n",
       "        'CameraWearer takes potato peeler', 'CameraWearer takes a spoon',\n",
       "        'CameraWearer takes a wooden spoon', 'CameraWearer takes a glass',\n",
       "        'CameraWearer takes a plate', 'CameraWearer takes plastic tin',\n",
       "        'CameraWearer takes manual grater', 'CameraWearer takes a plate',\n",
       "        'CameraWearer takes a kitchen towel',\n",
       "        'CameraWearer takes liquid soap bottle',\n",
       "        'CameraWearer takes a kitchen sponge.',\n",
       "        'CameraWearer takes the tissue from the floor',\n",
       "        'CameraWearer takes an hydraulic bottle from the floor',\n",
       "        'CameraWearer takes a tissue from the floor',\n",
       "        'CameraWearer takes a tissue from the floor',\n",
       "        'CameraWearer takes a spanner from the floor',\n",
       "        'CameraWearer takes an hydraulic bottle from the floor',\n",
       "        'CameraWearer takes the tissue from his left hand',\n",
       "        'CameraWearer takes a card pack from the table',\n",
       "        'CameraWearer takes a pack from the table',\n",
       "        'CameraWearer takes chalk from the table',\n",
       "        'CameraWearer takes a card pack from the floor',\n",
       "        'CameraWearer takes some parts from the table',\n",
       "        'CameraWearer takes a key from the tool rack on the wall',\n",
       "        'CameraWearer takes the circuit cover from the motorcycle feet rest',\n",
       "        'CameraWearer takes papers',\n",
       "        'CameraWearer takes Terminal Wiring Connector Socket Plug',\n",
       "        'CameraWearer takes the spectacles from the table',\n",
       "        'CameraWearer takes the wire from the ground',\n",
       "        'CameraWearer takes Wire Speed and Length Meter YS-TR from the cupboard',\n",
       "        'CameraWearer takes two woods from the table',\n",
       "        'CameraWearer takes two small wood pieces from the table',\n",
       "        'CameraWearer takes a wood from the table',\n",
       "        'CameraWearer takes a nail gun from the table with his left hand',\n",
       "        'CameraWearer takes the nail gun with his right hand',\n",
       "        'CameraWearer takes nail gun with his left hand',\n",
       "        'CameraWearer takes two woods from the table',\n",
       "        'CameraWearer takes the two woods with his right hand',\n",
       "        'CameraWearer takes a wood from the table',\n",
       "        'CameraWearer takes the wood with his right hand',\n",
       "        'CameraWearer takes the wood from the wood stack',\n",
       "        'CameraWearer takes a wood stack from the table',\n",
       "        'CameraWearer takes a piece of wood',\n",
       "        'CameraWearer takes the flour on the metal table.',\n",
       "        'CameraWearer takes the flour on the metal table.',\n",
       "        'CameraWearer takes a flour from the table.',\n",
       "        'CameraWearer takes a flour from the table.',\n",
       "        'CameraWearer takes a flour from the table.',\n",
       "        'CameraWearer takes a flour from the table.',\n",
       "        'CameraWearer takes a flour from the table.',\n",
       "        'CameraWearer takes a flour from the table.',\n",
       "        'CameraWearer takes a flour from the table.',\n",
       "        'CameraWearer takes a flour from the table.',\n",
       "        'CameraWearer takes some grains from the metal bowl.',\n",
       "        'CameraWearer takes some grains from the metal bowl.',\n",
       "        'CameraWearer takes some grains from the metal bowl.',\n",
       "        'CameraWearer takes some grains from the metal bowl.',\n",
       "        'CameraWearer takes some grains from the metal bowl.',\n",
       "        'CameraWearer takes some grains from the metal bowl.',\n",
       "        'CameraWearer takes some grains from the metal bowl.',\n",
       "        'CameraWearer takes a flour from the table.',\n",
       "        'CameraWearer takes flour from the table.',\n",
       "        'CameraWearer takes flour from the table.',\n",
       "        'CameraWearer takes a bench scrapper from the table.',\n",
       "        'CameraWearer takes a brad from the basket.',\n",
       "        'CameraWearer takes flour from a heap on the work table.',\n",
       "        'CameraWearer takes flour from a heap on the work table.',\n",
       "        'CameraWearer takes flour from a heap on the work table.',\n",
       "        'CameraWearer takes flour from a bag of flour with the yellow bowl.',\n",
       "        'CameraWearer takes soap from a bottle of soap on the counter with her right hand.',\n",
       "        'CameraWearer takes the onions from the chopping board',\n",
       "        'CameraWearer takes the onions from the chopping board',\n",
       "        'CameraWearer takes the onions from the chopping board',\n",
       "        'CameraWearer takes a cooking pan from the cooker',\n",
       "        'CameraWearer takes water with the cooking pan',\n",
       "        'CameraWearer takes lids', 'CameraWearer takes lids',\n",
       "        'CameraWearer takes trowel', 'CameraWearer takes lid',\n",
       "        'CameraWearer takes from soil', 'CameraWearer takes a container',\n",
       "        'CameraWearer takes brush', 'CameraWearer takes another brush',\n",
       "        'CameraWearer takes another brush',\n",
       "        'CameraWearer takes the leaves remnant from the table into a flower pot',\n",
       "        'CameraWearer takes some plant debris from one flower pot into another one with his right hand',\n",
       "        'CameraWearer takes sand from a flower pot into another',\n",
       "        'CameraWearer takes our sand from the sack into a flower pot',\n",
       "        'CameraWearer takes the trowel from a flower pot',\n",
       "        'CameraWearer takes another plant from the table',\n",
       "        'CameraWearer takes the trowel from the inside of a flower pot',\n",
       "        'CameraWearer takes the trowel from the inside of a flower pot',\n",
       "        'CameraWearer takes soil from the polythene bag',\n",
       "        'CameraWearer takes soil from the polythene bag',\n",
       "        'CameraWearer takes soil from the polythene bag',\n",
       "        'CameraWearer takes soil from the polythene bag',\n",
       "        'CameraWearer takes soil from the polythene bag',\n",
       "        'CameraWearer takes soil from the polythene bag',\n",
       "        'CameraWearer takes soil from the polythene bag',\n",
       "        'CameraWearer takes soil from the polythene bag',\n",
       "        'CameraWearer takes soil from the polythene bag',\n",
       "        'CameraWearer takes soil from the polythene bag',\n",
       "        'CameraWearer takes soil from the polythene bag',\n",
       "        'CameraWearer takes the planters to the balcony.',\n",
       "        'CameraWearer takes the planters to the balcony.',\n",
       "        'CameraWearer takes soil from the soil bag',\n",
       "        'CameraWearer takes soil from the soil bag',\n",
       "        'CameraWearer takes soil from the soil bag',\n",
       "        'CameraWearer takes soil from the soil bag',\n",
       "        'CameraWearer takes soil from the soil bag',\n",
       "        'CameraWearer takes soil from the soil bag',\n",
       "        'CameraWearer takes soil from the soil bag',\n",
       "        'CameraWearer takes soil from the soil bag',\n",
       "        'CameraWearer takes soil from the soil bag',\n",
       "        'CameraWearer takes soil from the soil bag using the hand spade',\n",
       "        'CameraWearer takes soil from the soil bag using the hand spade',\n",
       "        'CameraWearer takes soil from the soil bag using the hand spade',\n",
       "        'CameraWearer takes soil from the soil bag using the hand spade',\n",
       "        'CameraWearer takes soil from the soil bag using the hand spade',\n",
       "        'CameraWearer takes soil from the soil bag using the hand spade',\n",
       "        'CameraWearer takes soil from the soil bag using the hand spade',\n",
       "        'CameraWearer takes soil from the soil bag using the hand spade',\n",
       "        'CameraWearer  C takes soil from the soil bag using the hand spade',\n",
       "        'CameraWearer takes garden hand trowel',\n",
       "        'CameraWearer takes garden hand trowel',\n",
       "        'CameraWearer takes the bladder with left hand',\n",
       "        'CameraWearer takes from the box',\n",
       "        'CameraWearer takes salt from the container with his right hand',\n",
       "        'CameraWearer takes spice from the can with his right hand.',\n",
       "        'CameraWearer takes spice from the can with his right hand.',\n",
       "        'CameraWearer takes a scrub sponge.',\n",
       "        'CameraWearer takes a plate.', 'CameraWearer takes a plate.',\n",
       "        'CameraWearer takes a plate.', 'CameraWearer takes a plate.',\n",
       "        'CameraWearer takes a steel wool.',\n",
       "        'CameraWearer takes a scrub sponge.',\n",
       "        'CameraWearer takes a plate.', 'CameraWearer takes a plate.',\n",
       "        'CameraWearer takes the steel wool.',\n",
       "        'CameraWearer takes the scrub sponge.',\n",
       "        'CameraWearer takes the steel wool.',\n",
       "        'CameraWearer takes the scrub sponge.',\n",
       "        'CameraWearer takes a plate.', 'CameraWearer takes a plate.',\n",
       "        'CameraWearer takes some plates.', 'CameraWearer takes a fork.',\n",
       "        'CameraWearer takes a fork.', 'CameraWearer takes a knife.',\n",
       "        'CameraWearer takes a spoon.', 'CameraWearer takes a spoon.',\n",
       "        'CameraWearer takes a plate.', 'CameraWearer takes a steel wool.',\n",
       "        'CameraWearer takes the scrub sponge.',\n",
       "        'CameraWearer takes a plate.', 'CameraWearer takes a plate.',\n",
       "        'CameraWearer takes a plate.', 'CameraWearer takes a bowl.',\n",
       "        'CameraWearer takes a plate and a fork.',\n",
       "        'CameraWearer takes a plate.', 'CameraWearer takes a plate.',\n",
       "        'CameraWearer takes a plate.',\n",
       "        'CameraWearer takes a cannister from a shelf',\n",
       "        'CameraWearer takes a wrench from a rack',\n",
       "        'CameraWearer takes a bolt from the table',\n",
       "        'CameraWearer takes another iron on the table',\n",
       "        'CameraWearer takes the iron from the machine',\n",
       "        'CameraWearer takes a bolt from the table with his left hand',\n",
       "        'CameraWearer takes the card from the table.',\n",
       "        'CameraWearer takes the card from the table.',\n",
       "        'CameraWearer takes the card from the table.',\n",
       "        'CameraWearer takes a card from a pile on the table.',\n",
       "        'CameraWearer takes the card from the table',\n",
       "        'Man O takes the card from the table',\n",
       "        'Man O takes the cards from the table.',\n",
       "        'Man O takes the cards on the table.',\n",
       "        'CameraWearer takes the card on the table with his left hand.',\n",
       "        'Man O takes the cards from the table.',\n",
       "        'Woman P takes her cards from the table.',\n",
       "        'Man Q takes his cards from the table.',\n",
       "        'Man O takes his cards from the table.',\n",
       "        'Woman B takes the cards at the center of the table.',\n",
       "        'Woman B takes the cards at the center of the table.',\n",
       "        'Woman B takes the cards from the table.',\n",
       "        'CameraWearer takes the cards from the table.',\n",
       "        'CameraWearer takes two steps backward with the lawn mower',\n",
       "        'CameraWearer takes a tray from the shelf trolley to the kneading table with his gloved hands.',\n",
       "        'CameraWearer takes the dough cutter from his gloved right hand with his gloved left hand.',\n",
       "        'CameraWearer takes a new sheet of baking paper from a shelf trolley with his gloved hands.',\n",
       "        'CameraWearer takes the small piece of dough from his gloved left hand with his gloved right hand.',\n",
       "        'CameraWearer takes a piece of dough from his gloved left hand with his gloved right hand.',\n",
       "        'CameraWearer takes a piece of dough from his gloved left hand with his gloved right hand.',\n",
       "        'CameraWearer takes a piece of dough from his gloved left hand with his gloved right hand.',\n",
       "        'CameraWearer takes a piece of dough from his gloved left hand with his gloved right hand.',\n",
       "        'CameraWearer takes the piece of dough from his gloved left hand with his gloved right hand.',\n",
       "        'CameraWearer takes the piece of dough from his gloved left hand with his gloved right hand.',\n",
       "        'CameraWearer takes the piece of dough from his gloved left hand with his gloved right hand.',\n",
       "        'CameraWearer takes the piece of dough from his gloved left hand with his gloved right hand.',\n",
       "        'CameraWearer takes the speck of dirt from his gloved left hand with his gloved right hand.',\n",
       "        'CameraWearer takes a bowl with a brush inside from the top of the oven with his gloved right hand.',\n",
       "        'CameraWearer takes a bottle of oil from a shelf with his gloved right hand.',\n",
       "        'CameraWearer takes the brush from the bowl of oil with his gloved right hand.',\n",
       "        'CameraWearer takes the bowl from his gloved left hand with his gloved right hand.',\n",
       "        'CameraWearer takes the yellow scoop from his gloved right hand with his gloved left hand.',\n",
       "        'CameraWearer takes some dough from the bucket with his gloved hands.',\n",
       "        'CameraWearer takes some dough from the bucket on the floor with his gloved hands.',\n",
       "        'CameraWearer takes a jug of water from a sink with his gloved right hand.',\n",
       "        'CameraWearer takes a bucket from the top of a bucket with his left gloved hand.',\n",
       "        'CameraWearer takes the bucket from his left gloved hand with his right gloved hand.',\n",
       "        'CameraWearer takes the scoop from the bag with his gloved right hand.',\n",
       "        'CameraWearer takes a scoop of flour from the bag with his gloved right hand.',\n",
       "        'CameraWearer takes a scoop of flour from the bag with his gloved right hand.',\n",
       "        'CameraWearer takes a scoop of flour from the bag with his gloved right hand.',\n",
       "        'CameraWearer takes a scoop of flour from the bag with his gloved right hand.',\n",
       "        'CameraWearer takes a scoop of flour from the bag with his gloved right hand.',\n",
       "        'CameraWearer takes a cup of flour from the bag with his gloved right hand.',\n",
       "        'CameraWearer takes the scoop from the bag into the bucket with his gloved right hand.',\n",
       "        'CameraWearer takes the yellow scoop from his gloved left hand with his gloved right hand.',\n",
       "        'CameraWearer takes the lid of the bucket on the floor with his gloved right hand.',\n",
       "        'CameraWearer takes the purple cup of sugar from his right gloved hand with his left gloved hand.',\n",
       "        'CameraWearer takes the purple cup of sugar from his left gloved hand with his right gloved hand.',\n",
       "        'CameraWearer takes a bowl of egg wash out of the fridge with his gloved right hand.',\n",
       "        'CameraWearer takes the serviette from the kneading table with his gloved right hand',\n",
       "        'CameraWearer takes a cup from the bowl with his gloved right hand.',\n",
       "        'CameraWearer takes the bowl from his gloved left hand with his gloved right hand.',\n",
       "        'CameraWearer takes a scoop out of the bag of flour with his gloved right hand.',\n",
       "        'CameraWearer takes some flour with the scoop from the bag of flour with his gloved right hand.',\n",
       "        'CameraWearer takes some flour with the scoop from the bag of flour with his gloved right hand.',\n",
       "        'CameraWearer takes the yellow scoop from his gloved right hand with his gloved left hand.',\n",
       "        'CameraWearer takes the cup from the bowl cover with his gloved right hand.',\n",
       "        'CameraWearer takes some flour from the bowl with the cup in his gloved right hand.',\n",
       "        'CameraWearer takes some flour from the bowl with the cup in his gloved right hand.',\n",
       "        'CameraWearer takes some flour from the bowl with the cup in his gloved right hand.',\n",
       "        'CameraWearer takes some flour from the bowl with the cup in his gloved right hand.',\n",
       "        'CameraWearer takes a packet of yeast from the top of a bucket with his gloved right hand.',\n",
       "        'CameraWearer takes water from the tap with the jug in his gloved right hand.',\n",
       "        'CameraWearer takes the baking board to the baking table.',\n",
       "        'CameraWearer takes his right leg away from the pumping machine',\n",
       "        'CameraWearer takes the head of a pipe.',\n",
       "        'CameraWearer takes a welding saw from the cabinet with his right hand.',\n",
       "        'The man B takes the bicycle wheel from C.',\n",
       "        'CameraWearer takes a plug pin protector from the cabinet with his right hand.',\n",
       "        'CameraWearer takes a bottle', 'CameraWearer takes a spare part',\n",
       "        'CameraWearer takes a phone', 'CameraWearer takes a screw',\n",
       "        'CameraWearer takes a bottle', 'CameraWearer takes the screw',\n",
       "        'CameraWearer takes a piece of cloth',\n",
       "        'CameraWearer takes a tool box', 'CameraWearer takes a pencil',\n",
       "        'CameraWearer takes a hammer',\n",
       "        'CameraWearer takes the bicycle spare part',\n",
       "        'CameraWearer takes the phone',\n",
       "        'CameraWearer takes the spare part',\n",
       "        'CameraWearer takes a spanner', 'CameraWearer takes a spanner',\n",
       "        'CameraWearer takes a hammer',\n",
       "        'CameraWearer takes a piece of cloth',\n",
       "        'CameraWearer takes a bicycle spare part',\n",
       "        'CameraWearer takes bicycle wheel',\n",
       "        'CameraWearer takes a grinder machine',\n",
       "        'CameraWearer takes a wheel',\n",
       "        'CameraWearer takes the grinder machine',\n",
       "        'CameraWearer takes the grinder machine',\n",
       "        'CameraWearer takes a metal sharpener tool',\n",
       "        'CameraWearer takes a bicycle spare part',\n",
       "        'CameraWearer takes a bicycle spare part',\n",
       "        'CameraWearer takes the bicycle handle bars',\n",
       "        'CameraWearer takes the grinder machine',\n",
       "        'CameraWearer takes a hammer',\n",
       "        'CameraWearer takes a bicycle spare part',\n",
       "        'CameraWearer takes a metal sharpener tool',\n",
       "        'CameraWearer takes the metal sharpener tool',\n",
       "        'CameraWearer takes the metal sharpener tool',\n",
       "        'CameraWearer takes the metal sharpener tool',\n",
       "        'CameraWearer takes the metal sharpener tool',\n",
       "        'CameraWearer takes a bicycle spare part',\n",
       "        'CameraWearer takes a tool box', 'CameraWearer takes a nut',\n",
       "        'CameraWearer takes a nut', 'CameraWearer takes a nut',\n",
       "        'CameraWearer takes a metal tool', 'CameraWearer takes the nut',\n",
       "        'CameraWearer takes the nut',\n",
       "        'CameraWearer takes a chain from the box of tools.',\n",
       "        'CameraWearer takes some rims from the box of tools with his left hand.',\n",
       "        'CameraWearer takes a pedal from the box of tools.',\n",
       "        'CameraWearer takes a chain ring from the box of tools.',\n",
       "        'CameraWearer takes a container of lubricant from a shelf.',\n",
       "        'CameraWearer takes a welder from a hanger.',\n",
       "        'CameraWearer takes a plate from a wall holder.',\n",
       "        'CameraWearer takes a plier from the stool.',\n",
       "        'CameraWearer takes the chain ring from the table.',\n",
       "        'CameraWearer takes the pedal from the table.',\n",
       "        'CameraWearer takes the nut from the table.',\n",
       "        'CameraWearer takes a waist purse from the table.',\n",
       "        'CameraWearer takes the bag',\n",
       "        'CameraWearer takes stool under the table',\n",
       "        'CameraWearer takes the box from the shelf',\n",
       "        'CameraWearer takes a few steps away from the foldable laundry rack.',\n",
       "        'CameraWearer takes some flour from an aluminum bowl with his right hand.',\n",
       "        'CameraWearer takes dough from the table with his right hand.',\n",
       "        'CameraWearer takes the dough from the table with his left hand.',\n",
       "        'CameraWearer takes a plastic container from the cupboard with his left hand.',\n",
       "        'CameraWearer takes a dough cutter',\n",
       "        'CameraWearer takes tray out of tray stand',\n",
       "        'CameraWearer takes tray out of tray stand',\n",
       "        'CameraWearer takes tray out of stand',\n",
       "        'CameraWearer takes fabric from table',\n",
       "        'CameraWearer takes dough with hands',\n",
       "        'CameraWearer takes tray out of tray stand',\n",
       "        'CameraWearer takes tray out of tray stand',\n",
       "        'CameraWearer takes doughs by hand',\n",
       "        'CameraWearer takes tray out of tray stand',\n",
       "        'CameraWearer takes tray out of tray stand',\n",
       "        'CameraWearer takes dough with hands',\n",
       "        'CameraWearer takes tray out of tray stand',\n",
       "        'CameraWearer takes doughs with hands',\n",
       "        'CameraWearer takes dough cutter',\n",
       "        'CameraWearer takes tray from tray stand',\n",
       "        'CameraWearer takes flour from the flour bowl.',\n",
       "        'CameraWearer takes the dough from the mixing bowl.',\n",
       "        'CameraWearer takes the flour bowl.', 'CameraWearer takes',\n",
       "        'CameraWearer takes the baking steel.',\n",
       "        'CameraWearer takes the baking steel.',\n",
       "        'CameraWearer takes the baking steel.',\n",
       "        'CameraWearer takes the baking steel.',\n",
       "        'CameraWearer takes the baking steel.',\n",
       "        'CameraWearer takes the lid.',\n",
       "        'CameraWearer takes the baking paper.',\n",
       "        'CameraWearer takes the dough.', 'CameraWearer takes the dough.',\n",
       "        'CameraWearer takes tray', 'CameraWearer takes tray',\n",
       "        'CameraWearer takes', 'CameraWearer takes drain basket',\n",
       "        'CameraWearer takes a kitchen towel', 'CameraWearer takes tray',\n",
       "        'CameraWearer takes a ring spanner',\n",
       "        'CameraWearer takes ring spanner',\n",
       "        'CameraWearer takes ring spanner',\n",
       "        'CameraWearer takes a cold chisel', 'CameraWearer takes the tire',\n",
       "        'CameraWearer takes the chisel',\n",
       "        'CameraWearer takes a rope from a bunch of rope on her waist',\n",
       "        'CameraWearer takes the rope from her mouth',\n",
       "        'CameraWearer takes a rope from a bunch of rope on her waist',\n",
       "        'CameraWearer takes a pruner from a fanny pack on her waist',\n",
       "        'CameraWearer takes the plant from her mouth',\n",
       "        'CameraWearer takes a rope from a bunch of rope on her waist',\n",
       "        'CameraWearer takes a rope from the bunch of rope on her waist',\n",
       "        'CameraWearer takes a rope from the bunch of rope on her waist',\n",
       "        'CameraWearer takes a rope from the bunch of rope on her waist',\n",
       "        'CameraWearer takes a rope from the bunch of rope on her waist',\n",
       "        'CameraWearer takes a rope from the bunch of rope on her waist',\n",
       "        'CameraWearer takes several ropes from the bunch of rope on her waist',\n",
       "        'CameraWearer takes the rope from her mouth',\n",
       "        'CameraWearer takes some ropes from a bunch of rope on his waist',\n",
       "        'CameraWearer takes a rope from the bunch of rope on his waist',\n",
       "        'CameraWearer takes the rope from his mouth',\n",
       "        'CameraWearer takes a rope from the bunch of rope on his waist',\n",
       "        'CameraWearer takes the rope from his mouth',\n",
       "        'CameraWearer takes the sisal fiber from his mouth',\n",
       "        'CameraWearer takes the sisal fiber from his mouth',\n",
       "        'CameraWearer takes the connected plug on the wall with his left hand',\n",
       "        'CameraWearer takes his right hand off the blue wire.',\n",
       "        'CameraWearer takes a few steps forward.',\n",
       "        'CameraWearer takes a spray bottle',\n",
       "        'CameraWearer takes his sun glasses',\n",
       "        'CameraWearer takes the cleaning duster cloth holder',\n",
       "        'CameraWearer takes the polythene paper',\n",
       "        'CameraWearer takes the leather jacket in the boot',\n",
       "        'CameraWearer takes the denim jacket',\n",
       "        'CameraWearer takes the knot from his left palm.',\n",
       "        'CameraWearer takes a hedge shear from the top of a red basket in a farm.',\n",
       "        'CameraWearer takes a pack from the shelf',\n",
       "        'CameraWearer takes a plier from the drawer',\n",
       "        'CameraWearer takes a wrench from the table',\n",
       "        'CameraWearer takes the pack from the table',\n",
       "        'CameraWearer takes a felt material',\n",
       "        'CameraWearer takes the motorcycle body part',\n",
       "        'CameraWearer takes the other motorcycle body part on the table',\n",
       "        'CameraWearer takes the cable',\n",
       "        'CameraWearer takes the screw driver',\n",
       "        'CameraWearer takes the boxes', 'CameraWearer takes the box',\n",
       "        'CameraWearer takes the nails',\n",
       "        'CameraWearer takes the screw driver',\n",
       "        'CameraWearer takes the screw',\n",
       "        'CameraWearer takes another screw in his pocket',\n",
       "        'CameraWearer takes another screw in his pocket',\n",
       "        'CameraWearer takes', 'CameraWearer takes the screw',\n",
       "        'CameraWearer takes flour from the bowl.',\n",
       "        'CameraWearer takes black beans', 'CameraWearer takes baking ball',\n",
       "        'CameraWearer takes baking ball', 'CameraWearer takes baking ball',\n",
       "        'CameraWearer takes baking ball', 'CameraWearer takes baking ball',\n",
       "        'CameraWearer takes baking ball', 'CameraWearer takes baking ball',\n",
       "        'CameraWearer takes the cleaver knife',\n",
       "        'CameraWearer takes the polythene bag',\n",
       "        'CameraWearer takes baking ball',\n",
       "        'CameraWearer takes the cleaver knife',\n",
       "        'CameraWearer takes the baking ball',\n",
       "        'CameraWearer takes the cleaver knife',\n",
       "        'CameraWearer takes baking ball', 'CameraWearer takes baking ball',\n",
       "        'CameraWearer takes baking ball', 'CameraWearer takes baking ball',\n",
       "        'CameraWearer takes baking ball',\n",
       "        'CameraWearer takes a tray from the shelf',\n",
       "        'CameraWearer takes baking ball',\n",
       "        'CameraWearer takes the clever knife',\n",
       "        'CameraWearer takes the clever knife',\n",
       "        'CameraWearer takes the clever knife',\n",
       "        'CameraWearer takes a baking ball',\n",
       "        'CameraWearer takes a baking ball',\n",
       "        'CameraWearer takes the clever knife',\n",
       "        'CameraWearer takes the clever knife',\n",
       "        'CameraWearer takes the paint brush',\n",
       "        'CameraWearer takes the bucket',\n",
       "        'CameraWearer takes the scissors placed on the table',\n",
       "        'CameraWearer takes the cooking pot placed on the table',\n",
       "        'CameraWearer takes the timber blocks placed in the cooking pot',\n",
       "        'CameraWearer takes the scissors placed on the table',\n",
       "        'CameraWearer takes the piece of fabric',\n",
       "        'CameraWearer takes a safety glasses beneath the black bag.',\n",
       "        'CameraWearer takes the glove from on top the sink',\n",
       "        'CameraWearer takes the glove from on top the sink',\n",
       "        'CameraWearer takes a foam from on top a plate',\n",
       "        'CameraWearer takes an iron sponge from on top the sink',\n",
       "        'CameraWearer takes plate from on top the sink',\n",
       "        'CameraWearer takes foam from the sink',\n",
       "        'CameraWearer takes a glove.', 'CameraWearer takes a glove.',\n",
       "        'CameraWearer takes a sponge.',\n",
       "        'CameraWearer takes a candle holder.', 'CameraWearer takes',\n",
       "        'CameraWearer takes a plate.', 'CameraWearer takes a lid.',\n",
       "        'CameraWearer takes a steel wool.',\n",
       "        'CameraWearer takes the sponge.', 'CameraWearer takes a plate.',\n",
       "        'CameraWearer takes a spoon.', 'CameraWearer takes the sponge.',\n",
       "        'CameraWearer takes black glue from the container his right hand.',\n",
       "        'CameraWearer takes two puncture patch from the box with his left hand.',\n",
       "        'CameraWearer takes his right hand off the polaroid camera',\n",
       "        'CameraWearer takes his right hand off the Polaroid camera box.',\n",
       "        'CameraWearer takes the cotton', 'CameraWearer takes the cotton',\n",
       "        'CameraWearer takes cotton tipped applicator',\n",
       "        'CameraWearer takes cotton', 'CameraWearer takes the tool box',\n",
       "        'CameraWearer takes the book',\n",
       "        'CameraWearer takes plates from the drawer.',\n",
       "        'CameraWearer takes a couple of sand papers',\n",
       "        'CameraWearer takes another sand paper',\n",
       "        'CameraWearer takes a piece of material',\n",
       "        'CameraWearer takes a brush', 'CameraWearer takes the lid',\n",
       "        'CameraWearer takes the board', 'CameraWearer takes gloves',\n",
       "        'CameraWearer takes a huge spatula',\n",
       "        'CameraWearer takes some cardboards from the table.',\n",
       "        'CameraWearer takes a small brush.',\n",
       "        'CameraWearer takes a small piece of the cardboard.',\n",
       "        'CameraWearer takes another cardboard.',\n",
       "        'CameraWearer takes more small cardboards.',\n",
       "        'CameraWearer takes the brush.',\n",
       "        'CameraWearer takes a small piece of the cardboard.',\n",
       "        'CameraWearer takes another cardboard.',\n",
       "        'CameraWearer takes the brush.',\n",
       "        'CameraWearer takes a small piece of cardboard.',\n",
       "        'CameraWearer takes another small cardboard.',\n",
       "        'CameraWearer takes a another cardboard.',\n",
       "        'CameraWearer takes a brush on the table.',\n",
       "        'CameraWearer takes the smaller cardboard.',\n",
       "        'CameraWearer takes the brush.', 'CameraWearer takes a ruler.',\n",
       "        'CameraWearer takes a cutter knife.',\n",
       "        'CameraWearer takes some cardboards on the table.',\n",
       "        'CameraWearer takes one cardboard.',\n",
       "        'CameraWearer takes the cutter knife.',\n",
       "        'CameraWearer takes another cardboard.',\n",
       "        'CameraWearer takes the cutter knife.',\n",
       "        'CameraWearer takes another cardboard.',\n",
       "        'CameraWearer takes the cutter knife.',\n",
       "        'CameraWearer takes another cardboards.',\n",
       "        'CameraWearer takes another cardboard.',\n",
       "        'CameraWearer takes a ruler.',\n",
       "        'CameraWearer takes the cutter knife.',\n",
       "        'CameraWearer takes another cardboard.',\n",
       "        'CameraWearer takes the cutter knife.',\n",
       "        'CameraWearer takes another cardboard.',\n",
       "        'CameraWearer takes the cutter knife.',\n",
       "        'CameraWearer takes another cardboard.',\n",
       "        'CameraWearer takes the cutter knife.',\n",
       "        'CameraWearer takes another cardboard.',\n",
       "        'CameraWearer takes the cutter knife.',\n",
       "        'CameraWearer takes another cardboard.',\n",
       "        'CameraWearer takes the cutter knife.',\n",
       "        'CameraWearer takes another cardboard.',\n",
       "        'CameraWearer takes the cutter knife.',\n",
       "        'CameraWearer takes another cardboard.',\n",
       "        'CameraWearer takes the cutter knife.',\n",
       "        'CameraWearer takes the cutter knife.',\n",
       "        'CameraWearer takes another cardboard.',\n",
       "        'CameraWearer takes the cutter knife.',\n",
       "        'CameraWearer takes a cell tape',\n",
       "        'CameraWearer takes sponge out of water',\n",
       "        'CameraWearer takes the sponge out of water',\n",
       "        'CameraWearer takes the paper alphabet with her left hand',\n",
       "        'CameraWearer takes the pincer with her left hand',\n",
       "        'CameraWearer takes the pincer with her right hand',\n",
       "        'CameraWearer takes the pincer with her left hand',\n",
       "        'CameraWearer takes the pincer with her right hand',\n",
       "        'CameraWearer takes a rag from the lift with his left hand',\n",
       "        'CameraWearer take a paper from the container with his left hand.',\n",
       "        'CameraWearer takes a pack on the lift with his left hand.',\n",
       "        'CameraWearer takes a brake shoe in his left hand with his right hand.',\n",
       "        'CameraWearer takes a sand paper from a container on a table with his right hand.',\n",
       "        'CameraWearer takes a washer gun sprayer from the ground.',\n",
       "        'CameraWearer takes the washer gun from the ground.',\n",
       "        'CameraWearer takes a part of the motorbike from the carton with his left hand.',\n",
       "        'Person X takes the piece of metal', 'CameraWearer takes a pen.',\n",
       "        'CameraWearer takes driller from the floor',\n",
       "        'CameraWearer takes a iron from the box in the van',\n",
       "        'CameraWearer takes an iron from the box in the van',\n",
       "        'CameraWearer takes a steel bowl out of the paper bag',\n",
       "        'CameraWearer takes his hand out of the paper bag',\n",
       "        'CameraWearer takes water with the cup from a plastic container',\n",
       "        'CameraWearer takes water with the cup from the plastic container',\n",
       "        'CameraWearer takes water with the cup from the plastic container',\n",
       "        'CameraWearer takes the lid off the fourth container.',\n",
       "        'CameraWearer takes a handful of powder from the second bag.',\n",
       "        'CameraWearer takes a handful of powder from the bowl.',\n",
       "        'CameraWearer takes a handful of powder from the bowl on the table.',\n",
       "        'CameraWearer takes the baking tray away from the table',\n",
       "        'CameraWearer takes some grains from the bowl on the table',\n",
       "        'CameraWearer takes a cling wrap',\n",
       "        'CameraWearer takes the dough from the bucket',\n",
       "        'CameraWearer takes the cheddar cheese placed on the table',\n",
       "        'CameraWearer takes the cheddar cheese slicer placed on the table',\n",
       "        'CameraWearer takes the cheddar cheese pieces',\n",
       "        'CameraWearer takes the cheddar cheese',\n",
       "        'CameraWearer takes the lid placed on the table to cover the food cup',\n",
       "        'CameraWearer takes a plier from the shelf with right hand.',\n",
       "        'CameraWearer takes a screw from a container with left hand.',\n",
       "        'CameraWearer takes a drill from the drawer.',\n",
       "        'CameraWearer takes a hand drill',\n",
       "        'CameraWearer takes the drill bit from the drill',\n",
       "        'CameraWearer takes a drill bit',\n",
       "        'CameraWearer takes the spoke with right hand',\n",
       "        'CameraWearer takes the break wire case from a table.',\n",
       "        'CameraWearer takes a glue from a nail on the wall.',\n",
       "        'The man X takes a plier from the stool.',\n",
       "        'CameraWearer takes a container from a carton on the table',\n",
       "        'CameraWearer takes a bottle from the table with left hand',\n",
       "        'CameraWearer takes the a screwdriver.',\n",
       "        'CameraWearer takes dimension of the piece of wood with the Vernier Caliper.',\n",
       "        'CameraWearer takes the Vernier Caliper off the piece of wood.',\n",
       "        'CameraWearer takes dimension of the piece of wood with the Vernier Caliper.',\n",
       "        'CameraWearer takes the Vernier Caliper off the piece of wood.',\n",
       "        'CameraWearer takes his right hand off the handle of the lathe machine.',\n",
       "        'CameraWearer takes the chisel off the piece of wood.',\n",
       "        'CameraWearer takes chisel off the piece of wood.',\n",
       "        'CameraWearer takes a roller', 'CameraWearer takes the paintbrush',\n",
       "        'CameraWearer takes the water spray gun',\n",
       "        'CameraWearer takes another spanner from the motorcycle on the lift with his right hand.',\n",
       "        'CameraWearer takes his right hand off the front yard fence',\n",
       "        'CameraWearer takes the brush away from the tin',\n",
       "        'CameraWearer takes the brush off the front yard fence',\n",
       "        'CameraWearer takes the brush off the front yard fence',\n",
       "        'CameraWearer takes the brush off the front yard fence',\n",
       "        'CameraWearer takes the brush away from the tin',\n",
       "        'CameraWearer takes oil', 'CameraWearer takes his left hand away.',\n",
       "        'CameraWearer takes his left hand off the pipe.',\n",
       "        '. C takes the cable tie under the table.',\n",
       "        'CameraWearer takes the scissors under the table.',\n",
       "        'CameraWearer takes the pack of cable tie towards the table.',\n",
       "        'CameraWearer takes the scissors towards the table.',\n",
       "        'CameraWearer takes the cable tie towards the table.',\n",
       "        'CameraWearer takes the scissors towards the table.',\n",
       "        'CameraWearer takes a black cloth from the container.',\n",
       "        'CameraWearer takes the scissors.',\n",
       "        'CameraWearer takes the scissors with the right hand.',\n",
       "        'CameraWearer takes the scissors.',\n",
       "        'CameraWearer takes the scissors.',\n",
       "        'CameraWearer takes the shape.',\n",
       "        'CameraWearer takes the white pieces together with the black fabrics.',\n",
       "        'CameraWearer takes the plastic bar', 'CameraWearer takes pen cap',\n",
       "        'CameraWearer takes the plastic bar',\n",
       "        'CameraWearer takes scissors',\n",
       "        'CameraWearer takes one piece of the plastic bar',\n",
       "        'CameraWearer takes a bowl of water from a table with his left hand.',\n",
       "        'CameraWearer takes a brush from a bucket with his left hand.',\n",
       "        'CameraWearer takes a bowl of water from a table with his left hand.',\n",
       "        'CameraWearer takes a spray from the table with his left hand.',\n",
       "        'CameraWearer takes a rag from a shelf with his left hand.',\n",
       "        'CameraWearer takes another brush',\n",
       "        'CameraWearer takes the bucket from the table',\n",
       "        'CameraWearer takes the stool',\n",
       "        'CameraWearer takes the spray from the table',\n",
       "        'CameraWearer takes from the table',\n",
       "        'CameraWearer takes the brush from the bucket',\n",
       "        'CameraWearer takes her left hand off the wooden pillar',\n",
       "        'CameraWearer takes her right hand off the wooden hand rail',\n",
       "        'CameraWearer takes a step with her left leg down the stairs',\n",
       "        'CameraWearer takes her right hand off the wooden hand rail',\n",
       "        'CameraWearer takes a step with her right leg down the stairs',\n",
       "        'CameraWearer takes a step with her left leg down the stairs',\n",
       "        'CameraWearer takes a step with her right leg down the stairs',\n",
       "        'CameraWearer takes a step with her left leg down the stairs',\n",
       "        'CameraWearer takes a step with her right leg down the stairs',\n",
       "        'CameraWearer takes other clothes from the bucket',\n",
       "        'CameraWearer takes other clothes from the bucket',\n",
       "        'CameraWearer takes one more cloth from the bucket',\n",
       "        'CameraWearer takes laundry in the laundry basket',\n",
       "        'CameraWearer takes laundry in the laundry basket',\n",
       "        'CameraWearer takes laundry in the laundry basket',\n",
       "        'CameraWearer takes laundry in the laundry basket',\n",
       "        'CameraWearer takes laundry in the laundry basket',\n",
       "        'CameraWearer takes laundry in the laundry basket',\n",
       "        'CameraWearer takes laundry in the laundry basket',\n",
       "        'CameraWearer takes the screw driver from the drawer',\n",
       "        'CameraWearer takes a touch from the engine with right hand.',\n",
       "        'CameraWearer takes the touch from the engine with left hand.',\n",
       "        'CameraWearer takes the touch from the engine with left hand.',\n",
       "        'CameraWearer takes a plastic cover from a carton top with his left hand.',\n",
       "        'CameraWearer takes a screw from the carton with his right hand.',\n",
       "        'CameraWearer takes another screw from the worktop from the worktop',\n",
       "        'CameraWearer takes a wrench from the worktop with right hand.',\n",
       "        'CameraWearer takes the wrench from the worktop with right hand.',\n",
       "        'CameraWearer takes a screw from the carton',\n",
       "        'CameraWearer takes the plastic cover from the worktop with left hand.',\n",
       "        'CameraWearer takes another wrench from a table with right hand.',\n",
       "        'CameraWearer takes a knife from the worktop with right hand.',\n",
       "        'CameraWearer takes a nut from a carton with right hand.',\n",
       "        'CameraWearer takes a nut from a carton with right hand.',\n",
       "        'CameraWearer takes a nut from his left palm.',\n",
       "        'CameraWearer takes another nut from his left palm.',\n",
       "        'CameraWearer takes a nut from the carton carton.',\n",
       "        'CameraWearer takes a touch from the motorcycle engine with right hand.',\n",
       "        'CameraWearer takes a nut from the worktable with right hand.',\n",
       "        'CameraWearer takes another nut from the worktable with right hand.',\n",
       "        'CameraWearer takes the pot cover.',\n",
       "        'CameraWearer takes the iron sponge.',\n",
       "        'CameraWearer takes the saucepan lid.',\n",
       "        'CameraWearer takes the steel wool.',\n",
       "        'CameraWearer takes the foam scouring pad.',\n",
       "        'CameraWearer takes the terminals of the multimeter with his left hand.',\n",
       "        'CameraWearer takes the terminals of the multimeter with his right hand.',\n",
       "        'CameraWearer takes the hand broom into the kitchen',\n",
       "        'CameraWearer takes the second nylon into the fridge with both hands',\n",
       "        'CameraWearer takes paper bags with food in it',\n",
       "        'CameraWearer takes a paper bag with food in it',\n",
       "        'CameraWearer takes the screw driver in his right hand with his left hand.',\n",
       "        'CameraWearer takes the drill driver on the table with his right hand.',\n",
       "        'CameraWearer takes a screwdriver',\n",
       "        'CameraWearer takes the tool box',\n",
       "        'CameraWearer takes the drill machine',\n",
       "        'CameraWearer takes the wiping cloth', 'CameraWearer takes',\n",
       "        'CameraWearer takes a drill machine',\n",
       "        'CameraWearer takes a rubber tube patch',\n",
       "        'CameraWearer takes the inner tube',\n",
       "        'CameraWearer takes a piece of timber',\n",
       "        'CameraWearer takes a piece of timber',\n",
       "        'CameraWearer takes a piece soft board',\n",
       "        'CameraWearer takes a pressure treated wood',\n",
       "        'CameraWearer take a piece of soft board',\n",
       "        'CameraWearer take a piece of soft board',\n",
       "        'CameraWearer takes a cordless electric drill on the table',\n",
       "        'CameraWearer takes a cordless electric drill on the table',\n",
       "        'CameraWearer takes a drill bit on the table',\n",
       "        'CameraWearer takes a drill bit on the table',\n",
       "        'CameraWearer takes screws on the table',\n",
       "        'CameraWearer takes drill bit on the table',\n",
       "        'CameraWearer takes a pressure treated wood',\n",
       "        'CameraWearer takes a pressure treated wood',\n",
       "        'CameraWearer takes a cordless electric drill on the table',\n",
       "        'CameraWearer takes screws on the table',\n",
       "        'CameraWearer takes drill bit on the table',\n",
       "        'CameraWearer takes a pressure treated wood',\n",
       "        'CameraWearer takes a piece soft board',\n",
       "        'CameraWearer takes a cordless electric drill on the table',\n",
       "        'CameraWearer takes the drill on the puttering bench.',\n",
       "        'CameraWearer takes a pencil on the puttering bench.',\n",
       "        'CameraWearer takes a fence adjustment lock under the table.',\n",
       "        'CameraWearer takes the timber on the table saw.',\n",
       "        'CameraWearer takes the timber on the table saw.',\n",
       "        'CameraWearer takes the foam from the bowl',\n",
       "        'CameraWearer takes the vacuum out of the corner of the room.',\n",
       "        'CameraWearer takes her right hand off the vacuum cleaner.',\n",
       "        'CameraWearer takes her hand off the chair.',\n",
       "        'CameraWearer takes her right hand off the vacuum cleaner.',\n",
       "        'CameraWearer takes her right hand off the vacuum cleaner.',\n",
       "        'CameraWearer takes a pinch of salt from the plastic.',\n",
       "        'CameraWearer takes a pinch of salt from the plastic.',\n",
       "        'CameraWearer takes a pinch of salt from the plastic.',\n",
       "        'CameraWearer takes screwdriver from right hand',\n",
       "        'CameraWearer takes the screwdriver from the other hand',\n",
       "        'CameraWearer takes matchbook from kitchen counter',\n",
       "        'CameraWearer takes bake pan',\n",
       "        'CameraWearer takes some flour with right hand',\n",
       "        'CameraWearer takes flour',\n",
       "        'CameraWearer takes flour in right hand',\n",
       "        'CameraWearer takes dough from machine with both hands',\n",
       "        'CameraWearer takes dough from machine',\n",
       "        'CameraWearer takes cloth cover from oven slab with left hand',\n",
       "        'CameraWearer takes cloth cover from oven slab with left hand',\n",
       "        'CameraWearer takes cloth cover from oven slab with left hand',\n",
       "        'CameraWearer takes a piece of dough from the machine',\n",
       "        'CameraWearer takes a baking tray from the stand',\n",
       "        'CameraWearer takes the lid of the container and puts it aside',\n",
       "        'CameraWearer takes another baking tray from the stand',\n",
       "        'CameraWearer takes a baking tray from the stand',\n",
       "        'CameraWearer takes another baking tray from the stand',\n",
       "        'CameraWearer takes a baking tray from the stand'], dtype=object),\n",
       " 'group': 93}"
      ]
     },
     "execution_count": 88,
     "metadata": {},
     "output_type": "execute_result"
    }
   ],
   "source": [
    "verb_masks_dict['take']"
   ]
  },
  {
   "cell_type": "code",
   "execution_count": 89,
   "metadata": {},
   "outputs": [
    {
     "data": {
      "text/html": [
       "<div>\n",
       "<style scoped>\n",
       "    .dataframe tbody tr th:only-of-type {\n",
       "        vertical-align: middle;\n",
       "    }\n",
       "\n",
       "    .dataframe tbody tr th {\n",
       "        vertical-align: top;\n",
       "    }\n",
       "\n",
       "    .dataframe thead th {\n",
       "        text-align: right;\n",
       "    }\n",
       "</style>\n",
       "<table border=\"1\" class=\"dataframe\">\n",
       "  <thead>\n",
       "    <tr style=\"text-align: right;\">\n",
       "      <th></th>\n",
       "      <th>video_uid</th>\n",
       "      <th>clip_uid</th>\n",
       "      <th>narration_text</th>\n",
       "      <th>narration_timestamp_frame</th>\n",
       "      <th>action_clip_start_frame</th>\n",
       "      <th>action_clip_end_frame</th>\n",
       "      <th>action_clip_start_sec</th>\n",
       "      <th>action_clip_end_sec</th>\n",
       "      <th>action_start_frame</th>\n",
       "      <th>action_end_frame</th>\n",
       "      <th>standardized_narration_text</th>\n",
       "      <th>subject_verb_pairs</th>\n",
       "      <th>preposition_object_pairs</th>\n",
       "      <th>verb</th>\n",
       "      <th>subject</th>\n",
       "      <th>direct_object</th>\n",
       "      <th>pos_mask</th>\n",
       "      <th>tag_mask</th>\n",
       "      <th>dep_mask</th>\n",
       "      <th>verb_type</th>\n",
       "    </tr>\n",
       "  </thead>\n",
       "  <tbody>\n",
       "    <tr>\n",
       "      <th>1</th>\n",
       "      <td>3e08beb0-9108-4e77-b2ae-80f91ceac474</td>\n",
       "      <td>8cf5a53b-fa9c-4fe7-b767-697133d4d5b8</td>\n",
       "      <td>#C C picks a brush on a table</td>\n",
       "      <td>164</td>\n",
       "      <td>45</td>\n",
       "      <td>362</td>\n",
       "      <td>1.5</td>\n",
       "      <td>12.066667</td>\n",
       "      <td>45</td>\n",
       "      <td>362</td>\n",
       "      <td>CameraWearer picks a brush on a table</td>\n",
       "      <td>[{'CameraWearer': 'pick'}]</td>\n",
       "      <td>[{'table': 'on'}]</td>\n",
       "      <td>pick</td>\n",
       "      <td>CameraWearer</td>\n",
       "      <td>brush</td>\n",
       "      <td>['PROPN', 'VERB', 'DET', 'NOUN', 'ADP', 'DET',...</td>\n",
       "      <td>['NNP', 'VBZ', 'DT', 'NN', 'IN', 'DT', 'NN']</td>\n",
       "      <td>['nsubj', 'ROOT', 'det', 'dobj', 'prep', 'det'...</td>\n",
       "      <td>TRANVERB</td>\n",
       "    </tr>\n",
       "    <tr>\n",
       "      <th>2</th>\n",
       "      <td>3e08beb0-9108-4e77-b2ae-80f91ceac474</td>\n",
       "      <td>8cf5a53b-fa9c-4fe7-b767-697133d4d5b8</td>\n",
       "      <td>#C C touches the drawing board with his left hand</td>\n",
       "      <td>179</td>\n",
       "      <td>45</td>\n",
       "      <td>362</td>\n",
       "      <td>1.5</td>\n",
       "      <td>12.066667</td>\n",
       "      <td>45</td>\n",
       "      <td>362</td>\n",
       "      <td>CameraWearer touches the drawing board with hi...</td>\n",
       "      <td>[{'CameraWearer': 'touch'}]</td>\n",
       "      <td>[{'hand': 'with'}]</td>\n",
       "      <td>touch</td>\n",
       "      <td>CameraWearer</td>\n",
       "      <td>board</td>\n",
       "      <td>['PROPN', 'VERB', 'DET', 'NOUN', 'NOUN', 'ADP'...</td>\n",
       "      <td>['NNP', 'VBZ', 'DT', 'NN', 'NN', 'IN', 'PRP$',...</td>\n",
       "      <td>['nsubj', 'ROOT', 'det', 'compound', 'dobj', '...</td>\n",
       "      <td>TRANVERB</td>\n",
       "    </tr>\n",
       "  </tbody>\n",
       "</table>\n",
       "</div>"
      ],
      "text/plain": [
       "                              video_uid                              clip_uid  \\\n",
       "1  3e08beb0-9108-4e77-b2ae-80f91ceac474  8cf5a53b-fa9c-4fe7-b767-697133d4d5b8   \n",
       "2  3e08beb0-9108-4e77-b2ae-80f91ceac474  8cf5a53b-fa9c-4fe7-b767-697133d4d5b8   \n",
       "\n",
       "                                      narration_text  \\\n",
       "1                      #C C picks a brush on a table   \n",
       "2  #C C touches the drawing board with his left hand   \n",
       "\n",
       "   narration_timestamp_frame  action_clip_start_frame  action_clip_end_frame  \\\n",
       "1                        164                       45                    362   \n",
       "2                        179                       45                    362   \n",
       "\n",
       "   action_clip_start_sec  action_clip_end_sec  action_start_frame  \\\n",
       "1                    1.5            12.066667                  45   \n",
       "2                    1.5            12.066667                  45   \n",
       "\n",
       "   action_end_frame                        standardized_narration_text  \\\n",
       "1               362              CameraWearer picks a brush on a table   \n",
       "2               362  CameraWearer touches the drawing board with hi...   \n",
       "\n",
       "            subject_verb_pairs preposition_object_pairs   verb       subject  \\\n",
       "1   [{'CameraWearer': 'pick'}]        [{'table': 'on'}]   pick  CameraWearer   \n",
       "2  [{'CameraWearer': 'touch'}]       [{'hand': 'with'}]  touch  CameraWearer   \n",
       "\n",
       "  direct_object                                           pos_mask  \\\n",
       "1         brush  ['PROPN', 'VERB', 'DET', 'NOUN', 'ADP', 'DET',...   \n",
       "2         board  ['PROPN', 'VERB', 'DET', 'NOUN', 'NOUN', 'ADP'...   \n",
       "\n",
       "                                            tag_mask  \\\n",
       "1       ['NNP', 'VBZ', 'DT', 'NN', 'IN', 'DT', 'NN']   \n",
       "2  ['NNP', 'VBZ', 'DT', 'NN', 'NN', 'IN', 'PRP$',...   \n",
       "\n",
       "                                            dep_mask verb_type  \n",
       "1  ['nsubj', 'ROOT', 'det', 'dobj', 'prep', 'det'...  TRANVERB  \n",
       "2  ['nsubj', 'ROOT', 'det', 'compound', 'dobj', '...  TRANVERB  "
      ]
     },
     "execution_count": 89,
     "metadata": {},
     "output_type": "execute_result"
    }
   ],
   "source": [
    "new_narration_frame_grouped.head(2)"
   ]
  },
  {
   "cell_type": "code",
   "execution_count": 90,
   "metadata": {},
   "outputs": [],
   "source": [
    "import ast\n",
    "import hashlib"
   ]
  },
  {
   "cell_type": "markdown",
   "metadata": {},
   "source": [
    "# Save initializing EASG annotations to \"annotations_all\""
   ]
  },
  {
   "cell_type": "code",
   "execution_count": null,
   "metadata": {
    "scrolled": true
   },
   "outputs": [],
   "source": [
    "count = 1\n",
    "count_narr = 0\n",
    "clips_dir = 'test_clip_location'\n",
    "for scod_idx, scod_raw in tqdm(filtered_fho_scod_frame.iterrows()):\n",
    "    count += 1\n",
    "    narr_entries = new_narration_frame_grouped[\n",
    "        (new_narration_frame_grouped.video_uid == scod_raw.video_uid)\n",
    "        &(new_narration_frame_grouped.clip_uid == scod_raw.clip_uid)\n",
    "        &(scod_raw.pre_frame_number >= new_narration_frame_grouped.action_start_frame)\n",
    "        &(scod_raw.pre_frame_number <= new_narration_frame_grouped.action_end_frame )\n",
    "        &(scod_raw.pnr_frame_number >= new_narration_frame_grouped.action_start_frame)\n",
    "        &(scod_raw.pnr_frame_number <= new_narration_frame_grouped.action_end_frame )\n",
    "        &(scod_raw.post_frame_number >= new_narration_frame_grouped.action_start_frame)\n",
    "        &(scod_raw.post_frame_number <= new_narration_frame_grouped.action_end_frame)\n",
    "    ]\n",
    "    if len(narr_entries)>0:\n",
    "\n",
    "        possible_objects_of_change = []\n",
    "        for critical_frame_annotation in [scod_raw.pre_frame, scod_raw.pnr_frame, scod_raw.post_frame]:\n",
    "            critical_frame_annotation = ast.literal_eval(critical_frame_annotation)\n",
    "            if len(critical_frame_annotation['bbox'])> 0:\n",
    "\n",
    "                for bbox in critical_frame_annotation['bbox']:\n",
    "                    if bbox['object_type'] == 'object_of_change':\n",
    "                        if bbox['structured_noun'] is not None:\n",
    "                            if bbox['structured_noun'].find('(') != -1: \n",
    "                                main_n, other_n = bbox['structured_noun'].split(\"(\")[0],bbox['structured_noun'].split(\"(\")[1]\n",
    "                                other_n = other_n.replace(\"/\",\",\").rstrip(\")\")\n",
    "                                other_n = [n.replace(\"_\",\" \").strip() for n in other_n.split(\",\")]\n",
    "                                main_n = main_n.replace(\"_\",\" \").strip()\n",
    "                                other_n.append(main_n)\n",
    "                                possible_objects_of_change.extend(other_n)\n",
    "                            else:\n",
    "                                possible_objects_of_change.append(bbox['structured_noun'].replace(\"_\",\" \").strip())\n",
    "\n",
    "\n",
    "        possible_objects_of_change = list(set(possible_objects_of_change))\n",
    "        filtered_narrations = []\n",
    "        if len(possible_objects_of_change) > 0:\n",
    "            for o in possible_objects_of_change:\n",
    "                for idx_r, n in narr_entries.iterrows():\n",
    "                    if o == n.direct_object:\n",
    "\n",
    "                        new_preposition_object_pairs = []\n",
    "                        if n.preposition_object_pairs:\n",
    "                            for item in n.preposition_object_pairs:\n",
    "                                for k in item:\n",
    "                                    new_preposition_object_pairs.append(\n",
    "                                        {str(k): item[k]})\n",
    "\n",
    "                        filtered_narrations.append({\n",
    "                            'narration_text':n.standardized_narration_text,\n",
    "                            'subject':n.subject,\n",
    "                            'verb':n.verb,\n",
    "                            'direct_object':n.direct_object,\n",
    "                            'preposition_object_pairs':new_preposition_object_pairs,\n",
    "                            'pos_mask':n.pos_mask,\n",
    "                            'tag_mask':n.tag_mask,\n",
    "                            'dep_mask':n.dep_mask,\n",
    "                            'action_clip_start_frame':n.action_clip_start_frame,\n",
    "                            'action_clip_end_frame':n.action_clip_end_frame,\n",
    "                            'action_clip_start_sec':n.action_clip_start_sec,\n",
    "                            'action_clip_end_sec':n.action_clip_end_sec\n",
    "                        })\n",
    "\n",
    "            if len(filtered_narrations)>0:\n",
    "                count_narr+=len(filtered_narrations)\n",
    "                entry = {\n",
    "                    'video_uid':scod_raw.video_uid,\n",
    "                    'clip_uid':scod_raw.clip_uid,\n",
    "                    'pre_frame_number':scod_raw.pre_frame_number,\n",
    "                    'pnr_frame_number':scod_raw.pnr_frame_number,\n",
    "                    'post_frame_number':scod_raw.post_frame_number,\n",
    "                    'pre_frame_filename':scod_raw.clip_uid+\"_pre.jpg\",\n",
    "                    'pnr_frame_filename':scod_raw.clip_uid+\"_pnr.jpg\",\n",
    "                    'post_frame_filename':scod_raw.clip_uid+\"_post.jpg\",\n",
    "                    'pre_frame':ast.literal_eval(scod_raw.pre_frame),\n",
    "                    'pnr_frame':ast.literal_eval(scod_raw.pnr_frame),\n",
    "                    'post_frame':ast.literal_eval(scod_raw.post_frame),\n",
    "                    'narrations_infos':filtered_narrations\n",
    "                }\n",
    "                annotation_uid = hashlib.sha256(str(entry).encode()).hexdigest()\n",
    "                if not os.path.isdir(os.path.join('annotations_all',annotation_uid)): os.makedirs(os.path.join('annotations_all',annotation_uid))\n",
    "\n",
    "                with open(os.path.join('annotations_all',annotation_uid,scod_raw.clip_uid+\".json\"),'w') as jsonf:\n",
    "                    json.dump(entry,jsonf,indent=4)"
   ]
  },
  {
   "cell_type": "code",
   "execution_count": 91,
   "metadata": {},
   "outputs": [
    {
     "data": {
      "text/plain": [
       "6250"
      ]
     },
     "execution_count": 91,
     "metadata": {},
     "output_type": "execute_result"
    }
   ],
   "source": [
    "len(os.listdir('annotations_all'))"
   ]
  },
  {
   "cell_type": "code",
   "execution_count": null,
   "metadata": {},
   "outputs": [],
   "source": []
  }
 ],
 "metadata": {
  "kernelspec": {
   "display_name": "Python 3",
   "language": "python",
   "name": "python3"
  },
  "language_info": {
   "codemirror_mode": {
    "name": "ipython",
    "version": 3
   },
   "file_extension": ".py",
   "mimetype": "text/x-python",
   "name": "python",
   "nbconvert_exporter": "python",
   "pygments_lexer": "ipython3",
   "version": "3.7.9"
  }
 },
 "nbformat": 4,
 "nbformat_minor": 5
}
